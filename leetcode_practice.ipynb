{
 "cells": [
  {
   "cell_type": "markdown",
   "metadata": {},
   "source": [
    "# A decorator to measure running time of a function\n",
    "https://codereview.stackexchange.com/questions/169870/decorator-to-measure-execution-time-of-a-function"
   ]
  },
  {
   "cell_type": "code",
   "execution_count": 1,
   "metadata": {
    "collapsed": true
   },
   "outputs": [],
   "source": [
    "from time import time\n",
    "def timer(f):\n",
    "    def wrapper(*args, **kwargs):  \n",
    "        # 1. what are *args and **kwargs  ?  \n",
    "        start = time()\n",
    "        result = f(*args, **kwargs)\n",
    "        end = time()\n",
    "        print 'Running time for function {0} is {1}'.format(f.__name__, end-start)\n",
    "        # 2. what is .format ?\n",
    "        # 3. what is f.__name__ ?\n",
    "        return result\n",
    "    return wrapper\n",
    "    "
   ]
  },
  {
   "cell_type": "markdown",
   "metadata": {},
   "source": [
    "1. https://www.programiz.com/python-programming/args-and-kwargs\n",
    "   - args (non keyword arguments) is a list \n",
    "   - kwargs (keyword arguments) is a dictionary \n",
    "2. https://pyformat.info/\n",
    "3. https://stackoverflow.com/questions/251464/how-to-get-a-function-name-as-a-string-in-python"
   ]
  },
  {
   "cell_type": "markdown",
   "metadata": {},
   "source": [
    "# Two-sum\n",
    "\n",
    "Given an array of integers, return indices of the two numbers such that they add up to a specific target.\n",
    "\n",
    "You may assume that each input would have exactly one solution, and you may not use the same element twice.\n",
    "\n",
    "Example:\n",
    "\n",
    "Given nums = [2, 7, 11, 15], target = 9,\n",
    "\n",
    "Because nums[0] + nums[1] = 2 + 7 = 9,\n",
    "return [0, 1]."
   ]
  },
  {
   "cell_type": "code",
   "execution_count": 2,
   "metadata": {
    "collapsed": true
   },
   "outputs": [],
   "source": [
    "# Brute force: O(n^2)\n",
    "\n",
    "@timer\n",
    "def two_sum_brute_force(A, target_sum): \n",
    "    for i in range(len(A)):\n",
    "        for j in range(i+1, len(A)):  \n",
    "            # 1. in python range(a, b) = [a, b) :includes a but excludes b\n",
    "            if A[i] + A[j] == target_sum:\n",
    "                return i, j \n",
    "    return -1, -1 # not found       "
   ]
  },
  {
   "cell_type": "markdown",
   "metadata": {},
   "source": [
    "1. https://www.pythoncentral.io/pythons-range-function-explained/"
   ]
  },
  {
   "cell_type": "code",
   "execution_count": 6,
   "metadata": {},
   "outputs": [
    {
     "name": "stdout",
     "output_type": "stream",
     "text": [
      "Running time for function two_sum_brute_force is 3.66925096512\n",
      "(9998, 9999)\n"
     ]
    }
   ],
   "source": [
    "N = 10000\n",
    "A = range(N)\n",
    "target_sum = N + N - 3\n",
    "print two_sum_brute_force(A, target_sum)"
   ]
  },
  {
   "cell_type": "code",
   "execution_count": 4,
   "metadata": {
    "collapsed": true
   },
   "outputs": [],
   "source": [
    "# Binary search: O(n log n)\n",
    "\n",
    "def binary_search(C, x):\n",
    "    i = 0\n",
    "    j = len(C) - 1    \n",
    "\n",
    "    while i != j:\n",
    "        m = (i+j)//2\n",
    "        if C[m][1] == x:\n",
    "            return C[m][0]\n",
    "        else:\n",
    "            if C[m][1] > x:\n",
    "                j = m-1\n",
    "            if C[m][1] < x:\n",
    "                i = m+1  \n",
    "    \n",
    "                \n",
    "    if C[i][1] == x:\n",
    "            return C[i][0]\n",
    "        \n",
    "    else:\n",
    "        return -1\n",
    "              \n",
    "    return C[i][0] \n",
    "\n",
    "@timer    \n",
    "def two_sum_binary_search(A, s):\n",
    "    B = zip(range(len(A)), A)\n",
    "    C = sorted(B, key = lambda x: x[1])\n",
    "    for p in range(len(C)):\n",
    "        search_result = binary_search(C, s - C[p][1])\n",
    "        if search_result != -1:\n",
    "            return C[p][0], search_result\n",
    "    return -1, -1"
   ]
  },
  {
   "cell_type": "code",
   "execution_count": 7,
   "metadata": {},
   "outputs": [
    {
     "name": "stdout",
     "output_type": "stream",
     "text": [
      "Running time for function two_sum_binary_search is 0.0474970340729\n"
     ]
    },
    {
     "data": {
      "text/plain": [
       "(9998, 9999)"
      ]
     },
     "execution_count": 7,
     "metadata": {},
     "output_type": "execute_result"
    }
   ],
   "source": [
    "two_sum_binary_search(A, target_sum)"
   ]
  },
  {
   "cell_type": "markdown",
   "metadata": {},
   "source": [
    "https://stackoverflow.com/questions/513882/python-list-vs-dict-for-look-up-table"
   ]
  },
  {
   "cell_type": "code",
   "execution_count": 48,
   "metadata": {
    "collapsed": true
   },
   "outputs": [],
   "source": [
    "@timer\n",
    "def two_sum_dict_expensive(A, s):\n",
    "    A_dict = {}\n",
    "\n",
    "    for i in range(len(A)):\n",
    "        A_dict[A[i]] = A[i]\n",
    "    \n",
    "    keys = A_dict.keys()\n",
    "    for a in keys:\n",
    "        if s-a in keys:  # a bit expensive because it is a list lookup\n",
    "            return a, A_dict[s-a]\n",
    "    return -1, -1"
   ]
  },
  {
   "cell_type": "code",
   "execution_count": 49,
   "metadata": {},
   "outputs": [
    {
     "name": "stdout",
     "output_type": "stream",
     "text": [
      "Running time for function two_sum_dict_expensive is 0.0132482051849\n"
     ]
    },
    {
     "data": {
      "text/plain": [
       "(998, 999)"
      ]
     },
     "execution_count": 49,
     "metadata": {},
     "output_type": "execute_result"
    }
   ],
   "source": [
    "two_sum_dict_expensive(A, target_sum)"
   ]
  },
  {
   "cell_type": "code",
   "execution_count": 16,
   "metadata": {
    "collapsed": true
   },
   "outputs": [],
   "source": [
    "@timer\n",
    "def two_sum_dict(A, s):\n",
    "    dict_A = dict()\n",
    "\n",
    "    for i in range(len(A)):\n",
    "        dict_A[A[i]] = A[i]\n",
    "    \n",
    "    keys = dict_A.keys()\n",
    "    for a in keys: \n",
    "        if s-a in dict_A: # this is dictionary look up so faster than list look up\n",
    "            return a, A[s-a]\n",
    "        \n",
    "    return -1, -1"
   ]
  },
  {
   "cell_type": "code",
   "execution_count": 17,
   "metadata": {},
   "outputs": [
    {
     "name": "stdout",
     "output_type": "stream",
     "text": [
      "Running time for function two_sum_dict is 0.00255298614502\n"
     ]
    },
    {
     "data": {
      "text/plain": [
       "(9998, 9999)"
      ]
     },
     "execution_count": 17,
     "metadata": {},
     "output_type": "execute_result"
    }
   ],
   "source": [
    "two_sum_dict(A, target_sum)"
   ]
  },
  {
   "cell_type": "code",
   "execution_count": 52,
   "metadata": {},
   "outputs": [
    {
     "name": "stdout",
     "output_type": "stream",
     "text": [
      "0.0001220703125\n",
      "0.000170946121216\n"
     ]
    }
   ],
   "source": [
    "# which one is faster sorting dict or list\n",
    "D = dict()\n",
    "L = []\n",
    "n = 1000\n",
    "import random\n",
    "\n",
    "for i in range(n):\n",
    "    D[n-i] = i\n",
    "    L.append(n-i)\n",
    "    \n",
    "    \n",
    "    \n",
    "import time\n",
    "start = time.time()\n",
    "sorted(L)\n",
    "end = time.time()\n",
    "print end-start\n",
    "\n",
    "start = time.time()\n",
    "sorted(D)\n",
    "end= time.time()\n",
    "print end-start\n",
    "\n",
    "    "
   ]
  },
  {
   "cell_type": "markdown",
   "metadata": {},
   "source": [
    "def two_sum_cool(A, target_sum): # A is sorted\n",
    "    # invariant: the two indices (if exist) must in in [lowest, highest]\n",
    "    lowest_index = 0\n",
    "    highest_index = len(A) - 1\n",
    "    \n",
    "    while lowest_index < highest_index:\n",
    "          candidate_sum = A[lowest_index] + A[highest_index]\n",
    "          if candidate_sum == target_sum:\n",
    "              return lowest_index, highest_index\n",
    "          if candidate_sum >  target_sum: # highest_index can be decreased\n",
    "              highest_index = highest_index - 1\n",
    "          if candidate_sum < target_sum:  # lowest_index can be increased\n",
    "              lowest_index = lowest_index + 1\n",
    "              \n",
    "    return None, None           "
   ]
  },
  {
   "cell_type": "code",
   "execution_count": 34,
   "metadata": {
    "collapsed": true
   },
   "outputs": [],
   "source": [
    "@timer\n",
    "def two_sum_cool(A, target_sum): # A is sorted\n",
    "    # invariant: the two indices (if exist) must in in [lowest, highest]\n",
    "    lowest_index = 0\n",
    "    highest_index = len(A) - 1\n",
    "    \n",
    "    while lowest_index < highest_index:\n",
    "            candidate_sum = A[lowest_index] + A[highest_index]\n",
    "            if candidate_sum == target_sum:\n",
    "                  return lowest_index, highest_index\n",
    "            if candidate_sum >  target_sum: # highest_index can be decreased\n",
    "                  highest_index = highest_index - 1\n",
    "            if candidate_sum < target_sum:  # lowest_index can be increased\n",
    "                  lowest_index = lowest_index + 1\n",
    "              \n",
    "    return None, None       "
   ]
  },
  {
   "cell_type": "code",
   "execution_count": 33,
   "metadata": {},
   "outputs": [
    {
     "name": "stdout",
     "output_type": "stream",
     "text": [
      "Running time for function two_sum_cool is 0.00307488441467\n"
     ]
    },
    {
     "data": {
      "text/plain": [
       "(9998, 9999)"
      ]
     },
     "execution_count": 33,
     "metadata": {},
     "output_type": "execute_result"
    }
   ],
   "source": [
    "two_sum_cool(A, target_sum)"
   ]
  },
  {
   "cell_type": "markdown",
   "metadata": {},
   "source": [
    "# Longest substring without repeating characters\n",
    "\n",
    "Given a string, find the length of the longest substring without repeating characters.\n",
    "\n",
    "Examples:\n",
    "\n",
    "Given \"abcabcbb\", the answer is \"abc\", which the length is 3.\n",
    "\n",
    "Given \"bbbbb\", the answer is \"b\", with the length of 1.\n",
    "\n",
    "Given \"pwwkew\", the answer is \"wke\", with the length of 3. Note that the answer must be a substring, \"pwke\" is a subsequence and not a substring."
   ]
  },
  {
   "cell_type": "code",
   "execution_count": 21,
   "metadata": {
    "collapsed": true
   },
   "outputs": [],
   "source": [
    "def is_nonrep(s):\n",
    "    ss = sorted(s)\n",
    "    if len(ss) == 1:\n",
    "        return True\n",
    "    for i in range(len(ss) - 1):\n",
    "        if ss[i] == ss[i+1]:\n",
    "            return False\n",
    "    return True     "
   ]
  },
  {
   "cell_type": "code",
   "execution_count": 22,
   "metadata": {},
   "outputs": [
    {
     "data": {
      "text/plain": [
       "True"
      ]
     },
     "execution_count": 22,
     "metadata": {},
     "output_type": "execute_result"
    }
   ],
   "source": [
    "is_nonrep('1234')"
   ]
  },
  {
   "cell_type": "code",
   "execution_count": 23,
   "metadata": {
    "collapsed": true
   },
   "outputs": [],
   "source": [
    "@timer\n",
    "def longest_nonrep_substring_brute_force(s):  # O(n^3 log n)\n",
    "    max_len = 0\n",
    "    for i in range(len(s)):\n",
    "        for j in range(len(s)):\n",
    "            if is_nonrep(s[i: j]):\n",
    "                if j-i > max_len:\n",
    "                    max_len = j-i\n",
    "    return max_len        \n",
    "    "
   ]
  },
  {
   "cell_type": "code",
   "execution_count": 28,
   "metadata": {},
   "outputs": [
    {
     "name": "stdout",
     "output_type": "stream",
     "text": [
      "Running time for function longest_nonrep_substring_brute_force is 0.000425100326538\n"
     ]
    },
    {
     "data": {
      "text/plain": [
       "5"
      ]
     },
     "execution_count": 28,
     "metadata": {},
     "output_type": "execute_result"
    }
   ],
   "source": [
    "longest_nonrep_substring_brute_force('11111111123452')"
   ]
  },
  {
   "cell_type": "code",
   "execution_count": 25,
   "metadata": {
    "collapsed": true
   },
   "outputs": [],
   "source": [
    "def last(s, i):\n",
    "    if i == 0:\n",
    "        return -1\n",
    "    \n",
    "    j = i-1\n",
    "    while j >= 0:\n",
    "        if s[j] == s[i]:\n",
    "            return j\n",
    "        j = j - 1\n",
    "        \n",
    "    return -1    \n",
    "    \n",
    "# pi[i] = length of longest nonrep substring ending in s[i]\n",
    "# last(i) = index of last occurrence of s[i] in s[:i-1] \n",
    "# pi[i+1] = if last(i+1) < i - pi[i] then 1 + pi[i] else i+1 - last(i+1)     \n",
    "@timer\n",
    "def longest_nonrep_substring_simple_dp(s):  # O(n^2)\n",
    "    pi = []\n",
    "    \n",
    "    for i in range(len(s)):\n",
    "        pi.append(1)\n",
    "        \n",
    "    for i in range(len(s)-1):\n",
    "        lst = last(s, i+1)\n",
    "        if lst < i - pi[i]:\n",
    "            pi[i+1] = 1 + pi[i]\n",
    "        else:\n",
    "            pi[i+1] = i+1 - lst\n",
    "            \n",
    "    pi_max = 0   \n",
    "    i_max = -1\n",
    "    for i in range(len(s)):\n",
    "        if pi[i] > pi_max:\n",
    "            pi_max = pi[i]\n",
    "            i_max = i\n",
    "            \n",
    "            \n",
    "    return pi_max, i_max       "
   ]
  },
  {
   "cell_type": "code",
   "execution_count": 26,
   "metadata": {},
   "outputs": [
    {
     "name": "stdout",
     "output_type": "stream",
     "text": [
      "Running time for function longest_nonrep_substring_simple_dp is 0.000123023986816\n"
     ]
    },
    {
     "data": {
      "text/plain": [
       "(4, 8)"
      ]
     },
     "execution_count": 26,
     "metadata": {},
     "output_type": "execute_result"
    }
   ],
   "source": [
    "longest_nonrep_substring_simple_dp('11111123411112')"
   ]
  },
  {
   "cell_type": "markdown",
   "metadata": {},
   "source": [
    "# Median of two sorted arrays"
   ]
  },
  {
   "cell_type": "code",
   "execution_count": 152,
   "metadata": {
    "collapsed": true
   },
   "outputs": [],
   "source": [
    "A = [1, 2, 4, 6, 8, 10]\n",
    "B = [5, 6, 7, 8, 9, 10]\n",
    "\n",
    "def find_rank_k(A, B, k):\n",
    "    \n",
    "    a_i = 0\n",
    "    a_j = len(A) - 1\n",
    "    b_i = 0\n",
    "    b_j = len(B) - 1\n",
    "    \n",
    "    a_mid = (a_i + a_j) // 2\n",
    "    b_mid = (b_i + b_j) // 2\n",
    "    \n",
    "\n",
    "    if len(A) == 0:\n",
    "        return B[k]\n",
    "    if len(B) == 0:\n",
    "        return A[k]\n",
    "    \n",
    "        \n",
    "    if A[a_mid] <= B[b_mid]:\n",
    "        if k <= a_mid + b_mid:\n",
    "            return find_rank_k(A, B[:b_mid], k)\n",
    "        if k > a_mid + b_mid:\n",
    "            return find_rank_k(A[a_mid + 1:], B, k - a_mid - 1 )\n",
    "            \n",
    "    if A[a_mid] > B[b_mid]:\n",
    "        \n",
    "        if k <= a_mid + b_mid: \n",
    "            return find_rank_k(A[:a_mid], B, k)\n",
    "        if k > a_mid + b_mid:\n",
    "            return find_rank_k(A, B[b_mid + 1:], k - b_mid - 1)\n",
    "            \n",
    "    return \"WEIRD!!!\"   \n",
    "            \n",
    "    "
   ]
  },
  {
   "cell_type": "code",
   "execution_count": 153,
   "metadata": {},
   "outputs": [
    {
     "name": "stdout",
     "output_type": "stream",
     "text": [
      "0\n",
      "1\n",
      "2\n",
      "3\n",
      "4\n",
      "5\n",
      "6\n",
      "7\n",
      "8\n",
      "9\n",
      "10\n",
      "11\n",
      "12\n",
      "13\n",
      "14\n",
      "15\n",
      "16\n",
      "17\n",
      "18\n",
      "19\n",
      "20\n",
      "21\n",
      "22\n",
      "23\n",
      "24\n",
      "25\n",
      "26\n",
      "27\n",
      "28\n",
      "29\n",
      "30\n",
      "30\n",
      "31\n",
      "31\n",
      "32\n",
      "32\n",
      "33\n",
      "33\n",
      "34\n",
      "34\n",
      "35\n",
      "35\n",
      "36\n",
      "36\n",
      "37\n",
      "37\n",
      "38\n",
      "38\n",
      "39\n",
      "39\n",
      "40\n",
      "40\n",
      "41\n",
      "41\n",
      "42\n",
      "42\n",
      "43\n",
      "43\n",
      "44\n",
      "44\n",
      "45\n",
      "45\n",
      "46\n",
      "46\n",
      "47\n",
      "47\n",
      "48\n",
      "48\n",
      "49\n",
      "49\n",
      "50\n",
      "50\n",
      "51\n",
      "51\n",
      "52\n",
      "52\n",
      "53\n",
      "53\n",
      "54\n",
      "54\n",
      "55\n",
      "55\n",
      "56\n",
      "56\n",
      "57\n",
      "57\n",
      "58\n",
      "58\n",
      "59\n",
      "59\n",
      "60\n",
      "60\n",
      "61\n",
      "61\n",
      "62\n",
      "62\n",
      "63\n",
      "63\n",
      "64\n",
      "64\n",
      "65\n",
      "65\n",
      "66\n",
      "66\n",
      "67\n",
      "67\n",
      "68\n",
      "68\n",
      "69\n",
      "69\n",
      "70\n",
      "70\n",
      "71\n",
      "71\n",
      "72\n",
      "72\n",
      "73\n",
      "73\n",
      "74\n",
      "74\n"
     ]
    }
   ],
   "source": [
    "A = range(100)\n",
    "B = range(30, 400)\n",
    "\n",
    "for i in range(120):\n",
    "    print find_rank_k(A, B, i)"
   ]
  },
  {
   "cell_type": "markdown",
   "metadata": {},
   "source": [
    "# Longest palindromic substring"
   ]
  },
  {
   "cell_type": "code",
   "execution_count": 238,
   "metadata": {
    "collapsed": true
   },
   "outputs": [],
   "source": [
    "def is_pal(s):\n",
    "    i = 0\n",
    "    j = len(s) - 1\n",
    "    \n",
    "    if len(s) <= 1:\n",
    "        return True\n",
    "    \n",
    "    while s[i] == s[j] and i <= j:\n",
    "        i = i + 1\n",
    "        j = j - 1\n",
    "        \n",
    "    if i < j:\n",
    "        return False\n",
    "    else:\n",
    "        return True\n",
    "    \n",
    "def longest_pal_cubic(s):   # O(n^3)\n",
    "    pal_max = 0\n",
    "    for i in range(len(s)):\n",
    "        for j in range(i, len(s)):\n",
    "            if is_pal(s[i:j]):\n",
    "                pal_max = max(pal_max, j-i)\n",
    "                \n",
    "    return pal_max             "
   ]
  },
  {
   "cell_type": "code",
   "execution_count": 239,
   "metadata": {},
   "outputs": [
    {
     "data": {
      "text/plain": [
       "True"
      ]
     },
     "execution_count": 239,
     "metadata": {},
     "output_type": "execute_result"
    }
   ],
   "source": [
    "is_pal(\"12321\")"
   ]
  },
  {
   "cell_type": "code",
   "execution_count": 240,
   "metadata": {},
   "outputs": [
    {
     "data": {
      "text/plain": [
       "5"
      ]
     },
     "execution_count": 240,
     "metadata": {},
     "output_type": "execute_result"
    }
   ],
   "source": [
    "longest_pal(\"010112321876\")"
   ]
  },
  {
   "cell_type": "code",
   "execution_count": 243,
   "metadata": {
    "collapsed": true
   },
   "outputs": [],
   "source": [
    "def longest_pal_quadratic(s): # O(n^2)\n",
    "    n = len(s)\n",
    "    pal_max = 0\n",
    "    for i in range(n):\n",
    "        c = -1\n",
    "        for j in range(min(i+1, n-i)):\n",
    "            \n",
    "            if s[i-j] != s[i+j]:\n",
    "                break\n",
    "                \n",
    "            c = c + 2    \n",
    "            \n",
    "        if c > pal_max:\n",
    "            pal_max = c\n",
    "        \n",
    "        d = 0\n",
    "        for j in range(min(i+1, n-i-1)):\n",
    "            if s[i-j] != s[i+j+1]:\n",
    "                break\n",
    "            d = d + 2    \n",
    "        if d > pal_max:\n",
    "            pal_max = d\n",
    "            \n",
    "        #print i, c, d, pal_max    \n",
    "                \n",
    "    return pal_max            \n",
    "                "
   ]
  },
  {
   "cell_type": "code",
   "execution_count": 244,
   "metadata": {},
   "outputs": [
    {
     "data": {
      "text/plain": [
       "6"
      ]
     },
     "execution_count": 244,
     "metadata": {},
     "output_type": "execute_result"
    }
   ],
   "source": [
    "longest_pal_quadratic(\"0101123321786\")"
   ]
  },
  {
   "cell_type": "markdown",
   "metadata": {},
   "source": [
    "# Zig-zag conversion\n",
    "\n",
    "The string \"PAYPALISHIRING\" is written in a zigzag pattern on a given number of rows like this: (you may want to display this pattern in a fixed font for better legibility)\n",
    "\n",
    "P   A   H   N\n",
    "A P L S I I G\n",
    "Y   I   R"
   ]
  },
  {
   "cell_type": "code",
   "execution_count": 245,
   "metadata": {
    "collapsed": true
   },
   "outputs": [],
   "source": [
    "def zigzag(s): # 3 rows\n",
    "    s0 = \"\"\n",
    "    s1_3 = \"\"\n",
    "    s2 = \"\"\n",
    "    for i in range(len(s)):\n",
    "        if i % 4 == 0:\n",
    "            s0 = s0 + s[i]\n",
    "        if i % 4 == 1 or i % 4 == 3:\n",
    "            s1_3 = s1_3 + s[i]\n",
    "        if i % 4 == 2:\n",
    "            s2 = s2 + s[i]\n",
    "            \n",
    "    return s0 + s1_3 + s2        "
   ]
  },
  {
   "cell_type": "code",
   "execution_count": 246,
   "metadata": {},
   "outputs": [
    {
     "data": {
      "text/plain": [
       "'PAHNAPLSIIGYIR'"
      ]
     },
     "execution_count": 246,
     "metadata": {},
     "output_type": "execute_result"
    }
   ],
   "source": [
    "zigzag(\"PAYPALISHIRING\")"
   ]
  },
  {
   "cell_type": "markdown",
   "metadata": {},
   "source": [
    "# Reverse integer\n",
    "Given a 32-bit signed integer, reverse digits of an integer.\n",
    "\n",
    "Input: 123 Output: 321\n",
    "\n",
    "Input: -123 Output: -321\n",
    "\n",
    "Input: 120 Output: 21\n",
    "\n",
    "\n"
   ]
  },
  {
   "cell_type": "code",
   "execution_count": 250,
   "metadata": {
    "collapsed": true
   },
   "outputs": [],
   "source": [
    "def rev_int(a):\n",
    "    if str(a)[0] == '-':\n",
    "        return -int(str(-a)[::-1])\n",
    "    else:\n",
    "        return int(str(a)[::-1])\n"
   ]
  },
  {
   "cell_type": "code",
   "execution_count": 249,
   "metadata": {},
   "outputs": [
    {
     "name": "stdout",
     "output_type": "stream",
     "text": [
      "321\n",
      "-321\n",
      "21\n"
     ]
    }
   ],
   "source": [
    "print rev_int(123)\n",
    "print rev_int(-123)\n",
    "print rev_int(120)"
   ]
  },
  {
   "cell_type": "markdown",
   "metadata": {},
   "source": [
    "# String to integer"
   ]
  },
  {
   "cell_type": "code",
   "execution_count": 257,
   "metadata": {
    "collapsed": true
   },
   "outputs": [],
   "source": [
    "def stringtoint(s): # only positive integers \n",
    "    x = 0\n",
    "    for i in range(len(s)):\n",
    "        x = 10 * x + int(s[i])\n",
    "        \n",
    "    return x    \n",
    "        "
   ]
  },
  {
   "cell_type": "code",
   "execution_count": 256,
   "metadata": {},
   "outputs": [
    {
     "data": {
      "text/plain": [
       "124"
      ]
     },
     "execution_count": 256,
     "metadata": {},
     "output_type": "execute_result"
    }
   ],
   "source": [
    "stringtoint(\"124\")"
   ]
  },
  {
   "cell_type": "markdown",
   "metadata": {},
   "source": [
    "# Palindrome integer\n",
    "Determine whether an integer is a palindrome. Do this without extra space."
   ]
  },
  {
   "cell_type": "code",
   "execution_count": 258,
   "metadata": {
    "collapsed": true
   },
   "outputs": [],
   "source": [
    "def is_palindrome_recursive(s):\n",
    "    s = str(s)\n",
    "    if len(s) <= 1:\n",
    "        return True\n",
    "    else:\n",
    "        if s[0] == s[-1]:\n",
    "            return is_palindrome(s[1:-1])\n",
    "        else:\n",
    "            return False"
   ]
  },
  {
   "cell_type": "code",
   "execution_count": 261,
   "metadata": {},
   "outputs": [
    {
     "data": {
      "text/plain": [
       "True"
      ]
     },
     "execution_count": 261,
     "metadata": {},
     "output_type": "execute_result"
    }
   ],
   "source": [
    "is_palindrome(13231)"
   ]
  },
  {
   "cell_type": "code",
   "execution_count": 259,
   "metadata": {
    "collapsed": true
   },
   "outputs": [],
   "source": [
    "def is_palindrome_without_extra_space(s):\n",
    "    s = str(s)\n",
    "    i = 0\n",
    "    j = len(s) - 1\n",
    "    while i < j:\n",
    "        if s[i] == s[j]:\n",
    "            i = i + 1\n",
    "            j = j - 1\n",
    "        else:\n",
    "            return False\n",
    "    return True     "
   ]
  },
  {
   "cell_type": "code",
   "execution_count": 260,
   "metadata": {},
   "outputs": [
    {
     "data": {
      "text/plain": [
       "True"
      ]
     },
     "execution_count": 260,
     "metadata": {},
     "output_type": "execute_result"
    }
   ],
   "source": [
    "is_palindrome_without_extra_space(12321)"
   ]
  },
  {
   "cell_type": "markdown",
   "metadata": {},
   "source": [
    "# Implement regular expression matching with support for '.' and '*'.\n",
    "'.' Matches any single character.\n",
    "'*' Matches zero or more of the preceding element.\n",
    "\n",
    "The matching should cover the entire input string (not partial).\n",
    "\n",
    "The function prototype should be:\n",
    "bool isMatch(const char *s, const char *p)\n",
    "\n",
    "Some examples:\n",
    "- isMatch(\"aa\",\"a\") → false\n",
    "- isMatch(\"aa\",\"aa\") → true\n",
    "- isMatch(\"aaa\",\"aa\") → false\n",
    "- isMatch(\"aa\", \"a*\") → true\n",
    "- isMatch(\"aa\", \".*\") → true\n",
    "- isMatch(\"ab\", \".*\") → true\n",
    "- isMatch(\"cab\", \"c * a * b\") → true"
   ]
  },
  {
   "cell_type": "code",
   "execution_count": 279,
   "metadata": {
    "collapsed": true
   },
   "outputs": [],
   "source": [
    "def isMatch(s, r):  # s: string, r: regex  # worst case complexity is exponential\n",
    "    print s, r\n",
    "    if r == '*':\n",
    "        return True\n",
    "    \n",
    "    if len(s) == 0 and len(r) == 0:\n",
    "        return True\n",
    "    if len(s) > 0 and len(r) == 0:\n",
    "        return False\n",
    "    \n",
    "    if r[0] == '.':\n",
    "        return isMatch(s[1:], r[1:])\n",
    "    if r[0] != '*': # and r[0] != '.'\n",
    "        if r[0] == s[0]:\n",
    "            return isMatch(s[1:], r[1:])\n",
    "        else:\n",
    "            return False\n",
    "    else: # r[0] == '*'     \n",
    "        for i in range(len(s)+1):\n",
    "            if isMatch(s[i:], r[1:]):\n",
    "                return True\n",
    "        return False    \n",
    "    "
   ]
  },
  {
   "cell_type": "code",
   "execution_count": 275,
   "metadata": {},
   "outputs": [
    {
     "name": "stdout",
     "output_type": "stream",
     "text": [
      "aaa a*\n",
      "aa *\n"
     ]
    },
    {
     "data": {
      "text/plain": [
       "True"
      ]
     },
     "execution_count": 275,
     "metadata": {},
     "output_type": "execute_result"
    }
   ],
   "source": [
    "isMatch(\"aaa\", \"a*\")"
   ]
  },
  {
   "cell_type": "code",
   "execution_count": 276,
   "metadata": {},
   "outputs": [
    {
     "name": "stdout",
     "output_type": "stream",
     "text": [
      "ab .*\n",
      "b *\n"
     ]
    },
    {
     "data": {
      "text/plain": [
       "True"
      ]
     },
     "execution_count": 276,
     "metadata": {},
     "output_type": "execute_result"
    }
   ],
   "source": [
    "isMatch(\"ab\", \".*\")"
   ]
  },
  {
   "cell_type": "code",
   "execution_count": 278,
   "metadata": {},
   "outputs": [
    {
     "name": "stdout",
     "output_type": "stream",
     "text": [
      "cab c*a*b\n",
      "ab *a*b\n",
      "ab a*b\n",
      "b *b\n",
      "b b\n",
      " \n"
     ]
    },
    {
     "data": {
      "text/plain": [
       "True"
      ]
     },
     "execution_count": 278,
     "metadata": {},
     "output_type": "execute_result"
    }
   ],
   "source": [
    "isMatch(\"cab\", \"c*a*b\")"
   ]
  },
  {
   "cell_type": "markdown",
   "metadata": {},
   "source": [
    "# Container with most water\n",
    "\n",
    "Given n non-negative integers a1, a2, ..., an, where each represents a point at coordinate (i, ai). n vertical lines are drawn such that the two endpoints of line i is at (i, ai) and (i, 0). Find two lines, which together with x-axis forms a container, such that the container contains the most water.\n",
    "\n",
    "Note: You may not slant the container and n is at least 2.\n",
    "\n",
    "\n",
    "water = (t - s) x min ai for i in [s, s+1, ..., t] "
   ]
  },
  {
   "cell_type": "code",
   "execution_count": 335,
   "metadata": {
    "collapsed": true
   },
   "outputs": [],
   "source": [
    "def watermax(A):  # O(n^2)\n",
    "    C = []\n",
    "    for i in range(len(A)):\n",
    "        C.append([-1, -1])\n",
    "        \n",
    "    C[0] = [A[0], 1]    \n",
    "    \n",
    "    for i in range(len(A)-1):\n",
    "        h = A[i+1]\n",
    "        w = 1\n",
    "        \n",
    "        C[i+1][0] = h\n",
    "        C[i+1][1] = w\n",
    "        \n",
    "        j = i\n",
    "        while j >=0:\n",
    "            h = min(h, A[j])\n",
    "            w = w + 1\n",
    "            \n",
    "            if h * w > C[i+1][0] * C[i+1][1]:\n",
    "                C[i+1][0] = h\n",
    "                C[i+1][1] = w\n",
    "            j = j - 1\n",
    "            \n",
    "    w_max = 0\n",
    "    \n",
    "    for i in range(len(C)):\n",
    "        if C[i][0] * C[i][1] > w_max:\n",
    "            w_max = C[i][0] * C[i][1]\n",
    "    \n",
    "    return w_max       "
   ]
  },
  {
   "cell_type": "code",
   "execution_count": 336,
   "metadata": {},
   "outputs": [
    {
     "data": {
      "text/plain": [
       "500"
      ]
     },
     "execution_count": 336,
     "metadata": {},
     "output_type": "execute_result"
    }
   ],
   "source": [
    "watermax(range(10, 20) + range(20, 30) + range(20, 30) + range(10, 20) +  range(30, 40))"
   ]
  },
  {
   "cell_type": "code",
   "execution_count": 337,
   "metadata": {},
   "outputs": [
    {
     "data": {
      "text/plain": [
       "400"
      ]
     },
     "execution_count": 337,
     "metadata": {},
     "output_type": "execute_result"
    }
   ],
   "source": [
    "watermax(range(20, 30) + range(30, 40))"
   ]
  },
  {
   "cell_type": "markdown",
   "metadata": {},
   "source": [
    "# Integer to Roman"
   ]
  },
  {
   "cell_type": "code",
   "execution_count": null,
   "metadata": {
    "collapsed": true
   },
   "outputs": [],
   "source": []
  },
  {
   "cell_type": "markdown",
   "metadata": {},
   "source": [
    "# Roman to Integer"
   ]
  },
  {
   "cell_type": "code",
   "execution_count": null,
   "metadata": {
    "collapsed": true
   },
   "outputs": [],
   "source": []
  },
  {
   "cell_type": "markdown",
   "metadata": {},
   "source": [
    "# Longest common prefix\n",
    "Write a function to find the longest common prefix string amongst an array of strings"
   ]
  },
  {
   "cell_type": "code",
   "execution_count": 352,
   "metadata": {
    "collapsed": true
   },
   "outputs": [],
   "source": [
    "def is_extendible(string_list, prefix_len):\n",
    "    temp_list = []\n",
    "    for i in range(len(string_list)):\n",
    "        if len(string_list[i]) <= prefix_len:\n",
    "            return False\n",
    "        else:\n",
    "            temp_list.append(string_list[i][prefix_len])\n",
    "     \n",
    "    if len(temp_list) < len(string_list):\n",
    "        return False\n",
    "    \n",
    "    a = temp_list[0]\n",
    "    for b in temp_list[1:]:\n",
    "        if b != a:\n",
    "            return False\n",
    "        \n",
    "    return True    \n",
    "            \n",
    "               \n",
    "            \n",
    "def longest_common_prefix(string_list):\n",
    "    if len(string_list) == 0:\n",
    "        return 0\n",
    "    \n",
    "    prefix_len = 0\n",
    "    \n",
    "    while is_extendible(string_list, prefix_len):\n",
    "        prefix_len = prefix_len + 1\n",
    "    \n",
    "            \n",
    "    return prefix_len         "
   ]
  },
  {
   "cell_type": "code",
   "execution_count": 353,
   "metadata": {},
   "outputs": [
    {
     "data": {
      "text/plain": [
       "5"
      ]
     },
     "execution_count": 353,
     "metadata": {},
     "output_type": "execute_result"
    }
   ],
   "source": [
    "longest_common_prefix(['aabccccc', 'aabccde'])"
   ]
  },
  {
   "cell_type": "markdown",
   "metadata": {},
   "source": [
    "# Three-sum\n",
    "Given an array S of n integers, are there elements a, b, c in S such that a + b + c = 0? Find all unique triplets in the array which gives the sum of zero.\n",
    "\n",
    "Note: The solution set must not contain duplicate triplets.\n",
    "\n",
    "For example, given array S = [-1, 0, 1, 2, -1, -4],\n",
    "\n",
    "A solution set is:\n",
    "[\n",
    "  [-1, 0, 1],\n",
    "  [-1, -1, 2]\n",
    "]\n"
   ]
  },
  {
   "cell_type": "code",
   "execution_count": 424,
   "metadata": {
    "collapsed": true
   },
   "outputs": [],
   "source": [
    "def remove_dups(L): # O(n^2)\n",
    "    out_list = []\n",
    "    for item in L:\n",
    "        if item not in out_list:\n",
    "            out_list.append(item)\n",
    "    return out_list        \n",
    "        \n",
    "def three_sum_brute_force(S): # O(n^3 x L)  L = number of distinct solutions \n",
    "    out_list = []\n",
    "    for i in range(len(S)):\n",
    "        for j in range(i+1, len(S)):\n",
    "            for k in range(j+1, len(S)):\n",
    "                if S[i] + S[j] + S[k] == 0:\n",
    "                    ne = tuple(sorted([S[i], S[j], S[k]]))\n",
    "                    #out_list.append(ne)\n",
    "                    if ne not in out_list:\n",
    "                        out_list.append(ne)\n",
    "    return out_list                  \n",
    "    #return remove_dups(out_list) # O(n^3 + L^2)"
   ]
  },
  {
   "cell_type": "code",
   "execution_count": 423,
   "metadata": {},
   "outputs": [
    {
     "data": {
      "text/plain": [
       "[(-1, 0, 1), (-1, -1, 2)]"
      ]
     },
     "execution_count": 423,
     "metadata": {},
     "output_type": "execute_result"
    }
   ],
   "source": [
    "three_sum_brute_force([-1, 0, 1, 2, -1, -4])"
   ]
  },
  {
   "cell_type": "markdown",
   "metadata": {},
   "source": [
    "# Three-sum closest\n",
    "\n",
    "Given an array S of n integers, find three integers in S such that the sum is closest to a given number, target. Return the sum of the three integers. You may assume that each input would have exactly one solution.\n",
    "\n"
   ]
  },
  {
   "cell_type": "code",
   "execution_count": 444,
   "metadata": {
    "collapsed": true
   },
   "outputs": [],
   "source": [
    "import math\n",
    "def three_sum_target_brute_force(S, t): # O(n^3) \n",
    "    diff = Ellipsis\n",
    "    \n",
    "    for i in range(len(S)):\n",
    "        for j in range(i+1, len(S)):\n",
    "            for k in range(j+1, len(S)):\n",
    "                    new_diff = abs(S[i] + S[j] + S[k] - t) \n",
    "                    if new_diff < diff:\n",
    "                        diff = new_diff\n",
    "                        ne = [(S[i], S[j], S[k]), diff] \n",
    "    return ne                  "
   ]
  },
  {
   "cell_type": "code",
   "execution_count": 448,
   "metadata": {},
   "outputs": [
    {
     "data": {
      "text/plain": [
       "[(-1, 1, 2), 0.10000000000000009]"
      ]
     },
     "execution_count": 448,
     "metadata": {},
     "output_type": "execute_result"
    }
   ],
   "source": [
    "S = [-1, 0, 1, 2, -1, -4]\n",
    "three_sum_target_brute_force(S, 2.1)"
   ]
  },
  {
   "cell_type": "markdown",
   "metadata": {},
   "source": [
    "# Valid parenthesis\n",
    "\n",
    "Given a string containing just the characters '(', ')', '{', '}', '[' and ']', determine if the input string is valid.\n",
    "\n",
    "The brackets must close in the correct order, \"()\" and \"()[]{}\" are all valid but \"(]\" and \"([)]\" are not.\n",
    "\n"
   ]
  },
  {
   "cell_type": "code",
   "execution_count": 372,
   "metadata": {
    "collapsed": true
   },
   "outputs": [],
   "source": [
    "def is_oppo(a, b):\n",
    "    if (a == \"(\" and b == \")\") or (a == \"{\" and b == \"}\") or (a == \"[\" and b == \"]\"):\n",
    "        return True\n",
    "    else:\n",
    "        return False\n",
    "    \n",
    "def is_valid(par_string): # O(n)\n",
    "    stack = []\n",
    "    for par in par_string:\n",
    "        if par == '(' or par == '{' or par == '[':\n",
    "            stack.append(par)\n",
    "            \n",
    "        if par == ')' or par == '}' or par == ']':\n",
    "            if len(stack) == 0:\n",
    "                return False\n",
    "            \n",
    "            temp = stack.pop()\n",
    "            if not is_oppo(temp, par):\n",
    "                return False\n",
    "    return True        "
   ]
  },
  {
   "cell_type": "code",
   "execution_count": 360,
   "metadata": {},
   "outputs": [
    {
     "data": {
      "text/plain": [
       "False"
      ]
     },
     "execution_count": 360,
     "metadata": {},
     "output_type": "execute_result"
    }
   ],
   "source": [
    "is_valid(\"({})[(]\")"
   ]
  },
  {
   "cell_type": "code",
   "execution_count": 361,
   "metadata": {},
   "outputs": [
    {
     "data": {
      "text/plain": [
       "True"
      ]
     },
     "execution_count": 361,
     "metadata": {},
     "output_type": "execute_result"
    }
   ],
   "source": [
    "is_valid(\"({})[()]{()}\")"
   ]
  },
  {
   "cell_type": "markdown",
   "metadata": {},
   "source": [
    "# Longest valid parenthesis\n",
    "Given a string containing just the characters '(' and ')', find the length of the longest valid (well-formed) parentheses substring.\n",
    "\n",
    "For \"(()\", the longest valid parentheses substring is \"()\", which has length = 2.\n",
    "\n",
    "Another example is \")()())\", where the longest valid parentheses substring is \"()()\", which has length = 4.\n",
    "\n"
   ]
  },
  {
   "cell_type": "code",
   "execution_count": 370,
   "metadata": {
    "collapsed": true
   },
   "outputs": [],
   "source": [
    "def longest_valid(par_string): # O(n^3)\n",
    "    longest = 0\n",
    "    i_max = -1\n",
    "    j_max = -1\n",
    "    for i in range(len(par_string)):\n",
    "        for j in range(len(par_string)):\n",
    "            if is_valid(par_string[i:j]):\n",
    "                if j-i >= longest:\n",
    "                    longest = j - i\n",
    "                    i_max = i\n",
    "                    j_max = j\n",
    "                \n",
    "    return longest, i_max, j_max            "
   ]
  },
  {
   "cell_type": "code",
   "execution_count": 369,
   "metadata": {},
   "outputs": [
    {
     "data": {
      "text/plain": [
       "(4, 1, 5)"
      ]
     },
     "execution_count": 369,
     "metadata": {},
     "output_type": "execute_result"
    }
   ],
   "source": [
    "longest_valid(\")()())\")"
   ]
  },
  {
   "cell_type": "markdown",
   "metadata": {},
   "source": [
    "# Generate parenthesis"
   ]
  },
  {
   "cell_type": "code",
   "execution_count": 51,
   "metadata": {
    "collapsed": true
   },
   "outputs": [],
   "source": [
    "def add_paras(x_list):\n",
    "    if len(x_list) == 0:\n",
    "        return x_list\n",
    "    \n",
    "    out_list = []\n",
    "    \n",
    "    for x in x_list:\n",
    "        out_list.append(\"(\" + x + \")\")\n",
    "        \n",
    "    return out_list    \n",
    "\n",
    "def cross_add(A, B):\n",
    "    if len(A) == 0:\n",
    "        return B\n",
    "    if len(B) == 0:\n",
    "        return A\n",
    "    \n",
    "    out_list = []\n",
    "    for a in A:\n",
    "        for b in B:\n",
    "            out_list.append(a + b)\n",
    "            \n",
    "    return out_list        \n",
    "\n",
    "def gen_par(n): # n even\n",
    "    #print \"n =\" +str(n)\n",
    "    par_list = []\n",
    "    if n == 0:\n",
    "        #par_list.append(\"\")\n",
    "        return [\"\"]\n",
    "    \n",
    "    if n == 2:\n",
    "        par_list.append(\"()\")\n",
    "        return par_list\n",
    "    \n",
    "    par_list = []\n",
    "    for i in range(1, n+1):\n",
    "        if i % 2 == 0:\n",
    "            #print i\n",
    "            #print cross_add(add_paras(gen_par(i-2)),  gen_par(n-i))\n",
    "            par_list = par_list + cross_add(add_paras(gen_par(i-2)),  gen_par(n-i))\n",
    "    \n",
    "    return par_list\n",
    "        "
   ]
  },
  {
   "cell_type": "code",
   "execution_count": 50,
   "metadata": {},
   "outputs": [
    {
     "data": {
      "text/plain": [
       "['()()()()',\n",
       " '()()(())',\n",
       " '()(())()',\n",
       " '()(()())',\n",
       " '()((()))',\n",
       " '(())()()',\n",
       " '(())(())',\n",
       " '(()())()',\n",
       " '((()))()',\n",
       " '(()()())',\n",
       " '(()(()))',\n",
       " '((())())',\n",
       " '((()()))',\n",
       " '(((())))']"
      ]
     },
     "execution_count": 50,
     "metadata": {},
     "output_type": "execute_result"
    }
   ],
   "source": [
    "gen_par(8)"
   ]
  },
  {
   "cell_type": "markdown",
   "metadata": {},
   "source": [
    "# Pow(x, n)"
   ]
  },
  {
   "cell_type": "code",
   "execution_count": 52,
   "metadata": {
    "collapsed": true
   },
   "outputs": [],
   "source": [
    "def power_brute_force(x, n):\n",
    "    answer = 1\n",
    "    for i in range(n):\n",
    "        answer = x * answer\n",
    "    return answer    \n",
    "        "
   ]
  },
  {
   "cell_type": "code",
   "execution_count": 54,
   "metadata": {
    "collapsed": true
   },
   "outputs": [],
   "source": [
    "def power_recursive(x, n):\n",
    "    if n == 0:\n",
    "        return 1\n",
    "    if n == 1:\n",
    "        return x\n",
    "    if n % 2 == 0:\n",
    "        temp = power(x, n // 2)\n",
    "        return temp * temp\n",
    "    else:\n",
    "        return x * power(x, n-1)"
   ]
  },
  {
   "cell_type": "code",
   "execution_count": 60,
   "metadata": {},
   "outputs": [
    {
     "name": "stdout",
     "output_type": "stream",
     "text": [
      "10000000000000000000000000000000000000000000000000000000000000000000000000000000000000000000000000000\n",
      "0.000809192657471\n",
      "10000000000000000000000000000000000000000000000000000000000000000000000000000000000000000000000000000\n",
      "0.000150203704834\n"
     ]
    }
   ],
   "source": [
    "import time\n",
    "start = time.time()\n",
    "print power_brute_force(10, 100)\n",
    "end = time.time()\n",
    "print end-start\n",
    "start = time.time()\n",
    "print power_recursive(10, 100)\n",
    "end = time.time()\n",
    "print end-start"
   ]
  },
  {
   "cell_type": "code",
   "execution_count": 67,
   "metadata": {
    "collapsed": true
   },
   "outputs": [],
   "source": [
    "def power_nonrec(x, n): # works when n is a power of 2\n",
    "    if n == 0:\n",
    "        return 1\n",
    "    if n == 1:\n",
    "        return x\n",
    "    \n",
    "    answer = x\n",
    "    i = 1\n",
    "    while 2*i <= n:\n",
    "        answer = answer * answer\n",
    "        i = 2*i\n",
    "        \n",
    "    return answer    "
   ]
  },
  {
   "cell_type": "markdown",
   "metadata": {},
   "source": [
    "# Maximum subarray"
   ]
  },
  {
   "cell_type": "code",
   "execution_count": 77,
   "metadata": {
    "collapsed": true
   },
   "outputs": [],
   "source": [
    "A = [-2,1,-3,4,-1,2,1,-5,4]\n",
    "\n",
    "# [4,-1,2,1]\n",
    "def get_sum(A, i, j):\n",
    "    s = 0\n",
    "    for k in range(i, j):\n",
    "        s = s + A[k]\n",
    "        \n",
    "    return s\n",
    "\n",
    "def max_sub_brute_force(A):\n",
    "    s_max = 0\n",
    "    i_max = -1\n",
    "    j_max = -1\n",
    "    for i in range(len(A)):\n",
    "        for j in range(i, len(A)):\n",
    "            s = get_sum(A, i, j)\n",
    "            if s > s_max:\n",
    "                s_max = s\n",
    "                i_max = i\n",
    "                j_max = j\n",
    "                \n",
    "    return s_max, i_max, j_max  \n",
    "\n",
    "\n",
    "def max_sum(A):\n",
    "    pi=[]\n",
    "    for i in range(len(A)):\n",
    "        pi.append(max(A[i], 0))\n",
    "        \n",
    "\n",
    "    for i in range(len(A)-1):\n",
    "        pi[i+1] = max(pi[i] + A[i+1], 0)\n",
    "        \n",
    "    \n",
    "    pi_max = 0\n",
    "    \n",
    "    for v in pi:\n",
    "        if v > pi_max:\n",
    "            pi_max = v\n",
    "            \n",
    "    return pi_max                          \n",
    "    "
   ]
  },
  {
   "cell_type": "code",
   "execution_count": 78,
   "metadata": {},
   "outputs": [
    {
     "data": {
      "text/plain": [
       "6"
      ]
     },
     "execution_count": 78,
     "metadata": {},
     "output_type": "execute_result"
    }
   ],
   "source": [
    "max_sum(A)"
   ]
  },
  {
   "cell_type": "markdown",
   "metadata": {},
   "source": [
    "# Merge two sorted lists"
   ]
  },
  {
   "cell_type": "code",
   "execution_count": 84,
   "metadata": {
    "collapsed": true
   },
   "outputs": [],
   "source": [
    "def merge_two_sorted(A, B):\n",
    "    C = []\n",
    "    i = 0\n",
    "    j = 0\n",
    "    \n",
    "    while i < len(A) and j < len(B):\n",
    "        if A[i] < B[j]:\n",
    "            C.append(A[i])\n",
    "            i = i + 1\n",
    "        else:\n",
    "            C.append(B[j])\n",
    "            j = j + 1\n",
    "            \n",
    "    if i == len(A):\n",
    "        for k in range(j, len(B)):\n",
    "            C.append(B[j])\n",
    "            \n",
    "    if j == len(B):\n",
    "        for k in range(i, len(A)):\n",
    "            C.append(A[k])\n",
    "\n",
    "    return C"
   ]
  },
  {
   "cell_type": "code",
   "execution_count": 85,
   "metadata": {},
   "outputs": [
    {
     "data": {
      "text/plain": [
       "[1, 1, 2, 3, 4, 4]"
      ]
     },
     "execution_count": 85,
     "metadata": {},
     "output_type": "execute_result"
    }
   ],
   "source": [
    "merge_two_sorted([1,2,4], [1,3,4])"
   ]
  },
  {
   "cell_type": "markdown",
   "metadata": {},
   "source": [
    "# Longest harmonious subsequence "
   ]
  },
  {
   "cell_type": "code",
   "execution_count": 68,
   "metadata": {},
   "outputs": [
    {
     "data": {
      "text/plain": [
       "81"
      ]
     },
     "execution_count": 68,
     "metadata": {},
     "output_type": "execute_result"
    }
   ],
   "source": [
    "def longest_harm(A):\n",
    "    "
   ]
  },
  {
   "cell_type": "code",
   "execution_count": null,
   "metadata": {
    "collapsed": true
   },
   "outputs": [],
   "source": []
  },
  {
   "cell_type": "markdown",
   "metadata": {},
   "source": [
    "# Two-sum\n",
    "Given an array of integers, return indices of the two numbers such that they add up to a specific target.\n",
    "\n",
    "You may assume that each input would have exactly one solution, and you may not use the same element twice.\n",
    "\n",
    "Example:\n",
    "\n",
    "Given nums = [2, 7, 11, 15], target = 9,\n",
    "\n",
    "Because nums[0] + nums[1] = 2 + 7 = 9, return [0, 1]."
   ]
  },
  {
   "cell_type": "code",
   "execution_count": 156,
   "metadata": {
    "collapsed": true
   },
   "outputs": [],
   "source": [
    "def two_sum(A, target):\n",
    "    for i in range (len(A)): \n",
    "        for j in range(i+1,len(A)):\n",
    "            if A[i]+ A[j] == target:\n",
    "                print A[i],A[j],target\n",
    "                return i,j\n",
    "                 \n",
    "                \n",
    "    \n",
    "    \n",
    "  \n",
    "    "
   ]
  },
  {
   "cell_type": "code",
   "execution_count": 158,
   "metadata": {},
   "outputs": [
    {
     "name": "stdout",
     "output_type": "stream",
     "text": [
      "4 5 9\n"
     ]
    },
    {
     "data": {
      "text/plain": [
       "(2, 3)"
      ]
     },
     "execution_count": 158,
     "metadata": {},
     "output_type": "execute_result"
    }
   ],
   "source": [
    "A = [1,2,4,5,6]\n",
    "target = 9\n",
    "two_sum(A,target)"
   ]
  },
  {
   "cell_type": "code",
   "execution_count": 159,
   "metadata": {},
   "outputs": [
    {
     "name": "stdout",
     "output_type": "stream",
     "text": [
      "0 3000 3000\n",
      "-0.00240111351013\n"
     ]
    }
   ],
   "source": [
    "import time \n",
    "start = time.time()\n",
    "two_sum_brute_force(range(3600),3000)\n",
    "end = time.time()\n",
    "print start-end "
   ]
  },
  {
   "cell_type": "markdown",
   "metadata": {},
   "source": [
    "\n",
    "Given a string, determine if it is a palindrome, considering only alphanumeric characters and ignoring cases.\n",
    "\n",
    "For example,\n",
    "\"A man, a plan, a canal: Panama\" is a palindrome.\n",
    "\"race a car\" is not a palindrome.\n",
    "\n",
    "Note:\n",
    "Have you consider that the string might be empty? This is a good question to ask during an interview.\n",
    "\n",
    "For the purpose of this problem, we define empty string as valid palindrome.\n",
    "\n"
   ]
  },
  {
   "cell_type": "code",
   "execution_count": 195,
   "metadata": {},
   "outputs": [
    {
     "name": "stdout",
     "output_type": "stream",
     "text": [
      "character matches at position 0\n",
      "character matches at position 1\n",
      "character matches at position 2\n",
      "character matches at position 3\n",
      "character matches at position 4\n",
      "character matches at position 5\n"
     ]
    },
    {
     "data": {
      "text/plain": [
       "'not palindrome'"
      ]
     },
     "execution_count": 195,
     "metadata": {},
     "output_type": "execute_result"
    }
   ],
   "source": [
    "def is_pal(s): # \"010\", \"110011\", \"abccba\", \"aba\", \"abcbc\"-not\n",
    "    for i in range(len(s)):\n",
    "        if s[i] != s[len(s)-1-i]:\n",
    "            return \"not palindrome\"\n",
    "        else: # s[i] == s[len(s) -1 -i]\n",
    "            print \"character matches at position \"+str(i)\n",
    "            pass\n",
    "        \n",
    "    return \"palindrome\"\n",
    "            \n",
    "    \n",
    "          \n",
    "            \n",
    "    \n",
    "    \n",
    "    return 0\n",
    "    \n",
    "    \n",
    "is_pal(\"abcbdefeedbcba\")    "
   ]
  },
  {
   "cell_type": "code",
   "execution_count": 174,
   "metadata": {},
   "outputs": [
    {
     "data": {
      "text/plain": [
       "[0, 1, 2]"
      ]
     },
     "execution_count": 174,
     "metadata": {},
     "output_type": "execute_result"
    }
   ],
   "source": [
    "s = \"abc\"\n",
    "s[2]\n",
    "s[-1]\n",
    "\n",
    "i = 0\n",
    "s[i] == s[len(s)-1-i]\n",
    "range(len(s))"
   ]
  },
  {
   "cell_type": "code",
   "execution_count": 164,
   "metadata": {},
   "outputs": [
    {
     "name": "stdout",
     "output_type": "stream",
     "text": [
      "a\n",
      "b\n",
      "c\n"
     ]
    }
   ],
   "source": [
    "for i in range(len(s)):\n",
    "    print s[i]"
   ]
  },
  {
   "cell_type": "code",
   "execution_count": 166,
   "metadata": {},
   "outputs": [
    {
     "data": {
      "text/plain": [
       "[0, 1, 2]"
      ]
     },
     "execution_count": 166,
     "metadata": {},
     "output_type": "execute_result"
    }
   ],
   "source": [
    "range(len(s))"
   ]
  },
  {
   "cell_type": "code",
   "execution_count": 167,
   "metadata": {
    "collapsed": true
   },
   "outputs": [],
   "source": [
    "def fun_s(s):\n",
    "    output = \"\"\n",
    "    for i in range(len(s)):\n",
    "        output = output + s[i] + s[i]\n",
    "        \n",
    "    return output    "
   ]
  },
  {
   "cell_type": "code",
   "execution_count": 168,
   "metadata": {},
   "outputs": [
    {
     "data": {
      "text/plain": [
       "'aabbcc'"
      ]
     },
     "execution_count": 168,
     "metadata": {},
     "output_type": "execute_result"
    }
   ],
   "source": [
    "fun_s(\"abc\")"
   ]
  },
  {
   "cell_type": "code",
   "execution_count": 210,
   "metadata": {
    "collapsed": true
   },
   "outputs": [],
   "source": [
    "#n = 3  --> 1 + 2^2 + 3^2 = 1 + 4 + 9 = 14\n",
    "def sum_squares(n):\n",
    "    s = 0\n",
    "    for i in range(n):\n",
    "        s = s + (i+1)*(i+1)\n",
    "    return s     \n",
    "    \n",
    "    \n",
    "    "
   ]
  },
  {
   "cell_type": "markdown",
   "metadata": {
    "collapsed": true
   },
   "source": [
    "# Length of last word"
   ]
  },
  {
   "cell_type": "code",
   "execution_count": 2,
   "metadata": {
    "collapsed": true
   },
   "outputs": [],
   "source": [
    "def last_len(s):\n",
    "    i = 1\n",
    "    while s[-i] != \" \" and i <= len(s):\n",
    "        i = i + 1\n",
    "        \n",
    "    return i-1     "
   ]
  },
  {
   "cell_type": "code",
   "execution_count": 3,
   "metadata": {},
   "outputs": [
    {
     "data": {
      "text/plain": [
       "9"
      ]
     },
     "execution_count": 3,
     "metadata": {},
     "output_type": "execute_result"
    }
   ],
   "source": [
    "last_len(\"I am not a dynasour!\")"
   ]
  },
  {
   "cell_type": "markdown",
   "metadata": {},
   "source": [
    "# Plus one"
   ]
  },
  {
   "cell_type": "code",
   "execution_count": null,
   "metadata": {
    "collapsed": true
   },
   "outputs": [],
   "source": [
    "def binary_plus_one(s):\n",
    "    \n",
    "    "
   ]
  },
  {
   "cell_type": "markdown",
   "metadata": {},
   "source": [
    "# Add binary"
   ]
  },
  {
   "cell_type": "code",
   "execution_count": null,
   "metadata": {
    "collapsed": true
   },
   "outputs": [],
   "source": [
    "def bin_add(a, b):\n",
    "    "
   ]
  },
  {
   "cell_type": "markdown",
   "metadata": {},
   "source": [
    "We are given two strings, A and B.\n",
    "\n",
    "A shift on A consists of taking string A and moving the leftmost character to the rightmost position. For example, if A = 'abcde', then it will be 'bcdea' after one shift on A. Return True if and only if A can become B after some number of shifts on A.\n",
    "\n",
    "Example 1:\n",
    "Input: A = 'abcde', B = 'cdeab'\n",
    "Output: true\n",
    "\n",
    "Example 2:\n",
    "Input: A = 'abcde', B = 'abced'\n",
    "Output: false\n"
   ]
  },
  {
   "cell_type": "code",
   "execution_count": 28,
   "metadata": {
    "collapsed": true
   },
   "outputs": [],
   "source": [
    "def is_match(A, i, B):\n",
    "    if len(A) != len(B):\n",
    "        return False\n",
    "    if not i < len(A):\n",
    "        return False\n",
    "    \n",
    "    for j in range(len(B)):\n",
    "        #print j, (i+j) % len(A), A[(i+j) % len(A)], B[j]\n",
    "        if A[(i+j) % len(B)] != B[j]:\n",
    "            return False\n",
    "    return True\n",
    "        \n",
    "def rotate_match(A, B):\n",
    "    if len(A) != len(B):\n",
    "        return False\n",
    "    \n",
    "    for i in range(len(A)):\n",
    "        if is_match(A, i, B):\n",
    "            return True\n",
    "    \n",
    "    return False\n",
    "        "
   ]
  },
  {
   "cell_type": "code",
   "execution_count": 29,
   "metadata": {},
   "outputs": [
    {
     "data": {
      "text/plain": [
       "True"
      ]
     },
     "execution_count": 29,
     "metadata": {},
     "output_type": "execute_result"
    }
   ],
   "source": [
    "is_match(\"abcabc\", 1, \"bcabca\")\n",
    "is_match(\"abcabc\", 2, \"cabcab\")"
   ]
  },
  {
   "cell_type": "code",
   "execution_count": 30,
   "metadata": {},
   "outputs": [
    {
     "data": {
      "text/plain": [
       "True"
      ]
     },
     "execution_count": 30,
     "metadata": {},
     "output_type": "execute_result"
    }
   ],
   "source": [
    "rotate_match(\"abcabc\", \"cabcab\")"
   ]
  },
  {
   "cell_type": "code",
   "execution_count": 32,
   "metadata": {},
   "outputs": [
    {
     "data": {
      "text/plain": [
       "False"
      ]
     },
     "execution_count": 32,
     "metadata": {},
     "output_type": "execute_result"
    }
   ],
   "source": [
    "rotate_match(\"abcdef\", \"ddfabc\")"
   ]
  },
  {
   "cell_type": "code",
   "execution_count": 35,
   "metadata": {
    "collapsed": true
   },
   "outputs": [],
   "source": [
    "import time\n",
    "start = time.time()\n",
    "rotate_match(1000*\"ab\"+ \"z\" + 1000*\"ab\", \"z\" + 1000*\"ab\" + 1000*\"ab\")"
   ]
  },
  {
   "cell_type": "code",
   "execution_count": 39,
   "metadata": {
    "collapsed": true
   },
   "outputs": [],
   "source": [
    "N = 10000\n",
    "s1 = N * \"ab\" + \"z\" + N * \"ab\"\n",
    "s2 = \"z\" + N * \"ab\" + N * \"ab\""
   ]
  },
  {
   "cell_type": "code",
   "execution_count": 40,
   "metadata": {},
   "outputs": [
    {
     "name": "stdout",
     "output_type": "stream",
     "text": [
      "5.42738103867\n"
     ]
    }
   ],
   "source": [
    "start = time.time()\n",
    "rotate_match(s1, s2)\n",
    "end = time.time()\n",
    "print end-start"
   ]
  },
  {
   "cell_type": "markdown",
   "metadata": {
    "collapsed": true
   },
   "source": [
    "# Merge two sorted arrays"
   ]
  },
  {
   "cell_type": "code",
   "execution_count": 4,
   "metadata": {
    "collapsed": true
   },
   "outputs": [],
   "source": [
    "def merge_two(A, B):\n",
    "    C = []\n",
    "    i = 0\n",
    "    j = 0\n",
    "    \n",
    "    while i < len(A) and j < len(B):\n",
    "        if A[i] <= B[j]:\n",
    "            C.append(A[i])\n",
    "            i = i + 1\n",
    "        else:\n",
    "            C.append(B[j])\n",
    "            j = j + 1\n",
    "            \n",
    "    if i == len(A):\n",
    "        C = C + B[j:]\n",
    "    \n",
    "    if j == len(B):\n",
    "        C = C + A[i:]\n",
    "        \n",
    "    return C"
   ]
  },
  {
   "cell_type": "code",
   "execution_count": 10,
   "metadata": {},
   "outputs": [
    {
     "name": "stdout",
     "output_type": "stream",
     "text": [
      "0.571662187576\n"
     ]
    }
   ],
   "source": [
    "N = 1000000\n",
    "A = [2*i + 1 for i in range(N)]\n",
    "B = [2*i for i in range(N)]\n",
    "import time\n",
    "start = time.time()\n",
    "merge_two(A, B)\n",
    "end = time.time()\n",
    "print end-start"
   ]
  },
  {
   "cell_type": "markdown",
   "metadata": {
    "collapsed": true
   },
   "source": [
    "# find second max\n",
    "\n",
    "input: A # list of distinct integers\n",
    "output: second maximum in A, i.e., a < a_max and a > b for all b != a_max\n",
    "\n",
    "example: A = [-1, 3, 4, 5, 2]\n",
    "output: 4"
   ]
  },
  {
   "cell_type": "code",
   "execution_count": 58,
   "metadata": {
    "collapsed": true
   },
   "outputs": [],
   "source": [
    "def second_max(A):\n",
    "    if len(A) < 2:\n",
    "        return \"not defined\"\n",
    "    if len(A) == 2:\n",
    "        return min(A[0], A[1])\n",
    "    \n",
    "    a_max = max(A[0], A[1])\n",
    "    a_sm = min(A[0], A[1])\n",
    "    \n",
    "    for i in range(2, len(A)):\n",
    "        if A[i] > a_max:\n",
    "            a_sm = a_max\n",
    "            a_max = A[i]\n",
    "            \n",
    "        if a_max > A[i] and A[i] > a_sm:\n",
    "            a_sm = A[i]\n",
    "              \n",
    "    return a_max, a_sm        "
   ]
  },
  {
   "cell_type": "code",
   "execution_count": 33,
   "metadata": {},
   "outputs": [
    {
     "data": {
      "text/plain": [
       "(5, 4)"
      ]
     },
     "execution_count": 33,
     "metadata": {},
     "output_type": "execute_result"
    }
   ],
   "source": [
    "second_max([-1, 3, 4, 5, 2])"
   ]
  },
  {
   "cell_type": "code",
   "execution_count": 60,
   "metadata": {},
   "outputs": [
    {
     "name": "stdout",
     "output_type": "stream",
     "text": [
      "1.36439204216\n",
      "(9999999, 9999998)\n"
     ]
    }
   ],
   "source": [
    "import numpy as np\n",
    "import time\n",
    "#A = np.random.randint(5, size=100)\n",
    "A = range(10000000)\n",
    "\n",
    "start = time.time()\n",
    "sm = second_max(A)\n",
    "end = time.time()\n",
    "print end - start\n",
    "print sm"
   ]
  },
  {
   "cell_type": "code",
   "execution_count": 56,
   "metadata": {
    "collapsed": true
   },
   "outputs": [],
   "source": [
    "# Paul\n",
    "\n",
    "def find_second_max(numbers):\n",
    "    max_number = -1\n",
    "   \n",
    "    second_max = -2\n",
    "   \n",
    "    for i in range(len(numbers)):\n",
    "        if numbers[i] > max_number :\n",
    "            max_number = numbers[i]\n",
    "           \n",
    "    for j in range(len(numbers)):\n",
    "        if numbers[j] > second_max and numbers[j] < max_number:\n",
    "            second_max = numbers[j]\n",
    "           \n",
    "    return second_max"
   ]
  },
  {
   "cell_type": "code",
   "execution_count": 59,
   "metadata": {},
   "outputs": [
    {
     "name": "stdout",
     "output_type": "stream",
     "text": [
      "2.81521892548\n",
      "9999998\n"
     ]
    }
   ],
   "source": [
    "start = time.time()\n",
    "sm = find_second_max(A)\n",
    "end = time.time()\n",
    "print end - start\n",
    "print sm"
   ]
  },
  {
   "cell_type": "code",
   "execution_count": 1,
   "metadata": {},
   "outputs": [
    {
     "name": "stdout",
     "output_type": "stream",
     "text": [
      "what is your name: xyz\n"
     ]
    }
   ],
   "source": [
    "name = raw_input(\"what is your name: \")"
   ]
  },
  {
   "cell_type": "code",
   "execution_count": 2,
   "metadata": {},
   "outputs": [
    {
     "data": {
      "text/plain": [
       "'xyz'"
      ]
     },
     "execution_count": 2,
     "metadata": {},
     "output_type": "execute_result"
    }
   ],
   "source": [
    "name"
   ]
  },
  {
   "cell_type": "code",
   "execution_count": 3,
   "metadata": {
    "collapsed": true
   },
   "outputs": [],
   "source": [
    "def list_intersection_with_repetition(A, B):\n",
    "    return [a for a in A if a in B]"
   ]
  },
  {
   "cell_type": "code",
   "execution_count": 10,
   "metadata": {
    "collapsed": true
   },
   "outputs": [],
   "source": [
    "A = [1, 1, 3, 3, 5, 7, 9]\n",
    "B = [2, 3, 4, 6, 8, 7, 9, 3]"
   ]
  },
  {
   "cell_type": "code",
   "execution_count": 11,
   "metadata": {},
   "outputs": [
    {
     "data": {
      "text/plain": [
       "[3, 3, 7, 9]"
      ]
     },
     "execution_count": 11,
     "metadata": {},
     "output_type": "execute_result"
    }
   ],
   "source": [
    "list_intersection_with_repetition(A, B)"
   ]
  },
  {
   "cell_type": "code",
   "execution_count": 4,
   "metadata": {
    "collapsed": true
   },
   "outputs": [],
   "source": [
    "def list_intersection(A, B):\n",
    "    C = []\n",
    "    for a in A:\n",
    "        for b in B:\n",
    "            if a == b:\n",
    "                C.append(a)\n",
    "            \n",
    "    return C        \n",
    "def list_intersection_without_repetition(A, B):\n",
    "    return set([a for a in A if a in B])"
   ]
  },
  {
   "cell_type": "code",
   "execution_count": 13,
   "metadata": {},
   "outputs": [
    {
     "data": {
      "text/plain": [
       "{3, 7, 9}"
      ]
     },
     "execution_count": 13,
     "metadata": {},
     "output_type": "execute_result"
    }
   ],
   "source": [
    "list_intersection_without_repetition(A, B)"
   ]
  },
  {
   "cell_type": "code",
   "execution_count": 44,
   "metadata": {
    "collapsed": true
   },
   "outputs": [],
   "source": [
    "A = range(100000)\n",
    "B = range(5000, 20000)"
   ]
  },
  {
   "cell_type": "code",
   "execution_count": 47,
   "metadata": {},
   "outputs": [
    {
     "name": "stdout",
     "output_type": "stream",
     "text": [
      "15000\n",
      "17.563313961\n"
     ]
    }
   ],
   "source": [
    "import time \n",
    "start = time.time()\n",
    "print len(list_intersection_with_repetition(A, B))\n",
    "end = time.time()\n",
    "print end-start"
   ]
  },
  {
   "cell_type": "code",
   "execution_count": 8,
   "metadata": {},
   "outputs": [
    {
     "name": "stdout",
     "output_type": "stream",
     "text": [
      "17.6830089092\n"
     ]
    }
   ],
   "source": [
    "import time \n",
    "start = time.time()\n",
    "list_intersection_without_repetition(A, B)\n",
    "end = time.time()\n",
    "print end-start"
   ]
  },
  {
   "cell_type": "code",
   "execution_count": 52,
   "metadata": {
    "collapsed": true
   },
   "outputs": [],
   "source": [
    "A = [1, 1, 3, 3, 5, 7, 9]\n",
    "B = [2, 3, 4, 6, 8, 7, 9, 3]\n",
    "\n",
    "def fast_list_intersection_without_repetition(A, B):\n",
    "    dictA = {}\n",
    "    # initialize\n",
    "    for a in A:\n",
    "        dictA[a] = 0\n",
    "    for b in B:\n",
    "        dictA[b] = 0\n",
    "        \n",
    "    dictB = {}\n",
    "    # initialize\n",
    "    for a in A:\n",
    "        dictB[a] = 0\n",
    "    for b in B:\n",
    "        dictB[b] = 0\n",
    "        \n",
    "    # initialize     \n",
    "    dictC = {}\n",
    "    # initialize\n",
    "    for a in A:\n",
    "        dictC[a] = 0\n",
    "    for b in B:\n",
    "        dictC[b] = 0\n",
    "        \n",
    "        \n",
    "    ##################\n",
    "        \n",
    "    # update dictA    \n",
    "    for a in A:\n",
    "        dictA[a] = 1\n",
    "        \n",
    "    # update dictB    \n",
    "    for b in B:\n",
    "        dictB[b] = 1\n",
    "    \n",
    "    \n",
    "    \n",
    "    for key in dictA.keys():\n",
    "        dictC[key] = dictA[key] * dictB[key]\n",
    "        \n",
    "    \n",
    "    #return mydict     \n",
    "   \n",
    "    answerdict = {k: v for k, v in dictC.iteritems() if v > 0}  \n",
    "    \n",
    "    return answerdict.keys()\n",
    " \n",
    "        \n",
    "        "
   ]
  },
  {
   "cell_type": "code",
   "execution_count": 53,
   "metadata": {},
   "outputs": [
    {
     "data": {
      "text/plain": [
       "[9, 3, 7]"
      ]
     },
     "execution_count": 53,
     "metadata": {},
     "output_type": "execute_result"
    }
   ],
   "source": [
    "fast_list_intersection_without_repetition(A, B)"
   ]
  },
  {
   "cell_type": "code",
   "execution_count": 58,
   "metadata": {},
   "outputs": [
    {
     "name": "stdout",
     "output_type": "stream",
     "text": [
      "195000\n",
      "5.91804099083\n"
     ]
    }
   ],
   "source": [
    "A = range(10000000)\n",
    "B = range(5000, 200000)\n",
    "import time \n",
    "start = time.time()\n",
    "print len(fast_list_intersection_without_repetition(A, B))\n",
    "end = time.time()\n",
    "print end-start"
   ]
  },
  {
   "cell_type": "code",
   "execution_count": 15,
   "metadata": {
    "collapsed": true
   },
   "outputs": [],
   "source": [
    "def reverse_words(sentence):\n",
    "    return \" \".join(sentence.split()[::-1])\n",
    "    "
   ]
  },
  {
   "cell_type": "code",
   "execution_count": 2,
   "metadata": {
    "collapsed": true
   },
   "outputs": [],
   "source": [
    "sentence = \"This program is going to reverse the words in sentence\""
   ]
  },
  {
   "cell_type": "code",
   "execution_count": 16,
   "metadata": {},
   "outputs": [
    {
     "data": {
      "text/plain": [
       "'This program is going to reverse the words in sentence'"
      ]
     },
     "execution_count": 16,
     "metadata": {},
     "output_type": "execute_result"
    }
   ],
   "source": [
    "reverse_words(sentence)"
   ]
  },
  {
   "cell_type": "code",
   "execution_count": 19,
   "metadata": {
    "collapsed": true
   },
   "outputs": [],
   "source": [
    "def reverse_words(sentence):\n",
    "    sentence = sentence + \" \"\n",
    "    word = \"\"\n",
    "    \n",
    "    rev_sent = \"\"\n",
    "    for c in sentence:\n",
    "        if c != \" \":\n",
    "            word = word + c\n",
    "        else:\n",
    "            rev_sent = word + \" \" + rev_sent\n",
    "            word = \"\"\n",
    "    return rev_sent         "
   ]
  },
  {
   "cell_type": "code",
   "execution_count": 20,
   "metadata": {},
   "outputs": [
    {
     "data": {
      "text/plain": [
       "'sentence in words the reverse to going is program This '"
      ]
     },
     "execution_count": 20,
     "metadata": {},
     "output_type": "execute_result"
    }
   ],
   "source": [
    "reverse_words(sentence)"
   ]
  },
  {
   "cell_type": "markdown",
   "metadata": {
    "collapsed": true
   },
   "source": [
    "# Given m and n, generate a uniform random matrix of size m x n"
   ]
  },
  {
   "cell_type": "markdown",
   "metadata": {},
   "source": [
    "https://docs.scipy.org/doc/numpy-1.14.0/reference/generated/numpy.random.uniform.html\n",
    "\n",
    "import numpy as np\n",
    "\n",
    "def generate_random_matrix(m, n):\n",
    "    return np.random.uniform(m, n)  # np.random.uniform(size=(m, n))"
   ]
  },
  {
   "cell_type": "code",
   "execution_count": 41,
   "metadata": {
    "collapsed": true
   },
   "outputs": [],
   "source": [
    "import numpy as np\n",
    "\n",
    "def generate_random_matrix(m, n):\n",
    "    return np.random.uniform(size=(m, n))"
   ]
  },
  {
   "cell_type": "code",
   "execution_count": 51,
   "metadata": {
    "collapsed": true
   },
   "outputs": [],
   "source": [
    "M = generate_random_matrix(3,3)"
   ]
  },
  {
   "cell_type": "code",
   "execution_count": 52,
   "metadata": {},
   "outputs": [
    {
     "data": {
      "text/plain": [
       "True"
      ]
     },
     "execution_count": 52,
     "metadata": {},
     "output_type": "execute_result"
    }
   ],
   "source": [
    "# All values are within the given interval:\n",
    "np.all(M >= 0) and np.all(M < 1)"
   ]
  },
  {
   "cell_type": "code",
   "execution_count": 53,
   "metadata": {
    "collapsed": true
   },
   "outputs": [],
   "source": [
    "A = np.random.uniform(size=1000)"
   ]
  },
  {
   "cell_type": "code",
   "execution_count": 56,
   "metadata": {},
   "outputs": [
    {
     "data": {
      "text/plain": [
       "1000"
      ]
     },
     "execution_count": 56,
     "metadata": {},
     "output_type": "execute_result"
    }
   ],
   "source": [
    "len(A.tolist())"
   ]
  },
  {
   "cell_type": "code",
   "execution_count": 3,
   "metadata": {},
   "outputs": [
    {
     "data": {
      "text/plain": [
       "1.0"
      ]
     },
     "execution_count": 3,
     "metadata": {},
     "output_type": "execute_result"
    }
   ],
   "source": [
    "3.5 // 2 # floor"
   ]
  },
  {
   "cell_type": "code",
   "execution_count": 5,
   "metadata": {},
   "outputs": [
    {
     "data": {
      "text/plain": [
       "2.0"
      ]
     },
     "execution_count": 5,
     "metadata": {},
     "output_type": "execute_result"
    }
   ],
   "source": [
    "-(-3.5//2) # ceil"
   ]
  },
  {
   "cell_type": "code",
   "execution_count": 7,
   "metadata": {},
   "outputs": [
    {
     "name": "stdout",
     "output_type": "stream",
     "text": [
      "4.0\n",
      "3.0\n"
     ]
    }
   ],
   "source": [
    "import math\n",
    "print math.ceil(3.5)\n",
    "print math.floor(3.5)"
   ]
  },
  {
   "cell_type": "markdown",
   "metadata": {
    "collapsed": true
   },
   "source": [
    "# Binary search in sorted array\n",
    "https://www.geeksforgeeks.org/floor-ceil-function-python/\n",
    "\n",
    "\n",
    "def binary_search(A, x):\n",
    "    \n",
    "    low = 0\n",
    "    high = len(A)-1\n",
    "    # invariant: A[low] <= x <= A[high]   \n",
    "    while low < high:\n",
    "        mid = low + high // 2  # take floor\n",
    "        if A[mid] == x:\n",
    "           return mid\n",
    "        else: \n",
    "           if A[mid] < x:\n",
    "              low = mid + 1\n",
    "           else: # A[mid] > x:\n",
    "              high = mid - 1\n",
    "              \n",
    "     if A[low] == x: # low = high when while loop terminates  # wrong: boundary case A = [] and x = 1\n",
    "        return True\n",
    "     else:\n",
    "        return False\n",
    "           \n",
    "           \n",
    "# Does not terminate\n",
    "- boundary case where fails: A = [] and x = 1\n",
    "- fix: if low == high and A[low] == x: return True else return False\n",
    "\n",
    "\n",
    "              \n",
    "    \n",
    "    "
   ]
  },
  {
   "cell_type": "code",
   "execution_count": 4,
   "metadata": {
    "collapsed": true
   },
   "outputs": [],
   "source": [
    "def binary_search(A, x):\n",
    "    low = 0\n",
    "    high = len(A)-1\n",
    "    \n",
    "    # invariant: A[low] <= x <= A[high]   \n",
    "    while low < high:\n",
    "        mid = low + high // 2  # take floor\n",
    "        if A[mid] == x:\n",
    "            return mid\n",
    "        else: \n",
    "            if A[mid] < x:\n",
    "                      low = mid + 1\n",
    "            else: # A[mid] > x:\n",
    "                      high = mid - 1\n",
    "              \n",
    "    if low == high and A[low] == x: # low = high when while loop terminates if A is non-empty\n",
    "        # The (low == high) check takes care of the boundary case when A = [] and x = 1\n",
    "        return True\n",
    "    else:\n",
    "        return False\n",
    "           "
   ]
  },
  {
   "cell_type": "code",
   "execution_count": 7,
   "metadata": {},
   "outputs": [
    {
     "data": {
      "text/plain": [
       "False"
      ]
     },
     "execution_count": 7,
     "metadata": {},
     "output_type": "execute_result"
    }
   ],
   "source": [
    "binary_search(range(100), 101)"
   ]
  },
  {
   "cell_type": "markdown",
   "metadata": {},
   "source": [
    "# Python linked list data structure"
   ]
  },
  {
   "cell_type": "code",
   "execution_count": 46,
   "metadata": {
    "collapsed": true
   },
   "outputs": [],
   "source": [
    "class Node:\n",
    "    def __init__(self, value=None):\n",
    "        self.value = value\n",
    "        \n",
    "    def __str__(self):\n",
    "        return str(self.value)\n",
    "        \n",
    "    def show_value(self):  # not working\n",
    "        return str(self.value)"
   ]
  },
  {
   "cell_type": "code",
   "execution_count": 47,
   "metadata": {},
   "outputs": [
    {
     "name": "stdout",
     "output_type": "stream",
     "text": [
      "3\n",
      "101\n",
      "202\n",
      "303\n"
     ]
    }
   ],
   "source": [
    "a = Node(3)\n",
    "a.show_value()\n",
    "b = Node(101)\n",
    "b.show_value()\n",
    "\n",
    "Node(202).show_value()\n",
    "\n",
    "print Node(303)"
   ]
  },
  {
   "cell_type": "code",
   "execution_count": 34,
   "metadata": {
    "collapsed": true
   },
   "outputs": [],
   "source": [
    "class LinkedList:\n",
    "    def __init__(self, head=None, tail=None):\n",
    "        self.head = head # type Node\n",
    "        self.tail = tail # type LinkedList\n",
    "        \n",
    "        if head == None:\n",
    "            self.length = 0\n",
    "        else:\n",
    "            self.length = 1 + self.tail.get_length()\n",
    "            \n",
    "        \n",
    "    def is_empty(self):\n",
    "        return self.length == 0\n",
    "    \n",
    "    def get_length(self):\n",
    "        if self.head == None:\n",
    "            return 0\n",
    "        \n",
    "        return self.length\n",
    "    \n",
    "    def print_head(self):\n",
    "        if not self.is_empty():\n",
    "            print self.head\n",
    "        else:\n",
    "            print \"END_OF_LIST\"\n",
    "            \n",
    "    def print_all(self):\n",
    "        if not self.is_empty():\n",
    "            self.print_head()\n",
    "            self.tail.print_all()\n",
    "        else:\n",
    "            print \"END_OF_LIST\"        \n",
    "            \n",
    "    def insert(self, new_value):        \n",
    "        if self.is_empty():\n",
    "            new_node = Node(new_value)\n",
    "            self.head = new_node\n",
    "            self.tail = LinkedList()\n",
    "        else:\n",
    "            self.tail = self.tail.insert(new_value)   \n",
    "        self.length = self.length + 1\n",
    "        return self   \n",
    "    \n",
    "    def delete(self, index):\n",
    "        if index > self.length - 1:\n",
    "            print \"INDEX_OUT_OF_RANGE\"\n",
    "            return self\n",
    "        \n",
    "        if index == 0:\n",
    "            return self.tail\n",
    "        else:\n",
    "            self.length = self.length - 1\n",
    "            self.tail = self.tail.delete(index-1)\n",
    "            return self        "
   ]
  },
  {
   "cell_type": "code",
   "execution_count": 65,
   "metadata": {},
   "outputs": [
    {
     "name": "stdout",
     "output_type": "stream",
     "text": [
      "INDEX_OUT_OF_RANGE\n",
      "2\n",
      "4\n",
      "8\n",
      "END_OF_LIST\n"
     ]
    }
   ],
   "source": [
    "a = LinkedList()\n",
    "a.get_length()\n",
    "b = a.insert(Node(2)).insert(Node(4)).insert(Node(8)).delete(5)\n",
    "b.tail.get_length()\n",
    "b.print_all()"
   ]
  },
  {
   "cell_type": "code",
   "execution_count": 37,
   "metadata": {},
   "outputs": [
    {
     "data": {
      "text/plain": [
       "2"
      ]
     },
     "execution_count": 37,
     "metadata": {},
     "output_type": "execute_result"
    }
   ],
   "source": [
    "a = LinkedList(Node(3), LinkedList(Node(4), LinkedList(None, None)))\n",
    "a.length"
   ]
  },
  {
   "cell_type": "markdown",
   "metadata": {},
   "source": [
    "# Python binary tree"
   ]
  },
  {
   "cell_type": "code",
   "execution_count": 4,
   "metadata": {
    "collapsed": true
   },
   "outputs": [],
   "source": [
    "class Node:\n",
    "    def __init__(self, value=None):\n",
    "        self.value = value\n",
    "        \n",
    "    def __str__(self):\n",
    "        return str(self.value)"
   ]
  },
  {
   "cell_type": "code",
   "execution_count": 65,
   "metadata": {},
   "outputs": [],
   "source": [
    "class BinaryTree:\n",
    "    def __init__(self, root=None, left=None, right=None):\n",
    "        self.root = root # type Node\n",
    "        self.left = left  # type BinaryTree\n",
    "        self.right = right # type BinaryTree\n",
    "        \n",
    "        if root == None:\n",
    "            self.size = 0\n",
    "        else:\n",
    "            self.size = 1 + self.left.get_size() + self.right.get_size()\n",
    "            \n",
    "    def is_empty(self):\n",
    "        return self.root == None or self == None\n",
    "    \n",
    "    def get_size(self):\n",
    "        if self.root == None:\n",
    "            return 0\n",
    "        return self.size\n",
    "    \n",
    "    def print_root(self):\n",
    "        if not self.is_empty():\n",
    "            print self.root\n",
    "        \n",
    "    def print_all(self): # root left right\n",
    "        self.print_root()\n",
    "        if not self.left.is_empty():\n",
    "            self.left.print_all()\n",
    "        if not self.right.is_empty():    \n",
    "            self.right.print_all()     "
   ]
  },
  {
   "cell_type": "code",
   "execution_count": 66,
   "metadata": {},
   "outputs": [],
   "source": [
    "tree = BinaryTree(Node(2), BinaryTree(Node(4), BinaryTree(), BinaryTree()), BinaryTree(Node(8), BinaryTree(), BinaryTree()))"
   ]
  },
  {
   "cell_type": "code",
   "execution_count": 67,
   "metadata": {},
   "outputs": [
    {
     "data": {
      "text/plain": [
       "3"
      ]
     },
     "execution_count": 67,
     "metadata": {},
     "output_type": "execute_result"
    }
   ],
   "source": [
    "tree.get_size()"
   ]
  },
  {
   "cell_type": "code",
   "execution_count": 68,
   "metadata": {},
   "outputs": [
    {
     "name": "stdout",
     "output_type": "stream",
     "text": [
      "2\n",
      "4\n",
      "8\n"
     ]
    }
   ],
   "source": [
    "tree.print_all()"
   ]
  },
  {
   "cell_type": "code",
   "execution_count": null,
   "metadata": {
    "collapsed": true
   },
   "outputs": [],
   "source": []
  }
 ],
 "metadata": {
  "kernelspec": {
   "display_name": "Python 2",
   "language": "python",
   "name": "python2"
  },
  "language_info": {
   "codemirror_mode": {
    "name": "ipython",
    "version": 2
   },
   "file_extension": ".py",
   "mimetype": "text/x-python",
   "name": "python",
   "nbconvert_exporter": "python",
   "pygments_lexer": "ipython2",
   "version": "2.7.13"
  }
 },
 "nbformat": 4,
 "nbformat_minor": 2
}
