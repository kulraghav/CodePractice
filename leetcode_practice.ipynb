{
 "cells": [
  {
   "cell_type": "markdown",
   "metadata": {},
   "source": [
    "# A decorator to measure running time of a function\n",
    "https://codereview.stackexchange.com/questions/169870/decorator-to-measure-execution-time-of-a-function"
   ]
  },
  {
   "cell_type": "code",
   "execution_count": 13,
   "metadata": {
    "collapsed": true
   },
   "outputs": [],
   "source": [
    "from time import time\n",
    "def timer(f):\n",
    "    def wrapper(*args, **kwargs):  \n",
    "        # 1. what are *args and **kwargs  ?  \n",
    "        start = time()\n",
    "        result = f(*args, **kwargs)\n",
    "        end = time()\n",
    "        print 'Running time for function {0} is {1}'.format(f.__name__, end-start)\n",
    "        # 2. what is .format ?\n",
    "        # 3. what is f.__name__ ?\n",
    "        return result\n",
    "    return wrapper\n",
    "# issue: print command is executed on every recursive call of f (ideally it should be executed only once at the end)    "
   ]
  },
  {
   "cell_type": "markdown",
   "metadata": {},
   "source": [
    "1. https://www.programiz.com/python-programming/args-and-kwargs\n",
    "   - args (non keyword arguments) is a list \n",
    "   - kwargs (keyword arguments) is a dictionary \n",
    "2. https://pyformat.info/\n",
    "3. https://stackoverflow.com/questions/251464/how-to-get-a-function-name-as-a-string-in-python"
   ]
  },
  {
   "cell_type": "markdown",
   "metadata": {},
   "source": [
    "# Two-sum\n",
    "\n",
    "Given an array of integers, return indices of the two numbers such that they add up to a specific target.\n",
    "\n",
    "You may assume that each input would have exactly one solution, and you may not use the same element twice.\n",
    "\n",
    "Example:\n",
    "\n",
    "Given nums = [2, 7, 11, 15], target = 9,\n",
    "\n",
    "Because nums[0] + nums[1] = 2 + 7 = 9,\n",
    "return [0, 1]."
   ]
  },
  {
   "cell_type": "code",
   "execution_count": 14,
   "metadata": {
    "collapsed": true
   },
   "outputs": [],
   "source": [
    "# Brute force: O(n^2)\n",
    "\n",
    "@timer\n",
    "def two_sum_brute_force(A, target_sum): \n",
    "    for i in range(len(A)):\n",
    "        for j in range(i+1, len(A)):  \n",
    "            # 1. in python range(a, b) = [a, b) :includes a but excludes b\n",
    "            if A[i] + A[j] == target_sum:\n",
    "                return i, j \n",
    "    return -1, -1 # not found       "
   ]
  },
  {
   "cell_type": "markdown",
   "metadata": {},
   "source": [
    "1. https://www.pythoncentral.io/pythons-range-function-explained/"
   ]
  },
  {
   "cell_type": "code",
   "execution_count": 15,
   "metadata": {},
   "outputs": [
    {
     "name": "stdout",
     "output_type": "stream",
     "text": [
      "Running time for function two_sum_brute_force is 3.7643558979\n"
     ]
    },
    {
     "data": {
      "text/plain": [
       "(9998, 9999)"
      ]
     },
     "execution_count": 15,
     "metadata": {},
     "output_type": "execute_result"
    }
   ],
   "source": [
    "N = 10000\n",
    "A = range(N)\n",
    "target_sum = N + N - 3\n",
    "two_sum_brute_force(A, target_sum)"
   ]
  },
  {
   "cell_type": "code",
   "execution_count": 4,
   "metadata": {
    "collapsed": true
   },
   "outputs": [],
   "source": [
    "# Binary search: O(n log n)\n",
    "\n",
    "def binary_search(C, x):\n",
    "    i = 0\n",
    "    j = len(C) - 1    \n",
    "\n",
    "    while i != j:\n",
    "        m = (i+j)//2\n",
    "        if C[m][1] == x:\n",
    "            return C[m][0]\n",
    "        else:\n",
    "            if C[m][1] > x:\n",
    "                j = m-1\n",
    "            if C[m][1] < x:\n",
    "                i = m+1  \n",
    "    \n",
    "                \n",
    "    if C[i][1] == x:\n",
    "            return C[i][0]\n",
    "        \n",
    "    else:\n",
    "        return -1\n",
    "              \n",
    "    return C[i][0] \n",
    "\n",
    "@timer    \n",
    "def two_sum_binary_search(A, s):\n",
    "    B = zip(range(len(A)), A)\n",
    "    C = sorted(B, key = lambda x: x[1])\n",
    "    for p in range(len(C)):\n",
    "        search_result = binary_search(C, s - C[p][1])\n",
    "        if search_result != -1:\n",
    "            return C[p][0], search_result\n",
    "    return -1, -1"
   ]
  },
  {
   "cell_type": "code",
   "execution_count": 5,
   "metadata": {},
   "outputs": [
    {
     "name": "stdout",
     "output_type": "stream",
     "text": [
      "Running time for function two_sum_binary_search is 0.04984998703\n"
     ]
    },
    {
     "data": {
      "text/plain": [
       "(9998, 9999)"
      ]
     },
     "execution_count": 5,
     "metadata": {},
     "output_type": "execute_result"
    }
   ],
   "source": [
    "two_sum_binary_search(A, target_sum)"
   ]
  },
  {
   "cell_type": "markdown",
   "metadata": {},
   "source": [
    "https://stackoverflow.com/questions/513882/python-list-vs-dict-for-look-up-table"
   ]
  },
  {
   "cell_type": "code",
   "execution_count": 6,
   "metadata": {
    "collapsed": true
   },
   "outputs": [],
   "source": [
    "# dictionary expensive lookup \n",
    "\n",
    "@timer\n",
    "def two_sum_dict_expensive(A, s): # allows repeated indices\n",
    "    A_dict = {}\n",
    "\n",
    "    for i in range(len(A)):\n",
    "        A_dict[A[i]] = A[i]\n",
    "    \n",
    "    keys = A_dict.keys()\n",
    "    for a in keys:\n",
    "        if s-a in keys:  # a bit expensive because it is a list lookup\n",
    "            return a, A_dict[s-a]\n",
    "    return -1, -1"
   ]
  },
  {
   "cell_type": "code",
   "execution_count": 7,
   "metadata": {},
   "outputs": [
    {
     "name": "stdout",
     "output_type": "stream",
     "text": [
      "Running time for function two_sum_dict_expensive is 1.19781088829\n"
     ]
    },
    {
     "data": {
      "text/plain": [
       "(9998, 9999)"
      ]
     },
     "execution_count": 7,
     "metadata": {},
     "output_type": "execute_result"
    }
   ],
   "source": [
    "two_sum_dict_expensive(A, target_sum)"
   ]
  },
  {
   "cell_type": "code",
   "execution_count": 8,
   "metadata": {
    "collapsed": true
   },
   "outputs": [],
   "source": [
    "# dictionary faster lookup\n",
    "\n",
    "@timer\n",
    "def two_sum_dict(A, s): # allows repeated indices\n",
    "    dict_A = dict()\n",
    "\n",
    "    for i in range(len(A)):\n",
    "        dict_A[A[i]] = A[i]\n",
    "    \n",
    "    keys = dict_A.keys()\n",
    "    for a in keys: \n",
    "        if s-a in dict_A: # this is dictionary look up so faster than list look up\n",
    "            return a, A[s-a]\n",
    "        \n",
    "    return -1, -1"
   ]
  },
  {
   "cell_type": "code",
   "execution_count": 6,
   "metadata": {
    "collapsed": true
   },
   "outputs": [],
   "source": [
    "# dictionary faster lookup\n",
    "\n",
    "@timer\n",
    "def two_sum_dict(A, s):\n",
    "    dict_A = dict()\n",
    "\n",
    "    for i in range(len(A)):\n",
    "        a = A[i]\n",
    "        dict_A[A[i]] = a\n",
    "        # dictionary faster lookup\n",
    "        if s-a in dict_A: # this is dictionary look up so faster than list look up\n",
    "            return a, A[s-a]\n",
    "        # avoids repeated indices\n"
   ]
  },
  {
   "cell_type": "code",
   "execution_count": 10,
   "metadata": {},
   "outputs": [
    {
     "name": "stdout",
     "output_type": "stream",
     "text": [
      "Running time for function two_sum_dict is 0.0189909934998\n"
     ]
    },
    {
     "data": {
      "text/plain": [
       "(99999, 99998)"
      ]
     },
     "execution_count": 10,
     "metadata": {},
     "output_type": "execute_result"
    }
   ],
   "source": [
    "N = 100000\n",
    "A = range(N)\n",
    "target = N + N - 3\n",
    "two_sum_dict(A, target)"
   ]
  },
  {
   "cell_type": "code",
   "execution_count": 11,
   "metadata": {
    "collapsed": true
   },
   "outputs": [],
   "source": [
    "# dictionary faster lookup\n",
    "\n",
    "@timer\n",
    "def two_sum_dict_(A, s):\n",
    "    dict_A = dict()\n",
    "\n",
    "    for i in range(len(A)):\n",
    "        dict_A[A[i]] = A[i]\n",
    "    \n",
    "    keys = dict_A.keys()\n",
    "    for a in keys: \n",
    "        if s-a in dict_A: # this is dictionary look up so faster than list look up\n",
    "            return a, A[s-a]\n",
    "        \n",
    "    return -1, -1"
   ]
  },
  {
   "cell_type": "code",
   "execution_count": 12,
   "metadata": {
    "collapsed": true
   },
   "outputs": [],
   "source": [
    "@timer\n",
    "def two_sum_set(A, target):\n",
    "    seen = set()\n",
    "    for i in range(len(A)):\n",
    "        if target-A[i] in seen:\n",
    "            return True\n",
    "        else:\n",
    "            seen.add(A[i])\n",
    "                   \n",
    "    return False    "
   ]
  },
  {
   "cell_type": "code",
   "execution_count": 13,
   "metadata": {},
   "outputs": [
    {
     "name": "stdout",
     "output_type": "stream",
     "text": [
      "Running time for function two_sum_set is 0.0303571224213\n"
     ]
    },
    {
     "data": {
      "text/plain": [
       "True"
      ]
     },
     "execution_count": 13,
     "metadata": {},
     "output_type": "execute_result"
    }
   ],
   "source": [
    "two_sum_set(A, target)"
   ]
  },
  {
   "cell_type": "code",
   "execution_count": 12,
   "metadata": {},
   "outputs": [
    {
     "name": "stdout",
     "output_type": "stream",
     "text": [
      "7.20024108887e-05\n",
      "9.29832458496e-05\n"
     ]
    }
   ],
   "source": [
    "# digression\n",
    "# which one is faster sorting dict or list\n",
    "D = dict()\n",
    "L = []\n",
    "n = 1000\n",
    "import random\n",
    "\n",
    "for i in range(n):\n",
    "    D[n-i] = i\n",
    "    L.append(n-i)\n",
    "    \n",
    "    \n",
    "    \n",
    "import time\n",
    "start = time.time()\n",
    "sorted(L)\n",
    "end = time.time()\n",
    "print end-start\n",
    "\n",
    "start = time.time()\n",
    "sorted(D)\n",
    "end= time.time()\n",
    "print end-start\n",
    "\n",
    "    "
   ]
  },
  {
   "cell_type": "code",
   "execution_count": 37,
   "metadata": {},
   "outputs": [
    {
     "data": {
      "text/plain": [
       "{1, 3}"
      ]
     },
     "execution_count": 37,
     "metadata": {},
     "output_type": "execute_result"
    }
   ],
   "source": [
    "s = set([1,2,3])\n",
    "s.discard(2)\n",
    "s.isdisjoint(set([3,4,5]))\n",
    "a = set([1,2])\n",
    "b = set([2, 3])\n",
    "a.union(b)\n",
    "a.update(b)\n",
    "a.update(set([1, 111,222, 333]))\n",
    "a.intersection(s)\n",
    "# a"
   ]
  },
  {
   "cell_type": "markdown",
   "metadata": {},
   "source": [
    "def two_sum_cool(A, target_sum): # A is sorted\n",
    "    # invariant: the two indices (if exist) must in in [lowest, highest]\n",
    "    lowest_index = 0\n",
    "    highest_index = len(A) - 1\n",
    "    \n",
    "    while lowest_index < highest_index:\n",
    "          candidate_sum = A[lowest_index] + A[highest_index]\n",
    "          if candidate_sum == target_sum:\n",
    "              return lowest_index, highest_index\n",
    "          if candidate_sum >  target_sum: # highest_index can be decreased\n",
    "              highest_index = highest_index - 1\n",
    "          if candidate_sum < target_sum:  # lowest_index can be increased\n",
    "              lowest_index = lowest_index + 1\n",
    "              \n",
    "    return None, None           "
   ]
  },
  {
   "cell_type": "code",
   "execution_count": 16,
   "metadata": {
    "collapsed": true
   },
   "outputs": [],
   "source": [
    "from time import time\n",
    "@timer\n",
    "def two_sum_cool(A, target_sum): # A is sorted\n",
    "    # invariant: the two indices (if exist) must in in [lowest, highest]\n",
    "    lowest_index = 0\n",
    "    highest_index = len(A) - 1\n",
    "    \n",
    "    while lowest_index < highest_index:\n",
    "            candidate_sum = A[lowest_index] + A[highest_index]\n",
    "            if candidate_sum == target_sum:\n",
    "                  return lowest_index, highest_index\n",
    "            if candidate_sum >  target_sum: # highest_index can be decreased\n",
    "                  highest_index = highest_index - 1\n",
    "            if candidate_sum < target_sum:  # lowest_index can be increased\n",
    "                  lowest_index = lowest_index + 1\n",
    "              \n",
    "    return None, None       "
   ]
  },
  {
   "cell_type": "code",
   "execution_count": 38,
   "metadata": {},
   "outputs": [
    {
     "name": "stdout",
     "output_type": "stream",
     "text": [
      "Running time for function two_sum_cool is 0.01478099823\n"
     ]
    },
    {
     "data": {
      "text/plain": [
       "(99998, 99999)"
      ]
     },
     "execution_count": 38,
     "metadata": {},
     "output_type": "execute_result"
    }
   ],
   "source": [
    "two_sum_cool(A, target_sum)"
   ]
  },
  {
   "cell_type": "code",
   "execution_count": 35,
   "metadata": {
    "collapsed": true
   },
   "outputs": [],
   "source": [
    "# using better if else and elif\n",
    "\n",
    "from time import time\n",
    "@timer\n",
    "def two_sum_elif(A, target_sum): # A is sorted\n",
    "    # invariant: the two indices (if exist) must in in [lowest, highest]\n",
    "    lowest_index = 0\n",
    "    highest_index = len(A) - 1\n",
    "    \n",
    "    while lowest_index < highest_index:\n",
    "            candidate_sum = A[lowest_index] + A[highest_index]\n",
    "            if candidate_sum == target_sum:\n",
    "                  return lowest_index, highest_index\n",
    "            elif candidate_sum >  target_sum: # highest_index can be decreased\n",
    "                  highest_index = highest_index - 1\n",
    "            else: # candidate_sum < target_sum:  # lowest_index can be increased\n",
    "                  lowest_index = lowest_index + 1\n",
    "              \n",
    "    return None, None "
   ]
  },
  {
   "cell_type": "code",
   "execution_count": 39,
   "metadata": {},
   "outputs": [
    {
     "name": "stdout",
     "output_type": "stream",
     "text": [
      "Running time for function two_sum_elif is 0.0161600112915\n"
     ]
    },
    {
     "data": {
      "text/plain": [
       "(99998, 99999)"
      ]
     },
     "execution_count": 39,
     "metadata": {},
     "output_type": "execute_result"
    }
   ],
   "source": [
    "two_sum_elif(A, target_sum)"
   ]
  },
  {
   "cell_type": "code",
   "execution_count": 7,
   "metadata": {
    "collapsed": true
   },
   "outputs": [],
   "source": [
    "@timer\n",
    "def two_sum_string(A, target):\n",
    "    low = 0\n",
    "    high = len(A) - 1\n",
    "    \n",
    "    while low < high:\n",
    "        current = A[low] + A[high]\n",
    "        if current == target:\n",
    "            return low, high\n",
    "        if current > target:\n",
    "            high = high - 1\n",
    "        else: \n",
    "            low = low + 1\n",
    "            \n",
    "    return -1, -1        "
   ]
  },
  {
   "cell_type": "code",
   "execution_count": 8,
   "metadata": {},
   "outputs": [
    {
     "name": "stdout",
     "output_type": "stream",
     "text": [
      "Running time for function two_sum_string is 1.90734863281e-06\n"
     ]
    },
    {
     "data": {
      "text/plain": [
       "(0, 4)"
      ]
     },
     "execution_count": 8,
     "metadata": {},
     "output_type": "execute_result"
    }
   ],
   "source": [
    "A = ['a', 'aa', 'b', 'bb', 'c', 'cc']\n",
    "target = 'ac'\n",
    "\n",
    "two_sum_string(A, target)"
   ]
  },
  {
   "cell_type": "code",
   "execution_count": 12,
   "metadata": {
    "collapsed": true
   },
   "outputs": [],
   "source": [
    "# when A is not sorted\n",
    "A = ['z', 'zz', 'a', 'aa', 'b', 'bb', 'c', 'cc', 'x', 'xx']\n",
    "\n",
    "target = 'ac'\n",
    "\n",
    "def unsorted_two_sum(A, target):\n",
    "    A_indexed = zip(range(len(A)), A)\n",
    "    \n",
    "    A_indexed_sorted = sorted(A_indexed, key=lambda x: x[1])\n",
    "    \n",
    "    def get_original_index(i):\n",
    "        return A_indexed_sorted[i][0]\n",
    "    \n",
    "    i, j = two_sum_string(sorted(A), target)\n",
    "    \n",
    "    return get_original_index(i), get_original_index(j)"
   ]
  },
  {
   "cell_type": "code",
   "execution_count": 13,
   "metadata": {},
   "outputs": [
    {
     "name": "stdout",
     "output_type": "stream",
     "text": [
      "Running time for function two_sum_string is 2.86102294922e-06\n"
     ]
    },
    {
     "data": {
      "text/plain": [
       "(2, 6)"
      ]
     },
     "execution_count": 13,
     "metadata": {},
     "output_type": "execute_result"
    }
   ],
   "source": [
    "unsorted_two_sum(A, target)"
   ]
  },
  {
   "cell_type": "code",
   "execution_count": 5,
   "metadata": {
    "collapsed": true
   },
   "outputs": [],
   "source": [
    "na = None\n",
    "na = None\n",
    "def two_sum_daily(A, k):\n",
    "    A = sorted(A)\n",
    "    \n",
    "    low = 0\n",
    "    high = len(A) - 1\n",
    "\n",
    "    while low < high:\n",
    "        if A[low] + A[high] == k:\n",
    "            return A[low], A[high]\n",
    "        if A[low] + A[high] > k:\n",
    "            high = high - 1\n",
    "        if A[low] + A[high] < k:\n",
    "            low = low + 1\n",
    "            \n",
    "    return na, na        "
   ]
  },
  {
   "cell_type": "code",
   "execution_count": 6,
   "metadata": {},
   "outputs": [
    {
     "data": {
      "text/plain": [
       "(4, 5)"
      ]
     },
     "execution_count": 6,
     "metadata": {},
     "output_type": "execute_result"
    }
   ],
   "source": [
    "two_sum_daily([1,2,3,4,5], 9)"
   ]
  },
  {
   "cell_type": "code",
   "execution_count": 7,
   "metadata": {
    "collapsed": true
   },
   "outputs": [],
   "source": [
    "def two_sum(A, k):\n",
    "    prefix = set()\n",
    "    for a in A:\n",
    "        if k-a in prefix:\n",
    "            return True\n",
    "        prefix.add(a)\n",
    "    return False     "
   ]
  },
  {
   "cell_type": "code",
   "execution_count": 12,
   "metadata": {},
   "outputs": [
    {
     "data": {
      "text/plain": [
       "True"
      ]
     },
     "execution_count": 12,
     "metadata": {},
     "output_type": "execute_result"
    }
   ],
   "source": [
    "two_sum([1,2,3,4,5], 8)"
   ]
  },
  {
   "cell_type": "markdown",
   "metadata": {},
   "source": [
    "# Longest substring without repeating characters\n",
    "\n",
    "Given a string, find the length of the longest substring without repeating characters.\n",
    "\n",
    "Examples:\n",
    "\n",
    "Given \"abcabcbb\", the answer is \"abc\", which the length is 3.\n",
    "\n",
    "Given \"bbbbb\", the answer is \"b\", with the length of 1.\n",
    "\n",
    "Given \"pwwkew\", the answer is \"wke\", with the length of 3. Note that the answer must be a substring, \"pwke\" is a subsequence and not a substring."
   ]
  },
  {
   "cell_type": "code",
   "execution_count": 21,
   "metadata": {
    "collapsed": true
   },
   "outputs": [],
   "source": [
    "def is_nonrep(s):\n",
    "    ss = sorted(s)\n",
    "    if len(ss) == 1:\n",
    "        return True\n",
    "    for i in range(len(ss) - 1):\n",
    "        if ss[i] == ss[i+1]:\n",
    "            return False\n",
    "    return True     "
   ]
  },
  {
   "cell_type": "code",
   "execution_count": 22,
   "metadata": {},
   "outputs": [
    {
     "data": {
      "text/plain": [
       "True"
      ]
     },
     "execution_count": 22,
     "metadata": {},
     "output_type": "execute_result"
    }
   ],
   "source": [
    "is_nonrep('1234')"
   ]
  },
  {
   "cell_type": "code",
   "execution_count": 23,
   "metadata": {
    "collapsed": true
   },
   "outputs": [],
   "source": [
    "@timer\n",
    "def longest_nonrep_substring_brute_force(s):  # O(n^3 log n)\n",
    "    max_len = 0\n",
    "    for i in range(len(s)):\n",
    "        for j in range(len(s)):\n",
    "            if is_nonrep(s[i: j]):\n",
    "                if j-i > max_len:\n",
    "                    max_len = j-i\n",
    "    return max_len        \n",
    "    "
   ]
  },
  {
   "cell_type": "code",
   "execution_count": 28,
   "metadata": {},
   "outputs": [
    {
     "name": "stdout",
     "output_type": "stream",
     "text": [
      "Running time for function longest_nonrep_substring_brute_force is 0.000425100326538\n"
     ]
    },
    {
     "data": {
      "text/plain": [
       "5"
      ]
     },
     "execution_count": 28,
     "metadata": {},
     "output_type": "execute_result"
    }
   ],
   "source": [
    "longest_nonrep_substring_brute_force('11111111123452')"
   ]
  },
  {
   "cell_type": "code",
   "execution_count": 25,
   "metadata": {
    "collapsed": true
   },
   "outputs": [],
   "source": [
    "def last(s, i):\n",
    "    if i == 0:\n",
    "        return -1\n",
    "    \n",
    "    j = i-1\n",
    "    while j >= 0:\n",
    "        if s[j] == s[i]:\n",
    "            return j\n",
    "        j = j - 1\n",
    "        \n",
    "    return -1    \n",
    "    \n",
    "# pi[i] = length of longest nonrep substring ending in s[i]\n",
    "# last(i) = index of last occurrence of s[i] in s[:i-1] \n",
    "# pi[i+1] = if last(i+1) < i - pi[i] then 1 + pi[i] else i+1 - last(i+1)     \n",
    "@timer\n",
    "def longest_nonrep_substring_simple_dp(s):  # O(n^2)\n",
    "    pi = []\n",
    "    \n",
    "    for i in range(len(s)):\n",
    "        pi.append(1)\n",
    "        \n",
    "    for i in range(len(s)-1):\n",
    "        lst = last(s, i+1)\n",
    "        if lst < i - pi[i]:\n",
    "            pi[i+1] = 1 + pi[i]\n",
    "        else:\n",
    "            pi[i+1] = i+1 - lst\n",
    "            \n",
    "    pi_max = 0   \n",
    "    i_max = -1\n",
    "    for i in range(len(s)):\n",
    "        if pi[i] > pi_max:\n",
    "            pi_max = pi[i]\n",
    "            i_max = i\n",
    "            \n",
    "            \n",
    "    return pi_max, i_max       "
   ]
  },
  {
   "cell_type": "code",
   "execution_count": 26,
   "metadata": {},
   "outputs": [
    {
     "name": "stdout",
     "output_type": "stream",
     "text": [
      "Running time for function longest_nonrep_substring_simple_dp is 0.000123023986816\n"
     ]
    },
    {
     "data": {
      "text/plain": [
       "(4, 8)"
      ]
     },
     "execution_count": 26,
     "metadata": {},
     "output_type": "execute_result"
    }
   ],
   "source": [
    "longest_nonrep_substring_simple_dp('11111123411112')"
   ]
  },
  {
   "cell_type": "markdown",
   "metadata": {},
   "source": [
    "# Median of two sorted arrays"
   ]
  },
  {
   "cell_type": "code",
   "execution_count": 152,
   "metadata": {
    "collapsed": true
   },
   "outputs": [],
   "source": [
    "A = [1, 2, 4, 6, 8, 10]\n",
    "B = [5, 6, 7, 8, 9, 10]\n",
    "\n",
    "def find_rank_k(A, B, k):\n",
    "    \n",
    "    a_i = 0\n",
    "    a_j = len(A) - 1\n",
    "    b_i = 0\n",
    "    b_j = len(B) - 1\n",
    "    \n",
    "    a_mid = (a_i + a_j) // 2\n",
    "    b_mid = (b_i + b_j) // 2\n",
    "    \n",
    "\n",
    "    if len(A) == 0:\n",
    "        return B[k]\n",
    "    if len(B) == 0:\n",
    "        return A[k]\n",
    "    \n",
    "        \n",
    "    if A[a_mid] <= B[b_mid]:\n",
    "        if k <= a_mid + b_mid:\n",
    "            return find_rank_k(A, B[:b_mid], k)\n",
    "        if k > a_mid + b_mid:\n",
    "            return find_rank_k(A[a_mid + 1:], B, k - a_mid - 1 )\n",
    "            \n",
    "    if A[a_mid] > B[b_mid]:\n",
    "        \n",
    "        if k <= a_mid + b_mid: \n",
    "            return find_rank_k(A[:a_mid], B, k)\n",
    "        if k > a_mid + b_mid:\n",
    "            return find_rank_k(A, B[b_mid + 1:], k - b_mid - 1)\n",
    "            \n",
    "    return \"WEIRD!!!\"   \n",
    "            \n",
    "    "
   ]
  },
  {
   "cell_type": "code",
   "execution_count": 1,
   "metadata": {},
   "outputs": [
    {
     "ename": "NameError",
     "evalue": "name 'find_rank_k' is not defined",
     "output_type": "error",
     "traceback": [
      "\u001b[0;31m---------------------------------------------------------------------------\u001b[0m",
      "\u001b[0;31mNameError\u001b[0m                                 Traceback (most recent call last)",
      "\u001b[0;32m<ipython-input-1-6b28501a238f>\u001b[0m in \u001b[0;36m<module>\u001b[0;34m()\u001b[0m\n\u001b[1;32m      3\u001b[0m \u001b[0;34m\u001b[0m\u001b[0m\n\u001b[1;32m      4\u001b[0m \u001b[0;32mfor\u001b[0m \u001b[0mi\u001b[0m \u001b[0;32min\u001b[0m \u001b[0mrange\u001b[0m\u001b[0;34m(\u001b[0m\u001b[0;36m120\u001b[0m\u001b[0;34m)\u001b[0m\u001b[0;34m:\u001b[0m\u001b[0;34m\u001b[0m\u001b[0m\n\u001b[0;32m----> 5\u001b[0;31m     \u001b[0mfind_rank_k\u001b[0m\u001b[0;34m(\u001b[0m\u001b[0mA\u001b[0m\u001b[0;34m,\u001b[0m \u001b[0mB\u001b[0m\u001b[0;34m,\u001b[0m \u001b[0mi\u001b[0m\u001b[0;34m)\u001b[0m\u001b[0;34m\u001b[0m\u001b[0m\n\u001b[0m",
      "\u001b[0;31mNameError\u001b[0m: name 'find_rank_k' is not defined"
     ]
    }
   ],
   "source": [
    "A = range(100)\n",
    "B = range(30, 400)\n",
    "\n",
    "for i in range(120):\n",
    "    find_rank_k(A, B, i)"
   ]
  },
  {
   "cell_type": "markdown",
   "metadata": {},
   "source": [
    "# Longest palindromic substring\n",
    "Algorithms on strings, trees, and sequences\n",
    "\n",
    "https://doc.lagout.org/science/0_Computer%20Science/2_Algorithms/Algorithms%20on%20Strings%2C%20Trees%2C%20and%20Sequences%20%5BGusfield%201997-05-28%5D.pdf"
   ]
  },
  {
   "cell_type": "code",
   "execution_count": 238,
   "metadata": {
    "collapsed": true
   },
   "outputs": [],
   "source": [
    "def is_pal(s):\n",
    "    i = 0\n",
    "    j = len(s) - 1\n",
    "    \n",
    "    if len(s) <= 1:\n",
    "        return True\n",
    "    \n",
    "    while s[i] == s[j] and i <= j:\n",
    "        i = i + 1\n",
    "        j = j - 1\n",
    "        \n",
    "    if i < j:\n",
    "        return False\n",
    "    else:\n",
    "        return True\n",
    "    \n",
    "def longest_pal_cubic(s):   # O(n^3)\n",
    "    pal_max = 0\n",
    "    for i in range(len(s)):\n",
    "        for j in range(i, len(s)):\n",
    "            if is_pal(s[i:j]):\n",
    "                pal_max = max(pal_max, j-i)\n",
    "                \n",
    "    return pal_max             "
   ]
  },
  {
   "cell_type": "code",
   "execution_count": 239,
   "metadata": {},
   "outputs": [
    {
     "data": {
      "text/plain": [
       "True"
      ]
     },
     "execution_count": 239,
     "metadata": {},
     "output_type": "execute_result"
    }
   ],
   "source": [
    "is_pal(\"12321\")"
   ]
  },
  {
   "cell_type": "code",
   "execution_count": 240,
   "metadata": {},
   "outputs": [
    {
     "data": {
      "text/plain": [
       "5"
      ]
     },
     "execution_count": 240,
     "metadata": {},
     "output_type": "execute_result"
    }
   ],
   "source": [
    "longest_pal(\"010112321876\")"
   ]
  },
  {
   "cell_type": "code",
   "execution_count": 243,
   "metadata": {
    "collapsed": true
   },
   "outputs": [],
   "source": [
    "def longest_pal_quadratic(s): # O(n^2)\n",
    "    n = len(s)\n",
    "    pal_max = 0\n",
    "    for i in range(n):\n",
    "        c = -1\n",
    "        for j in range(min(i+1, n-i)):\n",
    "            \n",
    "            if s[i-j] != s[i+j]:\n",
    "                break\n",
    "                \n",
    "            c = c + 2    \n",
    "            \n",
    "        if c > pal_max:\n",
    "            pal_max = c\n",
    "        \n",
    "        d = 0\n",
    "        for j in range(min(i+1, n-i-1)):\n",
    "            if s[i-j] != s[i+j+1]:\n",
    "                break\n",
    "            d = d + 2    \n",
    "        if d > pal_max:\n",
    "            pal_max = d\n",
    "            \n",
    "        #print i, c, d, pal_max    \n",
    "                \n",
    "    return pal_max            \n",
    "                "
   ]
  },
  {
   "cell_type": "code",
   "execution_count": 244,
   "metadata": {},
   "outputs": [
    {
     "data": {
      "text/plain": [
       "6"
      ]
     },
     "execution_count": 244,
     "metadata": {},
     "output_type": "execute_result"
    }
   ],
   "source": [
    "longest_pal_quadratic(\"0101123321786\")"
   ]
  },
  {
   "cell_type": "markdown",
   "metadata": {},
   "source": [
    "# Zig-zag conversion\n",
    "\n",
    "The string \"PAYPALISHIRING\" is written in a zigzag pattern on a given number of rows like this: (you may want to display this pattern in a fixed font for better legibility)\n",
    "\n",
    "P   A   H   N\n",
    "A P L S I I G\n",
    "Y   I   R"
   ]
  },
  {
   "cell_type": "code",
   "execution_count": 245,
   "metadata": {
    "collapsed": true
   },
   "outputs": [],
   "source": [
    "def zigzag(s): # 3 rows\n",
    "    s0 = \"\"\n",
    "    s1_3 = \"\"\n",
    "    s2 = \"\"\n",
    "    for i in range(len(s)):\n",
    "        if i % 4 == 0:\n",
    "            s0 = s0 + s[i]\n",
    "        if i % 4 == 1 or i % 4 == 3:\n",
    "            s1_3 = s1_3 + s[i]\n",
    "        if i % 4 == 2:\n",
    "            s2 = s2 + s[i]\n",
    "            \n",
    "    return s0 + s1_3 + s2        "
   ]
  },
  {
   "cell_type": "code",
   "execution_count": 246,
   "metadata": {},
   "outputs": [
    {
     "data": {
      "text/plain": [
       "'PAHNAPLSIIGYIR'"
      ]
     },
     "execution_count": 246,
     "metadata": {},
     "output_type": "execute_result"
    }
   ],
   "source": [
    "zigzag(\"PAYPALISHIRING\")"
   ]
  },
  {
   "cell_type": "markdown",
   "metadata": {},
   "source": [
    "# Reverse integer\n",
    "Given a 32-bit signed integer, reverse digits of an integer.\n",
    "\n",
    "Input: 123 Output: 321\n",
    "\n",
    "Input: -123 Output: -321\n",
    "\n",
    "Input: 120 Output: 21\n",
    "\n",
    "\n"
   ]
  },
  {
   "cell_type": "code",
   "execution_count": 250,
   "metadata": {
    "collapsed": true
   },
   "outputs": [],
   "source": [
    "def rev_int(a):\n",
    "    if str(a)[0] == '-':\n",
    "        return -int(str(-a)[::-1])\n",
    "    else:\n",
    "        return int(str(a)[::-1])\n"
   ]
  },
  {
   "cell_type": "code",
   "execution_count": 249,
   "metadata": {},
   "outputs": [
    {
     "name": "stdout",
     "output_type": "stream",
     "text": [
      "321\n",
      "-321\n",
      "21\n"
     ]
    }
   ],
   "source": [
    "print rev_int(123)\n",
    "print rev_int(-123)\n",
    "print rev_int(120)"
   ]
  },
  {
   "cell_type": "code",
   "execution_count": 117,
   "metadata": {
    "collapsed": true
   },
   "outputs": [],
   "source": [
    "def reverse_digits(x):\n",
    "    if x < 0:\n",
    "        return -(reverse_digits(-x))\n",
    "    \n",
    "    suffix_reverse = 0\n",
    "    \n",
    "    prefix = x\n",
    "    while prefix:\n",
    "        last_digit = prefix % 10\n",
    "        prefix = (prefix - last_digit)/10\n",
    "        suffix_reverse = 10*suffix_reverse + last_digit \n",
    "        \n",
    "    return suffix_reverse    "
   ]
  },
  {
   "cell_type": "code",
   "execution_count": 119,
   "metadata": {},
   "outputs": [
    {
     "data": {
      "text/plain": [
       "-321"
      ]
     },
     "execution_count": 119,
     "metadata": {},
     "output_type": "execute_result"
    }
   ],
   "source": [
    "reverse_digits(-123)"
   ]
  },
  {
   "cell_type": "markdown",
   "metadata": {},
   "source": [
    "# String to integer"
   ]
  },
  {
   "cell_type": "code",
   "execution_count": 257,
   "metadata": {
    "collapsed": true
   },
   "outputs": [],
   "source": [
    "def stringtoint(s): # only positive integers \n",
    "    x = 0\n",
    "    for i in range(len(s)):\n",
    "        x = 10 * x + int(s[i])\n",
    "        \n",
    "    return x    \n",
    "        "
   ]
  },
  {
   "cell_type": "code",
   "execution_count": 256,
   "metadata": {},
   "outputs": [
    {
     "data": {
      "text/plain": [
       "124"
      ]
     },
     "execution_count": 256,
     "metadata": {},
     "output_type": "execute_result"
    }
   ],
   "source": [
    "stringtoint(\"124\")"
   ]
  },
  {
   "cell_type": "markdown",
   "metadata": {},
   "source": [
    "# Palindrome integer\n",
    "Determine whether an integer is a palindrome. Do this without extra space."
   ]
  },
  {
   "cell_type": "code",
   "execution_count": 258,
   "metadata": {
    "collapsed": true
   },
   "outputs": [],
   "source": [
    "def is_palindrome_recursive(s):\n",
    "    s = str(s)\n",
    "    if len(s) <= 1:\n",
    "        return True\n",
    "    else:\n",
    "        if s[0] == s[-1]:\n",
    "            return is_palindrome(s[1:-1])\n",
    "        else:\n",
    "            return False"
   ]
  },
  {
   "cell_type": "code",
   "execution_count": 261,
   "metadata": {},
   "outputs": [
    {
     "data": {
      "text/plain": [
       "True"
      ]
     },
     "execution_count": 261,
     "metadata": {},
     "output_type": "execute_result"
    }
   ],
   "source": [
    "is_palindrome(13231)"
   ]
  },
  {
   "cell_type": "code",
   "execution_count": 259,
   "metadata": {
    "collapsed": true
   },
   "outputs": [],
   "source": [
    "def is_palindrome_without_extra_space(s):\n",
    "    s = str(s)\n",
    "    i = 0\n",
    "    j = len(s) - 1\n",
    "    while i < j:\n",
    "        if s[i] == s[j]:\n",
    "            i = i + 1\n",
    "            j = j - 1\n",
    "        else:\n",
    "            return False\n",
    "    return True     "
   ]
  },
  {
   "cell_type": "code",
   "execution_count": 260,
   "metadata": {},
   "outputs": [
    {
     "data": {
      "text/plain": [
       "True"
      ]
     },
     "execution_count": 260,
     "metadata": {},
     "output_type": "execute_result"
    }
   ],
   "source": [
    "is_palindrome_without_extra_space(12321)"
   ]
  },
  {
   "cell_type": "markdown",
   "metadata": {},
   "source": [
    "# Implement regular expression matching with support for '.' and '*'.\n",
    "'.' Matches any single character.\n",
    "'*' Matches zero or more of the preceding element.\n",
    "\n",
    "The matching should cover the entire input string (not partial).\n",
    "\n",
    "The function prototype should be:\n",
    "bool isMatch(const char *s, const char *p)\n",
    "\n",
    "Some examples:\n",
    "- isMatch(\"aa\",\"a\") → false\n",
    "- isMatch(\"aa\",\"aa\") → true\n",
    "- isMatch(\"aaa\",\"aa\") → false\n",
    "- isMatch(\"aa\", \"a*\") → true\n",
    "- isMatch(\"aa\", \".*\") → true\n",
    "- isMatch(\"ab\", \".*\") → true\n",
    "- isMatch(\"cab\", \"c * a * b\") → true"
   ]
  },
  {
   "cell_type": "code",
   "execution_count": 279,
   "metadata": {
    "collapsed": true
   },
   "outputs": [],
   "source": [
    "def isMatch(s, r):  # s: string, r: regex  # worst case complexity is exponential\n",
    "    print s, r\n",
    "    if r == '*':\n",
    "        return True\n",
    "    \n",
    "    if len(s) == 0 and len(r) == 0:\n",
    "        return True\n",
    "    if len(s) > 0 and len(r) == 0:\n",
    "        return False\n",
    "    \n",
    "    if r[0] == '.':\n",
    "        return isMatch(s[1:], r[1:])\n",
    "    if r[0] != '*': # and r[0] != '.'\n",
    "        if r[0] == s[0]:\n",
    "            return isMatch(s[1:], r[1:])\n",
    "        else:\n",
    "            return False\n",
    "    else: # r[0] == '*'     \n",
    "        for i in range(len(s)+1):\n",
    "            if isMatch(s[i:], r[1:]):\n",
    "                return True\n",
    "        return False    \n",
    "    "
   ]
  },
  {
   "cell_type": "code",
   "execution_count": 275,
   "metadata": {},
   "outputs": [
    {
     "name": "stdout",
     "output_type": "stream",
     "text": [
      "aaa a*\n",
      "aa *\n"
     ]
    },
    {
     "data": {
      "text/plain": [
       "True"
      ]
     },
     "execution_count": 275,
     "metadata": {},
     "output_type": "execute_result"
    }
   ],
   "source": [
    "isMatch(\"aaa\", \"a*\")"
   ]
  },
  {
   "cell_type": "code",
   "execution_count": 276,
   "metadata": {},
   "outputs": [
    {
     "name": "stdout",
     "output_type": "stream",
     "text": [
      "ab .*\n",
      "b *\n"
     ]
    },
    {
     "data": {
      "text/plain": [
       "True"
      ]
     },
     "execution_count": 276,
     "metadata": {},
     "output_type": "execute_result"
    }
   ],
   "source": [
    "isMatch(\"ab\", \".*\")"
   ]
  },
  {
   "cell_type": "code",
   "execution_count": 278,
   "metadata": {},
   "outputs": [
    {
     "name": "stdout",
     "output_type": "stream",
     "text": [
      "cab c*a*b\n",
      "ab *a*b\n",
      "ab a*b\n",
      "b *b\n",
      "b b\n",
      " \n"
     ]
    },
    {
     "data": {
      "text/plain": [
       "True"
      ]
     },
     "execution_count": 278,
     "metadata": {},
     "output_type": "execute_result"
    }
   ],
   "source": [
    "isMatch(\"cab\", \"c*a*b\")"
   ]
  },
  {
   "cell_type": "markdown",
   "metadata": {},
   "source": [
    "# Container with most water\n",
    "\n",
    "Given n non-negative integers a1, a2, ..., an, where each represents a point at coordinate (i, ai). n vertical lines are drawn such that the two endpoints of line i is at (i, ai) and (i, 0). Find two lines, which together with x-axis forms a container, such that the container contains the most water.\n",
    "\n",
    "Note: You may not slant the container and n is at least 2.\n",
    "\n",
    "\n",
    "water = (t - s) x min ai for i in [s, s+1, ..., t] "
   ]
  },
  {
   "cell_type": "code",
   "execution_count": 335,
   "metadata": {
    "collapsed": true
   },
   "outputs": [],
   "source": [
    "def watermax(A):  # O(n^2)\n",
    "    C = []\n",
    "    for i in range(len(A)):\n",
    "        C.append([-1, -1])\n",
    "        \n",
    "    C[0] = [A[0], 1]    \n",
    "    \n",
    "    for i in range(len(A)-1):\n",
    "        h = A[i+1]\n",
    "        w = 1\n",
    "        \n",
    "        C[i+1][0] = h\n",
    "        C[i+1][1] = w\n",
    "        \n",
    "        j = i\n",
    "        while j >=0:\n",
    "            h = min(h, A[j])\n",
    "            w = w + 1\n",
    "            \n",
    "            if h * w > C[i+1][0] * C[i+1][1]:\n",
    "                C[i+1][0] = h\n",
    "                C[i+1][1] = w\n",
    "            j = j - 1\n",
    "            \n",
    "    w_max = 0\n",
    "    \n",
    "    for i in range(len(C)):\n",
    "        if C[i][0] * C[i][1] > w_max:\n",
    "            w_max = C[i][0] * C[i][1]\n",
    "    \n",
    "    return w_max       "
   ]
  },
  {
   "cell_type": "code",
   "execution_count": 336,
   "metadata": {},
   "outputs": [
    {
     "data": {
      "text/plain": [
       "500"
      ]
     },
     "execution_count": 336,
     "metadata": {},
     "output_type": "execute_result"
    }
   ],
   "source": [
    "watermax(range(10, 20) + range(20, 30) + range(20, 30) + range(10, 20) +  range(30, 40))"
   ]
  },
  {
   "cell_type": "code",
   "execution_count": 337,
   "metadata": {},
   "outputs": [
    {
     "data": {
      "text/plain": [
       "400"
      ]
     },
     "execution_count": 337,
     "metadata": {},
     "output_type": "execute_result"
    }
   ],
   "source": [
    "watermax(range(20, 30) + range(30, 40))"
   ]
  },
  {
   "cell_type": "markdown",
   "metadata": {},
   "source": [
    "# Integer to Roman"
   ]
  },
  {
   "cell_type": "code",
   "execution_count": null,
   "metadata": {
    "collapsed": true
   },
   "outputs": [],
   "source": []
  },
  {
   "cell_type": "markdown",
   "metadata": {},
   "source": [
    "# Roman to Integer"
   ]
  },
  {
   "cell_type": "code",
   "execution_count": null,
   "metadata": {
    "collapsed": true
   },
   "outputs": [],
   "source": []
  },
  {
   "cell_type": "markdown",
   "metadata": {},
   "source": [
    "# Longest common prefix\n",
    "Write a function to find the longest common prefix string amongst an array of strings"
   ]
  },
  {
   "cell_type": "code",
   "execution_count": 352,
   "metadata": {
    "collapsed": true
   },
   "outputs": [],
   "source": [
    "def is_extendible(string_list, prefix_len):\n",
    "    temp_list = []\n",
    "    for i in range(len(string_list)):\n",
    "        if len(string_list[i]) <= prefix_len:\n",
    "            return False\n",
    "        else:\n",
    "            temp_list.append(string_list[i][prefix_len])\n",
    "     \n",
    "    if len(temp_list) < len(string_list):\n",
    "        return False\n",
    "    \n",
    "    a = temp_list[0]\n",
    "    for b in temp_list[1:]:\n",
    "        if b != a:\n",
    "            return False\n",
    "        \n",
    "    return True    \n",
    "            \n",
    "               \n",
    "            \n",
    "def longest_common_prefix(string_list):\n",
    "    if len(string_list) == 0:\n",
    "        return 0\n",
    "    \n",
    "    prefix_len = 0\n",
    "    \n",
    "    while is_extendible(string_list, prefix_len):\n",
    "        prefix_len = prefix_len + 1\n",
    "    \n",
    "            \n",
    "    return prefix_len         "
   ]
  },
  {
   "cell_type": "code",
   "execution_count": 353,
   "metadata": {},
   "outputs": [
    {
     "data": {
      "text/plain": [
       "5"
      ]
     },
     "execution_count": 353,
     "metadata": {},
     "output_type": "execute_result"
    }
   ],
   "source": [
    "longest_common_prefix(['aabccccc', 'aabccde'])"
   ]
  },
  {
   "cell_type": "markdown",
   "metadata": {},
   "source": [
    "# Three-sum\n",
    "Given an array S of n integers, are there elements a, b, c in S such that a + b + c = 0? Find all unique triplets in the array which gives the sum of zero.\n",
    "\n",
    "Note: The solution set must not contain duplicate triplets.\n",
    "\n",
    "For example, given array S = [-1, 0, 1, 2, -1, -4],\n",
    "\n",
    "A solution set is:\n",
    "[\n",
    "  [-1, 0, 1],\n",
    "  [-1, -1, 2]\n",
    "]\n"
   ]
  },
  {
   "cell_type": "code",
   "execution_count": 424,
   "metadata": {
    "collapsed": true
   },
   "outputs": [],
   "source": [
    "def remove_dups(L): # O(n^2)\n",
    "    out_list = []\n",
    "    for item in L:\n",
    "        if item not in out_list:\n",
    "            out_list.append(item)\n",
    "    return out_list        \n",
    "        \n",
    "def three_sum_brute_force(S): # O(n^3 x L)  L = number of distinct solutions \n",
    "    out_list = []\n",
    "    for i in range(len(S)):\n",
    "        for j in range(i+1, len(S)):\n",
    "            for k in range(j+1, len(S)):\n",
    "                if S[i] + S[j] + S[k] == 0:\n",
    "                    ne = tuple(sorted([S[i], S[j], S[k]]))\n",
    "                    #out_list.append(ne)\n",
    "                    if ne not in out_list:\n",
    "                        out_list.append(ne)\n",
    "    return out_list                  \n",
    "    #return remove_dups(out_list) # O(n^3 + L^2)"
   ]
  },
  {
   "cell_type": "code",
   "execution_count": 423,
   "metadata": {},
   "outputs": [
    {
     "data": {
      "text/plain": [
       "[(-1, 0, 1), (-1, -1, 2)]"
      ]
     },
     "execution_count": 423,
     "metadata": {},
     "output_type": "execute_result"
    }
   ],
   "source": [
    "three_sum_brute_force([-1, 0, 1, 2, -1, -4])"
   ]
  },
  {
   "cell_type": "markdown",
   "metadata": {},
   "source": [
    "# Three-sum closest\n",
    "\n",
    "Given an array S of n integers, find three integers in S such that the sum is closest to a given number, target. Return the sum of the three integers. You may assume that each input would have exactly one solution.\n",
    "\n"
   ]
  },
  {
   "cell_type": "code",
   "execution_count": 444,
   "metadata": {
    "collapsed": true
   },
   "outputs": [],
   "source": [
    "import math\n",
    "def three_sum_target_brute_force(S, t): # O(n^3) \n",
    "    diff = Ellipsis\n",
    "    \n",
    "    for i in range(len(S)):\n",
    "        for j in range(i+1, len(S)):\n",
    "            for k in range(j+1, len(S)):\n",
    "                    new_diff = abs(S[i] + S[j] + S[k] - t) \n",
    "                    if new_diff < diff:\n",
    "                        diff = new_diff\n",
    "                        ne = [(S[i], S[j], S[k]), diff] \n",
    "    return ne                  "
   ]
  },
  {
   "cell_type": "code",
   "execution_count": 448,
   "metadata": {},
   "outputs": [
    {
     "data": {
      "text/plain": [
       "[(-1, 1, 2), 0.10000000000000009]"
      ]
     },
     "execution_count": 448,
     "metadata": {},
     "output_type": "execute_result"
    }
   ],
   "source": [
    "S = [-1, 0, 1, 2, -1, -4]\n",
    "three_sum_target_brute_force(S, 2.1)"
   ]
  },
  {
   "cell_type": "markdown",
   "metadata": {},
   "source": [
    "# Valid parenthesis\n",
    "\n",
    "Given a string containing just the characters '(', ')', '{', '}', '[' and ']', determine if the input string is valid.\n",
    "\n",
    "The brackets must close in the correct order, \"()\" and \"()[]{}\" are all valid but \"(]\" and \"([)]\" are not.\n",
    "\n"
   ]
  },
  {
   "cell_type": "code",
   "execution_count": 372,
   "metadata": {
    "collapsed": true
   },
   "outputs": [],
   "source": [
    "def is_oppo(a, b):\n",
    "    if (a == \"(\" and b == \")\") or (a == \"{\" and b == \"}\") or (a == \"[\" and b == \"]\"):\n",
    "        return True\n",
    "    else:\n",
    "        return False\n",
    "    \n",
    "def is_valid(par_string): # O(n)\n",
    "    stack = []\n",
    "    for par in par_string:\n",
    "        if par == '(' or par == '{' or par == '[':\n",
    "            stack.append(par)\n",
    "            \n",
    "        if par == ')' or par == '}' or par == ']':\n",
    "            if len(stack) == 0:\n",
    "                return False\n",
    "            \n",
    "            temp = stack.pop()\n",
    "            if not is_oppo(temp, par):\n",
    "                return False\n",
    "    return True        "
   ]
  },
  {
   "cell_type": "code",
   "execution_count": 360,
   "metadata": {},
   "outputs": [
    {
     "data": {
      "text/plain": [
       "False"
      ]
     },
     "execution_count": 360,
     "metadata": {},
     "output_type": "execute_result"
    }
   ],
   "source": [
    "is_valid(\"({})[(]\")"
   ]
  },
  {
   "cell_type": "code",
   "execution_count": 361,
   "metadata": {},
   "outputs": [
    {
     "data": {
      "text/plain": [
       "True"
      ]
     },
     "execution_count": 361,
     "metadata": {},
     "output_type": "execute_result"
    }
   ],
   "source": [
    "is_valid(\"({})[()]{()}\")"
   ]
  },
  {
   "cell_type": "markdown",
   "metadata": {},
   "source": [
    "# Longest valid parenthesis\n",
    "Given a string containing just the characters '(' and ')', find the length of the longest valid (well-formed) parentheses substring.\n",
    "\n",
    "For \"(()\", the longest valid parentheses substring is \"()\", which has length = 2.\n",
    "\n",
    "Another example is \")()())\", where the longest valid parentheses substring is \"()()\", which has length = 4.\n",
    "\n"
   ]
  },
  {
   "cell_type": "code",
   "execution_count": 370,
   "metadata": {
    "collapsed": true
   },
   "outputs": [],
   "source": [
    "def longest_valid(par_string): # O(n^3)\n",
    "    longest = 0\n",
    "    i_max = -1\n",
    "    j_max = -1\n",
    "    for i in range(len(par_string)):\n",
    "        for j in range(len(par_string)):\n",
    "            if is_valid(par_string[i:j]):\n",
    "                if j-i >= longest:\n",
    "                    longest = j - i\n",
    "                    i_max = i\n",
    "                    j_max = j\n",
    "                \n",
    "    return longest, i_max, j_max            "
   ]
  },
  {
   "cell_type": "code",
   "execution_count": 369,
   "metadata": {},
   "outputs": [
    {
     "data": {
      "text/plain": [
       "(4, 1, 5)"
      ]
     },
     "execution_count": 369,
     "metadata": {},
     "output_type": "execute_result"
    }
   ],
   "source": [
    "longest_valid(\")()())\")"
   ]
  },
  {
   "cell_type": "markdown",
   "metadata": {},
   "source": [
    "# Generate parenthesis"
   ]
  },
  {
   "cell_type": "code",
   "execution_count": 51,
   "metadata": {
    "collapsed": true
   },
   "outputs": [],
   "source": [
    "def add_paras(x_list):\n",
    "    if len(x_list) == 0:\n",
    "        return x_list\n",
    "    \n",
    "    out_list = []\n",
    "    \n",
    "    for x in x_list:\n",
    "        out_list.append(\"(\" + x + \")\")\n",
    "        \n",
    "    return out_list    \n",
    "\n",
    "def cross_add(A, B):\n",
    "    if len(A) == 0:\n",
    "        return B\n",
    "    if len(B) == 0:\n",
    "        return A\n",
    "    \n",
    "    out_list = []\n",
    "    for a in A:\n",
    "        for b in B:\n",
    "            out_list.append(a + b)\n",
    "            \n",
    "    return out_list        \n",
    "\n",
    "def gen_par(n): # n even\n",
    "    #print \"n =\" +str(n)\n",
    "    par_list = []\n",
    "    if n == 0:\n",
    "        #par_list.append(\"\")\n",
    "        return [\"\"]\n",
    "    \n",
    "    if n == 2:\n",
    "        par_list.append(\"()\")\n",
    "        return par_list\n",
    "    \n",
    "    par_list = []\n",
    "    for i in range(1, n+1):\n",
    "        if i % 2 == 0:\n",
    "            #print i\n",
    "            #print cross_add(add_paras(gen_par(i-2)),  gen_par(n-i))\n",
    "            par_list = par_list + cross_add(add_paras(gen_par(i-2)),  gen_par(n-i))\n",
    "    \n",
    "    return par_list\n",
    "        "
   ]
  },
  {
   "cell_type": "code",
   "execution_count": 50,
   "metadata": {},
   "outputs": [
    {
     "data": {
      "text/plain": [
       "['()()()()',\n",
       " '()()(())',\n",
       " '()(())()',\n",
       " '()(()())',\n",
       " '()((()))',\n",
       " '(())()()',\n",
       " '(())(())',\n",
       " '(()())()',\n",
       " '((()))()',\n",
       " '(()()())',\n",
       " '(()(()))',\n",
       " '((())())',\n",
       " '((()()))',\n",
       " '(((())))']"
      ]
     },
     "execution_count": 50,
     "metadata": {},
     "output_type": "execute_result"
    }
   ],
   "source": [
    "gen_par(8)"
   ]
  },
  {
   "cell_type": "markdown",
   "metadata": {},
   "source": [
    "# Pow(x, n)"
   ]
  },
  {
   "cell_type": "code",
   "execution_count": 52,
   "metadata": {
    "collapsed": true
   },
   "outputs": [],
   "source": [
    "def power_brute_force(x, n):\n",
    "    answer = 1\n",
    "    for i in range(n):\n",
    "        answer = x * answer\n",
    "    return answer    \n",
    "        "
   ]
  },
  {
   "cell_type": "code",
   "execution_count": 54,
   "metadata": {
    "collapsed": true
   },
   "outputs": [],
   "source": [
    "def power_recursive(x, n):\n",
    "    if n == 0:\n",
    "        return 1\n",
    "    if n == 1:\n",
    "        return x\n",
    "    if n % 2 == 0:\n",
    "        temp = power(x, n // 2)\n",
    "        return temp * temp\n",
    "    else:\n",
    "        return x * power(x, n-1)"
   ]
  },
  {
   "cell_type": "code",
   "execution_count": 60,
   "metadata": {},
   "outputs": [
    {
     "name": "stdout",
     "output_type": "stream",
     "text": [
      "10000000000000000000000000000000000000000000000000000000000000000000000000000000000000000000000000000\n",
      "0.000809192657471\n",
      "10000000000000000000000000000000000000000000000000000000000000000000000000000000000000000000000000000\n",
      "0.000150203704834\n"
     ]
    }
   ],
   "source": [
    "import time\n",
    "start = time.time()\n",
    "print power_brute_force(10, 100)\n",
    "end = time.time()\n",
    "print end-start\n",
    "start = time.time()\n",
    "print power_recursive(10, 100)\n",
    "end = time.time()\n",
    "print end-start"
   ]
  },
  {
   "cell_type": "code",
   "execution_count": 67,
   "metadata": {
    "collapsed": true
   },
   "outputs": [],
   "source": [
    "def power_nonrec(x, n): # works when n is a power of 2\n",
    "    if n == 0:\n",
    "        return 1\n",
    "    if n == 1:\n",
    "        return x\n",
    "    \n",
    "    answer = x\n",
    "    i = 1\n",
    "    while 2*i <= n:\n",
    "        answer = answer * answer\n",
    "        i = 2*i\n",
    "        \n",
    "    return answer    "
   ]
  },
  {
   "cell_type": "markdown",
   "metadata": {},
   "source": [
    "# Maximum subarray"
   ]
  },
  {
   "cell_type": "code",
   "execution_count": 77,
   "metadata": {
    "collapsed": true
   },
   "outputs": [],
   "source": [
    "A = [-2,1,-3,4,-1,2,1,-5,4]\n",
    "\n",
    "# [4,-1,2,1]\n",
    "def get_sum(A, i, j):\n",
    "    s = 0\n",
    "    for k in range(i, j):\n",
    "        s = s + A[k]\n",
    "        \n",
    "    return s\n",
    "\n",
    "def max_sub_brute_force(A):\n",
    "    s_max = 0\n",
    "    i_max = -1\n",
    "    j_max = -1\n",
    "    for i in range(len(A)):\n",
    "        for j in range(i, len(A)):\n",
    "            s = get_sum(A, i, j)\n",
    "            if s > s_max:\n",
    "                s_max = s\n",
    "                i_max = i\n",
    "                j_max = j\n",
    "                \n",
    "    return s_max, i_max, j_max  \n",
    "\n",
    "\n",
    "def max_sum(A):\n",
    "    pi=[]\n",
    "    for i in range(len(A)):\n",
    "        pi.append(max(A[i], 0))\n",
    "        \n",
    "\n",
    "    for i in range(len(A)-1):\n",
    "        pi[i+1] = max(pi[i] + A[i+1], 0)\n",
    "        \n",
    "    \n",
    "    pi_max = 0\n",
    "    \n",
    "    for v in pi:\n",
    "        if v > pi_max:\n",
    "            pi_max = v\n",
    "            \n",
    "    return pi_max                          \n",
    "    "
   ]
  },
  {
   "cell_type": "code",
   "execution_count": 78,
   "metadata": {},
   "outputs": [
    {
     "data": {
      "text/plain": [
       "6"
      ]
     },
     "execution_count": 78,
     "metadata": {},
     "output_type": "execute_result"
    }
   ],
   "source": [
    "max_sum(A)"
   ]
  },
  {
   "cell_type": "markdown",
   "metadata": {},
   "source": [
    "# Merge two sorted lists"
   ]
  },
  {
   "cell_type": "code",
   "execution_count": 84,
   "metadata": {
    "collapsed": true
   },
   "outputs": [],
   "source": [
    "def merge_two_sorted(A, B):\n",
    "    C = []\n",
    "    i = 0\n",
    "    j = 0\n",
    "    \n",
    "    while i < len(A) and j < len(B):\n",
    "        if A[i] < B[j]:\n",
    "            C.append(A[i])\n",
    "            i = i + 1\n",
    "        else:\n",
    "            C.append(B[j])\n",
    "            j = j + 1\n",
    "            \n",
    "    if i == len(A):\n",
    "        for k in range(j, len(B)):\n",
    "            C.append(B[j])\n",
    "            \n",
    "    if j == len(B):\n",
    "        for k in range(i, len(A)):\n",
    "            C.append(A[k])\n",
    "\n",
    "    return C"
   ]
  },
  {
   "cell_type": "code",
   "execution_count": 85,
   "metadata": {},
   "outputs": [
    {
     "data": {
      "text/plain": [
       "[1, 1, 2, 3, 4, 4]"
      ]
     },
     "execution_count": 85,
     "metadata": {},
     "output_type": "execute_result"
    }
   ],
   "source": [
    "merge_two_sorted([1,2,4], [1,3,4])"
   ]
  },
  {
   "cell_type": "markdown",
   "metadata": {},
   "source": [
    "# Longest harmonious subsequence "
   ]
  },
  {
   "cell_type": "markdown",
   "metadata": {},
   "source": [
    "def longest_harmonious_subsequence(A): # amplitute = 1\n",
    "\n",
    "    harmonious_prefixes = {}\n",
    "    \n",
    "    harmonious_prefixes[0] = {0: {'length': 1, 'min_value': A[0], 'min_last': 0, 'max_value': A[0], 'max_last': 0}}\n",
    "    for i in range(len(A)-1):\n",
    "         # get data for i\n",
    "         length = harmonious_prefixes[i]['length']\n",
    "         min_value = harmonious_prefixes[i]['min_value']\n",
    "         max_value = harmonious_prefixes[i]['max_value']\n",
    "         min_last = harmonious_prefixes[i]['min_last']\n",
    "         max_last = harmonious_prefixes[i]['max_last']\n",
    "         \n",
    "         \n",
    "         # update for i+1\n",
    "        if A[i+1] > max_value + 1 or A[i+1] < min_value - 1:\n",
    "             harmonious_prefixes[i+1] = {i+1: {'length': 1, 'min': A[i+1], 'max': A[i+1], 'min_last': 1, 'max_last': 1}}\n",
    "        else:\n",
    "             if min_value == A[i+1]: \n",
    "                  harmonious_prefixes[i+1] = {i+1: {'length': length + 1, 'min_value': min_value, 'max_value': max_value, 'min_last': min_last + 1, 'max_last': max_last}}\n",
    "             \n",
    "             if max_value == A[i+1]: \n",
    "                  harmonious_prefixes[i+1] = {i+1: {'length': length + 1, 'min_value': min_value, 'max_value': max_value, 'min_last': min_last, 'max_last': max_last + 1}\n",
    "                  \n",
    "             if A[i+1] == min_value - 1:\n",
    "                  harmonious_prefixes[i+1] = {i+1: {'length': min_last + 1, 'min_value': min_value - 1, 'max_value': min_value, 'min_last': i+1, 'max_last': 0}}\n",
    "                  \n",
    "             if A[i+1] == max_value + 1:\n",
    "                  harmonious_prefixes[i+1] = {i+1: {'length': min_last + 1, 'min_value': min_value - 1, 'max_value': min_value, 'min_last': 0, 'max_last': max_last + 1}}\n",
    "                  \n",
    "          def get_max(hp):\n",
    "              i_max = 0\n",
    "              for i in hp.keys():\n",
    "                  if hp[i]['length'] > hp[i_max]['length']:\n",
    "                      i_max = i\n",
    "              return i_max\n",
    "              \n",
    "          i_max = get_max(harmonious_prefixes)\n",
    "          \n",
    "          return i_max, harmonious_prefixes[i_max]['length']        "
   ]
  },
  {
   "cell_type": "code",
   "execution_count": 18,
   "metadata": {
    "collapsed": true
   },
   "outputs": [],
   "source": [
    "def longest_harmonious_subsequence(A): # amplitute = 1 harmonious_prefixes = {}\n",
    "    harmonious_prefixes = {}\n",
    "    harmonious_prefixes[0] = {'length': 1, 'min_value': A[0], 'min_last': 1, 'max_value': A[0], 'max_last': 1}\n",
    "    for i in range(len(A)-1):\n",
    "        print '\\n'\n",
    "        print harmonious_prefixes[i], A[i+1]\n",
    "        print '\\n'\n",
    "        # get data for i\n",
    "        length = harmonious_prefixes[i]['length']\n",
    "        min_value = harmonious_prefixes[i]['min_value']\n",
    "        max_value = harmonious_prefixes[i]['max_value']\n",
    "        min_last = harmonious_prefixes[i]['min_last']\n",
    "        max_last = harmonious_prefixes[i]['max_last']\n",
    "        \n",
    "        \n",
    "                              \n",
    "        # update for i+1\n",
    "        if A[i+1] > max_value + 1 or A[i+1] < min_value - 1:\n",
    "            print \"out of range\"\n",
    "            harmonious_prefixes[i+1] = {'length': 1, 'min': A[i+1], 'max': A[i+1], 'min_last': 1, 'max_last': 1}\n",
    "        else:\n",
    "            if min_value == A[i+1]: \n",
    "                print \"min=\"\n",
    "                if min_value == max_value:\n",
    "                    new_max_last = max_last + 1\n",
    "                else:\n",
    "                    new_max_last = 0\n",
    "                    \n",
    "                harmonious_prefixes[i+1] = {'length': length + 1, 'min_value': min_value, 'max_value': max_value, 'min_last': min_last + 1, 'max_last': new_max_last}\n",
    "\n",
    "            elif max_value == A[i+1]:\n",
    "                    print \"max=\"\n",
    "                    if min_value == max_value:\n",
    "                        new_min_last = min_last + 1\n",
    "                    else:\n",
    "                        new_min_last = 0\n",
    "                    harmonious_prefixes[i+1] = {'length': length + 1, 'min_value': min_value, 'max_value': max_value, 'min_last': new_min_last, 'max_last': max_last + 1}\n",
    "\n",
    "            if A[i+1] == min_value - 1:\n",
    "                print \"min-1=\"\n",
    "                harmonious_prefixes[i+1] = {'length': min_last + 1, 'min_value': min_value - 1, 'max_value': min_value, 'min_last': 1, 'max_last': 0}\n",
    "\n",
    "            elif A[i+1] == max_value + 1:\n",
    "                    print \"max+1=\"\n",
    "                    harmonious_prefixes[i+1] = {'length': max_last + 1, 'min_value': max_value, 'max_value': max_value + 1, 'min_last': 0, 'max_last': 1}\n",
    "    def get_i_max(hp):\n",
    "        i_max = 0\n",
    "        for i in hp.keys():\n",
    "            if hp[i]['length'] > hp[i_max]['length']:\n",
    "                    i_max = i\n",
    "        return i_max\n",
    "\n",
    "    i_max = get_i_max(harmonious_prefixes) \n",
    "                                              \n",
    "    return i_max, harmonious_prefixes[i_max]                                     "
   ]
  },
  {
   "cell_type": "code",
   "execution_count": 19,
   "metadata": {},
   "outputs": [
    {
     "name": "stdout",
     "output_type": "stream",
     "text": [
      "\n",
      "\n",
      "{'max_value': 1, 'length': 1, 'min_value': 1, 'max_last': 1, 'min_last': 1} 2\n",
      "\n",
      "\n",
      "max+1=\n",
      "\n",
      "\n",
      "{'max_value': 2, 'length': 2, 'min_value': 1, 'max_last': 1, 'min_last': 0} 3\n",
      "\n",
      "\n",
      "max+1=\n",
      "\n",
      "\n",
      "{'max_value': 3, 'length': 2, 'min_value': 2, 'max_last': 1, 'min_last': 0} 2\n",
      "\n",
      "\n",
      "min=\n",
      "\n",
      "\n",
      "{'max_value': 3, 'length': 3, 'min_value': 2, 'max_last': 0, 'min_last': 1} 3\n",
      "\n",
      "\n",
      "max=\n",
      "\n",
      "\n",
      "{'max_value': 3, 'length': 4, 'min_value': 2, 'max_last': 1, 'min_last': 0} 4\n",
      "\n",
      "\n",
      "max+1=\n",
      "\n",
      "\n",
      "{'max_value': 4, 'length': 2, 'min_value': 3, 'max_last': 1, 'min_last': 0} 4\n",
      "\n",
      "\n",
      "max=\n"
     ]
    },
    {
     "data": {
      "text/plain": [
       "(4,\n",
       " {'length': 4, 'max_last': 1, 'max_value': 3, 'min_last': 0, 'min_value': 2})"
      ]
     },
     "execution_count": 19,
     "metadata": {},
     "output_type": "execute_result"
    }
   ],
   "source": [
    "A = [1, 2, 3, 2, 3, 4, 4]\n",
    "\n",
    "longest_harmonious_subsequence(A)"
   ]
  },
  {
   "cell_type": "markdown",
   "metadata": {},
   "source": [
    "# Two-sum\n",
    "Given an array of integers, return indices of the two numbers such that they add up to a specific target.\n",
    "\n",
    "You may assume that each input would have exactly one solution, and you may not use the same element twice.\n",
    "\n",
    "Example:\n",
    "\n",
    "Given nums = [2, 7, 11, 15], target = 9,\n",
    "\n",
    "Because nums[0] + nums[1] = 2 + 7 = 9, return [0, 1]."
   ]
  },
  {
   "cell_type": "code",
   "execution_count": 156,
   "metadata": {
    "collapsed": true
   },
   "outputs": [],
   "source": [
    "def two_sum(A, target):\n",
    "    for i in range (len(A)): \n",
    "        for j in range(i+1,len(A)):\n",
    "            if A[i]+ A[j] == target:\n",
    "                print A[i],A[j],target\n",
    "                return i,j"
   ]
  },
  {
   "cell_type": "code",
   "execution_count": 158,
   "metadata": {},
   "outputs": [
    {
     "name": "stdout",
     "output_type": "stream",
     "text": [
      "4 5 9\n"
     ]
    },
    {
     "data": {
      "text/plain": [
       "(2, 3)"
      ]
     },
     "execution_count": 158,
     "metadata": {},
     "output_type": "execute_result"
    }
   ],
   "source": [
    "A = [1,2,4,5,6]\n",
    "target = 9\n",
    "two_sum(A,target)"
   ]
  },
  {
   "cell_type": "code",
   "execution_count": 159,
   "metadata": {},
   "outputs": [
    {
     "name": "stdout",
     "output_type": "stream",
     "text": [
      "0 3000 3000\n",
      "-0.00240111351013\n"
     ]
    }
   ],
   "source": [
    "import time \n",
    "start = time.time()\n",
    "two_sum_brute_force(range(3600),3000)\n",
    "end = time.time()\n",
    "print start-end "
   ]
  },
  {
   "cell_type": "markdown",
   "metadata": {},
   "source": [
    "\n",
    "Given a string, determine if it is a palindrome, considering only alphanumeric characters and ignoring cases.\n",
    "\n",
    "For example,\n",
    "\"A man, a plan, a canal: Panama\" is a palindrome.\n",
    "\"race a car\" is not a palindrome.\n",
    "\n",
    "Note:\n",
    "Have you consider that the string might be empty? This is a good question to ask during an interview.\n",
    "\n",
    "For the purpose of this problem, we define empty string as valid palindrome.\n",
    "\n"
   ]
  },
  {
   "cell_type": "code",
   "execution_count": 195,
   "metadata": {},
   "outputs": [
    {
     "name": "stdout",
     "output_type": "stream",
     "text": [
      "character matches at position 0\n",
      "character matches at position 1\n",
      "character matches at position 2\n",
      "character matches at position 3\n",
      "character matches at position 4\n",
      "character matches at position 5\n"
     ]
    },
    {
     "data": {
      "text/plain": [
       "'not palindrome'"
      ]
     },
     "execution_count": 195,
     "metadata": {},
     "output_type": "execute_result"
    }
   ],
   "source": [
    "def is_pal(s): # \"010\", \"110011\", \"abccba\", \"aba\", \"abcbc\"-not\n",
    "    for i in range(len(s)):\n",
    "        if s[i] != s[len(s)-1-i]:\n",
    "            return \"not palindrome\"\n",
    "        else: # s[i] == s[len(s) -1 -i]\n",
    "            print \"character matches at position \"+str(i)\n",
    "            pass\n",
    "        \n",
    "    return \"palindrome\"\n",
    "            \n",
    "    \n",
    "          \n",
    "            \n",
    "    \n",
    "    \n",
    "    return 0\n",
    "    \n",
    "    \n",
    "is_pal(\"abcbdefeedbcba\")    "
   ]
  },
  {
   "cell_type": "code",
   "execution_count": 174,
   "metadata": {},
   "outputs": [
    {
     "data": {
      "text/plain": [
       "[0, 1, 2]"
      ]
     },
     "execution_count": 174,
     "metadata": {},
     "output_type": "execute_result"
    }
   ],
   "source": [
    "s = \"abc\"\n",
    "s[2]\n",
    "s[-1]\n",
    "\n",
    "i = 0\n",
    "s[i] == s[len(s)-1-i]\n",
    "range(len(s))"
   ]
  },
  {
   "cell_type": "code",
   "execution_count": 164,
   "metadata": {},
   "outputs": [
    {
     "name": "stdout",
     "output_type": "stream",
     "text": [
      "a\n",
      "b\n",
      "c\n"
     ]
    }
   ],
   "source": [
    "for i in range(len(s)):\n",
    "    print s[i]"
   ]
  },
  {
   "cell_type": "code",
   "execution_count": 166,
   "metadata": {},
   "outputs": [
    {
     "data": {
      "text/plain": [
       "[0, 1, 2]"
      ]
     },
     "execution_count": 166,
     "metadata": {},
     "output_type": "execute_result"
    }
   ],
   "source": [
    "range(len(s))"
   ]
  },
  {
   "cell_type": "code",
   "execution_count": 167,
   "metadata": {
    "collapsed": true
   },
   "outputs": [],
   "source": [
    "def fun_s(s):\n",
    "    output = \"\"\n",
    "    for i in range(len(s)):\n",
    "        output = output + s[i] + s[i]\n",
    "        \n",
    "    return output    "
   ]
  },
  {
   "cell_type": "code",
   "execution_count": 168,
   "metadata": {},
   "outputs": [
    {
     "data": {
      "text/plain": [
       "'aabbcc'"
      ]
     },
     "execution_count": 168,
     "metadata": {},
     "output_type": "execute_result"
    }
   ],
   "source": [
    "fun_s(\"abc\")"
   ]
  },
  {
   "cell_type": "code",
   "execution_count": 210,
   "metadata": {
    "collapsed": true
   },
   "outputs": [],
   "source": [
    "#n = 3  --> 1 + 2^2 + 3^2 = 1 + 4 + 9 = 14\n",
    "def sum_squares(n):\n",
    "    s = 0\n",
    "    for i in range(n):\n",
    "        s = s + (i+1)*(i+1)\n",
    "    return s     \n",
    "    \n",
    "    \n",
    "    "
   ]
  },
  {
   "cell_type": "markdown",
   "metadata": {
    "collapsed": true
   },
   "source": [
    "# Length of last word"
   ]
  },
  {
   "cell_type": "code",
   "execution_count": 2,
   "metadata": {
    "collapsed": true
   },
   "outputs": [],
   "source": [
    "def last_len(s):\n",
    "    i = 1\n",
    "    while s[-i] != \" \" and i <= len(s):\n",
    "        i = i + 1\n",
    "        \n",
    "    return i-1     "
   ]
  },
  {
   "cell_type": "code",
   "execution_count": 3,
   "metadata": {},
   "outputs": [
    {
     "data": {
      "text/plain": [
       "9"
      ]
     },
     "execution_count": 3,
     "metadata": {},
     "output_type": "execute_result"
    }
   ],
   "source": [
    "last_len(\"I am not a dynasour!\")"
   ]
  },
  {
   "cell_type": "markdown",
   "metadata": {},
   "source": [
    "# Plus one\n",
    "\n",
    "- s = \"abc\"\n",
    "- s[2] = \"z\"\n",
    "\n",
    "TypeError: 'str' object does not support item assignment  (string is immutable list)"
   ]
  },
  {
   "cell_type": "code",
   "execution_count": 65,
   "metadata": {
    "collapsed": true
   },
   "outputs": [],
   "source": [
    "# linear time\n",
    "\n",
    "def binary_plus_one(s): # s is a string of 0 and 1\n",
    "    prefix = \"\"\n",
    "    for i in range(len(s)-1):\n",
    "        prefix = prefix + s[i]    \n",
    "        \n",
    "    if len(s) == 0:\n",
    "        return \"1\"\n",
    "    \n",
    "    last_bit = s[-1]\n",
    "    \n",
    "    if last_bit == \"0\":\n",
    "        return prefix + \"1\"\n",
    "    else:\n",
    "        return binary_plus_one(prefix) + \"0\""
   ]
  },
  {
   "cell_type": "code",
   "execution_count": 66,
   "metadata": {},
   "outputs": [
    {
     "data": {
      "text/plain": [
       "'1010'"
      ]
     },
     "execution_count": 66,
     "metadata": {},
     "output_type": "execute_result"
    }
   ],
   "source": [
    "binary_plus_one(\"1001\")"
   ]
  },
  {
   "cell_type": "code",
   "execution_count": 67,
   "metadata": {},
   "outputs": [
    {
     "name": "stdout",
     "output_type": "stream",
     "text": [
      "1001\n"
     ]
    }
   ],
   "source": [
    "a = \"100\"\n",
    "for i in range(5): \n",
    "    a = binary_plus_one(a)\n",
    "\n",
    "print a"
   ]
  },
  {
   "cell_type": "code",
   "execution_count": 68,
   "metadata": {},
   "outputs": [
    {
     "data": {
      "text/plain": [
       "'101'"
      ]
     },
     "execution_count": 68,
     "metadata": {},
     "output_type": "execute_result"
    }
   ],
   "source": [
    "binary_plus_one(\"100\")"
   ]
  },
  {
   "cell_type": "markdown",
   "metadata": {},
   "source": [
    "# Add binary"
   ]
  },
  {
   "cell_type": "code",
   "execution_count": 75,
   "metadata": {
    "collapsed": true
   },
   "outputs": [],
   "source": [
    "# exponential time\n",
    "\n",
    "def bin_add(first, second):\n",
    "    answer = second\n",
    "    \n",
    "    for i in range(len(first)):\n",
    "        if first[i] == \"1\":\n",
    "            for j in range(2**(len(first)-1 -i)):\n",
    "                answer = binary_plus_one(answer)\n",
    "                \n",
    "                \n",
    "    return answer           "
   ]
  },
  {
   "cell_type": "code",
   "execution_count": 76,
   "metadata": {},
   "outputs": [
    {
     "data": {
      "text/plain": [
       "'1001'"
      ]
     },
     "execution_count": 76,
     "metadata": {},
     "output_type": "execute_result"
    }
   ],
   "source": [
    "bin_add(\"101\", \"100\")"
   ]
  },
  {
   "cell_type": "code",
   "execution_count": 77,
   "metadata": {
    "collapsed": true
   },
   "outputs": [],
   "source": [
    "# linear\n",
    "def add_binary(first, second):\n",
    "    answer = \"\"\n",
    "    i = min(len(first), len(second)) - 1\n",
    "    carry = 0\n",
    "    while i >= 0:\n",
    "        if first[i] + second[i] + carry > 2:\n",
    "            carry = 1\n",
    "        answer = str(first[i] + second[i] + carry % 2) + answer\n",
    "        i = i - 1\n",
    "    if carry == 1:\n",
    "        answer = \"1\"+answer\n",
    "        \n",
    "    return answer         "
   ]
  },
  {
   "cell_type": "code",
   "execution_count": 78,
   "metadata": {},
   "outputs": [
    {
     "data": {
      "text/plain": [
       "'1001'"
      ]
     },
     "execution_count": 78,
     "metadata": {},
     "output_type": "execute_result"
    }
   ],
   "source": [
    "bin_add(\"101\", \"100\")"
   ]
  },
  {
   "cell_type": "markdown",
   "metadata": {},
   "source": [
    "# Shift match\n",
    "We are given two strings, A and B.\n",
    "\n",
    "A shift on A consists of taking string A and moving the leftmost character to the rightmost position. For example, if A = 'abcde', then it will be 'bcdea' after one shift on A. Return True if and only if A can become B after some number of shifts on A.\n",
    "\n",
    "Example 1:\n",
    "Input: A = 'abcde', B = 'cdeab'\n",
    "Output: true\n",
    "\n",
    "Example 2:\n",
    "Input: A = 'abcde', B = 'abced'\n",
    "Output: false\n"
   ]
  },
  {
   "cell_type": "code",
   "execution_count": 28,
   "metadata": {
    "collapsed": true
   },
   "outputs": [],
   "source": [
    "def is_match(A, i, B):\n",
    "    if len(A) != len(B):\n",
    "        return False\n",
    "    if not i < len(A):\n",
    "        return False\n",
    "    \n",
    "    for j in range(len(B)):\n",
    "        #print j, (i+j) % len(A), A[(i+j) % len(A)], B[j]\n",
    "        if A[(i+j) % len(B)] != B[j]:\n",
    "            return False\n",
    "    return True\n",
    "        \n",
    "def rotate_match(A, B):\n",
    "    if len(A) != len(B):\n",
    "        return False\n",
    "    \n",
    "    for i in range(len(A)):\n",
    "        if is_match(A, i, B):\n",
    "            return True\n",
    "    \n",
    "    return False\n",
    "        "
   ]
  },
  {
   "cell_type": "code",
   "execution_count": 29,
   "metadata": {},
   "outputs": [
    {
     "data": {
      "text/plain": [
       "True"
      ]
     },
     "execution_count": 29,
     "metadata": {},
     "output_type": "execute_result"
    }
   ],
   "source": [
    "is_match(\"abcabc\", 1, \"bcabca\")\n",
    "is_match(\"abcabc\", 2, \"cabcab\")"
   ]
  },
  {
   "cell_type": "code",
   "execution_count": 30,
   "metadata": {},
   "outputs": [
    {
     "data": {
      "text/plain": [
       "True"
      ]
     },
     "execution_count": 30,
     "metadata": {},
     "output_type": "execute_result"
    }
   ],
   "source": [
    "rotate_match(\"abcabc\", \"cabcab\")"
   ]
  },
  {
   "cell_type": "code",
   "execution_count": 32,
   "metadata": {},
   "outputs": [
    {
     "data": {
      "text/plain": [
       "False"
      ]
     },
     "execution_count": 32,
     "metadata": {},
     "output_type": "execute_result"
    }
   ],
   "source": [
    "rotate_match(\"abcdef\", \"ddfabc\")"
   ]
  },
  {
   "cell_type": "code",
   "execution_count": 35,
   "metadata": {
    "collapsed": true
   },
   "outputs": [],
   "source": [
    "import time\n",
    "start = time.time()\n",
    "rotate_match(1000*\"ab\"+ \"z\" + 1000*\"ab\", \"z\" + 1000*\"ab\" + 1000*\"ab\")"
   ]
  },
  {
   "cell_type": "code",
   "execution_count": 39,
   "metadata": {
    "collapsed": true
   },
   "outputs": [],
   "source": [
    "N = 10000\n",
    "s1 = N * \"ab\" + \"z\" + N * \"ab\"\n",
    "s2 = \"z\" + N * \"ab\" + N * \"ab\""
   ]
  },
  {
   "cell_type": "code",
   "execution_count": 40,
   "metadata": {},
   "outputs": [
    {
     "name": "stdout",
     "output_type": "stream",
     "text": [
      "5.42738103867\n"
     ]
    }
   ],
   "source": [
    "start = time.time()\n",
    "rotate_match(s1, s2)\n",
    "end = time.time()\n",
    "print end-start"
   ]
  },
  {
   "cell_type": "markdown",
   "metadata": {
    "collapsed": true
   },
   "source": [
    "# Merge two sorted arrays"
   ]
  },
  {
   "cell_type": "code",
   "execution_count": 4,
   "metadata": {
    "collapsed": true
   },
   "outputs": [],
   "source": [
    "def merge_two(A, B):\n",
    "    C = []\n",
    "    i = 0\n",
    "    j = 0\n",
    "    \n",
    "    while i < len(A) and j < len(B):\n",
    "        if A[i] <= B[j]:\n",
    "            C.append(A[i])\n",
    "            i = i + 1\n",
    "        else:\n",
    "            C.append(B[j])\n",
    "            j = j + 1\n",
    "            \n",
    "    if i == len(A):\n",
    "        C = C + B[j:]\n",
    "    \n",
    "    if j == len(B):\n",
    "        C = C + A[i:]\n",
    "        \n",
    "    return C"
   ]
  },
  {
   "cell_type": "code",
   "execution_count": 10,
   "metadata": {},
   "outputs": [
    {
     "name": "stdout",
     "output_type": "stream",
     "text": [
      "0.571662187576\n"
     ]
    }
   ],
   "source": [
    "N = 1000000\n",
    "A = [2*i + 1 for i in range(N)]\n",
    "B = [2*i for i in range(N)]\n",
    "import time\n",
    "start = time.time()\n",
    "merge_two(A, B)\n",
    "end = time.time()\n",
    "print end-start"
   ]
  },
  {
   "cell_type": "markdown",
   "metadata": {
    "collapsed": true
   },
   "source": [
    "# Second max\n",
    "\n",
    "input: A # list of distinct integers\n",
    "output: second maximum in A, i.e., a < a_max and a > b for all b != a_max\n",
    "\n",
    "example: A = [-1, 3, 4, 5, 2]\n",
    "output: 4"
   ]
  },
  {
   "cell_type": "code",
   "execution_count": 58,
   "metadata": {
    "collapsed": true
   },
   "outputs": [],
   "source": [
    "def second_max(A):\n",
    "    if len(A) < 2:\n",
    "        return \"not defined\"\n",
    "    if len(A) == 2:\n",
    "        return min(A[0], A[1])\n",
    "    \n",
    "    a_max = max(A[0], A[1])\n",
    "    a_sm = min(A[0], A[1])\n",
    "    \n",
    "    for i in range(2, len(A)):\n",
    "        if A[i] > a_max:\n",
    "            a_sm = a_max\n",
    "            a_max = A[i]\n",
    "            \n",
    "        if a_max > A[i] and A[i] > a_sm:\n",
    "            a_sm = A[i]\n",
    "              \n",
    "    return a_max, a_sm        "
   ]
  },
  {
   "cell_type": "code",
   "execution_count": 33,
   "metadata": {},
   "outputs": [
    {
     "data": {
      "text/plain": [
       "(5, 4)"
      ]
     },
     "execution_count": 33,
     "metadata": {},
     "output_type": "execute_result"
    }
   ],
   "source": [
    "second_max([-1, 3, 4, 5, 2])"
   ]
  },
  {
   "cell_type": "code",
   "execution_count": 60,
   "metadata": {},
   "outputs": [
    {
     "name": "stdout",
     "output_type": "stream",
     "text": [
      "1.36439204216\n",
      "(9999999, 9999998)\n"
     ]
    }
   ],
   "source": [
    "import numpy as np\n",
    "import time\n",
    "#A = np.random.randint(5, size=100)\n",
    "A = range(10000000)\n",
    "\n",
    "start = time.time()\n",
    "sm = second_max(A)\n",
    "end = time.time()\n",
    "print end - start\n",
    "print sm"
   ]
  },
  {
   "cell_type": "code",
   "execution_count": 56,
   "metadata": {
    "collapsed": true
   },
   "outputs": [],
   "source": [
    "# Paul\n",
    "\n",
    "def find_second_max(numbers):\n",
    "    max_number = -1\n",
    "   \n",
    "    second_max = -2\n",
    "   \n",
    "    for i in range(len(numbers)):\n",
    "        if numbers[i] > max_number :\n",
    "            max_number = numbers[i]\n",
    "           \n",
    "    for j in range(len(numbers)):\n",
    "        if numbers[j] > second_max and numbers[j] < max_number:\n",
    "            second_max = numbers[j]\n",
    "           \n",
    "    return second_max"
   ]
  },
  {
   "cell_type": "code",
   "execution_count": 59,
   "metadata": {},
   "outputs": [
    {
     "name": "stdout",
     "output_type": "stream",
     "text": [
      "2.81521892548\n",
      "9999998\n"
     ]
    }
   ],
   "source": [
    "start = time.time()\n",
    "sm = find_second_max(A)\n",
    "end = time.time()\n",
    "print end - start\n",
    "print sm"
   ]
  },
  {
   "cell_type": "code",
   "execution_count": 1,
   "metadata": {},
   "outputs": [
    {
     "name": "stdout",
     "output_type": "stream",
     "text": [
      "what is your name: xyz\n"
     ]
    }
   ],
   "source": [
    "name = raw_input(\"what is your name: \")"
   ]
  },
  {
   "cell_type": "code",
   "execution_count": 2,
   "metadata": {},
   "outputs": [
    {
     "data": {
      "text/plain": [
       "'xyz'"
      ]
     },
     "execution_count": 2,
     "metadata": {},
     "output_type": "execute_result"
    }
   ],
   "source": [
    "name"
   ]
  },
  {
   "cell_type": "code",
   "execution_count": 3,
   "metadata": {
    "collapsed": true
   },
   "outputs": [],
   "source": [
    "def list_intersection_with_repetition(A, B):\n",
    "    return [a for a in A if a in B]"
   ]
  },
  {
   "cell_type": "code",
   "execution_count": 10,
   "metadata": {
    "collapsed": true
   },
   "outputs": [],
   "source": [
    "A = [1, 1, 3, 3, 5, 7, 9]\n",
    "B = [2, 3, 4, 6, 8, 7, 9, 3]"
   ]
  },
  {
   "cell_type": "code",
   "execution_count": 11,
   "metadata": {},
   "outputs": [
    {
     "data": {
      "text/plain": [
       "[3, 3, 7, 9]"
      ]
     },
     "execution_count": 11,
     "metadata": {},
     "output_type": "execute_result"
    }
   ],
   "source": [
    "list_intersection_with_repetition(A, B)"
   ]
  },
  {
   "cell_type": "code",
   "execution_count": 4,
   "metadata": {
    "collapsed": true
   },
   "outputs": [],
   "source": [
    "def list_intersection(A, B):\n",
    "    C = []\n",
    "    for a in A:\n",
    "        for b in B:\n",
    "            if a == b:\n",
    "                C.append(a)\n",
    "            \n",
    "    return C        \n",
    "def list_intersection_without_repetition(A, B):\n",
    "    return set([a for a in A if a in B])"
   ]
  },
  {
   "cell_type": "code",
   "execution_count": 13,
   "metadata": {},
   "outputs": [
    {
     "data": {
      "text/plain": [
       "{3, 7, 9}"
      ]
     },
     "execution_count": 13,
     "metadata": {},
     "output_type": "execute_result"
    }
   ],
   "source": [
    "list_intersection_without_repetition(A, B)"
   ]
  },
  {
   "cell_type": "code",
   "execution_count": 44,
   "metadata": {
    "collapsed": true
   },
   "outputs": [],
   "source": [
    "A = range(100000)\n",
    "B = range(5000, 20000)"
   ]
  },
  {
   "cell_type": "code",
   "execution_count": 47,
   "metadata": {},
   "outputs": [
    {
     "name": "stdout",
     "output_type": "stream",
     "text": [
      "15000\n",
      "17.563313961\n"
     ]
    }
   ],
   "source": [
    "import time \n",
    "start = time.time()\n",
    "print len(list_intersection_with_repetition(A, B))\n",
    "end = time.time()\n",
    "print end-start"
   ]
  },
  {
   "cell_type": "code",
   "execution_count": 8,
   "metadata": {},
   "outputs": [
    {
     "name": "stdout",
     "output_type": "stream",
     "text": [
      "17.6830089092\n"
     ]
    }
   ],
   "source": [
    "import time \n",
    "start = time.time()\n",
    "list_intersection_without_repetition(A, B)\n",
    "end = time.time()\n",
    "print end-start"
   ]
  },
  {
   "cell_type": "code",
   "execution_count": 52,
   "metadata": {
    "collapsed": true
   },
   "outputs": [],
   "source": [
    "A = [1, 1, 3, 3, 5, 7, 9]\n",
    "B = [2, 3, 4, 6, 8, 7, 9, 3]\n",
    "\n",
    "def fast_list_intersection_without_repetition(A, B):\n",
    "    dictA = {}\n",
    "    # initialize\n",
    "    for a in A:\n",
    "        dictA[a] = 0\n",
    "    for b in B:\n",
    "        dictA[b] = 0\n",
    "        \n",
    "    dictB = {}\n",
    "    # initialize\n",
    "    for a in A:\n",
    "        dictB[a] = 0\n",
    "    for b in B:\n",
    "        dictB[b] = 0\n",
    "        \n",
    "    # initialize     \n",
    "    dictC = {}\n",
    "    # initialize\n",
    "    for a in A:\n",
    "        dictC[a] = 0\n",
    "    for b in B:\n",
    "        dictC[b] = 0\n",
    "        \n",
    "        \n",
    "    ##################\n",
    "        \n",
    "    # update dictA    \n",
    "    for a in A:\n",
    "        dictA[a] = 1\n",
    "        \n",
    "    # update dictB    \n",
    "    for b in B:\n",
    "        dictB[b] = 1\n",
    "    \n",
    "    \n",
    "    \n",
    "    for key in dictA.keys():\n",
    "        dictC[key] = dictA[key] * dictB[key]\n",
    "        \n",
    "    \n",
    "    #return mydict     \n",
    "   \n",
    "    answerdict = {k: v for k, v in dictC.iteritems() if v > 0}  \n",
    "    \n",
    "    return answerdict.keys()\n",
    " \n",
    "        \n",
    "        "
   ]
  },
  {
   "cell_type": "code",
   "execution_count": 53,
   "metadata": {},
   "outputs": [
    {
     "data": {
      "text/plain": [
       "[9, 3, 7]"
      ]
     },
     "execution_count": 53,
     "metadata": {},
     "output_type": "execute_result"
    }
   ],
   "source": [
    "fast_list_intersection_without_repetition(A, B)"
   ]
  },
  {
   "cell_type": "code",
   "execution_count": 58,
   "metadata": {},
   "outputs": [
    {
     "name": "stdout",
     "output_type": "stream",
     "text": [
      "195000\n",
      "5.91804099083\n"
     ]
    }
   ],
   "source": [
    "A = range(10000000)\n",
    "B = range(5000, 200000)\n",
    "import time \n",
    "start = time.time()\n",
    "print len(fast_list_intersection_without_repetition(A, B))\n",
    "end = time.time()\n",
    "print end-start"
   ]
  },
  {
   "cell_type": "code",
   "execution_count": 15,
   "metadata": {
    "collapsed": true
   },
   "outputs": [],
   "source": [
    "def reverse_words(sentence):\n",
    "    return \" \".join(sentence.split()[::-1])\n",
    "    "
   ]
  },
  {
   "cell_type": "code",
   "execution_count": 2,
   "metadata": {
    "collapsed": true
   },
   "outputs": [],
   "source": [
    "sentence = \"This program is going to reverse the words in sentence\""
   ]
  },
  {
   "cell_type": "code",
   "execution_count": 16,
   "metadata": {},
   "outputs": [
    {
     "data": {
      "text/plain": [
       "'This program is going to reverse the words in sentence'"
      ]
     },
     "execution_count": 16,
     "metadata": {},
     "output_type": "execute_result"
    }
   ],
   "source": [
    "reverse_words(sentence)"
   ]
  },
  {
   "cell_type": "code",
   "execution_count": 19,
   "metadata": {
    "collapsed": true
   },
   "outputs": [],
   "source": [
    "def reverse_words(sentence):\n",
    "    sentence = sentence + \" \"\n",
    "    word = \"\"\n",
    "    \n",
    "    rev_sent = \"\"\n",
    "    for c in sentence:\n",
    "        if c != \" \":\n",
    "            word = word + c\n",
    "        else:\n",
    "            rev_sent = word + \" \" + rev_sent\n",
    "            word = \"\"\n",
    "    return rev_sent         "
   ]
  },
  {
   "cell_type": "code",
   "execution_count": 20,
   "metadata": {},
   "outputs": [
    {
     "data": {
      "text/plain": [
       "'sentence in words the reverse to going is program This '"
      ]
     },
     "execution_count": 20,
     "metadata": {},
     "output_type": "execute_result"
    }
   ],
   "source": [
    "reverse_words(sentence)"
   ]
  },
  {
   "cell_type": "markdown",
   "metadata": {
    "collapsed": true
   },
   "source": [
    "# Given m and n, generate a uniform random matrix of size m x n"
   ]
  },
  {
   "cell_type": "markdown",
   "metadata": {},
   "source": [
    "https://docs.scipy.org/doc/numpy-1.14.0/reference/generated/numpy.random.uniform.html\n",
    "\n",
    "import numpy as np\n",
    "\n",
    "def generate_random_matrix(m, n):\n",
    "    return np.random.uniform(m, n)  # np.random.uniform(size=(m, n))"
   ]
  },
  {
   "cell_type": "code",
   "execution_count": 41,
   "metadata": {
    "collapsed": true
   },
   "outputs": [],
   "source": [
    "import numpy as np\n",
    "\n",
    "def generate_random_matrix(m, n):\n",
    "    return np.random.uniform(size=(m, n))"
   ]
  },
  {
   "cell_type": "code",
   "execution_count": 51,
   "metadata": {
    "collapsed": true
   },
   "outputs": [],
   "source": [
    "M = generate_random_matrix(3,3)"
   ]
  },
  {
   "cell_type": "code",
   "execution_count": 52,
   "metadata": {},
   "outputs": [
    {
     "data": {
      "text/plain": [
       "True"
      ]
     },
     "execution_count": 52,
     "metadata": {},
     "output_type": "execute_result"
    }
   ],
   "source": [
    "# All values are within the given interval:\n",
    "np.all(M >= 0) and np.all(M < 1)"
   ]
  },
  {
   "cell_type": "code",
   "execution_count": 53,
   "metadata": {
    "collapsed": true
   },
   "outputs": [],
   "source": [
    "A = np.random.uniform(size=1000)"
   ]
  },
  {
   "cell_type": "code",
   "execution_count": 56,
   "metadata": {},
   "outputs": [
    {
     "data": {
      "text/plain": [
       "1000"
      ]
     },
     "execution_count": 56,
     "metadata": {},
     "output_type": "execute_result"
    }
   ],
   "source": [
    "len(A.tolist())"
   ]
  },
  {
   "cell_type": "code",
   "execution_count": 3,
   "metadata": {},
   "outputs": [
    {
     "data": {
      "text/plain": [
       "1.0"
      ]
     },
     "execution_count": 3,
     "metadata": {},
     "output_type": "execute_result"
    }
   ],
   "source": [
    "3.5 // 2 # floor"
   ]
  },
  {
   "cell_type": "code",
   "execution_count": 5,
   "metadata": {},
   "outputs": [
    {
     "data": {
      "text/plain": [
       "2.0"
      ]
     },
     "execution_count": 5,
     "metadata": {},
     "output_type": "execute_result"
    }
   ],
   "source": [
    "-(-3.5//2) # ceil"
   ]
  },
  {
   "cell_type": "code",
   "execution_count": 7,
   "metadata": {},
   "outputs": [
    {
     "name": "stdout",
     "output_type": "stream",
     "text": [
      "4.0\n",
      "3.0\n"
     ]
    }
   ],
   "source": [
    "import math\n",
    "print math.ceil(3.5)\n",
    "print math.floor(3.5)"
   ]
  },
  {
   "cell_type": "markdown",
   "metadata": {
    "collapsed": true
   },
   "source": [
    "# Binary search in sorted array\n",
    "https://www.geeksforgeeks.org/floor-ceil-function-python/\n",
    "\n",
    "\n",
    "def binary_search(A, x):\n",
    "    \n",
    "    low = 0\n",
    "    high = len(A)-1\n",
    "    # invariant: A[low] <= x <= A[high]   \n",
    "    while low < high:\n",
    "        mid = low + high // 2  # take floor\n",
    "        if A[mid] == x:\n",
    "           return mid\n",
    "        else: \n",
    "           if A[mid] < x:\n",
    "              low = mid + 1\n",
    "           else: # A[mid] > x:\n",
    "              high = mid - 1\n",
    "              \n",
    "     if A[low] == x: # low = high when while loop terminates  # wrong: boundary case A = [] and x = 1\n",
    "        return True\n",
    "     else:\n",
    "        return False\n",
    "           \n",
    "           \n",
    "# Does not terminate\n",
    "- boundary case where fails: A = [] and x = 1\n",
    "- fix: if low == high and A[low] == x: return True else return False\n",
    "\n",
    "\n",
    "              \n",
    "    \n",
    "    "
   ]
  },
  {
   "cell_type": "code",
   "execution_count": 4,
   "metadata": {
    "collapsed": true
   },
   "outputs": [],
   "source": [
    "def binary_search(A, x):\n",
    "    low = 0\n",
    "    high = len(A)-1\n",
    "    \n",
    "    # invariant: A[low] <= x <= A[high]   \n",
    "    while low < high:\n",
    "        mid = low + high // 2  # take floor\n",
    "        if A[mid] == x:\n",
    "            return mid\n",
    "        else: \n",
    "            if A[mid] < x:\n",
    "                      low = mid + 1\n",
    "            else: # A[mid] > x:\n",
    "                      high = mid - 1\n",
    "              \n",
    "    if low == high and A[low] == x: # low = high when while loop terminates if A is non-empty\n",
    "        # The (low == high) check takes care of the boundary case when A = [] and x = 1\n",
    "        return True\n",
    "    else:\n",
    "        return False\n",
    "           "
   ]
  },
  {
   "cell_type": "code",
   "execution_count": 7,
   "metadata": {},
   "outputs": [
    {
     "data": {
      "text/plain": [
       "False"
      ]
     },
     "execution_count": 7,
     "metadata": {},
     "output_type": "execute_result"
    }
   ],
   "source": [
    "binary_search(range(100), 101)"
   ]
  },
  {
   "cell_type": "markdown",
   "metadata": {},
   "source": [
    "# Python linked list data structure"
   ]
  },
  {
   "cell_type": "code",
   "execution_count": 46,
   "metadata": {
    "collapsed": true
   },
   "outputs": [],
   "source": [
    "class Node:\n",
    "    def __init__(self, value=None):\n",
    "        self.value = value\n",
    "        \n",
    "    def __str__(self):\n",
    "        return str(self.value)\n",
    "        \n",
    "    def show_value(self):  # not working\n",
    "        return str(self.value)"
   ]
  },
  {
   "cell_type": "code",
   "execution_count": 47,
   "metadata": {},
   "outputs": [
    {
     "name": "stdout",
     "output_type": "stream",
     "text": [
      "3\n",
      "101\n",
      "202\n",
      "303\n"
     ]
    }
   ],
   "source": [
    "a = Node(3)\n",
    "a.show_value()\n",
    "b = Node(101)\n",
    "b.show_value()\n",
    "\n",
    "Node(202).show_value()\n",
    "\n",
    "print Node(303)"
   ]
  },
  {
   "cell_type": "code",
   "execution_count": 34,
   "metadata": {
    "collapsed": true
   },
   "outputs": [],
   "source": [
    "class LinkedList:\n",
    "    def __init__(self, head=None, tail=None):\n",
    "        self.head = head # type Node\n",
    "        self.tail = tail # type LinkedList\n",
    "        \n",
    "        if head == None:\n",
    "            self.length = 0\n",
    "        else:\n",
    "            self.length = 1 + self.tail.get_length()\n",
    "            \n",
    "    def is_empty(self):\n",
    "        return self.length == 0\n",
    "    \n",
    "    def get_length(self):\n",
    "        if self.head == None:\n",
    "            return 0\n",
    "        \n",
    "        return self.length\n",
    "    \n",
    "    def print_head(self):\n",
    "        if not self.is_empty():\n",
    "            print self.head\n",
    "        else:\n",
    "            print \"END_OF_LIST\"\n",
    "            \n",
    "    def print_all(self):\n",
    "        if not self.is_empty():\n",
    "            self.print_head()\n",
    "            self.tail.print_all()\n",
    "        else:\n",
    "            print \"END_OF_LIST\"        \n",
    "            \n",
    "    def insert(self, new_value):        \n",
    "        if self.is_empty():\n",
    "            new_node = Node(new_value)\n",
    "            self.head = new_node\n",
    "            self.tail = LinkedList()\n",
    "        else:\n",
    "            self.tail = self.tail.insert(new_value)   \n",
    "        self.length = self.length + 1\n",
    "        return self   \n",
    "    \n",
    "    def delete(self, index):\n",
    "        if index > self.length - 1:\n",
    "            print \"INDEX_OUT_OF_RANGE\"\n",
    "            return self\n",
    "        \n",
    "        if index == 0:\n",
    "            return self.tail\n",
    "        else:\n",
    "            self.length = self.length - 1\n",
    "            self.tail = self.tail.delete(index-1)\n",
    "            return self        "
   ]
  },
  {
   "cell_type": "code",
   "execution_count": 65,
   "metadata": {},
   "outputs": [
    {
     "name": "stdout",
     "output_type": "stream",
     "text": [
      "INDEX_OUT_OF_RANGE\n",
      "2\n",
      "4\n",
      "8\n",
      "END_OF_LIST\n"
     ]
    }
   ],
   "source": [
    "a = LinkedList()\n",
    "a.get_length()\n",
    "b = a.insert(Node(2)).insert(Node(4)).insert(Node(8)).delete(5)\n",
    "b.tail.get_length()\n",
    "b.print_all()"
   ]
  },
  {
   "cell_type": "code",
   "execution_count": 37,
   "metadata": {},
   "outputs": [
    {
     "data": {
      "text/plain": [
       "2"
      ]
     },
     "execution_count": 37,
     "metadata": {},
     "output_type": "execute_result"
    }
   ],
   "source": [
    "a = LinkedList(Node(3), LinkedList(Node(4), LinkedList(None, None)))\n",
    "a.length"
   ]
  },
  {
   "cell_type": "markdown",
   "metadata": {},
   "source": [
    "# Python binary tree"
   ]
  },
  {
   "cell_type": "code",
   "execution_count": 4,
   "metadata": {
    "collapsed": true
   },
   "outputs": [],
   "source": [
    "class Node:\n",
    "    def __init__(self, value=None):\n",
    "        self.value = value\n",
    "        \n",
    "    def __str__(self):\n",
    "        return str(self.value)"
   ]
  },
  {
   "cell_type": "code",
   "execution_count": 65,
   "metadata": {
    "collapsed": true
   },
   "outputs": [],
   "source": [
    "class BinaryTree:\n",
    "    def __init__(self, root=None, left=None, right=None):\n",
    "        self.root = root # type Node\n",
    "        self.left = left  # type BinaryTree\n",
    "        self.right = right # type BinaryTree\n",
    "        \n",
    "        if root == None:\n",
    "            self.size = 0\n",
    "        else:\n",
    "            self.size = 1 + self.left.get_size() + self.right.get_size()\n",
    "            \n",
    "    def is_empty(self):\n",
    "        return self.root == None or self == None\n",
    "    \n",
    "    def get_size(self):\n",
    "        if self.root == None:\n",
    "            return 0\n",
    "        return self.size\n",
    "    \n",
    "    def print_root(self):\n",
    "        if not self.is_empty():\n",
    "            print self.root\n",
    "        \n",
    "    def print_all(self): # root left right\n",
    "        self.print_root()\n",
    "        if not self.left.is_empty():\n",
    "            self.left.print_all()\n",
    "        if not self.right.is_empty():    \n",
    "            self.right.print_all()     "
   ]
  },
  {
   "cell_type": "code",
   "execution_count": 66,
   "metadata": {
    "collapsed": true
   },
   "outputs": [],
   "source": [
    "tree = BinaryTree(Node(2), BinaryTree(Node(4), BinaryTree(), BinaryTree()), BinaryTree(Node(8), BinaryTree(), BinaryTree()))"
   ]
  },
  {
   "cell_type": "code",
   "execution_count": 67,
   "metadata": {},
   "outputs": [
    {
     "data": {
      "text/plain": [
       "3"
      ]
     },
     "execution_count": 67,
     "metadata": {},
     "output_type": "execute_result"
    }
   ],
   "source": [
    "tree.get_size()"
   ]
  },
  {
   "cell_type": "code",
   "execution_count": 68,
   "metadata": {},
   "outputs": [
    {
     "name": "stdout",
     "output_type": "stream",
     "text": [
      "2\n",
      "4\n",
      "8\n"
     ]
    }
   ],
   "source": [
    "tree.print_all()"
   ]
  },
  {
   "cell_type": "markdown",
   "metadata": {
    "collapsed": true
   },
   "source": [
    "# powerset"
   ]
  },
  {
   "cell_type": "markdown",
   "metadata": {},
   "source": [
    " def powerset(A):\n",
    "     if A == []:\n",
    "        return [[]]\n",
    "     else:\n",
    "        temp = powerset(A[1:])\n",
    "        return temp + temp.map(x : x.append(A[0]))\n",
    "       \n",
    "       \n",
    " # wrong: deep copy      \n",
    "    "
   ]
  },
  {
   "cell_type": "code",
   "execution_count": 44,
   "metadata": {
    "collapsed": true
   },
   "outputs": [],
   "source": [
    "def powerset(A):\n",
    "    if len(A) == 0:\n",
    "        return [[]]\n",
    "    else:\n",
    "        power_without_first = powerset(A[1:])\n",
    "        power_with_first = []\n",
    "        for x_set in power_without_first:\n",
    "            y_set = []\n",
    "            for x in x_set:\n",
    "                y_set.append(x)\n",
    "            y_set.append(A[0]) \n",
    "            power_with_first.append(y_set)\n",
    "        \n",
    "        return power_with_first + power_without_first"
   ]
  },
  {
   "cell_type": "code",
   "execution_count": 10,
   "metadata": {},
   "outputs": [
    {
     "data": {
      "text/plain": [
       "[[]]"
      ]
     },
     "execution_count": 10,
     "metadata": {},
     "output_type": "execute_result"
    }
   ],
   "source": [
    "powerset([])"
   ]
  },
  {
   "cell_type": "code",
   "execution_count": 16,
   "metadata": {},
   "outputs": [
    {
     "name": "stdout",
     "output_type": "stream",
     "text": [
      "1\n"
     ]
    },
    {
     "data": {
      "text/plain": [
       "[None, [1]]"
      ]
     },
     "execution_count": 16,
     "metadata": {},
     "output_type": "execute_result"
    }
   ],
   "source": [
    "powerset([1])"
   ]
  },
  {
   "cell_type": "code",
   "execution_count": 45,
   "metadata": {},
   "outputs": [
    {
     "data": {
      "text/plain": [
       "[2]"
      ]
     },
     "execution_count": 45,
     "metadata": {},
     "output_type": "execute_result"
    }
   ],
   "source": [
    "A = [1,2]\n",
    "A[1:]"
   ]
  },
  {
   "cell_type": "code",
   "execution_count": 46,
   "metadata": {},
   "outputs": [
    {
     "data": {
      "text/plain": [
       "[[2, 1], [1], [2], []]"
      ]
     },
     "execution_count": 46,
     "metadata": {},
     "output_type": "execute_result"
    }
   ],
   "source": [
    "powerset(A)"
   ]
  },
  {
   "cell_type": "markdown",
   "metadata": {},
   "source": [
    "# Given an unsorted array of non-negative integers, find a continuous sub-array which adds to a given number."
   ]
  },
  {
   "cell_type": "code",
   "execution_count": 65,
   "metadata": {
    "collapsed": true
   },
   "outputs": [],
   "source": [
    "def subsum(A, target):\n",
    "    partial_sums = {}\n",
    "    s = 0\n",
    "    partial_sums[-1] = 0\n",
    "    \n",
    "    for i in range(len(A)):\n",
    "        s = s + A[i]\n",
    "        partial_sums[i] = s\n",
    "    \n",
    "    print partial_sums    \n",
    "    \n",
    "    for value in partial_sums.values():\n",
    "        if value - target in partial_sums.values(): # value - target in partial_sums searches both keys and values\n",
    "            # this check is inefficient\n",
    "            print value\n",
    "            return True\n",
    "        \n",
    "    return False    \n",
    "\n",
    "# corner cases : A = [] , A = [2]\n",
    "           \n",
    "# https://en.wikiversity.org/wiki/Python_Programming/Tuples_and_Sets\n",
    "# list and dictionary are mutable vs tuple and set are immutable\n",
    "# Sets support logical set operations, including membership, subset, superset, union (|), intersection (&), and difference (-).\n",
    "# https://www.tutorialspoint.com/python/python_dictionary.htm\n",
    "\n"
   ]
  },
  {
   "cell_type": "code",
   "execution_count": 14,
   "metadata": {
    "collapsed": true
   },
   "outputs": [],
   "source": [
    "def subsum(A, target):\n",
    "    partial_sums = {}\n",
    "    \n",
    "    s = 0\n",
    "    partial_sums[0] = -1\n",
    "    \n",
    "    for i in range(len(A)):\n",
    "        s = s + A[i]\n",
    "        partial_sums[s] = i\n",
    "    \n",
    "    print partial_sums    \n",
    "    \n",
    "    for s in partial_sums.keys():\n",
    "        if partial_sums.has_key(s-target): # value - target in partial_sums searches both keys and values\n",
    "            print partial_sums.get(s-target), partial_sums.get(s)\n",
    "            return True\n",
    "        \n",
    "    return False    \n"
   ]
  },
  {
   "cell_type": "code",
   "execution_count": 72,
   "metadata": {},
   "outputs": [
    {
     "name": "stdout",
     "output_type": "stream",
     "text": [
      "{0: -1, 1: 0, 4: 1, 40: 5, 9: 2, 16: 3, 27: 4}\n",
      "-1 3\n"
     ]
    },
    {
     "data": {
      "text/plain": [
       "True"
      ]
     },
     "execution_count": 72,
     "metadata": {},
     "output_type": "execute_result"
    }
   ],
   "source": [
    "A = []\n",
    "A = [1]\n",
    "A = [3]\n",
    "A = [1, 3, 5, 7, 11, 13]\n",
    "subsum(A, 16)"
   ]
  },
  {
   "cell_type": "markdown",
   "metadata": {},
   "source": [
    "# Write a function that counts the nodes in BS-tree whose values fit in the given range"
   ]
  },
  {
   "cell_type": "code",
   "execution_count": null,
   "metadata": {
    "collapsed": true
   },
   "outputs": [],
   "source": []
  },
  {
   "cell_type": "markdown",
   "metadata": {
    "collapsed": true
   },
   "source": [
    "# Given an array A of integers, find the maximum of j - i subjected to the constraint of A[i] <= A[j]"
   ]
  },
  {
   "cell_type": "code",
   "execution_count": 35,
   "metadata": {
    "collapsed": true
   },
   "outputs": [],
   "source": [
    "def find_max_diff(A):\n",
    "    B = zip (range(len(A)),  A)\n",
    "    C = sorted(B, key=lambda x: x[1])\n",
    "    \n",
    "    \n",
    "    min_of_prefixes = [C[0][0]] # min_of_prefixes[i] is min until including i th\n",
    "    for j in range(len(C)-1):\n",
    "        min_of_prefixes.append(min(min_of_prefixes[j], C[j+1][0]))\n",
    "        \n",
    "        \n",
    "    max_diff = 0    \n",
    "    for j in range(1, len(A)):\n",
    "        if C[j][0] - min_of_prefixes[j-1] > max_diff:\n",
    "            max_diff = C[j][0] - min_of_prefixes[j-1]\n",
    "            \n",
    "    print min_of_prefixes        \n",
    "            \n",
    "    return max_diff        "
   ]
  },
  {
   "cell_type": "code",
   "execution_count": 36,
   "metadata": {},
   "outputs": [
    {
     "name": "stdout",
     "output_type": "stream",
     "text": [
      "[(4, 2), (0, 3), (2, 4), (3, 7), (1, 9)]\n",
      "[4, 0, 0, 0, 0]\n"
     ]
    },
    {
     "data": {
      "text/plain": [
       "3"
      ]
     },
     "execution_count": 36,
     "metadata": {},
     "output_type": "execute_result"
    }
   ],
   "source": [
    "A = [3, 9, 4, 7, 2]\n",
    "\n",
    "B = zip (range(len(A)),  A)\n",
    "C = sorted(B, key=lambda x: x[1])\n",
    "\n",
    "print C\n",
    "\n",
    "find_max_diff(A)"
   ]
  },
  {
   "cell_type": "code",
   "execution_count": null,
   "metadata": {
    "collapsed": true
   },
   "outputs": [],
   "source": []
  },
  {
   "cell_type": "markdown",
   "metadata": {
    "collapsed": true
   },
   "source": [
    "# You are given an array A containing 2*N+2 positive numbers, out of which N numbers are repeated exactly once and the other two numbers occur exactly once and are distinct. You need to find the other two numbers and print them in ascending order.\n",
    "\n",
    "- list operations in python: https://www.tutorialspoint.com/python/python_lists.htm\n",
    "- delete, remove, and pop: https://stackoverflow.com/questions/11520492/difference-between-del-remove-and-pop-on-lists\n",
    "- sort vs sorted: https://stackoverflow.com/questions/22442378/what-is-the-difference-between-sortedlist-vs-list-sort"
   ]
  },
  {
   "cell_type": "code",
   "execution_count": 49,
   "metadata": {
    "collapsed": true
   },
   "outputs": [],
   "source": [
    "@timer # O(n^2)\n",
    "def find_nonrep(A): \n",
    "    numbers = []\n",
    "    for i in range(len(A)):\n",
    "        if A[i] in numbers:\n",
    "            numbers.remove(A[i])\n",
    "        else:\n",
    "            numbers.append(A[i])\n",
    "    numbers.sort()\n",
    "    return numbers"
   ]
  },
  {
   "cell_type": "code",
   "execution_count": 70,
   "metadata": {},
   "outputs": [
    {
     "name": "stdout",
     "output_type": "stream",
     "text": [
      "Running time for function find_nonrep is 0.619572877884\n"
     ]
    },
    {
     "data": {
      "text/plain": [
       "[-2, -1]"
      ]
     },
     "execution_count": 70,
     "metadata": {},
     "output_type": "execute_result"
    }
   ],
   "source": [
    "N = 10000\n",
    "A = range(N) + range(N) + [-1, -2]\n",
    "\n",
    "find_nonrep(A)"
   ]
  },
  {
   "cell_type": "code",
   "execution_count": 72,
   "metadata": {
    "collapsed": true
   },
   "outputs": [],
   "source": [
    "@timer # O(n)\n",
    "def find_nonrep_linear(A):\n",
    "    numbers = {}\n",
    "    for i in range(len(A)):\n",
    "        if numbers.has_key(A[i]):\n",
    "            numbers[A[i]] = \"second_time\"\n",
    "        else:\n",
    "            numbers[A[i]] = \"first_time\"\n",
    "        \n",
    "    result = sorted([key for key in numbers.keys() if numbers[key] == \"first_time\"]) \n",
    "    \n",
    "    return result\n",
    "            "
   ]
  },
  {
   "cell_type": "code",
   "execution_count": 73,
   "metadata": {},
   "outputs": [
    {
     "name": "stdout",
     "output_type": "stream",
     "text": [
      "Running time for function find_nonrep_linear is 0.00786805152893\n"
     ]
    },
    {
     "data": {
      "text/plain": [
       "[-2, -1]"
      ]
     },
     "execution_count": 73,
     "metadata": {},
     "output_type": "execute_result"
    }
   ],
   "source": [
    "find_nonrep_linear(A)"
   ]
  },
  {
   "cell_type": "markdown",
   "metadata": {},
   "source": [
    "# FizBuzz: print fizz for multiples of 3, buzz for multiples of 5, and fizzbuzz for multiples of both\n",
    "- control flow: https://www.safaribooksonline.com/library/view/python-in-a/0596001886/ch04s09.html"
   ]
  },
  {
   "cell_type": "code",
   "execution_count": 32,
   "metadata": {
    "collapsed": true
   },
   "outputs": [],
   "source": [
    "def fizz_buz(numbers):  \n",
    "    \n",
    "    for number in range(1, numbers): \n",
    "        \n",
    "        if number % 3 == 0 and number % 5 == 0:\n",
    "            print \"{} is Fizz and Buzz\".format(number)\n",
    "        elif number % 3 == 0:\n",
    "            print \"{} is Fizz\".format(number)\n",
    "        elif number % 5 == 0:\n",
    "            print \"{} is Buzz\".format(number)\n",
    "        else:\n",
    "            print \"{} is N/A\".format(number)\n",
    "            \n",
    "        print \"-------\""
   ]
  },
  {
   "cell_type": "code",
   "execution_count": 33,
   "metadata": {},
   "outputs": [
    {
     "name": "stdout",
     "output_type": "stream",
     "text": [
      "1 is N/A\n",
      "-------\n",
      "2 is N/A\n",
      "-------\n",
      "3 is Fizz\n",
      "-------\n",
      "4 is N/A\n",
      "-------\n",
      "5 is Buzz\n",
      "-------\n",
      "6 is Fizz\n",
      "-------\n",
      "7 is N/A\n",
      "-------\n",
      "8 is N/A\n",
      "-------\n",
      "9 is Fizz\n",
      "-------\n",
      "10 is Buzz\n",
      "-------\n",
      "11 is N/A\n",
      "-------\n",
      "12 is Fizz\n",
      "-------\n",
      "13 is N/A\n",
      "-------\n",
      "14 is N/A\n",
      "-------\n",
      "15 is Fizz and Buzz\n",
      "-------\n",
      "16 is N/A\n",
      "-------\n",
      "17 is N/A\n",
      "-------\n",
      "18 is Fizz\n",
      "-------\n",
      "19 is N/A\n",
      "-------\n",
      "20 is Buzz\n",
      "-------\n",
      "21 is Fizz\n",
      "-------\n",
      "22 is N/A\n",
      "-------\n",
      "23 is N/A\n",
      "-------\n",
      "24 is Fizz\n",
      "-------\n",
      "25 is Buzz\n",
      "-------\n",
      "26 is N/A\n",
      "-------\n",
      "27 is Fizz\n",
      "-------\n",
      "28 is N/A\n",
      "-------\n",
      "29 is N/A\n",
      "-------\n",
      "30 is Fizz and Buzz\n",
      "-------\n",
      "31 is N/A\n",
      "-------\n",
      "32 is N/A\n",
      "-------\n",
      "33 is Fizz\n",
      "-------\n",
      "34 is N/A\n",
      "-------\n",
      "35 is Buzz\n",
      "-------\n",
      "36 is Fizz\n",
      "-------\n",
      "37 is N/A\n",
      "-------\n",
      "38 is N/A\n",
      "-------\n",
      "39 is Fizz\n",
      "-------\n",
      "40 is Buzz\n",
      "-------\n",
      "41 is N/A\n",
      "-------\n",
      "42 is Fizz\n",
      "-------\n",
      "43 is N/A\n",
      "-------\n",
      "44 is N/A\n",
      "-------\n",
      "45 is Fizz and Buzz\n",
      "-------\n",
      "46 is N/A\n",
      "-------\n",
      "47 is N/A\n",
      "-------\n",
      "48 is Fizz\n",
      "-------\n",
      "49 is N/A\n",
      "-------\n",
      "50 is Buzz\n",
      "-------\n",
      "51 is Fizz\n",
      "-------\n",
      "52 is N/A\n",
      "-------\n",
      "53 is N/A\n",
      "-------\n",
      "54 is Fizz\n",
      "-------\n",
      "55 is Buzz\n",
      "-------\n",
      "56 is N/A\n",
      "-------\n",
      "57 is Fizz\n",
      "-------\n",
      "58 is N/A\n",
      "-------\n",
      "59 is N/A\n",
      "-------\n",
      "60 is Fizz and Buzz\n",
      "-------\n",
      "61 is N/A\n",
      "-------\n",
      "62 is N/A\n",
      "-------\n",
      "63 is Fizz\n",
      "-------\n",
      "64 is N/A\n",
      "-------\n",
      "65 is Buzz\n",
      "-------\n",
      "66 is Fizz\n",
      "-------\n",
      "67 is N/A\n",
      "-------\n",
      "68 is N/A\n",
      "-------\n",
      "69 is Fizz\n",
      "-------\n",
      "70 is Buzz\n",
      "-------\n",
      "71 is N/A\n",
      "-------\n",
      "72 is Fizz\n",
      "-------\n",
      "73 is N/A\n",
      "-------\n",
      "74 is N/A\n",
      "-------\n",
      "75 is Fizz and Buzz\n",
      "-------\n",
      "76 is N/A\n",
      "-------\n",
      "77 is N/A\n",
      "-------\n",
      "78 is Fizz\n",
      "-------\n",
      "79 is N/A\n",
      "-------\n",
      "80 is Buzz\n",
      "-------\n",
      "81 is Fizz\n",
      "-------\n",
      "82 is N/A\n",
      "-------\n",
      "83 is N/A\n",
      "-------\n",
      "84 is Fizz\n",
      "-------\n",
      "85 is Buzz\n",
      "-------\n",
      "86 is N/A\n",
      "-------\n",
      "87 is Fizz\n",
      "-------\n",
      "88 is N/A\n",
      "-------\n",
      "89 is N/A\n",
      "-------\n",
      "90 is Fizz and Buzz\n",
      "-------\n",
      "91 is N/A\n",
      "-------\n",
      "92 is N/A\n",
      "-------\n",
      "93 is Fizz\n",
      "-------\n",
      "94 is N/A\n",
      "-------\n",
      "95 is Buzz\n",
      "-------\n",
      "96 is Fizz\n",
      "-------\n",
      "97 is N/A\n",
      "-------\n",
      "98 is N/A\n",
      "-------\n",
      "99 is Fizz\n",
      "-------\n"
     ]
    }
   ],
   "source": [
    "fizz_buz(100)"
   ]
  },
  {
   "cell_type": "markdown",
   "metadata": {},
   "source": [
    "# implementing trie in python\n",
    "- https://stackoverflow.com/questions/11015320/how-to-create-a-trie-in-python\n",
    "- https://docs.quantifiedcode.com/python-anti-patterns/correctness/not_using_defaultdict.html"
   ]
  },
  {
   "cell_type": "code",
   "execution_count": 123,
   "metadata": {
    "collapsed": true
   },
   "outputs": [],
   "source": [
    "_leaf = 'LEAF'\n",
    "def create_trie(words):\n",
    "    trie = {} \n",
    "    for word in words:\n",
    "        current = trie\n",
    "        for letter in word:\n",
    "            if current.has_key(letter):\n",
    "                current = current[letter]\n",
    "            else:\n",
    "                current[letter] = {}\n",
    "                current = current[letter]\n",
    "        current[_leaf] = _leaf               \n",
    "    return trie        "
   ]
  },
  {
   "cell_type": "code",
   "execution_count": 124,
   "metadata": {},
   "outputs": [
    {
     "data": {
      "text/plain": [
       "{'a': {'b': {'LEAF': 'LEAF', 'c': {'LEAF': 'LEAF'}}},\n",
       " 'b': {'c': {'LEAF': 'LEAF', 'd': {'LEAF': 'LEAF'}}}}"
      ]
     },
     "execution_count": 124,
     "metadata": {},
     "output_type": "execute_result"
    }
   ],
   "source": [
    "create_trie(['abc', 'ab', 'bc', 'bcd'])"
   ]
  },
  {
   "cell_type": "code",
   "execution_count": 104,
   "metadata": {
    "collapsed": true
   },
   "outputs": [],
   "source": [
    "trie = create_trie(['abc', 'ab', 'bc', 'bcd'])\n",
    "def is_in(trie, word):\n",
    "    current = trie\n",
    "    for letter in word:\n",
    "        if not current.has_key(letter):\n",
    "            return False\n",
    "        current = current[letter]\n",
    "        \n",
    "    if current.has_key(_stop):\n",
    "        return True\n",
    "    else:\n",
    "        return False"
   ]
  },
  {
   "cell_type": "code",
   "execution_count": 114,
   "metadata": {},
   "outputs": [
    {
     "name": "stdout",
     "output_type": "stream",
     "text": [
      "True\n",
      "False\n"
     ]
    }
   ],
   "source": [
    "print is_in(trie, 'ab')\n",
    "print is_in(trie, 'aa')"
   ]
  },
  {
   "cell_type": "markdown",
   "metadata": {},
   "source": [
    "# mutable vs immutable\n",
    "- mutable (call by reference): list, dict, ser, byte array \n",
    "- immutable (call by value): int, float, complex, string, tuple, frozen set (immutable version of set), bytes\n",
    "\n",
    "Reference\n",
    "- https://stackoverflow.com/questions/9714815/why-tuple-is-not-mutable-in-python\n",
    "- https://medium.com/@meghamohan/mutable-and-immutable-side-of-python-c2145cf72747"
   ]
  },
  {
   "cell_type": "markdown",
   "metadata": {},
   "source": [
    "# implementing binary heap in python"
   ]
  },
  {
   "cell_type": "code",
   "execution_count": 1,
   "metadata": {
    "collapsed": true
   },
   "outputs": [],
   "source": [
    "from heapq import heappush, heappop\n",
    "heap = []\n",
    "data = [1, 3, 5, 7, 9, 2, 4, 6, 8, 0]\n",
    "for item in data:\n",
    "    heappush(heap, item)"
   ]
  },
  {
   "cell_type": "code",
   "execution_count": 2,
   "metadata": {},
   "outputs": [
    {
     "data": {
      "text/plain": [
       "0"
      ]
     },
     "execution_count": 2,
     "metadata": {},
     "output_type": "execute_result"
    }
   ],
   "source": [
    "heappop(heap)"
   ]
  },
  {
   "cell_type": "code",
   "execution_count": 9,
   "metadata": {
    "collapsed": true
   },
   "outputs": [],
   "source": [
    "N = 1000000\n",
    "data = reversed(range(N))\n",
    "for item in data:\n",
    "    heappush(heap, item)"
   ]
  },
  {
   "cell_type": "code",
   "execution_count": 10,
   "metadata": {
    "collapsed": true
   },
   "outputs": [],
   "source": [
    "@timer\n",
    "def normal_max(data):\n",
    "    maximum = 0\n",
    "    for item in data:\n",
    "        if item > maximum:\n",
    "            maximum = item\n",
    "    return maximum"
   ]
  },
  {
   "cell_type": "code",
   "execution_count": 11,
   "metadata": {},
   "outputs": [
    {
     "name": "stdout",
     "output_type": "stream",
     "text": [
      "Running time for function normal_max is 1.19209289551e-06\n"
     ]
    },
    {
     "data": {
      "text/plain": [
       "0"
      ]
     },
     "execution_count": 11,
     "metadata": {},
     "output_type": "execute_result"
    }
   ],
   "source": [
    "normal_max(data)"
   ]
  },
  {
   "cell_type": "code",
   "execution_count": 12,
   "metadata": {
    "collapsed": true
   },
   "outputs": [],
   "source": [
    "@timer\n",
    "def get_min_from_heap(heap):\n",
    "    return heappop(heap)"
   ]
  },
  {
   "cell_type": "code",
   "execution_count": 13,
   "metadata": {},
   "outputs": [
    {
     "name": "stdout",
     "output_type": "stream",
     "text": [
      "Running time for function get_min_from_heap is 3.19480895996e-05\n"
     ]
    },
    {
     "data": {
      "text/plain": [
       "0"
      ]
     },
     "execution_count": 13,
     "metadata": {},
     "output_type": "execute_result"
    }
   ],
   "source": [
    "get_min_from_heap(heap)"
   ]
  },
  {
   "cell_type": "code",
   "execution_count": 17,
   "metadata": {
    "collapsed": true
   },
   "outputs": [],
   "source": [
    "def swap(A, i, j):\n",
    "            temp = A[i]\n",
    "            A[i] = A[j]\n",
    "            A[j] = temp\n",
    "            \n",
    "class heap: # max heap of positive numbers \n",
    "    def __init__(self, data=[]): # take an operator as argument: min heap or max heap\n",
    "        self.data = data\n",
    "        self.size = len(data)\n",
    "        \n",
    "    def is_empty(self):    \n",
    "        return self.size == 0\n",
    "    \n",
    "    def insert(self, x):\n",
    "        self.data.append(x)\n",
    "        self.size = self.size + 1\n",
    "        self.sift()\n",
    "        return self\n",
    "        \n",
    "    def sift(self):\n",
    "        current = self.size - 1\n",
    "        parent = current // 2 # floor\n",
    "        \n",
    "        A = self.data\n",
    "        \n",
    "        while A[current] > A[parent]:\n",
    "            swap(A, parent, current)\n",
    "            current = parent\n",
    "            parent = current // 2\n",
    "            \n",
    "    def pop(self):\n",
    "        head = self.data[0]\n",
    "        self.data[0] = self.data[self.size - 1]\n",
    "        self.size = self.size - 1\n",
    "        self.data.pop()\n",
    "        self.heapify()\n",
    "        return head, self\n",
    "    \n",
    "    def heapify(self):\n",
    "        \n",
    "        if self.size < 2:\n",
    "            return self\n",
    "        if self.size == 2:\n",
    "            if self.data[0] < self.data[1]:\n",
    "                temp = self.data[0]\n",
    "                self.data[0] = self.data[1]\n",
    "                self.data[1] = temp\n",
    "            return self    \n",
    "                \n",
    "        current = 0\n",
    "        left = 2*current + 1\n",
    "        right = 2*current + 2\n",
    "        \n",
    "        A = self.data\n",
    "            \n",
    "        def get_left_right(current):\n",
    "            left = 2*current + 1\n",
    "            right = 2*current + 2\n",
    "            \n",
    "            if left > self.size - 1:\n",
    "                left = current\n",
    "                right = current\n",
    "            elif right > self.size -1:\n",
    "                right = current\n",
    "            else:\n",
    "                pass\n",
    "            \n",
    "            return left, right        \n",
    "        \n",
    "        while not (A[current] >= A[left] and A[current] >= A[right]):    \n",
    "            if A[left] > A[right]:\n",
    "                swap(A, current, left)\n",
    "                current = left\n",
    "                left, right = get_left_right(current)\n",
    "            else:\n",
    "                swap(A, current, right)\n",
    "                current = right\n",
    "                left, right = get_left_right(current)\n",
    "                \n",
    "        return self        \n",
    "            \n",
    "    def show(self):\n",
    "        print self.data\n",
    "        A = self.data\n",
    "        # given heap array represent and show it as a nested dictionary\n",
    "        "
   ]
  },
  {
   "cell_type": "code",
   "execution_count": 141,
   "metadata": {
    "collapsed": true
   },
   "outputs": [],
   "source": [
    "h = heap()"
   ]
  },
  {
   "cell_type": "code",
   "execution_count": 150,
   "metadata": {
    "collapsed": true
   },
   "outputs": [],
   "source": [
    "hp = hp.insert(2).insert(3).insert(10).insert(5).insert(8)"
   ]
  },
  {
   "cell_type": "code",
   "execution_count": 151,
   "metadata": {},
   "outputs": [
    {
     "name": "stdout",
     "output_type": "stream",
     "text": [
      "[10, 10, 8, 8, 5, 2, 3, 3, 2, 5]\n"
     ]
    }
   ],
   "source": [
    "hp.show()"
   ]
  },
  {
   "cell_type": "code",
   "execution_count": 152,
   "metadata": {},
   "outputs": [
    {
     "name": "stdout",
     "output_type": "stream",
     "text": [
      "10\n",
      "10\n",
      "8\n",
      "8\n",
      "5\n",
      "5\n",
      "3\n",
      "3\n",
      "2\n",
      "2\n"
     ]
    }
   ],
   "source": [
    "while not hp.is_empty():\n",
    "    a, hp = hp.pop()\n",
    "    print a"
   ]
  },
  {
   "cell_type": "markdown",
   "metadata": {
    "collapsed": true
   },
   "source": [
    "# Local maximum\n",
    "A[i-1] < A[i] and A[i+1] < A[i]"
   ]
  },
  {
   "cell_type": "code",
   "execution_count": 13,
   "metadata": {
    "collapsed": true
   },
   "outputs": [],
   "source": [
    "def local_max(A):\n",
    "    _no = \"NO_LOCAL_MAX\"\n",
    "    \n",
    "    if len(A) == 0:\n",
    "        return _no\n",
    "    if len(A) == 1:\n",
    "        return A[0]\n",
    "    if len(A) == 2:\n",
    "        if A[0] > A[1]:\n",
    "            return A[0]\n",
    "        elif A[1] > A[0]:\n",
    "            return A[1]\n",
    "        else:\n",
    "            return _no\n",
    "    \n",
    "    \n",
    "    if A[0] > A[1]:\n",
    "        return A[0]\n",
    "    \n",
    "    for i in range(1, len(A) - 2):\n",
    "        if A[i-1] < A[i] and A[i+1] < A[i]:\n",
    "               return A[i]\n",
    "        \n",
    "    if A[-1] > A[-2]:\n",
    "        return A[-1]\n",
    "    \n",
    "    return _no"
   ]
  },
  {
   "cell_type": "code",
   "execution_count": 14,
   "metadata": {},
   "outputs": [
    {
     "name": "stdout",
     "output_type": "stream",
     "text": [
      "NO_LOCAL_MAX\n"
     ]
    }
   ],
   "source": [
    "print local_max([1,1])"
   ]
  },
  {
   "cell_type": "code",
   "execution_count": null,
   "metadata": {
    "collapsed": true
   },
   "outputs": [],
   "source": [
    "Example of MongoDB schema\n",
    "# define the index\n",
    "# define the avatar\n",
    "user =  {user_id: long, \n",
    "        user_name: char[16], \n",
    "        password: char[16], \n",
    "        email: char[32],\n",
    "        created_at: timestamp,\n",
    "        user_logs: [{}]}\n",
    "            \n",
    "\n",
    "query = {query_id: long,\n",
    "         created_at: timestamp,\n",
    "         updated_at: timestamp,\n",
    "         # update_logs: [{}]\n",
    "         content: char[200],\n",
    "         asker_id: long int, \n",
    "         response: [{response_id:long, \n",
    "                     responder_id: long, \n",
    "                     content: char[200], \n",
    "                     comments: [{comment_id: long, commenter_id: long, content: char[100]}]}]}"
   ]
  },
  {
   "cell_type": "code",
   "execution_count": 29,
   "metadata": {
    "collapsed": true
   },
   "outputs": [],
   "source": [
    "def swap(A, i, j):\n",
    "    temp = A[i]\n",
    "    A[i] = A[j]\n",
    "    A[j] = temp\n",
    "\n",
    "def bubble(A, i):\n",
    "    while i > 0 and A[i] < A[i-1]:\n",
    "            swap(A, i, i-1)\n",
    "            i = i - 1       \n",
    "@timer        \n",
    "def bubble_sort(A):\n",
    "    for i in range(len(A)):\n",
    "        bubble(A, i)\n",
    "        \n",
    "    return A     \n",
    "        "
   ]
  },
  {
   "cell_type": "code",
   "execution_count": 19,
   "metadata": {
    "collapsed": true
   },
   "outputs": [],
   "source": [
    "from random import randint\n",
    "N = 10\n",
    "A = []\n",
    "for i in range(N):\n",
    "    r = randint(1, 100)\n",
    "    A.append(r)\n",
    "    "
   ]
  },
  {
   "cell_type": "code",
   "execution_count": 3,
   "metadata": {},
   "outputs": [
    {
     "name": "stdout",
     "output_type": "stream",
     "text": [
      "[1, 49, 18, 7, 2, 2, 61, 21, 36, 34]\n"
     ]
    },
    {
     "data": {
      "text/plain": [
       "[1, 2, 2, 7, 18, 21, 34, 36, 49, 61]"
      ]
     },
     "execution_count": 3,
     "metadata": {},
     "output_type": "execute_result"
    }
   ],
   "source": [
    "print A\n",
    "bubble_sort(A)"
   ]
  },
  {
   "cell_type": "code",
   "execution_count": 31,
   "metadata": {
    "collapsed": true
   },
   "outputs": [],
   "source": [
    "def merge(X, Y):\n",
    "    i = 0\n",
    "    j = 0\n",
    "    Z = []\n",
    "    \n",
    "    while i < len(X) and j < len(Y):\n",
    "        if X[i] < Y[j]:\n",
    "            Z.append(X[i])\n",
    "            i = i + 1\n",
    "        else:\n",
    "            Z.append(Y[j])\n",
    "            j = j + 1\n",
    "    \n",
    "    for x in X[i:]:\n",
    "        Z.append(x)\n",
    "        \n",
    "    for y in Y[j:]:\n",
    "        Z.append(y)\n",
    "     \n",
    "    return Z \n",
    "        \n",
    "\n",
    "def merge_sort(A):\n",
    "    if len(A) <= 1:\n",
    "        return A\n",
    "    \n",
    "    mid = len(A) // 2\n",
    "    return merge(merge_sort(A[:mid]), merge_sort(A[mid:]))"
   ]
  },
  {
   "cell_type": "code",
   "execution_count": 18,
   "metadata": {},
   "outputs": [
    {
     "data": {
      "text/plain": [
       "[1, 2, 2, 7, 18, 21, 34, 36, 49, 61]"
      ]
     },
     "execution_count": 18,
     "metadata": {},
     "output_type": "execute_result"
    }
   ],
   "source": [
    "merge_sort(A)"
   ]
  },
  {
   "cell_type": "code",
   "execution_count": 42,
   "metadata": {
    "collapsed": true
   },
   "outputs": [],
   "source": [
    "N = 1000000\n",
    "A = []\n",
    "for i in range(N):\n",
    "    r = randint(1, 2*N)\n",
    "    A.append(r)   "
   ]
  },
  {
   "cell_type": "code",
   "execution_count": 45,
   "metadata": {},
   "outputs": [
    {
     "name": "stdout",
     "output_type": "stream",
     "text": [
      "7.05837917328\n"
     ]
    }
   ],
   "source": [
    "start = time()\n",
    "merge_sort(A)\n",
    "end = time()\n",
    "print end-start"
   ]
  },
  {
   "cell_type": "code",
   "execution_count": 44,
   "metadata": {},
   "outputs": [
    {
     "name": "stdout",
     "output_type": "stream",
     "text": [
      "0.588643074036\n"
     ]
    }
   ],
   "source": [
    "start = time()\n",
    "sorted(A)\n",
    "end = time()\n",
    "print end-start"
   ]
  },
  {
   "cell_type": "code",
   "execution_count": 37,
   "metadata": {},
   "outputs": [
    {
     "name": "stdout",
     "output_type": "stream",
     "text": [
      "Running time for function bubble_sort is 7.71001291275\n"
     ]
    },
    {
     "data": {
      "text/plain": [
       "[2,\n",
       " 3,\n",
       " 6,\n",
       " 6,\n",
       " 7,\n",
       " 10,\n",
       " 14,\n",
       " 14,\n",
       " 15,\n",
       " 19,\n",
       " 19,\n",
       " 26,\n",
       " 27,\n",
       " 27,\n",
       " 27,\n",
       " 31,\n",
       " 34,\n",
       " 37,\n",
       " 37,\n",
       " 39,\n",
       " 41,\n",
       " 47,\n",
       " 47,\n",
       " 49,\n",
       " 52,\n",
       " 53,\n",
       " 55,\n",
       " 55,\n",
       " 56,\n",
       " 56,\n",
       " 59,\n",
       " 60,\n",
       " 62,\n",
       " 63,\n",
       " 69,\n",
       " 69,\n",
       " 77,\n",
       " 78,\n",
       " 82,\n",
       " 83,\n",
       " 84,\n",
       " 84,\n",
       " 90,\n",
       " 93,\n",
       " 93,\n",
       " 94,\n",
       " 96,\n",
       " 100,\n",
       " 106,\n",
       " 108,\n",
       " 112,\n",
       " 112,\n",
       " 114,\n",
       " 115,\n",
       " 118,\n",
       " 120,\n",
       " 121,\n",
       " 122,\n",
       " 122,\n",
       " 124,\n",
       " 126,\n",
       " 130,\n",
       " 131,\n",
       " 135,\n",
       " 135,\n",
       " 139,\n",
       " 139,\n",
       " 140,\n",
       " 142,\n",
       " 145,\n",
       " 148,\n",
       " 149,\n",
       " 150,\n",
       " 150,\n",
       " 151,\n",
       " 152,\n",
       " 156,\n",
       " 159,\n",
       " 160,\n",
       " 161,\n",
       " 162,\n",
       " 167,\n",
       " 168,\n",
       " 169,\n",
       " 169,\n",
       " 175,\n",
       " 176,\n",
       " 181,\n",
       " 182,\n",
       " 183,\n",
       " 185,\n",
       " 194,\n",
       " 195,\n",
       " 199,\n",
       " 205,\n",
       " 206,\n",
       " 209,\n",
       " 211,\n",
       " 214,\n",
       " 214,\n",
       " 215,\n",
       " 215,\n",
       " 223,\n",
       " 223,\n",
       " 223,\n",
       " 230,\n",
       " 233,\n",
       " 236,\n",
       " 238,\n",
       " 241,\n",
       " 242,\n",
       " 242,\n",
       " 243,\n",
       " 245,\n",
       " 248,\n",
       " 249,\n",
       " 251,\n",
       " 252,\n",
       " 254,\n",
       " 256,\n",
       " 256,\n",
       " 257,\n",
       " 258,\n",
       " 259,\n",
       " 261,\n",
       " 261,\n",
       " 263,\n",
       " 264,\n",
       " 267,\n",
       " 268,\n",
       " 269,\n",
       " 272,\n",
       " 273,\n",
       " 274,\n",
       " 277,\n",
       " 279,\n",
       " 282,\n",
       " 282,\n",
       " 285,\n",
       " 288,\n",
       " 288,\n",
       " 289,\n",
       " 292,\n",
       " 293,\n",
       " 298,\n",
       " 299,\n",
       " 299,\n",
       " 303,\n",
       " 304,\n",
       " 304,\n",
       " 307,\n",
       " 308,\n",
       " 309,\n",
       " 310,\n",
       " 311,\n",
       " 314,\n",
       " 317,\n",
       " 321,\n",
       " 332,\n",
       " 334,\n",
       " 338,\n",
       " 338,\n",
       " 339,\n",
       " 341,\n",
       " 346,\n",
       " 349,\n",
       " 350,\n",
       " 354,\n",
       " 354,\n",
       " 361,\n",
       " 361,\n",
       " 363,\n",
       " 366,\n",
       " 370,\n",
       " 371,\n",
       " 373,\n",
       " 374,\n",
       " 374,\n",
       " 374,\n",
       " 375,\n",
       " 384,\n",
       " 388,\n",
       " 388,\n",
       " 390,\n",
       " 392,\n",
       " 392,\n",
       " 392,\n",
       " 394,\n",
       " 396,\n",
       " 396,\n",
       " 396,\n",
       " 396,\n",
       " 399,\n",
       " 400,\n",
       " 405,\n",
       " 410,\n",
       " 411,\n",
       " 411,\n",
       " 413,\n",
       " 413,\n",
       " 414,\n",
       " 415,\n",
       " 418,\n",
       " 419,\n",
       " 420,\n",
       " 422,\n",
       " 423,\n",
       " 424,\n",
       " 426,\n",
       " 427,\n",
       " 430,\n",
       " 430,\n",
       " 431,\n",
       " 431,\n",
       " 436,\n",
       " 437,\n",
       " 438,\n",
       " 443,\n",
       " 443,\n",
       " 444,\n",
       " 444,\n",
       " 444,\n",
       " 445,\n",
       " 448,\n",
       " 451,\n",
       " 452,\n",
       " 453,\n",
       " 454,\n",
       " 455,\n",
       " 455,\n",
       " 458,\n",
       " 458,\n",
       " 462,\n",
       " 462,\n",
       " 463,\n",
       " 464,\n",
       " 467,\n",
       " 468,\n",
       " 473,\n",
       " 475,\n",
       " 475,\n",
       " 475,\n",
       " 482,\n",
       " 482,\n",
       " 485,\n",
       " 488,\n",
       " 488,\n",
       " 489,\n",
       " 489,\n",
       " 492,\n",
       " 493,\n",
       " 493,\n",
       " 494,\n",
       " 495,\n",
       " 497,\n",
       " 498,\n",
       " 499,\n",
       " 501,\n",
       " 502,\n",
       " 503,\n",
       " 504,\n",
       " 504,\n",
       " 504,\n",
       " 506,\n",
       " 506,\n",
       " 508,\n",
       " 508,\n",
       " 509,\n",
       " 509,\n",
       " 509,\n",
       " 510,\n",
       " 512,\n",
       " 512,\n",
       " 513,\n",
       " 517,\n",
       " 518,\n",
       " 521,\n",
       " 523,\n",
       " 525,\n",
       " 525,\n",
       " 531,\n",
       " 531,\n",
       " 533,\n",
       " 534,\n",
       " 537,\n",
       " 541,\n",
       " 541,\n",
       " 546,\n",
       " 547,\n",
       " 548,\n",
       " 549,\n",
       " 550,\n",
       " 551,\n",
       " 555,\n",
       " 557,\n",
       " 558,\n",
       " 559,\n",
       " 560,\n",
       " 560,\n",
       " 561,\n",
       " 561,\n",
       " 563,\n",
       " 564,\n",
       " 564,\n",
       " 567,\n",
       " 568,\n",
       " 569,\n",
       " 569,\n",
       " 574,\n",
       " 574,\n",
       " 577,\n",
       " 580,\n",
       " 582,\n",
       " 583,\n",
       " 584,\n",
       " 586,\n",
       " 588,\n",
       " 588,\n",
       " 591,\n",
       " 592,\n",
       " 592,\n",
       " 594,\n",
       " 595,\n",
       " 596,\n",
       " 596,\n",
       " 597,\n",
       " 598,\n",
       " 602,\n",
       " 602,\n",
       " 612,\n",
       " 612,\n",
       " 612,\n",
       " 615,\n",
       " 616,\n",
       " 617,\n",
       " 618,\n",
       " 619,\n",
       " 619,\n",
       " 619,\n",
       " 620,\n",
       " 620,\n",
       " 623,\n",
       " 624,\n",
       " 625,\n",
       " 627,\n",
       " 630,\n",
       " 631,\n",
       " 631,\n",
       " 631,\n",
       " 633,\n",
       " 634,\n",
       " 636,\n",
       " 638,\n",
       " 644,\n",
       " 645,\n",
       " 648,\n",
       " 648,\n",
       " 652,\n",
       " 655,\n",
       " 655,\n",
       " 659,\n",
       " 660,\n",
       " 661,\n",
       " 661,\n",
       " 662,\n",
       " 664,\n",
       " 668,\n",
       " 668,\n",
       " 668,\n",
       " 669,\n",
       " 674,\n",
       " 674,\n",
       " 676,\n",
       " 677,\n",
       " 677,\n",
       " 678,\n",
       " 681,\n",
       " 682,\n",
       " 687,\n",
       " 687,\n",
       " 691,\n",
       " 696,\n",
       " 700,\n",
       " 701,\n",
       " 704,\n",
       " 704,\n",
       " 705,\n",
       " 706,\n",
       " 707,\n",
       " 709,\n",
       " 710,\n",
       " 713,\n",
       " 724,\n",
       " 726,\n",
       " 727,\n",
       " 728,\n",
       " 729,\n",
       " 731,\n",
       " 731,\n",
       " 732,\n",
       " 732,\n",
       " 738,\n",
       " 742,\n",
       " 743,\n",
       " 748,\n",
       " 749,\n",
       " 750,\n",
       " 751,\n",
       " 751,\n",
       " 752,\n",
       " 754,\n",
       " 756,\n",
       " 756,\n",
       " 757,\n",
       " 758,\n",
       " 759,\n",
       " 760,\n",
       " 762,\n",
       " 763,\n",
       " 765,\n",
       " 769,\n",
       " 778,\n",
       " 779,\n",
       " 781,\n",
       " 782,\n",
       " 786,\n",
       " 787,\n",
       " 788,\n",
       " 789,\n",
       " 789,\n",
       " 794,\n",
       " 794,\n",
       " 795,\n",
       " 795,\n",
       " 796,\n",
       " 798,\n",
       " 800,\n",
       " 803,\n",
       " 803,\n",
       " 809,\n",
       " 809,\n",
       " 810,\n",
       " 821,\n",
       " 822,\n",
       " 824,\n",
       " 824,\n",
       " 825,\n",
       " 825,\n",
       " 826,\n",
       " 826,\n",
       " 827,\n",
       " 828,\n",
       " 830,\n",
       " 830,\n",
       " 833,\n",
       " 838,\n",
       " 841,\n",
       " 842,\n",
       " 846,\n",
       " 846,\n",
       " 851,\n",
       " 852,\n",
       " 853,\n",
       " 854,\n",
       " 858,\n",
       " 859,\n",
       " 862,\n",
       " 865,\n",
       " 868,\n",
       " 868,\n",
       " 874,\n",
       " 877,\n",
       " 878,\n",
       " 889,\n",
       " 892,\n",
       " 895,\n",
       " 895,\n",
       " 896,\n",
       " 897,\n",
       " 897,\n",
       " 897,\n",
       " 900,\n",
       " 905,\n",
       " 907,\n",
       " 907,\n",
       " 908,\n",
       " 909,\n",
       " 909,\n",
       " 909,\n",
       " 909,\n",
       " 912,\n",
       " 914,\n",
       " 914,\n",
       " 920,\n",
       " 921,\n",
       " 923,\n",
       " 924,\n",
       " 925,\n",
       " 926,\n",
       " 929,\n",
       " 932,\n",
       " 933,\n",
       " 934,\n",
       " 937,\n",
       " 943,\n",
       " 944,\n",
       " 948,\n",
       " 955,\n",
       " 955,\n",
       " 956,\n",
       " 962,\n",
       " 965,\n",
       " 966,\n",
       " 966,\n",
       " 968,\n",
       " 971,\n",
       " 971,\n",
       " 971,\n",
       " 975,\n",
       " 976,\n",
       " 976,\n",
       " 980,\n",
       " 983,\n",
       " 984,\n",
       " 987,\n",
       " 991,\n",
       " 996,\n",
       " 999,\n",
       " 1000,\n",
       " 1001,\n",
       " 1001,\n",
       " 1002,\n",
       " 1002,\n",
       " 1003,\n",
       " 1003,\n",
       " 1003,\n",
       " 1003,\n",
       " 1004,\n",
       " 1006,\n",
       " 1012,\n",
       " 1014,\n",
       " 1015,\n",
       " 1018,\n",
       " 1020,\n",
       " 1022,\n",
       " 1023,\n",
       " 1023,\n",
       " 1026,\n",
       " 1026,\n",
       " 1032,\n",
       " 1035,\n",
       " 1035,\n",
       " 1036,\n",
       " 1036,\n",
       " 1038,\n",
       " 1040,\n",
       " 1043,\n",
       " 1045,\n",
       " 1047,\n",
       " 1048,\n",
       " 1056,\n",
       " 1056,\n",
       " 1057,\n",
       " 1058,\n",
       " 1059,\n",
       " 1059,\n",
       " 1059,\n",
       " 1060,\n",
       " 1066,\n",
       " 1070,\n",
       " 1071,\n",
       " 1080,\n",
       " 1081,\n",
       " 1083,\n",
       " 1085,\n",
       " 1086,\n",
       " 1088,\n",
       " 1088,\n",
       " 1094,\n",
       " 1096,\n",
       " 1097,\n",
       " 1098,\n",
       " 1102,\n",
       " 1102,\n",
       " 1104,\n",
       " 1105,\n",
       " 1107,\n",
       " 1107,\n",
       " 1107,\n",
       " 1109,\n",
       " 1109,\n",
       " 1110,\n",
       " 1112,\n",
       " 1112,\n",
       " 1117,\n",
       " 1122,\n",
       " 1122,\n",
       " 1125,\n",
       " 1125,\n",
       " 1126,\n",
       " 1129,\n",
       " 1132,\n",
       " 1135,\n",
       " 1138,\n",
       " 1147,\n",
       " 1149,\n",
       " 1157,\n",
       " 1158,\n",
       " 1160,\n",
       " 1161,\n",
       " 1161,\n",
       " 1164,\n",
       " 1168,\n",
       " 1171,\n",
       " 1172,\n",
       " 1172,\n",
       " 1173,\n",
       " 1173,\n",
       " 1176,\n",
       " 1178,\n",
       " 1180,\n",
       " 1180,\n",
       " 1181,\n",
       " 1182,\n",
       " 1182,\n",
       " 1185,\n",
       " 1187,\n",
       " 1187,\n",
       " 1188,\n",
       " 1189,\n",
       " 1190,\n",
       " 1190,\n",
       " 1191,\n",
       " 1192,\n",
       " 1196,\n",
       " 1199,\n",
       " 1201,\n",
       " 1201,\n",
       " 1202,\n",
       " 1203,\n",
       " 1206,\n",
       " 1206,\n",
       " 1207,\n",
       " 1208,\n",
       " 1210,\n",
       " 1210,\n",
       " 1211,\n",
       " 1213,\n",
       " 1214,\n",
       " 1215,\n",
       " 1216,\n",
       " 1220,\n",
       " 1220,\n",
       " 1226,\n",
       " 1227,\n",
       " 1227,\n",
       " 1228,\n",
       " 1233,\n",
       " 1234,\n",
       " 1236,\n",
       " 1237,\n",
       " 1238,\n",
       " 1239,\n",
       " 1239,\n",
       " 1243,\n",
       " 1243,\n",
       " 1246,\n",
       " 1246,\n",
       " 1247,\n",
       " 1252,\n",
       " 1252,\n",
       " 1253,\n",
       " 1254,\n",
       " 1256,\n",
       " 1256,\n",
       " 1257,\n",
       " 1259,\n",
       " 1267,\n",
       " 1268,\n",
       " 1268,\n",
       " 1270,\n",
       " 1270,\n",
       " 1270,\n",
       " 1271,\n",
       " 1272,\n",
       " 1274,\n",
       " 1279,\n",
       " 1282,\n",
       " 1283,\n",
       " 1286,\n",
       " 1287,\n",
       " 1289,\n",
       " 1291,\n",
       " 1292,\n",
       " 1294,\n",
       " 1295,\n",
       " 1296,\n",
       " 1302,\n",
       " 1305,\n",
       " 1305,\n",
       " 1306,\n",
       " 1308,\n",
       " 1309,\n",
       " 1313,\n",
       " 1314,\n",
       " 1316,\n",
       " 1317,\n",
       " 1321,\n",
       " 1323,\n",
       " 1323,\n",
       " 1325,\n",
       " 1327,\n",
       " 1331,\n",
       " 1337,\n",
       " 1339,\n",
       " 1341,\n",
       " 1342,\n",
       " 1344,\n",
       " 1345,\n",
       " 1347,\n",
       " 1349,\n",
       " 1350,\n",
       " 1351,\n",
       " 1351,\n",
       " 1351,\n",
       " 1352,\n",
       " 1353,\n",
       " 1355,\n",
       " 1356,\n",
       " 1357,\n",
       " 1358,\n",
       " 1372,\n",
       " 1377,\n",
       " 1379,\n",
       " 1380,\n",
       " 1381,\n",
       " 1383,\n",
       " 1384,\n",
       " 1386,\n",
       " 1387,\n",
       " 1390,\n",
       " 1391,\n",
       " 1394,\n",
       " 1396,\n",
       " 1401,\n",
       " 1402,\n",
       " 1402,\n",
       " 1402,\n",
       " 1404,\n",
       " 1406,\n",
       " 1411,\n",
       " 1412,\n",
       " 1414,\n",
       " 1415,\n",
       " 1416,\n",
       " 1417,\n",
       " 1418,\n",
       " 1418,\n",
       " 1418,\n",
       " 1421,\n",
       " 1422,\n",
       " 1423,\n",
       " 1423,\n",
       " 1424,\n",
       " 1425,\n",
       " 1425,\n",
       " 1426,\n",
       " 1433,\n",
       " 1434,\n",
       " 1435,\n",
       " 1435,\n",
       " 1440,\n",
       " 1440,\n",
       " 1441,\n",
       " 1441,\n",
       " 1443,\n",
       " 1444,\n",
       " 1445,\n",
       " 1446,\n",
       " 1448,\n",
       " 1448,\n",
       " 1451,\n",
       " 1454,\n",
       " 1457,\n",
       " 1459,\n",
       " 1463,\n",
       " 1463,\n",
       " 1465,\n",
       " 1466,\n",
       " 1468,\n",
       " 1471,\n",
       " 1472,\n",
       " 1474,\n",
       " 1476,\n",
       " 1476,\n",
       " 1477,\n",
       " 1483,\n",
       " 1486,\n",
       " 1488,\n",
       " 1491,\n",
       " 1493,\n",
       " 1493,\n",
       " 1493,\n",
       " 1493,\n",
       " 1493,\n",
       " 1494,\n",
       " 1496,\n",
       " 1496,\n",
       " 1499,\n",
       " 1501,\n",
       " 1501,\n",
       " 1501,\n",
       " 1501,\n",
       " 1502,\n",
       " 1503,\n",
       " 1504,\n",
       " 1505,\n",
       " 1506,\n",
       " 1508,\n",
       " 1509,\n",
       " 1511,\n",
       " 1512,\n",
       " 1513,\n",
       " 1514,\n",
       " 1516,\n",
       " 1520,\n",
       " 1521,\n",
       " 1521,\n",
       " 1523,\n",
       " 1524,\n",
       " 1524,\n",
       " 1527,\n",
       " 1532,\n",
       " 1533,\n",
       " 1537,\n",
       " 1542,\n",
       " 1542,\n",
       " 1547,\n",
       " 1547,\n",
       " 1548,\n",
       " 1550,\n",
       " 1551,\n",
       " 1552,\n",
       " 1554,\n",
       " 1556,\n",
       " 1558,\n",
       " 1563,\n",
       " 1565,\n",
       " 1565,\n",
       " 1567,\n",
       " 1568,\n",
       " 1570,\n",
       " 1571,\n",
       " 1572,\n",
       " 1573,\n",
       " 1573,\n",
       " 1578,\n",
       " 1581,\n",
       " 1582,\n",
       " 1586,\n",
       " 1588,\n",
       " 1590,\n",
       " 1591,\n",
       " 1592,\n",
       " 1595,\n",
       " 1595,\n",
       " 1601,\n",
       " 1601,\n",
       " 1612,\n",
       " 1613,\n",
       " 1615,\n",
       " 1617,\n",
       " 1618,\n",
       " 1621,\n",
       " 1623,\n",
       " 1625,\n",
       " 1626,\n",
       " 1626,\n",
       " 1632,\n",
       " 1632,\n",
       " 1633,\n",
       " 1635,\n",
       " 1637,\n",
       " 1644,\n",
       " 1645,\n",
       " 1647,\n",
       " 1657,\n",
       " 1660,\n",
       " 1661,\n",
       " 1662,\n",
       " 1665,\n",
       " 1665,\n",
       " 1666,\n",
       " 1667,\n",
       " 1670,\n",
       " 1672,\n",
       " 1674,\n",
       " 1676,\n",
       " 1677,\n",
       " 1679,\n",
       " 1683,\n",
       " 1686,\n",
       " 1690,\n",
       " 1690,\n",
       " 1690,\n",
       " 1691,\n",
       " 1693,\n",
       " 1698,\n",
       " 1698,\n",
       " 1704,\n",
       " 1708,\n",
       " 1710,\n",
       " 1714,\n",
       " 1716,\n",
       " 1720,\n",
       " 1720,\n",
       " 1726,\n",
       " 1728,\n",
       " 1737,\n",
       " 1738,\n",
       " 1740,\n",
       " 1743,\n",
       " 1743,\n",
       " 1744,\n",
       " 1744,\n",
       " 1745,\n",
       " 1745,\n",
       " 1747,\n",
       " 1749,\n",
       " 1753,\n",
       " 1754,\n",
       " 1756,\n",
       " 1764,\n",
       " 1769,\n",
       " 1770,\n",
       " 1777,\n",
       " 1779,\n",
       " 1779,\n",
       " 1780,\n",
       " 1781,\n",
       " 1782,\n",
       " 1783,\n",
       " 1786,\n",
       " 1787,\n",
       " 1788,\n",
       " 1788,\n",
       " 1791,\n",
       " 1794,\n",
       " 1795,\n",
       " 1795,\n",
       " 1795,\n",
       " 1804,\n",
       " 1806,\n",
       " 1807,\n",
       " 1812,\n",
       " 1816,\n",
       " 1821,\n",
       " 1823,\n",
       " 1826,\n",
       " 1826,\n",
       " 1827,\n",
       " 1829,\n",
       " 1829,\n",
       " 1834,\n",
       " 1834,\n",
       " 1835,\n",
       " 1839,\n",
       " 1839,\n",
       " 1839,\n",
       " 1841,\n",
       " 1842,\n",
       " 1849,\n",
       " 1851,\n",
       " 1852,\n",
       " 1856,\n",
       " 1859,\n",
       " 1860,\n",
       " 1861,\n",
       " 1861,\n",
       " 1862,\n",
       " 1866,\n",
       " 1867,\n",
       " 1868,\n",
       " 1874,\n",
       " 1878,\n",
       " 1879,\n",
       " 1879,\n",
       " 1880,\n",
       " 1880,\n",
       " 1884,\n",
       " 1888,\n",
       " 1888,\n",
       " 1891,\n",
       " 1894,\n",
       " 1896,\n",
       " 1896,\n",
       " 1896,\n",
       " 1896,\n",
       " 1898,\n",
       " 1901,\n",
       " ...]"
      ]
     },
     "execution_count": 37,
     "metadata": {},
     "output_type": "execute_result"
    }
   ],
   "source": [
    "bubble_sort(A)"
   ]
  },
  {
   "cell_type": "markdown",
   "metadata": {},
   "source": [
    "# Flip binary tree"
   ]
  },
  {
   "cell_type": "code",
   "execution_count": 72,
   "metadata": {
    "collapsed": true
   },
   "outputs": [],
   "source": [
    "_undefined = None\n",
    "_void = None\n",
    "    \n",
    "class BinaryTree:  \n",
    "    def __init__(self, root=_undefined, left=_void, right=_void):\n",
    "        self.root = root\n",
    "        self.left = left\n",
    "        self.right = right\n",
    "        \n",
    "        if self == _void or self.root == _undefined:\n",
    "            self.size = 0\n",
    "        elif self.root != _undefined and self.left == _void and self.right == _void:\n",
    "            self.size = 1\n",
    "        elif self.left == _void and self.right != _void:\n",
    "            self.size = 1 + self.right.size\n",
    "        elif self.right == _void and self.left != _void:\n",
    "            self.size = 1 + self.left.size\n",
    "        else:\n",
    "            self.size = 1 + self.left.size + self.right.size\n",
    "            \n",
    "    def get_size(self):\n",
    "        return self.size\n",
    "    \n",
    "    def is_empty(self):\n",
    "        if self == _void or self.size == 0:\n",
    "            return True\n",
    "        else:\n",
    "            return False\n",
    "        \n",
    "    def show(self):\n",
    "        tree = {}\n",
    "        if not self.is_empty():\n",
    "            tree['broot'] = self.root    \n",
    "        if self.left != _void and not self.left.is_empty():\n",
    "            left =  self.left.show()\n",
    "            tree['left'] = left\n",
    "        if self.right != _void and not self.right.is_empty():\n",
    "            right = self.right.show()\n",
    "            tree['right'] = right\n",
    "        return tree            "
   ]
  },
  {
   "cell_type": "code",
   "execution_count": 75,
   "metadata": {},
   "outputs": [
    {
     "data": {
      "text/plain": [
       "{'broot': 5,\n",
       " 'left': {'broot': 6, 'left': {'broot': 2}, 'right': {'broot': 4}},\n",
       " 'right': {'broot': 7}}"
      ]
     },
     "execution_count": 75,
     "metadata": {},
     "output_type": "execute_result"
    }
   ],
   "source": [
    "tree = BinaryTree(5, BinaryTree(6, BinaryTree(2, _void, _void), BinaryTree(4, _void, _void)), BinaryTree(7, _void, _void))\n",
    "tree.show()\n",
    "#tree.left.is_empty()"
   ]
  },
  {
   "cell_type": "code",
   "execution_count": 76,
   "metadata": {
    "collapsed": true
   },
   "outputs": [],
   "source": [
    "def flip_binary_tree(tree):\n",
    "    if tree == _void or tree.get_size() <= 1:\n",
    "        return tree\n",
    "    \n",
    "    temp = tree.left\n",
    "    tree.left = tree.right\n",
    "    tree.right = temp\n",
    "    \n",
    "    flip_binary_tree(tree.left)\n",
    "    flip_binary_tree(tree.right)\n",
    "    \n",
    "    return tree"
   ]
  },
  {
   "cell_type": "code",
   "execution_count": 77,
   "metadata": {},
   "outputs": [
    {
     "data": {
      "text/plain": [
       "{'broot': 5,\n",
       " 'left': {'broot': 7},\n",
       " 'right': {'broot': 6, 'left': {'broot': 4}, 'right': {'broot': 2}}}"
      ]
     },
     "execution_count": 77,
     "metadata": {},
     "output_type": "execute_result"
    }
   ],
   "source": [
    "flip_binary_tree(tree).show()"
   ]
  },
  {
   "cell_type": "markdown",
   "metadata": {
    "collapsed": true
   },
   "source": [
    "# largest power of 2 dividing an integer"
   ]
  },
  {
   "cell_type": "code",
   "execution_count": 18,
   "metadata": {
    "collapsed": true
   },
   "outputs": [],
   "source": [
    "def largest_power_of_two(n):\n",
    "        if n == 0:\n",
    "            return 1000\n",
    "    \n",
    "        n = abs(n)\n",
    "        \n",
    "        if n%2 != 0:\n",
    "            return 0\n",
    "        \n",
    "        i = 1\n",
    "        while n%(2**i) == 0 and i < n:\n",
    "            i = 2*i\n",
    "        i = i//2    \n",
    "        \n",
    "        return i + largest_power_of_two(n//2**i) "
   ]
  },
  {
   "cell_type": "code",
   "execution_count": 45,
   "metadata": {},
   "outputs": [
    {
     "data": {
      "text/plain": [
       "0"
      ]
     },
     "execution_count": 45,
     "metadata": {},
     "output_type": "execute_result"
    }
   ],
   "source": [
    "largest_power_of_two(1024)\n",
    "largest_power_of_two(43)"
   ]
  },
  {
   "cell_type": "markdown",
   "metadata": {
    "collapsed": true
   },
   "source": [
    "# longest palindromic substring"
   ]
  },
  {
   "cell_type": "code",
   "execution_count": 65,
   "metadata": {
    "collapsed": true
   },
   "outputs": [],
   "source": [
    "def longest_pal(binary_string): \n",
    "    if len(binary_string) <= 1:\n",
    "        return len(binary_string)\n",
    "    \n",
    "    prefixes = {}\n",
    "    if binary_string[0] == '0':\n",
    "        prefixes[0] = 0\n",
    "    else:\n",
    "        prefixes[0] = 1\n",
    "\n",
    "    for i in range(1, len(binary_string)):\n",
    "        if binary_string[i] == '0':\n",
    "            last_bit = 0\n",
    "        else:\n",
    "            last_bit = 1\n",
    "            \n",
    "        prefixes[i] = 2*prefixes[i-1] + last_bit\n",
    "        \n",
    "    suffixes = {}\n",
    "    N = len(binary_string)\n",
    "    if binary_string[N-1] == '0':\n",
    "        suffixes[N-1] = 0\n",
    "    else:\n",
    "        suffixes[N-1] = 1\n",
    "\n",
    "    for i in range(-2, -N-1, -1):\n",
    "        if binary_string[i] == '0':\n",
    "            last_bit = 0\n",
    "        else:\n",
    "            last_bit = 1\n",
    "        suffixes[N+i] = 2*suffixes[N+i+1] +  last_bit    \n",
    "        \n",
    "    #return prefixes, suffixes  \n",
    "    ps = {}\n",
    "    for i in range(N):\n",
    "        #print largest_power_of_two(suffixes[i]-prefixes[i])\n",
    "        ps[i] = largest_power_of_two(suffixes[i] - prefixes[i])\n",
    "        #break\n",
    "        \n",
    "    #return ps.values(), prefixes.values(), suffixes.values()  \n",
    "    return max(ps.values())"
   ]
  },
  {
   "cell_type": "markdown",
   "metadata": {},
   "source": [
    "Iterating backwards and reverse \n",
    "range(99, -1, -1) : 99, 98, ..., 2, 1, 0\n",
    "- https://stackoverflow.com/questions/869885/loop-backwards-using-indices-in-python\n",
    "- https://stackoverflow.com/questions/931092/reverse-a-string-in-python"
   ]
  },
  {
   "cell_type": "code",
   "execution_count": 66,
   "metadata": {},
   "outputs": [
    {
     "data": {
      "text/plain": [
       "3"
      ]
     },
     "execution_count": 66,
     "metadata": {},
     "output_type": "execute_result"
    }
   ],
   "source": [
    "s = \"0101011\"\n",
    "longest_pal(s)"
   ]
  },
  {
   "cell_type": "markdown",
   "metadata": {},
   "source": [
    "# packing and unpacking of arguments\n",
    "https://www.geeksforgeeks.org/packing-and-unpacking-arguments-in-python/"
   ]
  },
  {
   "cell_type": "markdown",
   "metadata": {
    "collapsed": true
   },
   "source": [
    "This problem was asked by Uber.\n",
    "\n",
    "Given an array of integers, return a new array such that each element at index i of the new array is the product of all the numbers in the original array except the one at i.\n",
    "\n",
    "For example, if our input was [1, 2, 3, 4, 5], the expected output would be [120, 60, 40, 30, 24]. If our input was [3, 2, 1], the expected output would be [2, 3, 6].\n",
    "\n",
    "Do it without using division."
   ]
  },
  {
   "cell_type": "code",
   "execution_count": 40,
   "metadata": {
    "collapsed": true
   },
   "outputs": [],
   "source": [
    "def get_skip_products(A): \n",
    "    prefix_products = {}\n",
    "    \n",
    "    prefix_value = 1\n",
    "    for i in range(len(A)):\n",
    "        prefix_value = prefix_value*A[i]\n",
    "        prefix_products[i] = prefix_value\n",
    "        \n",
    "    suffix_products = {}\n",
    "    \n",
    "    suffix_value = 1\n",
    "    for i in range(len(A)):\n",
    "        suffix_value = suffix_value*A[len(A)-1-i]\n",
    "        suffix_products[len(A)-1-i] = suffix_value\n",
    "        \n",
    "    skip_products = []\n",
    "    \n",
    "    skip_products.append(suffix_products[1])\n",
    "    for i in range(1, len(A)-1):\n",
    "        skip_products.append(prefix_products[i-1]*suffix_products[i+1])\n",
    "    skip_products.append(prefix_products[len(A)-2])    \n",
    "        \n",
    "    return skip_products, prefix_products, suffix_products       "
   ]
  },
  {
   "cell_type": "code",
   "execution_count": 41,
   "metadata": {},
   "outputs": [
    {
     "data": {
      "text/plain": [
       "([120, 60, 40, 30, 24],\n",
       " {0: 1, 1: 2, 2: 6, 3: 24, 4: 120},\n",
       " {0: 120, 1: 120, 2: 60, 3: 20, 4: 5})"
      ]
     },
     "execution_count": 41,
     "metadata": {},
     "output_type": "execute_result"
    }
   ],
   "source": [
    "get_skip_products([1,2,3,4,5])"
   ]
  },
  {
   "cell_type": "markdown",
   "metadata": {},
   "source": [
    "# merge k sorted lists"
   ]
  },
  {
   "cell_type": "code",
   "execution_count": 81,
   "metadata": {
    "collapsed": true
   },
   "outputs": [],
   "source": [
    "from heapq import heappush, heappop\n",
    "heap = []\n",
    "data = [1, 3, 5, 7, 9, 2, 4, 6, 8, 0]\n",
    "for item in data:\n",
    "    heappush(heap, item)"
   ]
  },
  {
   "cell_type": "code",
   "execution_count": 94,
   "metadata": {
    "collapsed": true
   },
   "outputs": [],
   "source": [
    "def makeheap(heads, k_sorted_lists):\n",
    "    heap = []\n",
    "    for i in range(len(k_sorted_lists)):\n",
    "        head = heads[i]\n",
    "        list_id = i\n",
    "        if head >= 0 and head < len(k_sorted_lists[i]):\n",
    "            heappush(heap, (k_sorted_lists[i][head], list_id))\n",
    "    return heap\n",
    "\n",
    "def merge(k_sorted_lists):\n",
    "    heads = []\n",
    "    for i in range(len(k_sorted_lists)):\n",
    "        heads.append(0)\n",
    "        \n",
    "    heap = makeheap(heads, k_sorted_lists )    \n",
    "    \n",
    "    output = []\n",
    "    while heap:\n",
    "        value, list_id = heappop(heap)\n",
    "        output.append(value)\n",
    "        heads[list_id] = heads[list_id] + 1\n",
    "        if heads[list_id] < len(k_sorted_lists[list_id]):\n",
    "            heappush(heap, (k_sorted_lists[list_id][heads[list_id]], list_id))\n",
    "            \n",
    "    return output        \n",
    "            "
   ]
  },
  {
   "cell_type": "code",
   "execution_count": 98,
   "metadata": {},
   "outputs": [
    {
     "data": {
      "text/plain": [
       "[1, 1, 2, 3, 4, 5, 6, 7, 8, 9]"
      ]
     },
     "execution_count": 98,
     "metadata": {},
     "output_type": "execute_result"
    }
   ],
   "source": [
    "merge([[], [1,4,8], [2,5,7], [3,6,9], [1]])"
   ]
  },
  {
   "cell_type": "markdown",
   "metadata": {},
   "source": [
    "# longest increasing contiguous subsequence"
   ]
  },
  {
   "cell_type": "markdown",
   "metadata": {},
   "source": [
    "_undefined = -1\n",
    "def longest_increasing_contiguous(A):\n",
    "    \"\"\" returns the length of longest increasing contiguous subsequence of A \"\"\"\n",
    "    \n",
    "    longest = 0\n",
    "    ends_at = _undefined\n",
    "    \n",
    "    last = _undefined\n",
    "    current_run = 0\n",
    "    \n",
    "    for i in range(len(A)):\n",
    "        last = A[i]\n",
    "        if A[i] > last:\n",
    "            current_run = current_run + 1\n",
    "        else:\n",
    "            current_run = 1\n",
    "            \n",
    "        if current_run > longest:\n",
    "            longest = current_run\n",
    "            ends_at = i\n",
    "   \n",
    "    return longest, ends_at"
   ]
  },
  {
   "cell_type": "code",
   "execution_count": 58,
   "metadata": {
    "collapsed": true
   },
   "outputs": [],
   "source": [
    "_undefined = -1\n",
    "\n",
    "def longest_increasing_contiguous(A):\n",
    "    \"\"\" returns the length of longest increasing consecutive subsequence of A \"\"\"\n",
    "    \n",
    "    longest = 0\n",
    "    ends_at = _undefined\n",
    "    \n",
    "    last = _undefined\n",
    "    current_run = 0\n",
    "    \n",
    "    for i in range(len(A)):\n",
    "\n",
    "        if A[i] > last:\n",
    "            current_run = current_run + 1\n",
    "        else:\n",
    "            current_run = 1\n",
    "            \n",
    "        last = A[i]\n",
    "        \n",
    "        if current_run > longest:\n",
    "            longest = current_run\n",
    "            ends_at = i\n",
    "            \n",
    "        print longest, ends_at    \n",
    "            \n",
    "   \n",
    "    return longest, ends_at"
   ]
  },
  {
   "cell_type": "code",
   "execution_count": 59,
   "metadata": {},
   "outputs": [
    {
     "name": "stdout",
     "output_type": "stream",
     "text": [
      "1 0\n",
      "2 1\n",
      "3 2\n",
      "3 2\n",
      "3 2\n",
      "3 2\n",
      "4 6\n"
     ]
    },
    {
     "data": {
      "text/plain": [
       "(4, 6)"
      ]
     },
     "execution_count": 59,
     "metadata": {},
     "output_type": "execute_result"
    }
   ],
   "source": [
    "longest_increasing_contiguous([1,4,5,2,3,4,6])"
   ]
  },
  {
   "cell_type": "markdown",
   "metadata": {},
   "source": [
    "# longest increasing continuous"
   ]
  },
  {
   "cell_type": "code",
   "execution_count": 69,
   "metadata": {
    "collapsed": true
   },
   "outputs": [],
   "source": [
    "def longest_increasing_continuous(A):\n",
    "    \"\"\" returns longest increasing subsequence whose adjacent elements differ by 1 \"\"\"\n",
    "    \n",
    "    last = {}\n",
    "    lic = {} # lic[i] = longest increasing consecutive subsequence ending in A[i]\n",
    "    \n",
    "    for i in range(len(A)):\n",
    "        current = A[i]\n",
    "        last[current] = i\n",
    "        if last.has_key(current-1):\n",
    "            lic[i] = lic[last[current-1]] + 1\n",
    "        else:\n",
    "            lic[i] = 1\n",
    "    \n",
    "    return max(lic.values()), lic          "
   ]
  },
  {
   "cell_type": "code",
   "execution_count": 70,
   "metadata": {},
   "outputs": [
    {
     "data": {
      "text/plain": [
       "(3, {0: 1, 1: 1, 2: 2, 3: 2, 4: 3, 5: 1, 6: 2, 7: 1})"
      ]
     },
     "execution_count": 70,
     "metadata": {},
     "output_type": "execute_result"
    }
   ],
   "source": [
    "longest_increasing_continuous([1,3,2,2,3,5,2,1])"
   ]
  },
  {
   "cell_type": "markdown",
   "metadata": {},
   "source": [
    "# serialize and deserialize binary tree\n",
    "\n",
    "- https://www.quora.com/How-do-you-implement-a-binary-tree-in-Python\n",
    "\n",
    "- https://www.laurentluce.com/posts/binary-search-tree-library-in-python/\n",
    "\n",
    "- https://leetcode.com/problems/count-of-smaller-numbers-after-self/discuss/76657/3-ways-(Segment-Tree-Binary-Indexed-Tree-Binary-Search-Tree)-clean-python-code/120448?page=1"
   ]
  },
  {
   "cell_type": "markdown",
   "metadata": {},
   "source": [
    "# consecutive or not\n",
    "Given an unsorted array of distinct numbers, write a function that returns true if array consists of consecutive numbers.\n",
    "Examples:\n",
    "Input : arr[] = {5, 4, 2, 1, 3}\n",
    "Output : Yes\n",
    "\n",
    "Input : arr[] = {2, 1, 0, -3, -1, -2}\n",
    "Output : Yes"
   ]
  },
  {
   "cell_type": "code",
   "execution_count": 100,
   "metadata": {
    "collapsed": true
   },
   "outputs": [],
   "source": [
    "def is_distinct(A):\n",
    "    C = {}\n",
    "    for i in range(len(A)):\n",
    "        if C.has_key(A[i]):\n",
    "            return False\n",
    "    return True    \n",
    "\n",
    "def is_consecutive(A):\n",
    "    if max(A) != min(A) + len(A) - 1:\n",
    "        return False\n",
    "    return is_distinct(A)"
   ]
  },
  {
   "cell_type": "markdown",
   "metadata": {},
   "source": [
    "without extra space"
   ]
  },
  {
   "cell_type": "markdown",
   "metadata": {},
   "source": [
    "# remove one to get consecutive\n",
    "Given an array of positive distinct integers. We need to find the only element whose removal makes array elements distinct consecutive. If it is not possible to make array elements consecutive, return -1.\n",
    "\n",
    "Input : arr[] = {45, 42, 46, 48, 47}\n",
    "Output : 42"
   ]
  },
  {
   "cell_type": "markdown",
   "metadata": {},
   "source": [
    "Glassdoor google:\n",
    "-- Count the number of set bits in a given number.\n",
    "-- Count consecutive equal integers in an array\n",
    "--- Depth first search using recursion\n",
    "--- Topological sort with cycle detection \n",
    "---- How would you design twitter to scale? \n",
    "-- To implement in Java a Breadth First Search on a NxN char grid in order to find the shortest path to a desired char starting from a random position.\n",
    "---- How do you evaluate the reverse polish notation. Additionally implement a variant that also allows assigning values to variables, recalling them and reassigning them as an addition to the RPN. \n",
    "-- Given a list of integers and another integer. Write a program that returns the posible combinations of the list which added, match the integer, numbers can repeat itself. \n",
    "--- You have a list of matches, where each match is a pair of ints meaning (ID of Player One, ID of Player Two) where in that match player one is better than player two. Make a ranking of all the players in order.\n",
    "\n",
    "-- The question was to find all taxi numbers from 0 - 10^6. Taxi number is a number which can be written as the sum of two squared number, and can be written as two different representations: Taxi number = a^2 + b^2 = c^2 + d^2\n",
    "\n",
    "---- Implement an algorithm to create a Voronoi diagram.  \n",
    "https://en.wikipedia.org/wiki/Lloyd%27s_algorithm\n",
    "---- How to store any data if you need to distinguish the beginning and the end of it.\n",
    "---- Find the top minimal m elements of n elements in O(n) time\n",
    "---- Build a system that will serve Google Doodle's \n",
    "---- Describe https process\n",
    "---- Questions such as image quantization, skip lists, reordering a binary tree, implementing a reentrant lock with non-reentrant locks, scaling a system. All including whiteboard coding.\n",
    "-- Range-Sum auf einem int-array (mutable)"
   ]
  },
  {
   "cell_type": "markdown",
   "metadata": {
    "collapsed": true
   },
   "source": [
    "# closest product pair\n",
    "https://stackoverflow.com/questions/7781260/how-can-i-represent-an-infinite-number-in-python"
   ]
  },
  {
   "cell_type": "code",
   "execution_count": 6,
   "metadata": {
    "collapsed": true
   },
   "outputs": [],
   "source": [
    "# import math \n",
    "#_infinity = math.inf # python 3.5\n",
    "\n",
    "_infinity = 100000\n",
    "def closest_product_pair(A, x): # A is sorted\n",
    "    begin = 0\n",
    "    end = len(A) - 1\n",
    "    distance = _infinity\n",
    "    while begin < end:\n",
    "        new_distance = abs(x - A[begin]*A[end])\n",
    "        if new_distance < distance:\n",
    "            distance = new_distance\n",
    "            first = A[begin]\n",
    "            second = A[end]\n",
    "            \n",
    "        if A[begin]*A[end] > x:\n",
    "            end = end - 1\n",
    "        if A[begin]*A[end] < x:\n",
    "            begin = begin + 1\n",
    "            \n",
    "    return first, second      \n",
    "            \n",
    "    \n",
    "    "
   ]
  },
  {
   "cell_type": "code",
   "execution_count": 7,
   "metadata": {},
   "outputs": [
    {
     "data": {
      "text/plain": [
       "(3, 13)"
      ]
     },
     "execution_count": 7,
     "metadata": {},
     "output_type": "execute_result"
    }
   ],
   "source": [
    "A = [2,3,5,7,11,13]\n",
    "x = 41\n",
    "closest_product_pair(A, x)"
   ]
  },
  {
   "cell_type": "markdown",
   "metadata": {},
   "source": [
    "# longest common subsequence"
   ]
  },
  {
   "cell_type": "code",
   "execution_count": 12,
   "metadata": {
    "collapsed": true
   },
   "outputs": [],
   "source": [
    "def longest_common_subsequence(A, B):\n",
    "    lcs = {}\n",
    "    lcs[(-1,-1)] = 0\n",
    "    for j in range(len(B)):\n",
    "        lcs[(-1, j)] = 0\n",
    "    for i in range(len(A)):    \n",
    "        lcs[(i, -1)] = 0\n",
    "    \n",
    "    for i in range(len(A)):\n",
    "        for j in range(len(B)):\n",
    "            if A[i] == B[j]:\n",
    "                lcs[(i, j)] = 1 + lcs[(i-1, j-1)]\n",
    "            else:\n",
    "                lcs[(i, j)] = max(lcs[(i-1, j)], lcs[(i, j-1)])\n",
    "                \n",
    "    return max(lcs.values())            "
   ]
  },
  {
   "cell_type": "code",
   "execution_count": 15,
   "metadata": {},
   "outputs": [
    {
     "data": {
      "text/plain": [
       "4"
      ]
     },
     "execution_count": 15,
     "metadata": {},
     "output_type": "execute_result"
    }
   ],
   "source": [
    "A = [1, 3, 4, 5, 7, 8, 16]\n",
    "B = [3, 4, 8, 16]\n",
    "longest_common_subsequence(A, B)"
   ]
  },
  {
   "cell_type": "code",
   "execution_count": 2,
   "metadata": {
    "collapsed": true
   },
   "outputs": [],
   "source": [
    "def two_sum(A, target):\n",
    "    low = 0\n",
    "    high = len(A)-1\n",
    "    \n",
    "    while low < high:\n",
    "        if A[low] + A[high] == target:\n",
    "            return A[low], A[high]\n",
    "        \n",
    "        if A[low] + A[high] > target:\n",
    "            high = high - 1\n",
    "        \n",
    "        if A[low] + A[high] < target:\n",
    "            low = low + 1\n",
    "            \n",
    "    if low == high:\n",
    "        return \"Not Found\""
   ]
  },
  {
   "cell_type": "code",
   "execution_count": 5,
   "metadata": {},
   "outputs": [
    {
     "data": {
      "text/plain": [
       "(7, 13)"
      ]
     },
     "execution_count": 5,
     "metadata": {},
     "output_type": "execute_result"
    }
   ],
   "source": [
    "two_sum([1,3,5,7,11,13], 20)"
   ]
  },
  {
   "cell_type": "code",
   "execution_count": 2,
   "metadata": {
    "collapsed": true
   },
   "outputs": [],
   "source": [
    "_minus_infinity = -100000\n",
    "def second_max(A):\n",
    "    \"\"\" returns second maximum value among the input array A \"\"\"\n",
    "    \n",
    "    if len(A) == 0:\n",
    "        return _minus_infinity\n",
    "    \n",
    "    if len(A) == 1:\n",
    "        return A[0]\n",
    "    \n",
    "    if A[1] > A[0]:    \n",
    "        first_max = A[1]\n",
    "        second_max = A[0]\n",
    "    else:\n",
    "        first_max = A[0]\n",
    "        second_max = A[1]\n",
    "        \n",
    "    for i in range(2, len(A)):\n",
    "        current = A[i]\n",
    "        \n",
    "        if current > first_max:\n",
    "            temp = first_max\n",
    "            first_max = current\n",
    "            second_max = temp\n",
    "        \n",
    "        if first_max > current > second_max:\n",
    "            second_max = current\n",
    "            \n",
    "    return first_max, second_max        \n",
    "    \n",
    "    "
   ]
  },
  {
   "cell_type": "code",
   "execution_count": 4,
   "metadata": {},
   "outputs": [
    {
     "data": {
      "text/plain": [
       "(6, 3)"
      ]
     },
     "execution_count": 4,
     "metadata": {},
     "output_type": "execute_result"
    }
   ],
   "source": [
    "A = [-5, 3, 6, -3, 1]\n",
    "\n",
    "second_max(A)"
   ]
  },
  {
   "cell_type": "code",
   "execution_count": 7,
   "metadata": {
    "collapsed": true
   },
   "outputs": [],
   "source": [
    "_void = None\n",
    "class Node:\n",
    "    def __init__(self, val, left=_void, right=_void):\n",
    "        self.val = val\n",
    "        self.left = left\n",
    "        self.right = right\n",
    "        \n",
    "\n",
    "def serialize(root):\n",
    "    if root == _void:\n",
    "        return []\n",
    "    \n",
    "    serial = []\n",
    "\n",
    "    left_serial = serialize(root.left)\n",
    "    left_size = len(left_serial)\n",
    "        \n",
    "    right_serial = serialize(root.right)\n",
    "    right_size = len(right_serial)\n",
    "    root_size = 1 + left_size + right_size\n",
    "    \n",
    "    header = {}\n",
    "    header['root_size'] = root_size\n",
    "    header['left_size'] = left_size\n",
    "    header['right_size'] = right_size\n",
    "    header['root_val'] = root.val\n",
    "    \n",
    "    serial.append(header)\n",
    "    \n",
    "    serial = [header] + left_serial + right_serial\n",
    "    \n",
    "    return serial     \n",
    "    \n",
    "    "
   ]
  },
  {
   "cell_type": "code",
   "execution_count": 8,
   "metadata": {},
   "outputs": [
    {
     "data": {
      "text/plain": [
       "[{'left_size': 2, 'right_size': 1, 'root_size': 4, 'root_val': 'root'},\n",
       " {'left_size': 1, 'right_size': 0, 'root_size': 2, 'root_val': 'left'},\n",
       " {'left_size': 0, 'right_size': 0, 'root_size': 1, 'root_val': 'left.left'},\n",
       " {'left_size': 0, 'right_size': 0, 'root_size': 1, 'root_val': 'right'}]"
      ]
     },
     "execution_count": 8,
     "metadata": {},
     "output_type": "execute_result"
    }
   ],
   "source": [
    "node = Node('root', Node('left', Node('left.left')), Node('right'))\n",
    "serialize(node)"
   ]
  },
  {
   "cell_type": "markdown",
   "metadata": {
    "collapsed": true
   },
   "source": [
    "# binary search"
   ]
  },
  {
   "cell_type": "code",
   "execution_count": 6,
   "metadata": {
    "collapsed": true
   },
   "outputs": [],
   "source": [
    "def binary_search_recursive(A, x):\n",
    "    if len(A) == 0:\n",
    "        return False\n",
    "    \n",
    "    mid = len(A) // 2 # floor\n",
    "    \n",
    "    if x == A[mid]:\n",
    "        return True\n",
    "    if x > A[mid]:\n",
    "        return binary_search_recursive(A[mid+1:], x)\n",
    "    else:\n",
    "        return binary_search_recursive(A[:mid], x)"
   ]
  },
  {
   "cell_type": "code",
   "execution_count": 7,
   "metadata": {},
   "outputs": [
    {
     "name": "stdout",
     "output_type": "stream",
     "text": [
      "0 False\n",
      "1 True\n",
      "2 False\n",
      "3 True\n",
      "4 False\n",
      "5 True\n",
      "6 False\n",
      "7 True\n",
      "8 False\n",
      "9 True\n",
      "10 False\n",
      "11 True\n",
      "12 False\n"
     ]
    }
   ],
   "source": [
    "A = [1,3,5,7,9,11]\n",
    "x = 3\n",
    "\n",
    "for i in range(13):\n",
    "    print i, binary_search_recursive(A, i)"
   ]
  },
  {
   "cell_type": "code",
   "execution_count": 3,
   "metadata": {
    "collapsed": true
   },
   "outputs": [],
   "source": [
    "def binary_search_non_recursive(A, x):\n",
    "    low = 0\n",
    "    high = len(A) - 1\n",
    "    \n",
    "    while low <= high:\n",
    "        mid = (low + high) // 2\n",
    "        \n",
    "        if x == A[mid]:\n",
    "            return True\n",
    "        if x > A[mid]:\n",
    "            low = mid + 1\n",
    "        else:\n",
    "            high = mid - 1\n",
    "            \n",
    "    return False        "
   ]
  },
  {
   "cell_type": "code",
   "execution_count": 4,
   "metadata": {},
   "outputs": [
    {
     "data": {
      "text/plain": [
       "False"
      ]
     },
     "execution_count": 4,
     "metadata": {},
     "output_type": "execute_result"
    }
   ],
   "source": [
    "A = [1,3,5,7,9,11]\n",
    "x = 6\n",
    "binary_search_non_recursive(A, 6)"
   ]
  },
  {
   "cell_type": "code",
   "execution_count": 5,
   "metadata": {},
   "outputs": [
    {
     "name": "stdout",
     "output_type": "stream",
     "text": [
      "0 False\n",
      "1 True\n",
      "2 False\n",
      "3 True\n",
      "4 False\n",
      "5 True\n",
      "6 False\n",
      "7 True\n",
      "8 False\n",
      "9 True\n",
      "10 False\n",
      "11 True\n",
      "12 False\n"
     ]
    }
   ],
   "source": [
    "for i in range(13):\n",
    "    print i, binary_search_non_recursive(A, i)"
   ]
  },
  {
   "cell_type": "markdown",
   "metadata": {
    "collapsed": true
   },
   "source": [
    "# Trie Search"
   ]
  },
  {
   "cell_type": "code",
   "execution_count": 7,
   "metadata": {
    "collapsed": true
   },
   "outputs": [],
   "source": [
    "_end = '_end'\n",
    "def make_trie(words):\n",
    "    trie = {}\n",
    "    for word in words:\n",
    "        current = trie\n",
    "        for letter in word:\n",
    "            if not current.has_key(letter):\n",
    "                current[letter] = {}\n",
    "            current = current[letter]\n",
    "        current[_end]  = _end\n",
    "    return trie    "
   ]
  },
  {
   "cell_type": "code",
   "execution_count": 8,
   "metadata": {
    "collapsed": true
   },
   "outputs": [],
   "source": [
    "words = ['abc', 'abd', 'bbc', 'cad', 'xyz']"
   ]
  },
  {
   "cell_type": "code",
   "execution_count": 16,
   "metadata": {},
   "outputs": [
    {
     "data": {
      "text/plain": [
       "{'a': {'b': {'c': {'_end': '_end'}, 'd': {'_end': '_end'}}},\n",
       " 'b': {'b': {'c': {'_end': '_end'}}},\n",
       " 'c': {'a': {'d': {'_end': '_end'}}},\n",
       " 'x': {'y': {'z': {'_end': '_end'}}}}"
      ]
     },
     "execution_count": 16,
     "metadata": {},
     "output_type": "execute_result"
    }
   ],
   "source": [
    "trie = make_trie(words)\n",
    "trie"
   ]
  },
  {
   "cell_type": "code",
   "execution_count": 18,
   "metadata": {
    "collapsed": true
   },
   "outputs": [],
   "source": [
    "def search_trie(word, trie):\n",
    "    current = trie\n",
    "    \n",
    "    for letter in word:\n",
    "        if current.has_key(letter):\n",
    "            current = current[letter]\n",
    "            \n",
    "    if current.has_key(_end):\n",
    "        return True\n",
    "    return False"
   ]
  },
  {
   "cell_type": "code",
   "execution_count": 19,
   "metadata": {},
   "outputs": [
    {
     "data": {
      "text/plain": [
       "True"
      ]
     },
     "execution_count": 19,
     "metadata": {},
     "output_type": "execute_result"
    }
   ],
   "source": [
    "word = \"abc\"\n",
    "search_trie(word, trie)"
   ]
  },
  {
   "cell_type": "markdown",
   "metadata": {},
   "source": [
    "## Reverse String"
   ]
  },
  {
   "cell_type": "code",
   "execution_count": 1,
   "metadata": {
    "collapsed": true
   },
   "outputs": [],
   "source": [
    "def reverse_string_recursive(s):\n",
    "    if len(s) == 0:\n",
    "        return \"\"\n",
    "    else:\n",
    "        return reverse_string_recursive(s[1:]) + s[0]"
   ]
  },
  {
   "cell_type": "code",
   "execution_count": 2,
   "metadata": {},
   "outputs": [
    {
     "data": {
      "text/plain": [
       "'GFEDCBA'"
      ]
     },
     "execution_count": 2,
     "metadata": {},
     "output_type": "execute_result"
    }
   ],
   "source": [
    "s = \"ABCDEFG\"\n",
    "reverse_string_recursive(s)"
   ]
  },
  {
   "cell_type": "code",
   "execution_count": 3,
   "metadata": {
    "collapsed": true
   },
   "outputs": [],
   "source": [
    "def reverse_string(s):\n",
    "    rev = \"\"\n",
    "    for i in range(len(s)):\n",
    "        rev = s[i] + rev\n",
    "    return rev    "
   ]
  },
  {
   "cell_type": "code",
   "execution_count": 4,
   "metadata": {},
   "outputs": [
    {
     "data": {
      "text/plain": [
       "'GFEDCBA'"
      ]
     },
     "execution_count": 4,
     "metadata": {},
     "output_type": "execute_result"
    }
   ],
   "source": [
    "reverse_string(s)"
   ]
  },
  {
   "cell_type": "markdown",
   "metadata": {},
   "source": [
    "## Pair words that are Anagrams of each other.\n",
    "https://www.geeksforgeeks.org/print-pairs-anagrams-given-array-strings/\n",
    "\n",
    "https://stackoverflow.com/questions/493819/python-join-why-is-it-string-joinlist-instead-of-list-joinstring"
   ]
  },
  {
   "cell_type": "code",
   "execution_count": 8,
   "metadata": {},
   "outputs": [
    {
     "data": {
      "text/plain": [
       "'ABCD'"
      ]
     },
     "execution_count": 8,
     "metadata": {},
     "output_type": "execute_result"
    }
   ],
   "source": [
    "word = \"ADBC\"\n",
    "\"\".join(sorted(word))"
   ]
  },
  {
   "cell_type": "code",
   "execution_count": 16,
   "metadata": {
    "collapsed": true
   },
   "outputs": [],
   "source": [
    "def group_anagrams(words):\n",
    "    sorted_words = {}\n",
    "    for word in words:\n",
    "        word_copy = \"\"\n",
    "        for i in range(len(word)):\n",
    "            word_copy = word_copy + word[i]\n",
    "            \n",
    "        sorted_word = \"\".join(sorted(word_copy))\n",
    "        \n",
    "        if sorted_words.has_key(sorted_word):\n",
    "            sorted_words[sorted_word].append(word)\n",
    "        else:\n",
    "            sorted_words[sorted_word] = []\n",
    "            sorted_words[sorted_word].append(word)\n",
    "            \n",
    "    return sorted_words         "
   ]
  },
  {
   "cell_type": "code",
   "execution_count": 17,
   "metadata": {},
   "outputs": [
    {
     "data": {
      "text/plain": [
       "{'abc': ['abc', 'bac'], 'def': ['def', 'fed'], 'xyz': ['xyz']}"
      ]
     },
     "execution_count": 17,
     "metadata": {},
     "output_type": "execute_result"
    }
   ],
   "source": [
    "words = ['abc', 'def', 'xyz', 'bac', 'fed']\n",
    "group_anagrams(words)"
   ]
  },
  {
   "cell_type": "markdown",
   "metadata": {},
   "source": [
    "## Find lowest common ancestor (LCA) in a binary tree\n",
    "https://www.geeksforgeeks.org/lowest-common-ancestor-binary-tree-set-1/"
   ]
  },
  {
   "cell_type": "code",
   "execution_count": null,
   "metadata": {
    "collapsed": true
   },
   "outputs": [],
   "source": []
  },
  {
   "cell_type": "markdown",
   "metadata": {},
   "source": [
    "## Given start times and end times of events, determine if any two events overlap\n",
    "https://www.geeksforgeeks.org/check-if-any-two-intervals-overlap-among-a-given-set-of-intervals/"
   ]
  },
  {
   "cell_type": "code",
   "execution_count": 18,
   "metadata": {},
   "outputs": [
    {
     "data": {
      "text/plain": [
       "[(1, 3), (2, 6), (4, 10), (5, 16)]"
      ]
     },
     "execution_count": 18,
     "metadata": {},
     "output_type": "execute_result"
    }
   ],
   "source": [
    "intervals = [(1,3), (4, 10), (5, 16), (2, 6)]\n",
    "sorted(intervals, key=lambda x: x[0])"
   ]
  },
  {
   "cell_type": "code",
   "execution_count": 19,
   "metadata": {
    "collapsed": true
   },
   "outputs": [],
   "source": [
    "intervals = [(1,3), (4, 10), (5, 16), (2, 6)]\n",
    "\n",
    "def is_overlap(intervals):\n",
    "    if len(intervals) < 2:\n",
    "        return False\n",
    "    \n",
    "    sorted_by_start = sorted(intervals, key=lambda x: x[0])\n",
    "    \n",
    "    current_start = intervals[0][0]\n",
    "    current_end = intervals[0][1]\n",
    "    \n",
    "    for (start, end) in intervals[1:]:\n",
    "        if start <= current_end:\n",
    "            return True\n",
    "        else:\n",
    "            current_start = start\n",
    "            current_end = end\n",
    "            \n",
    "    return False         "
   ]
  },
  {
   "cell_type": "code",
   "execution_count": 23,
   "metadata": {},
   "outputs": [
    {
     "data": {
      "text/plain": [
       "True"
      ]
     },
     "execution_count": 23,
     "metadata": {},
     "output_type": "execute_result"
    }
   ],
   "source": [
    "intervals = [(1,2), (3, 4), (5, 8), (4, 6)]\n",
    "is_overlap(intervals)"
   ]
  },
  {
   "cell_type": "markdown",
   "metadata": {
    "collapsed": true
   },
   "source": [
    "https://www.glassdoor.com/Interview/Facebook-London-Interview-Questions-EI_IE40772.0,8_IL.9,15_IM1035.htm\n",
    "\n",
    "\n",
    "Clean code, test cases, scalable design, high level design...\n",
    "How do you print all elements of a linked list.\n",
    "Find lowest common ancestor (LCA).\n",
    "Given two unsorted arrays, one with event start times and one with end times, find out if any two events overlap.\n",
    "\n",
    "During the second interview, I was asked to implement LCA in a binary tree (not BST) on collabedit.com. I was close, but not close enough...  \n",
    "\n",
    "algorithmic questions about array, linked list, trees  \n",
    "\n",
    "Know how to traverse data structures.\n",
    "\n",
    "Know what the time/space complexity is.\n",
    "\n",
    "Seriously, it really isn't that hard but you do need to know it so well that you can literally write it flawlessly. They want to see that you arrive at the decision to use a tree/hashtable/graph whatever, but then they expect you to bang out that solution.\n",
    "\n",
    "Given an array of integers return true if two of the numbers add to X. \n",
    "\n",
    "You a have a vector with the heights of an island (at point 1, point 2 etc) and you want to know how much water would remain on this island (without flowing away)\n",
    "\n",
    "Write a function that takes a list of words as input, and returns a list of those words bucketized by anagrams with duplicates removed.\n",
    "\n",
    "Example:\n",
    "Input: [\"star\", \"rats\", \"car\", \"arc\", \"arts\", \"rats\", \"bar\"]\n",
    "Output: [[\"star\", \"rats\", \"arts\"], [\"car\", \"arc\"], [\"bar\"]]\n",
    "\n",
    "Given 2 interval ranges, create a function to tell me if these ranges intersect. Both start and end are inclusive: [start, end]\n",
    "\n",
    "Given 2 interval ranges that intersect, now create a function to merge the 2 ranges into a single continuous range.\n",
    "\n",
    "Now create a function that takes a group of unsorted, unorganized intervals, merge any intervals that intersect and sort them. The result should be a group of sorted, non-intersecting intervals.\n",
    "\n",
    "Now create a function to merge a new interval into a group of sorted, non-intersecting intervals. After the merge, all intervals should remain non-intersecting. You are given the function definition below. \n",
    "\n",
    "\n",
    "Find the third element of a tree.\n",
    "\n",
    "Tree , String manipulation, Linked List\n",
    "\n",
    "What's the biggest project you've ever done?\n",
    "\n",
    "How do you test if water is toxic without tasting it\n",
    "\n",
    "Find number in sorted array with rotation. Ex. array is [5, 7, 8, 1, 3].\n",
    "\n",
    "practice dp+graph+strings+tree\n",
    "\n",
    "FInding the maximum difference between two numbers in a list\n",
    "\n",
    "Design question - design database structure of url shortener. Improve it. Scale it. Think about all possible functions this project might need.\n",
    "\n",
    "Given an array of integers and a target number, find the two elements whose sum is closest to the target number.  \n",
    "\n",
    "https://www.quora.com/How-does-YouTubes-recommendation-algorithm-work"
   ]
  },
  {
   "cell_type": "markdown",
   "metadata": {},
   "source": [
    "How do you evaluate the reverse polish notation. Additionally implement a variant that also allows assigning values to variables, recalling them and reassigning them as an addition to the RPN.  \n",
    "\n",
    "Implement an algorithm to create a Voronoi diagram.\n",
    "\n",
    "Back-of-the envelope calculation to estimate the latency of client&#039;s queries.\n",
    "\n",
    "topological sorting\n",
    "\n",
    "Find the top minimal m elements of n elements in O(n) time\n",
    "\n",
    "Build a system that will serve Google Doodle's\n",
    "\n",
    "Mostly about trees, lists and data structures.\n",
    "\n",
    "Given a list of integers and another integer. Write a program that returns the posible combinations of the list which added, match the integer, numbers can repeat itself.\n",
    "\n",
    "algorithms, BST or hash tables.\n",
    "\n",
    "You have a list of matches, where each match is a pair of ints meaning (ID of Player One, ID of Player Two) where in that match player one is better than player two. Make a ranking of all the players in order. \n",
    "\n",
    "All of the questions were challenging algorithms questions, focusing on different topics such as graphs, trees and similar other data structures\n",
    " \n",
    "How would you design twitter to scale?\n",
    "\n",
    "Given matrix m x n containing only 0s and 1s. Write code that finds path of 1s from first row to last row.\n",
    "\n",
    "Breadth First Search on a NxN char grid in order to find the shortest path to a desired char starting from a random position.\n",
    "\n",
    "what kind on an animal would i choose to be?\n",
    "\n",
    "How do you detect a loop in values generated by x <- f(x) ?\n",
    "\n",
    "Implement a skiplist on the whiteboard\n",
    "\n",
    "How to store any data if you need to distinguish the beginning and the end of it\n",
    "\n",
    "Graph algorithms, system design, designing data structures  "
   ]
  },
  {
   "cell_type": "markdown",
   "metadata": {},
   "source": [
    "Drone Flight Planner\n",
    "You’re an engineer at a disruptive drone delivery startup and your CTO asks you to come up with an efficient algorithm that calculates the minimum amount of energy required for the company’s drone to complete its flight. You know that the drone burns 1 kWh (kilowatt-hour is an energy unit) for every mile it ascends, and it gains 1 kWh for every mile it descends. Flying sideways neither burns nor adds any energy.\n",
    "\n",
    "Given an array route of 3D points, implement a function calcDroneMinEnergy that computes and returns the minimal amount of energy the drone would need to complete its route. Assume that the drone starts its flight at the first point in route. That is, no energy was expended to place the drone at the starting point.\n",
    "\n",
    "For simplicity, every 3D point will be represented as an integer array whose length is 3. Also, the values at indexes 0, 1, and 2 represent the x, y and z coordinates in a 3D point, respectively.\n",
    "\n",
    "Explain your solution and analyze its time and space complexities.\n",
    "\n",
    "Example:\n",
    "\n",
    "input:  route = [ [0,   2, 10],\n",
    "                  [3,   5,  0],\n",
    "                  [9,  20,  6],\n",
    "                  [10, 12, 15],\n",
    "                  [10, 10,  8] ]\n",
    "\n",
    "output: 5 # less than 5 kWh and the drone would crash before the finish\n",
    "          # line. More than `5` kWh and it’d end up with e\n",
    "          \n",
    "The more elegant solution\n",
    "This solution is based on one observation: the initial energy level is what it takes the drone to climb from the start point to the highest (max) point in its route.\n",
    "\n",
    "Getting to any altitude below the starting altitude produces energy, and going above it consumes at most the difference between the max altitude and the starting altitude.\n",
    "\n",
    "Even if we descend before climbing to the max altitude, by ascending back to the same altitude as the starting altitude, our balance is zero and we then need more energy to climb from the starting altitude to the max altitude.          "
   ]
  },
  {
   "cell_type": "code",
   "execution_count": 27,
   "metadata": {
    "collapsed": true
   },
   "outputs": [],
   "source": [
    "def calc_drone_min_energy(route):\n",
    "    current_sum = 0\n",
    "    current_max = 0\n",
    "    for i in range(1, len(route)):\n",
    "        previous_height = route[i-1][2]\n",
    "        current_height = route[i][2]\n",
    "        current_sum = current_sum + previous_height - current_height\n",
    "        if current_sum < 0:\n",
    "            current_max = max(current_max, -current_sum)\n",
    "    return current_max        "
   ]
  },
  {
   "cell_type": "code",
   "execution_count": 28,
   "metadata": {
    "collapsed": true
   },
   "outputs": [],
   "source": [
    "route = [[0, 2, 10], [3,  5,  0], [9,  20,  6], [10, 12, 15], [10, 10, 8]]"
   ]
  },
  {
   "cell_type": "code",
   "execution_count": 29,
   "metadata": {},
   "outputs": [
    {
     "data": {
      "text/plain": [
       "5"
      ]
     },
     "execution_count": 29,
     "metadata": {},
     "output_type": "execute_result"
    }
   ],
   "source": [
    "calc_drone_min_energy(route)"
   ]
  },
  {
   "cell_type": "code",
   "execution_count": 37,
   "metadata": {
    "collapsed": true
   },
   "outputs": [],
   "source": [
    "_seen = True\n",
    "\n",
    "def remove_reoccuring_chars(s):\n",
    "    seen_chars = {}\n",
    "    output = \"\"\n",
    "    for i in range(len(s)):\n",
    "        if not seen_chars.has_key(s[i]):\n",
    "            seen_chars[s[i]] = _seen\n",
    "            output = output + s[i]        \n",
    "    return output                   "
   ]
  },
  {
   "cell_type": "code",
   "execution_count": 38,
   "metadata": {},
   "outputs": [
    {
     "data": {
      "text/plain": [
       "'abc'"
      ]
     },
     "execution_count": 38,
     "metadata": {},
     "output_type": "execute_result"
    }
   ],
   "source": [
    "s = \"aabbacbc\"\n",
    "remove_reoccuring_chars(s)"
   ]
  },
  {
   "cell_type": "markdown",
   "metadata": {},
   "source": [
    "Pancake Sort\n",
    "Given an array of integers arr:\n",
    "\n",
    "Write a function flip(arr, k) that reverses the order of the first k elements in the array arr.\n",
    "Write a function pancakeSort(arr) that sorts and returns the input array. You are allowed to use only the function flip you wrote in the first step in order to make changes in the array.\n",
    "\n",
    "https://ispycode.com/Python/Data-Types/Sorting/Pancake-Sort"
   ]
  },
  {
   "cell_type": "code",
   "execution_count": 12,
   "metadata": {
    "collapsed": true
   },
   "outputs": [],
   "source": [
    "def flip(A, k):\n",
    "    low = 0\n",
    "    high = k-1\n",
    "    \n",
    "    while low < high:\n",
    "        temp = A[low]\n",
    "        A[low] = A[high]\n",
    "        A[high] = temp\n",
    "        low = low + 1\n",
    "        high = high - 1\n",
    "            \n",
    "    \n",
    "    return A\n",
    "\n",
    "_undefined = -1\n",
    "def get_max(A):\n",
    "    if len(A) == 0:\n",
    "        return _undefined\n",
    "    \n",
    "    current_index = 0\n",
    "    current_max = A[0]\n",
    "    \n",
    "    for i in range(1, len(A)):\n",
    "        if A[i] > current_max:\n",
    "            current_max = A[i]\n",
    "            current_index = i\n",
    "            \n",
    "    return current_max, current_index\n",
    "\n",
    "def pancake_sort(A):\n",
    "    if len(A) < 2:\n",
    "        return A\n",
    "    \n",
    "    max_value, max_index = get_max(A)\n",
    "    \n",
    "    flip(A, max_index + 1)\n",
    "    \n",
    "    flip(A, len(A))\n",
    "    \n",
    "    return pancake_sort(A[:-1]) + [max_value]\n",
    "    \n",
    "        "
   ]
  },
  {
   "cell_type": "code",
   "execution_count": 21,
   "metadata": {
    "collapsed": true
   },
   "outputs": [],
   "source": [
    "def pancake_sort(A, t):\n",
    "    if min(len(A), t) > 1:\n",
    "        max_value, max_index = get_max(A[:t])\n",
    "        flip(A, max_index + 1)\n",
    "        flip(A, t)\n",
    "        pancake_sort(A, t-1) \n",
    "    "
   ]
  },
  {
   "cell_type": "code",
   "execution_count": 22,
   "metadata": {},
   "outputs": [
    {
     "name": "stdout",
     "output_type": "stream",
     "text": [
      "[1, 2, 3, 4, 5, 6]\n"
     ]
    }
   ],
   "source": [
    "A = [1,3,5,2,4,6]\n",
    "\n",
    "get_max(A)\n",
    "pancake_sort(A, len(A))\n",
    "print A"
   ]
  },
  {
   "cell_type": "code",
   "execution_count": 28,
   "metadata": {
    "collapsed": true
   },
   "outputs": [],
   "source": [
    "def pancakeSort(arr):\n",
    "    for i in range(len(arr)-1, 0, -1):\n",
    "        #maxIndex = findMaxIndexInPrefix(arr,i)\n",
    "        _, maxIndex = get_max(arr[:i+1])\n",
    "        flip(arr, maxIndex)\n",
    "        flip(arr, i)\n",
    "\n",
    "    return arr"
   ]
  },
  {
   "cell_type": "code",
   "execution_count": 29,
   "metadata": {},
   "outputs": [
    {
     "data": {
      "text/plain": [
       "[1, 2, 3, 4, 5, 6]"
      ]
     },
     "execution_count": 29,
     "metadata": {},
     "output_type": "execute_result"
    }
   ],
   "source": [
    "pancakeSort(A)"
   ]
  },
  {
   "cell_type": "code",
   "execution_count": 27,
   "metadata": {},
   "outputs": [
    {
     "data": {
      "text/plain": [
       "[1, 2, 3]"
      ]
     },
     "execution_count": 27,
     "metadata": {},
     "output_type": "execute_result"
    }
   ],
   "source": [
    "A[:3]"
   ]
  },
  {
   "cell_type": "markdown",
   "metadata": {},
   "source": [
    "# Island Count\n",
    "Given a 2D array binaryMatrix of 0s and 1s, implement a function getNumberOfIslands that returns the number of islands of 1s in binaryMatrix.\n",
    "\n",
    "An island is defined as a group of adjacent values that are all 1s. A cell in binaryMatrix is considered adjacent to another cell if they are next to each either on the same row or column. Note that two values of 1 are not part of the same island if they’re sharing only a mutual “corner” (i.e. they are diagonally neighbors).\n",
    "\n",
    "Explain and code the most efficient solution possible and analyze its time and space complexities.\n",
    "\n",
    "Example:\n",
    "\n",
    "input:  binaryMatrix = [ [0,    1,    0,    1,    0],\n",
    "                         [0,    0,    1,    1,    1],\n",
    "                         [1,    0,    0,    1,    0],\n",
    "                         [0,    1,    1,    0,    0],\n",
    "                         [1,    0,    1,    0,    1] ]\n",
    "\n",
    "output: 6 # since this is the number of islands in binaryMatrix.\n",
    "          # See all 6 islands color-coded below."
   ]
  },
  {
   "cell_type": "code",
   "execution_count": 8,
   "metadata": {
    "collapsed": true
   },
   "outputs": [],
   "source": [
    "def get_neighbors(matrix, (i,j)):\n",
    "    \n",
    "    neighbors = []\n",
    "    \n",
    "    if i == 0 and j == 0:\n",
    "        if matrix[i][j+1] == 1:\n",
    "            neighbors.append((i, j+1))\n",
    "        if matrix[i+1][j] == 1:\n",
    "            neighbors.append((i+1, j))\n",
    "        \n",
    "    if i == 0 and j == len(matrix[i])-1:\n",
    "        if matrix[i][j-1] == 1:\n",
    "            neighbors.append((i, j-1))\n",
    "        if matrix[i+1][j] == 1:\n",
    "            neighbors.append((i+1, j))\n",
    "        \n",
    "    \n",
    "    if i == len(matrix)-1 and j == 0:\n",
    "        if matrix[i][j+1] == 1:\n",
    "            neighbors.append((i, j+1))\n",
    "        if matrix[i-1][j] == 1:\n",
    "            neighbors.append((i-1, j))\n",
    "        \n",
    "    \n",
    "    if i == len(matrix)-1 and j == len(matrix[i])-1:\n",
    "        if matrix[i][j-1] == 1:\n",
    "            neighbors.append((i, j-1))\n",
    "        if matrix[i-1][j] == 1:\n",
    "            neighbors.append((i-1, j))\n",
    "        \n",
    "    \n",
    "    if i == 0 and j != 0 and j != len(matrix[i])-1:\n",
    "        if matrix[i][j+1] == 1:\n",
    "            neighbors.append((i, j+1))\n",
    "        if matrix[i][j-1] == 1:\n",
    "            neighbors.append((i, j-1))    \n",
    "        if matrix[i+1][j] == 1:\n",
    "            neighbors.append((i+1, j))\n",
    "        \n",
    "    if i != 0 and j == 0 and i != len(matrix)-1:\n",
    "        if matrix[i-1][j] == 1:\n",
    "            neighbors.append((i-1, j))\n",
    "        if matrix[i+1][j] == 1:\n",
    "            neighbors.append((i+1, j))    \n",
    "        if matrix[i][j+1] == 1:\n",
    "            neighbors.append((i, j+1))\n",
    "            \n",
    "    if i == len(matrix)-1 and j != 0 and j != len(matrix[i])-1:\n",
    "        if matrix[i][j+1] == 1:\n",
    "            neighbors.append((i, j+1))\n",
    "        if matrix[i][j-1] == 1:\n",
    "            neighbors.append((i, j-1))    \n",
    "        if matrix[i-1][j] == 1:\n",
    "            neighbors.append((i-1, j))\n",
    "        \n",
    "    if i != 0 and j == len(matrix[i])-1 and i != len(matrix)-1:\n",
    "        if matrix[i-1][j] == 1:\n",
    "            neighbors.append((i-1, j))\n",
    "        if matrix[i+1][j] == 1:\n",
    "            neighbors.append((i+1, j))    \n",
    "        if matrix[i+1][j] == 1:\n",
    "            neighbors.append((i, j-1)) \n",
    "            \n",
    "    if i != 0 and j !=0 and i != len(matrix)-1 and j != len(matrix[i])-1:\n",
    "        if matrix[i-1][j] == 1:\n",
    "            neighbors.append((i-1, j))\n",
    "        if matrix[i+1][j] == 1:\n",
    "            neighbors.append((i+1, j))    \n",
    "        if matrix[i+1][j] == 1:\n",
    "            neighbors.append((i, j-1))\n",
    "        if matrix[i][j+1] == 1:\n",
    "            neighbors.append((i, j+1)) \n",
    "            \n",
    "    return neighbors        "
   ]
  },
  {
   "cell_type": "code",
   "execution_count": 40,
   "metadata": {
    "collapsed": true
   },
   "outputs": [],
   "source": [
    "def get_candidate_neighbors(matrix, (i,j)):\n",
    "    neighbors = [(i-1, j), (i+1,j), (i,j-1), (i,j+1)]\n",
    "    if i == 0:\n",
    "        neighbors.remove((i-1,j))\n",
    "    if i == len(matrix)-1:\n",
    "        neighbors.remove((i+1, j))\n",
    "    if j == 0:\n",
    "        neighbors.remove((i, j-1))\n",
    "    if j == len(matrix[0])-1 :\n",
    "        neighbors.remove((i, j+1))\n",
    "        \n",
    "    return neighbors"
   ]
  },
  {
   "cell_type": "code",
   "execution_count": 41,
   "metadata": {
    "collapsed": true
   },
   "outputs": [],
   "source": [
    "def get_neighbors(matrix, (i,j)):\n",
    "    neighbors = []\n",
    "    candidate_neighbors = get_candidate_neighbors(matrix, (i,j))\n",
    "    for (a,b) in candidate_neighbors:\n",
    "        if matrix[a][b] == 1:\n",
    "            neighbors.append((a,b))\n",
    "    return neighbors          "
   ]
  },
  {
   "cell_type": "code",
   "execution_count": 34,
   "metadata": {
    "collapsed": true
   },
   "outputs": [],
   "source": [
    "def create_graph(matrix):\n",
    "    G = {}\n",
    "    \n",
    "    for i in range(len(matrix)):\n",
    "        for j in range(len(matrix[i])):\n",
    "            if matrix[i][j] == 1:\n",
    "                G[(i,j)] = get_neighbors(matrix, (i,j))\n",
    "            \n",
    "    return G\n",
    "\n",
    "def get_islands(matrix):\n",
    "    G = create_graph(matrix)\n",
    "    islands = {}\n",
    "    \n",
    "    unvisited_nodes = G.keys()\n",
    "    \n",
    "    island_id = 0\n",
    "    \n",
    "    while len(unvisited_nodes) != 0:\n",
    "        root = unvisited_nodes.pop(0)\n",
    "        queue = [root]\n",
    "        \n",
    "        while len(queue) != 0:\n",
    "            next_node = queue.pop(0)\n",
    "            \n",
    "            islands[next_node] = island_id\n",
    "            for neighbor in G[next_node]:\n",
    "                if neighbor in unvisited_nodes:\n",
    "                    queue.append(neighbor)\n",
    "                    unvisited_nodes.remove(neighbor)\n",
    "                \n",
    "        island_id = island_id + 1\n",
    "        \n",
    "                \n",
    "    return islands                  "
   ]
  },
  {
   "cell_type": "code",
   "execution_count": null,
   "metadata": {
    "collapsed": true
   },
   "outputs": [],
   "source": [
    "binaryMatrix = [ [0,    1,    0,    1,    0],\n",
    "                 [0,    0,    1,    1,    1],\n",
    "                 [1,    0,    0,    1,    0],\n",
    "                 [0,    1,    1,    0,    0],\n",
    "                 [1,    0,    1,    0,    1] ]"
   ]
  },
  {
   "cell_type": "code",
   "execution_count": 42,
   "metadata": {},
   "outputs": [
    {
     "data": {
      "text/plain": [
       "[]"
      ]
     },
     "execution_count": 42,
     "metadata": {},
     "output_type": "execute_result"
    }
   ],
   "source": [
    "get_neighbors(binaryMatrix, (4,4))"
   ]
  },
  {
   "cell_type": "code",
   "execution_count": 35,
   "metadata": {
    "collapsed": true
   },
   "outputs": [],
   "source": [
    "binaryMatrix = [ [0,    1,    0,    1,    0],\n",
    "                 [0,    0,    1,    1,    1],\n",
    "                 [1,    0,    0,    1,    0],\n",
    "                 [0,    1,    1,    0,    0],\n",
    "                 [1,    0,    1,    0,    1] ]"
   ]
  },
  {
   "cell_type": "code",
   "execution_count": 43,
   "metadata": {},
   "outputs": [
    {
     "data": {
      "text/plain": [
       "{(0, 1): [],\n",
       " (0, 3): [(1, 3)],\n",
       " (1, 2): [(1, 3)],\n",
       " (1, 3): [(0, 3), (2, 3), (1, 2), (1, 4)],\n",
       " (1, 4): [(1, 3)],\n",
       " (2, 0): [],\n",
       " (2, 3): [(1, 3)],\n",
       " (3, 1): [(3, 2)],\n",
       " (3, 2): [(4, 2), (3, 1)],\n",
       " (4, 0): [],\n",
       " (4, 2): [(3, 2)],\n",
       " (4, 4): []}"
      ]
     },
     "execution_count": 43,
     "metadata": {},
     "output_type": "execute_result"
    }
   ],
   "source": [
    "create_graph(binaryMatrix)"
   ]
  },
  {
   "cell_type": "code",
   "execution_count": 48,
   "metadata": {
    "collapsed": true
   },
   "outputs": [],
   "source": [
    "matrix = [[1,0,1,0],[0,1,1,1],[0,0,1,0]]\n",
    "islands = get_islands(matrix)"
   ]
  },
  {
   "cell_type": "code",
   "execution_count": 50,
   "metadata": {},
   "outputs": [
    {
     "data": {
      "text/plain": [
       "[0, 1]"
      ]
     },
     "execution_count": 50,
     "metadata": {},
     "output_type": "execute_result"
    }
   ],
   "source": [
    "distinct_island_ids = []\n",
    "for island_id in islands.values():\n",
    "    if not island_id in distinct_island_ids:\n",
    "        distinct_island_ids.append(island_id)\n",
    "        \n",
    "        \n",
    "distinct_island_ids   "
   ]
  },
  {
   "cell_type": "code",
   "execution_count": 22,
   "metadata": {},
   "outputs": [
    {
     "data": {
      "text/plain": [
       "{(0, 1): 0,\n",
       " (0, 3): 1,\n",
       " (1, 2): 1,\n",
       " (1, 3): 1,\n",
       " (1, 4): 1,\n",
       " (2, 0): 4,\n",
       " (2, 3): 1,\n",
       " (3, 1): 2,\n",
       " (3, 2): 2,\n",
       " (4, 0): 5,\n",
       " (4, 2): 2,\n",
       " (4, 4): 3}"
      ]
     },
     "execution_count": 22,
     "metadata": {},
     "output_type": "execute_result"
    }
   ],
   "source": [
    "get_islands(binaryMatrix)"
   ]
  },
  {
   "cell_type": "code",
   "execution_count": 45,
   "metadata": {},
   "outputs": [
    {
     "data": {
      "text/plain": [
       "{(0, 0): [], (0, 2): []}"
      ]
     },
     "execution_count": 45,
     "metadata": {},
     "output_type": "execute_result"
    }
   ],
   "source": [
    "create_graph([[1,0,1,0]])"
   ]
  },
  {
   "cell_type": "code",
   "execution_count": 46,
   "metadata": {},
   "outputs": [
    {
     "data": {
      "text/plain": [
       "{(0, 0): 0, (0, 2): 1}"
      ]
     },
     "execution_count": 46,
     "metadata": {},
     "output_type": "execute_result"
    }
   ],
   "source": [
    "get_islands([[1,0,1,0]])"
   ]
  },
  {
   "cell_type": "code",
   "execution_count": 51,
   "metadata": {
    "collapsed": true
   },
   "outputs": [],
   "source": [
    "def get_candidate_neighbors(matrix, (i,j)):\n",
    "    neighbors = [(i-1, j), (i+1,j), (i,j-1), (i,j+1)]\n",
    "    if i == 0:\n",
    "        neighbors.remove((i-1,j))\n",
    "    if i == len(matrix)-1:\n",
    "        neighbors.remove((i+1, j))\n",
    "    if j == 0:\n",
    "        neighbors.remove((i, j-1))\n",
    "    if j == len(matrix[0])-1 :\n",
    "        neighbors.remove((i, j+1))\n",
    "        \n",
    "    return neighbors\n",
    "  \n",
    "def get_neighbors(matrix, (i,j)):\n",
    "    neighbors = []\n",
    "    candidate_neighbors = get_candidate_neighbors(matrix, (i,j))\n",
    "    for (a,b) in candidate_neighbors:\n",
    "        if matrix[a][b] == 1:\n",
    "            neighbors.append((a,b))\n",
    "    return neighbors       \n",
    "        \n",
    "\n",
    "def create_graph(matrix):\n",
    "    G = {}\n",
    "    \n",
    "    for i in range(len(matrix)):\n",
    "        for j in range(len(matrix[i])):\n",
    "            if matrix[i][j] == 1:\n",
    "                G[(i,j)] = get_neighbors(matrix, (i,j))      \n",
    "    return G\n",
    "\n",
    "def get_number_of_islands(matrix):\n",
    "    if len(matrix) == 0:\n",
    "        return 0\n",
    "          \n",
    "    G = create_graph(matrix)\n",
    "    islands = {}\n",
    "    \n",
    "    unvisited_nodes = G.keys()\n",
    "    \n",
    "    island_id = 0\n",
    "    \n",
    "    while len(unvisited_nodes) != 0:\n",
    "        root = unvisited_nodes.pop(0)\n",
    "        queue = [root]\n",
    "        \n",
    "        while len(queue) != 0:\n",
    "            next_node = queue.pop(0)\n",
    "            islands[next_node] = island_id\n",
    "            for neighbor in G[next_node]:\n",
    "                if neighbor in unvisited_nodes:\n",
    "                    queue.append(neighbor)\n",
    "                    unvisited_nodes.remove(neighbor)\n",
    "                \n",
    "        island_id = island_id + 1\n",
    "    \n",
    "    distinct_island_ids = []\n",
    "    for island_id in islands.values():\n",
    "        if not island_id in distinct_island_ids:\n",
    "            distinct_island_ids.append(island_id)\n",
    "    return len(distinct_island_ids) "
   ]
  },
  {
   "cell_type": "code",
   "execution_count": 1,
   "metadata": {
    "collapsed": true
   },
   "outputs": [],
   "source": [
    "A = [5,4,0,1,2,0,0,1]\n",
    "\n",
    "def move_zeroes(A):\n",
    "    \"\"\" move all 0s to the right end of A and return A \"\"\"\n",
    "    \n",
    "    low = 0\n",
    "    high = len(A)-1\n",
    "    \n",
    "    while low <= high:\n",
    "        if A[low] == 0 and A[high] != 0:\n",
    "            temp = A[low]\n",
    "            A[low] = A[high]\n",
    "            A[high] = temp\n",
    "            \n",
    "        if A[high] == 0:\n",
    "            high = high - 1\n",
    "            \n",
    "        if A[low] != 0:\n",
    "            low = low + 1\n",
    "        \n",
    "            \n",
    "    return A         "
   ]
  },
  {
   "cell_type": "code",
   "execution_count": 2,
   "metadata": {},
   "outputs": [
    {
     "data": {
      "text/plain": [
       "[5, 4, 1, 1, 2, 0, 0, 0]"
      ]
     },
     "execution_count": 2,
     "metadata": {},
     "output_type": "execute_result"
    }
   ],
   "source": [
    "move_zeroes(A)"
   ]
  },
  {
   "cell_type": "markdown",
   "metadata": {},
   "source": [
    "A naive approach is is to run two loops. The outer loop picks the first element (smaller element) and the inner loop looks up for the element picked by the outer loop plus k. While this solution is done in O(1) space complexity, its time complexity is O(N^2), which isn’t asymptotically optimal.\n",
    "\n",
    "We can use a hash map to improve the time complexity to O(N⋅log(N)) for the worst case and O(N) for the average case. We rely on the fact that if x - y = k then x - k = y.\n",
    "\n",
    "The first step is to traverse the array, and for each element arr[i], we add a key-value pair of (arr[i] - k, arr[i]) to a hash map. Once the map is populated, we traverse the array again, and check for each element if a match exists in the map.\n",
    "\n",
    "Both the first and second steps take O(N⋅log(N)) for the worst case and O(N) for the average case. So the overall time complexity is O(N) for the average case"
   ]
  },
  {
   "cell_type": "code",
   "execution_count": 52,
   "metadata": {
    "collapsed": true
   },
   "outputs": [],
   "source": [
    "def find_pairs_with_given_difference(arr, k):\n",
    "    output = []\n",
    "    for y in arr:\n",
    "        x = y + k\n",
    "        if x in arr:\n",
    "            output.append([x,y])\n",
    "          \n",
    "    return output  "
   ]
  },
  {
   "cell_type": "markdown",
   "metadata": {},
   "source": [
    "# Longest increasing subarray"
   ]
  },
  {
   "cell_type": "code",
   "execution_count": 53,
   "metadata": {
    "collapsed": true
   },
   "outputs": [],
   "source": [
    "_minus_infinity = -99999999\n",
    "def lis(nums):\n",
    "    prev_num = _minus_infinity\n",
    "    current_run = 0\n",
    "    max_run = 0\n",
    "    for num in nums:\n",
    "        if num > prev_num:\n",
    "            current_run = current_run + 1\n",
    "        else:\n",
    "            current_run = 1\n",
    "        max_run = max(current_run, max_run)\n",
    "        prev_num = num\n",
    "    return max_run    "
   ]
  },
  {
   "cell_type": "code",
   "execution_count": 55,
   "metadata": {},
   "outputs": [
    {
     "data": {
      "text/plain": [
       "3"
      ]
     },
     "execution_count": 55,
     "metadata": {},
     "output_type": "execute_result"
    }
   ],
   "source": [
    "nums = [2,4,3,4,5,1,2]\n",
    "lis(nums)"
   ]
  },
  {
   "cell_type": "markdown",
   "metadata": {},
   "source": [
    "# Sudoku solver"
   ]
  },
  {
   "cell_type": "code",
   "execution_count": 2,
   "metadata": {
    "collapsed": true
   },
   "outputs": [],
   "source": [
    "def get_block(board, i, j):\n",
    "    block = []\n",
    "    d_i = i // 3\n",
    "    d_j = j // 3\n",
    "    for k in range(3):\n",
    "        for m in range(3):\n",
    "             block.append(board[d_i + k][d_j + m])     \n",
    "    return block        \n",
    "    \n",
    "def get_candidates(board, i,j):\n",
    "    candidates = range(1,10)\n",
    "    \n",
    "    ith_row = board[i]\n",
    "    jth_column = [board[k][j] for k in range(9)]\n",
    "    block_of_ij = get_block(board, i,j)\n",
    "    \n",
    "    for num in ith_row:\n",
    "        if num in candidates:\n",
    "            candidates.remove(int(num))\n",
    "    \n",
    "    for num in jth_column:\n",
    "         if num in candidates:\n",
    "            candidates.remove(int(num))\n",
    "            \n",
    "    for num in block_of_ij:        \n",
    "         if num in candidates:\n",
    "            candidates.remove(int(num))\n",
    "    \n",
    "    return candidates\n",
    "\n",
    "def is_valid(board):\n",
    "    pass\n",
    "\n",
    "def sudoku_solve(board):\n",
    "    for i in range(9):\n",
    "        for j in range(9):\n",
    "            #print board[i][j]\n",
    "            if board[i][j] == \".\":\n",
    "                candidates = get_candidates(board, i,j)\n",
    "                #print i,j, candidates\n",
    "                for candidate in candidates:\n",
    "                    board[i][j] = candidate\n",
    "                    if sudoku_solve(board) == True:\n",
    "                        return True\n",
    "                    else:\n",
    "                        candidates.remove(candidate)\n",
    "                        board[i][j] = \".\" \n",
    "                if len(candidates) == 0:\n",
    "                    return False\n",
    "               \n",
    "    return is_valid(board)"
   ]
  },
  {
   "cell_type": "code",
   "execution_count": 7,
   "metadata": {},
   "outputs": [
    {
     "data": {
      "text/plain": [
       "False"
      ]
     },
     "execution_count": 7,
     "metadata": {},
     "output_type": "execute_result"
    }
   ],
   "source": [
    "board = []\n",
    "for i in range(10):\n",
    "    board.append(range(1,10))\n",
    "sudoku_solve(board)"
   ]
  },
  {
   "cell_type": "code",
   "execution_count": 3,
   "metadata": {
    "collapsed": true
   },
   "outputs": [],
   "source": [
    "board = [[\".\",\".\",\".\",\"7\",\".\",\".\",\"3\",\".\",\"1\"],[\"3\",\".\",\".\",\"9\",\".\",\".\",\".\",\".\",\".\"],[\".\",\"4\",\".\",\"3\",\"1\",\".\",\"2\",\".\",\".\"],[\".\",\"6\",\".\",\"4\",\".\",\".\",\"5\",\".\",\".\"],[\".\",\".\",\".\",\".\",\".\",\".\",\".\",\".\",\".\"],[\".\",\".\",\"1\",\".\",\".\",\"8\",\".\",\"4\",\".\"],[\".\",\".\",\"6\",\".\",\"2\",\"1\",\".\",\"5\",\".\"],[\".\",\".\",\".\",\".\",\".\",\"9\",\".\",\".\",\"8\"],[\"8\",\".\",\"5\",\".\",\".\",\"4\",\".\",\".\",\".\"]]"
   ]
  },
  {
   "cell_type": "code",
   "execution_count": null,
   "metadata": {},
   "outputs": [],
   "source": [
    "sudoku_solve(board)"
   ]
  },
  {
   "cell_type": "markdown",
   "metadata": {},
   "source": [
    "https://stackoverflow.com/questions/1697334/algorithm-for-solving-sudoku\n",
    "\n",
    "https://towardsdatascience.com/peter-norvigs-sudoku-solver-25779bb349c\n",
    "\n",
    "\n",
    "http://norvig.com/sudoku.html"
   ]
  },
  {
   "cell_type": "code",
   "execution_count": 5,
   "metadata": {},
   "outputs": [],
   "source": [
    "def findNextCellToFill(grid, i, j):\n",
    "            #for x in range(i,9):\n",
    "            #        for y in range(j,9):\n",
    "            #                if grid[x][y] == 0:\n",
    "            #                        return x,y\n",
    "            for x in range(0,9):\n",
    "                    for y in range(0,9):\n",
    "                            if grid[x][y] == 0:\n",
    "                                    return x,y\n",
    "            return -1,-1\n",
    "def isValid(grid, i, j, e):\n",
    "            rowOk = all([e != grid[i][x] for x in range(9)])\n",
    "            if rowOk:\n",
    "                    columnOk = all([e != grid[x][j] for x in range(9)])\n",
    "                    if columnOk:\n",
    "                            # finding the top left x,y co-ordinates of the section containing the i,j cell\n",
    "                            secTopX, secTopY = 3 *(i//3), 3 *(j//3) #floored quotient should be used here. \n",
    "                            for x in range(secTopX, secTopX+3):\n",
    "                                    for y in range(secTopY, secTopY+3):\n",
    "                                            if grid[x][y] == e:\n",
    "                                                    return False\n",
    "                            return True\n",
    "            return False\n",
    "\n",
    "def solveSudoku(grid, i=0, j=0):\n",
    "            i,j = findNextCellToFill(grid, i, j)\n",
    "            if i == -1:\n",
    "                    return True\n",
    "            for e in range(1,10):\n",
    "                    if isValid(grid,i,j,e):\n",
    "                            grid[i][j] = e\n",
    "                            if solveSudoku(grid, i, j):\n",
    "                                    return True\n",
    "                            # Undo the current cell for backtracking\n",
    "                            grid[i][j] = 0\n",
    "            return False"
   ]
  },
  {
   "cell_type": "code",
   "execution_count": 6,
   "metadata": {
    "collapsed": true
   },
   "outputs": [],
   "source": [
    "board = [[\".\",\".\",\".\",\"7\",\".\",\".\",\"3\",\".\",\"1\"],[\"3\",\".\",\".\",\"9\",\".\",\".\",\".\",\".\",\".\"],[\".\",\"4\",\".\",\"3\",\"1\",\".\",\"2\",\".\",\".\"],[\".\",\"6\",\".\",\"4\",\".\",\".\",\"5\",\".\",\".\"],[\".\",\".\",\".\",\".\",\".\",\".\",\".\",\".\",\".\"],[\".\",\".\",\"1\",\".\",\".\",\"8\",\".\",\"4\",\".\"],[\".\",\".\",\"6\",\".\",\"2\",\"1\",\".\",\"5\",\".\"],[\".\",\".\",\".\",\".\",\".\",\"9\",\".\",\".\",\"8\"],[\"8\",\".\",\"5\",\".\",\".\",\"4\",\".\",\".\",\".\"]]"
   ]
  },
  {
   "cell_type": "code",
   "execution_count": 7,
   "metadata": {},
   "outputs": [
    {
     "data": {
      "text/plain": [
       "True"
      ]
     },
     "execution_count": 7,
     "metadata": {},
     "output_type": "execute_result"
    }
   ],
   "source": [
    "solveSudoku(board)"
   ]
  },
  {
   "cell_type": "code",
   "execution_count": 10,
   "metadata": {},
   "outputs": [
    {
     "data": {
      "text/plain": [
       "False"
      ]
     },
     "execution_count": 10,
     "metadata": {},
     "output_type": "execute_result"
    }
   ],
   "source": [
    "all([0,1,2,3])"
   ]
  },
  {
   "cell_type": "code",
   "execution_count": 11,
   "metadata": {},
   "outputs": [
    {
     "data": {
      "text/plain": [
       "True"
      ]
     },
     "execution_count": 11,
     "metadata": {},
     "output_type": "execute_result"
    }
   ],
   "source": [
    "any([0,0,0,1])"
   ]
  },
  {
   "cell_type": "code",
   "execution_count": 13,
   "metadata": {},
   "outputs": [
    {
     "data": {
      "text/plain": [
       "False"
      ]
     },
     "execution_count": 13,
     "metadata": {},
     "output_type": "execute_result"
    }
   ],
   "source": [
    "all([4 !=x for x in range(9)])"
   ]
  },
  {
   "cell_type": "code",
   "execution_count": 27,
   "metadata": {},
   "outputs": [],
   "source": [
    "def get_next(i,j, n):\n",
    "    # next = n-1, 1 if i,j is top,right corner\n",
    "    if i == 0 and j == n-1:\n",
    "        j = i + 1\n",
    "        i = n - 1\n",
    "        return i,j\n",
    "            \n",
    "    # next = j+1, 0 if i,j is on top boundary\n",
    "    if i == 0:\n",
    "        i = j + 1\n",
    "        j = 0\n",
    "        return i,j\n",
    "            \n",
    "    # next = n-1, i+1 if i,j is on right boundary\n",
    "    if j == n-1:\n",
    "        i = n - 1\n",
    "        j = i + 1\n",
    "        return i,j\n",
    "                \n",
    "            \n",
    "    # next = i-1, j+1 if (i, j) is not on boundary\n",
    "    if i != 0 and j != n-1:\n",
    "        i = i - 1\n",
    "        j = j + 1\n",
    "        return i,j\n",
    "    \n",
    "def next_square_generator(n):\n",
    "    i = 0\n",
    "    j = 0\n",
    "    while (i,j) != (n-1,n-1):\n",
    "        yield i,j\n",
    "        i,j = get_next(i, j, n)\n",
    "        \n",
    "    yield i,j    \n",
    "        \n",
    "        \n",
    "        \n",
    "def transpose_matrix(M):\n",
    "    for i,j in next_square_generator(len(M)):  \n",
    "        if i < j:\n",
    "            temp = M[i][j]\n",
    "            M[i][j] = M[j][i]\n",
    "            M[j][i] = temp\n",
    "        \n",
    "    return M        \n",
    "             "
   ]
  },
  {
   "cell_type": "code",
   "execution_count": 28,
   "metadata": {},
   "outputs": [
    {
     "name": "stdout",
     "output_type": "stream",
     "text": [
      "0 0\n",
      "1 0\n",
      "0 1\n",
      "1 1\n"
     ]
    }
   ],
   "source": [
    "for i,j in next_square_generator(2):\n",
    "    print i,j"
   ]
  },
  {
   "cell_type": "code",
   "execution_count": 29,
   "metadata": {},
   "outputs": [
    {
     "data": {
      "text/plain": [
       "[[1, 3], [2, 4]]"
      ]
     },
     "execution_count": 29,
     "metadata": {},
     "output_type": "execute_result"
    }
   ],
   "source": [
    "M = [[1,2], [3,4]]\n",
    "transpose_matrix(M)"
   ]
  },
  {
   "cell_type": "code",
   "execution_count": null,
   "metadata": {
    "collapsed": true
   },
   "outputs": [],
   "source": []
  }
 ],
 "metadata": {
  "kernelspec": {
   "display_name": "Python 2",
   "language": "python",
   "name": "python2"
  },
  "language_info": {
   "codemirror_mode": {
    "name": "ipython",
    "version": 2
   },
   "file_extension": ".py",
   "mimetype": "text/x-python",
   "name": "python",
   "nbconvert_exporter": "python",
   "pygments_lexer": "ipython2",
   "version": "2.7.13"
  }
 },
 "nbformat": 4,
 "nbformat_minor": 2
}
