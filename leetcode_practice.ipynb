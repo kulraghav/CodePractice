{
 "cells": [
  {
   "cell_type": "code",
   "execution_count": null,
   "metadata": {
    "collapsed": true
   },
   "outputs": [],
   "source": []
  },
  {
   "cell_type": "markdown",
   "metadata": {},
   "source": [
    "# Two-sum\n",
    "\n",
    "Given an array of integers, return indices of the two numbers such that they add up to a specific target.\n",
    "\n",
    "You may assume that each input would have exactly one solution, and you may not use the same element twice.\n",
    "\n",
    "Example:\n",
    "\n",
    "Given nums = [2, 7, 11, 15], target = 9,\n",
    "\n",
    "Because nums[0] + nums[1] = 2 + 7 = 9,\n",
    "return [0, 1]."
   ]
  },
  {
   "cell_type": "code",
   "execution_count": 1,
   "metadata": {
    "collapsed": true
   },
   "outputs": [],
   "source": [
    "# Brute force: O(n^2)\n",
    "\n",
    "def two_sum_brute_force(A, s):  # O(n^2)\n",
    "    for i in range(len(A)):\n",
    "        for j in range(i+1, len(A)):\n",
    "            if A[i] + A[j] == s:\n",
    "                print A[i], A[j], s\n",
    "                return i, j # A[i] + A[j] = s"
   ]
  },
  {
   "cell_type": "code",
   "execution_count": 2,
   "metadata": {},
   "outputs": [
    {
     "name": "stdout",
     "output_type": "stream",
     "text": [
      "6001 29999 36000\n",
      "13.2046079636\n"
     ]
    }
   ],
   "source": [
    "import time\n",
    "start = time.time()\n",
    "two_sum_brute_force(range(30000), 36000)\n",
    "end = time.time()\n",
    "print end-start"
   ]
  },
  {
   "cell_type": "code",
   "execution_count": 3,
   "metadata": {
    "collapsed": true
   },
   "outputs": [],
   "source": [
    "# Binary search: O(n log n)\n",
    "\n",
    "def binary_search(C, x):\n",
    "    i = 0\n",
    "    j = len(C) - 1    \n",
    "\n",
    "    while i != j:\n",
    "        m = (i+j)//2\n",
    "        if C[m][1] == x:\n",
    "            return C[m][0]\n",
    "        else:\n",
    "            if C[m][1] > x:\n",
    "                j = m-1\n",
    "            if C[m][1] < x:\n",
    "                i = m+1  \n",
    "    \n",
    "                \n",
    "    if C[i][1] == x:\n",
    "            return C[i][0]\n",
    "        \n",
    "    else:\n",
    "        return -1\n",
    "              \n",
    "    return C[i][0]             \n",
    "    \n",
    "def two_sum_binary_search(A, s):\n",
    "    B = zip(range(len(A)), A)\n",
    "    C = sorted(B, key = lambda x: x[1])\n",
    "    for p in range(len(C)):\n",
    "        search_result = binary_search(C, s - C[p][1])\n",
    "        if search_result != -1:\n",
    "            return C[p][0], search_result\n",
    "    return -1, -1"
   ]
  },
  {
   "cell_type": "code",
   "execution_count": 4,
   "metadata": {},
   "outputs": [
    {
     "data": {
      "text/plain": [
       "4"
      ]
     },
     "execution_count": 4,
     "metadata": {},
     "output_type": "execute_result"
    }
   ],
   "source": [
    "binary_search(zip([4, 3, 2, 1], [1,2,3,4]), 1)"
   ]
  },
  {
   "cell_type": "code",
   "execution_count": 5,
   "metadata": {},
   "outputs": [
    {
     "data": {
      "text/plain": [
       "(3, 1)"
      ]
     },
     "execution_count": 5,
     "metadata": {},
     "output_type": "execute_result"
    }
   ],
   "source": [
    "A = [9, 8, 7, 6]\n",
    "\n",
    "two_sum_binary_search(A, 14)"
   ]
  },
  {
   "cell_type": "code",
   "execution_count": 7,
   "metadata": {},
   "outputs": [
    {
     "name": "stdout",
     "output_type": "stream",
     "text": [
      "0.527818918228\n"
     ]
    }
   ],
   "source": [
    "import time\n",
    "start = time.time()\n",
    "two_sum_binary_search(range(30000), 36000)\n",
    "end = time.time()\n",
    "print end-start"
   ]
  },
  {
   "cell_type": "code",
   "execution_count": null,
   "metadata": {
    "collapsed": true
   },
   "outputs": [],
   "source": [
    "def two_sum_dict_expensive(A, s):\n",
    "    A_dict = {}\n",
    "\n",
    "    for i in range(len(A)):\n",
    "        A_dict[A[i]] = A[i]\n",
    "    \n",
    "    keys = A_dict.keys()\n",
    "    for a in keys:\n",
    "        if s-a in keys:  # expensive\n",
    "            return a, A_dict[s-a]\n",
    "    \n",
    "    return -1, -1\n",
    "\n",
    "import time\n",
    "start = time.time()\n",
    "print two_sum_dict_expensive(range(300000), 360000)\n",
    "end = time.time()\n",
    "print end-start"
   ]
  },
  {
   "cell_type": "code",
   "execution_count": 3,
   "metadata": {},
   "outputs": [
    {
     "name": "stdout",
     "output_type": "stream",
     "text": [
      "(600001, 2999999)\n",
      "1.07980108261\n"
     ]
    }
   ],
   "source": [
    "def two_sum_dict(A, s):\n",
    "    dict_A = dict()\n",
    "\n",
    "    for i in range(len(A)):\n",
    "        dict_A[A[i]] = A[i]\n",
    "    \n",
    "    keys = dict_A.keys()\n",
    "    for a in keys:\n",
    "        if s-a in dict_A:\n",
    "            return a, A[s-a]\n",
    "        \n",
    "    return -1, -1\n",
    "\n",
    "import time\n",
    "start = time.time()\n",
    "print two_sum_dict(range(3000000), 3600000)\n",
    "end = time.time()\n",
    "print end-start"
   ]
  },
  {
   "cell_type": "code",
   "execution_count": 143,
   "metadata": {},
   "outputs": [
    {
     "name": "stdout",
     "output_type": "stream",
     "text": [
      "[1, 2, 3, 4, 5, 6, 7, 8, 9, 10, 11, 12, 13, 14, 15, 16, 17, 18, 19, 20, 21, 22, 23, 24, 25, 26, 27, 28, 29, 30, 31, 32, 33, 34, 35, 36, 37, 38, 39, 40, 41, 42, 43, 44, 45, 46, 47, 48, 49, 50, 51, 52, 53, 54, 55, 56, 57, 58, 59, 60, 61, 62, 63, 64, 65, 66, 67, 68, 69, 70, 71, 72, 73, 74, 75, 76, 77, 78, 79, 80, 81, 82, 83, 84, 85, 86, 87, 88, 89, 90, 91, 92, 93, 94, 95, 96, 97, 98, 99, 100, 101, 102, 103, 104, 105, 106, 107, 108, 109, 110, 111, 112, 113, 114, 115, 116, 117, 118, 119, 120, 121, 122, 123, 124, 125, 126, 127, 128, 129, 130, 131, 132, 133, 134, 135, 136, 137, 138, 139, 140, 141, 142, 143, 144, 145, 146, 147, 148, 149, 150, 151, 152, 153, 154, 155, 156, 157, 158, 159, 160, 161, 162, 163, 164, 165, 166, 167, 168, 169, 170, 171, 172, 173, 174, 175, 176, 177, 178, 179, 180, 181, 182, 183, 184, 185, 186, 187, 188, 189, 190, 191, 192, 193, 194, 195, 196, 197, 198, 199, 200, 201, 202, 203, 204, 205, 206, 207, 208, 209, 210, 211, 212, 213, 214, 215, 216, 217, 218, 219, 220, 221, 222, 223, 224, 225, 226, 227, 228, 229, 230, 231, 232, 233, 234, 235, 236, 237, 238, 239, 240, 241, 242, 243, 244, 245, 246, 247, 248, 249, 250, 251, 252, 253, 254, 255, 256, 257, 258, 259, 260, 261, 262, 263, 264, 265, 266, 267, 268, 269, 270, 271, 272, 273, 274, 275, 276, 277, 278, 279, 280, 281, 282, 283, 284, 285, 286, 287, 288, 289, 290, 291, 292, 293, 294, 295, 296, 297, 298, 299, 300, 301, 302, 303, 304, 305, 306, 307, 308, 309, 310, 311, 312, 313, 314, 315, 316, 317, 318, 319, 320, 321, 322, 323, 324, 325, 326, 327, 328, 329, 330, 331, 332, 333, 334, 335, 336, 337, 338, 339, 340, 341, 342, 343, 344, 345, 346, 347, 348, 349, 350, 351, 352, 353, 354, 355, 356, 357, 358, 359, 360, 361, 362, 363, 364, 365, 366, 367, 368, 369, 370, 371, 372, 373, 374, 375, 376, 377, 378, 379, 380, 381, 382, 383, 384, 385, 386, 387, 388, 389, 390, 391, 392, 393, 394, 395, 396, 397, 398, 399, 400, 401, 402, 403, 404, 405, 406, 407, 408, 409, 410, 411, 412, 413, 414, 415, 416, 417, 418, 419, 420, 421, 422, 423, 424, 425, 426, 427, 428, 429, 430, 431, 432, 433, 434, 435, 436, 437, 438, 439, 440, 441, 442, 443, 444, 445, 446, 447, 448, 449, 450, 451, 452, 453, 454, 455, 456, 457, 458, 459, 460, 461, 462, 463, 464, 465, 466, 467, 468, 469, 470, 471, 472, 473, 474, 475, 476, 477, 478, 479, 480, 481, 482, 483, 484, 485, 486, 487, 488, 489, 490, 491, 492, 493, 494, 495, 496, 497, 498, 499, 500, 501, 502, 503, 504, 505, 506, 507, 508, 509, 510, 511, 512, 513, 514, 515, 516, 517, 518, 519, 520, 521, 522, 523, 524, 525, 526, 527, 528, 529, 530, 531, 532, 533, 534, 535, 536, 537, 538, 539, 540, 541, 542, 543, 544, 545, 546, 547, 548, 549, 550, 551, 552, 553, 554, 555, 556, 557, 558, 559, 560, 561, 562, 563, 564, 565, 566, 567, 568, 569, 570, 571, 572, 573, 574, 575, 576, 577, 578, 579, 580, 581, 582, 583, 584, 585, 586, 587, 588, 589, 590, 591, 592, 593, 594, 595, 596, 597, 598, 599, 600, 601, 602, 603, 604, 605, 606, 607, 608, 609, 610, 611, 612, 613, 614, 615, 616, 617, 618, 619, 620, 621, 622, 623, 624, 625, 626, 627, 628, 629, 630, 631, 632, 633, 634, 635, 636, 637, 638, 639, 640, 641, 642, 643, 644, 645, 646, 647, 648, 649, 650, 651, 652, 653, 654, 655, 656, 657, 658, 659, 660, 661, 662, 663, 664, 665, 666, 667, 668, 669, 670, 671, 672, 673, 674, 675, 676, 677, 678, 679, 680, 681, 682, 683, 684, 685, 686, 687, 688, 689, 690, 691, 692, 693, 694, 695, 696, 697, 698, 699, 700, 701, 702, 703, 704, 705, 706, 707, 708, 709, 710, 711, 712, 713, 714, 715, 716, 717, 718, 719, 720, 721, 722, 723, 724, 725, 726, 727, 728, 729, 730, 731, 732, 733, 734, 735, 736, 737, 738, 739, 740, 741, 742, 743, 744, 745, 746, 747, 748, 749, 750, 751, 752, 753, 754, 755, 756, 757, 758, 759, 760, 761, 762, 763, 764, 765, 766, 767, 768, 769, 770, 771, 772, 773, 774, 775, 776, 777, 778, 779, 780, 781, 782, 783, 784, 785, 786, 787, 788, 789, 790, 791, 792, 793, 794, 795, 796, 797, 798, 799, 800, 801, 802, 803, 804, 805, 806, 807, 808, 809, 810, 811, 812, 813, 814, 815, 816, 817, 818, 819, 820, 821, 822, 823, 824, 825, 826, 827, 828, 829, 830, 831, 832, 833, 834, 835, 836, 837, 838, 839, 840, 841, 842, 843, 844, 845, 846, 847, 848, 849, 850, 851, 852, 853, 854, 855, 856, 857, 858, 859, 860, 861, 862, 863, 864, 865, 866, 867, 868, 869, 870, 871, 872, 873, 874, 875, 876, 877, 878, 879, 880, 881, 882, 883, 884, 885, 886, 887, 888, 889, 890, 891, 892, 893, 894, 895, 896, 897, 898, 899, 900, 901, 902, 903, 904, 905, 906, 907, 908, 909, 910, 911, 912, 913, 914, 915, 916, 917, 918, 919, 920, 921, 922, 923, 924, 925, 926, 927, 928, 929, 930, 931, 932, 933, 934, 935, 936, 937, 938, 939, 940, 941, 942, 943, 944, 945, 946, 947, 948, 949, 950, 951, 952, 953, 954, 955, 956, 957, 958, 959, 960, 961, 962, 963, 964, 965, 966, 967, 968, 969, 970, 971, 972, 973, 974, 975, 976, 977, 978, 979, 980, 981, 982, 983, 984, 985, 986, 987, 988, 989, 990, 991, 992, 993, 994, 995, 996, 997, 998, 999, 1000]\n",
      "0.000328063964844\n",
      "[1, 2, 3, 4, 5, 6, 7, 8, 9, 10, 11, 12, 13, 14, 15, 16, 17, 18, 19, 20, 21, 22, 23, 24, 25, 26, 27, 28, 29, 30, 31, 32, 33, 34, 35, 36, 37, 38, 39, 40, 41, 42, 43, 44, 45, 46, 47, 48, 49, 50, 51, 52, 53, 54, 55, 56, 57, 58, 59, 60, 61, 62, 63, 64, 65, 66, 67, 68, 69, 70, 71, 72, 73, 74, 75, 76, 77, 78, 79, 80, 81, 82, 83, 84, 85, 86, 87, 88, 89, 90, 91, 92, 93, 94, 95, 96, 97, 98, 99, 100, 101, 102, 103, 104, 105, 106, 107, 108, 109, 110, 111, 112, 113, 114, 115, 116, 117, 118, 119, 120, 121, 122, 123, 124, 125, 126, 127, 128, 129, 130, 131, 132, 133, 134, 135, 136, 137, 138, 139, 140, 141, 142, 143, 144, 145, 146, 147, 148, 149, 150, 151, 152, 153, 154, 155, 156, 157, 158, 159, 160, 161, 162, 163, 164, 165, 166, 167, 168, 169, 170, 171, 172, 173, 174, 175, 176, 177, 178, 179, 180, 181, 182, 183, 184, 185, 186, 187, 188, 189, 190, 191, 192, 193, 194, 195, 196, 197, 198, 199, 200, 201, 202, 203, 204, 205, 206, 207, 208, 209, 210, 211, 212, 213, 214, 215, 216, 217, 218, 219, 220, 221, 222, 223, 224, 225, 226, 227, 228, 229, 230, 231, 232, 233, 234, 235, 236, 237, 238, 239, 240, 241, 242, 243, 244, 245, 246, 247, 248, 249, 250, 251, 252, 253, 254, 255, 256, 257, 258, 259, 260, 261, 262, 263, 264, 265, 266, 267, 268, 269, 270, 271, 272, 273, 274, 275, 276, 277, 278, 279, 280, 281, 282, 283, 284, 285, 286, 287, 288, 289, 290, 291, 292, 293, 294, 295, 296, 297, 298, 299, 300, 301, 302, 303, 304, 305, 306, 307, 308, 309, 310, 311, 312, 313, 314, 315, 316, 317, 318, 319, 320, 321, 322, 323, 324, 325, 326, 327, 328, 329, 330, 331, 332, 333, 334, 335, 336, 337, 338, 339, 340, 341, 342, 343, 344, 345, 346, 347, 348, 349, 350, 351, 352, 353, 354, 355, 356, 357, 358, 359, 360, 361, 362, 363, 364, 365, 366, 367, 368, 369, 370, 371, 372, 373, 374, 375, 376, 377, 378, 379, 380, 381, 382, 383, 384, 385, 386, 387, 388, 389, 390, 391, 392, 393, 394, 395, 396, 397, 398, 399, 400, 401, 402, 403, 404, 405, 406, 407, 408, 409, 410, 411, 412, 413, 414, 415, 416, 417, 418, 419, 420, 421, 422, 423, 424, 425, 426, 427, 428, 429, 430, 431, 432, 433, 434, 435, 436, 437, 438, 439, 440, 441, 442, 443, 444, 445, 446, 447, 448, 449, 450, 451, 452, 453, 454, 455, 456, 457, 458, 459, 460, 461, 462, 463, 464, 465, 466, 467, 468, 469, 470, 471, 472, 473, 474, 475, 476, 477, 478, 479, 480, 481, 482, 483, 484, 485, 486, 487, 488, 489, 490, 491, 492, 493, 494, 495, 496, 497, 498, 499, 500, 501, 502, 503, 504, 505, 506, 507, 508, 509, 510, 511, 512, 513, 514, 515, 516, 517, 518, 519, 520, 521, 522, 523, 524, 525, 526, 527, 528, 529, 530, 531, 532, 533, 534, 535, 536, 537, 538, 539, 540, 541, 542, 543, 544, 545, 546, 547, 548, 549, 550, 551, 552, 553, 554, 555, 556, 557, 558, 559, 560, 561, 562, 563, 564, 565, 566, 567, 568, 569, 570, 571, 572, 573, 574, 575, 576, 577, 578, 579, 580, 581, 582, 583, 584, 585, 586, 587, 588, 589, 590, 591, 592, 593, 594, 595, 596, 597, 598, 599, 600, 601, 602, 603, 604, 605, 606, 607, 608, 609, 610, 611, 612, 613, 614, 615, 616, 617, 618, 619, 620, 621, 622, 623, 624, 625, 626, 627, 628, 629, 630, 631, 632, 633, 634, 635, 636, 637, 638, 639, 640, 641, 642, 643, 644, 645, 646, 647, 648, 649, 650, 651, 652, 653, 654, 655, 656, 657, 658, 659, 660, 661, 662, 663, 664, 665, 666, 667, 668, 669, 670, 671, 672, 673, 674, 675, 676, 677, 678, 679, 680, 681, 682, 683, 684, 685, 686, 687, 688, 689, 690, 691, 692, 693, 694, 695, 696, 697, 698, 699, 700, 701, 702, 703, 704, 705, 706, 707, 708, 709, 710, 711, 712, 713, 714, 715, 716, 717, 718, 719, 720, 721, 722, 723, 724, 725, 726, 727, 728, 729, 730, 731, 732, 733, 734, 735, 736, 737, 738, 739, 740, 741, 742, 743, 744, 745, 746, 747, 748, 749, 750, 751, 752, 753, 754, 755, 756, 757, 758, 759, 760, 761, 762, 763, 764, 765, 766, 767, 768, 769, 770, 771, 772, 773, 774, 775, 776, 777, 778, 779, 780, 781, 782, 783, 784, 785, 786, 787, 788, 789, 790, 791, 792, 793, 794, 795, 796, 797, 798, 799, 800, 801, 802, 803, 804, 805, 806, 807, 808, 809, 810, 811, 812, 813, 814, 815, 816, 817, 818, 819, 820, 821, 822, 823, 824, 825, 826, 827, 828, 829, 830, 831, 832, 833, 834, 835, 836, 837, 838, 839, 840, 841, 842, 843, 844, 845, 846, 847, 848, 849, 850, 851, 852, 853, 854, 855, 856, 857, 858, 859, 860, 861, 862, 863, 864, 865, 866, 867, 868, 869, 870, 871, 872, 873, 874, 875, 876, 877, 878, 879, 880, 881, 882, 883, 884, 885, 886, 887, 888, 889, 890, 891, 892, 893, 894, 895, 896, 897, 898, 899, 900, 901, 902, 903, 904, 905, 906, 907, 908, 909, 910, 911, 912, 913, 914, 915, 916, 917, 918, 919, 920, 921, 922, 923, 924, 925, 926, 927, 928, 929, 930, 931, 932, 933, 934, 935, 936, 937, 938, 939, 940, 941, 942, 943, 944, 945, 946, 947, 948, 949, 950, 951, 952, 953, 954, 955, 956, 957, 958, 959, 960, 961, 962, 963, 964, 965, 966, 967, 968, 969, 970, 971, 972, 973, 974, 975, 976, 977, 978, 979, 980, 981, 982, 983, 984, 985, 986, 987, 988, 989, 990, 991, 992, 993, 994, 995, 996, 997, 998, 999, 1000]\n",
      "0.000294923782349\n"
     ]
    }
   ],
   "source": [
    "# which one is faster sorting dict or list\n",
    "D = dict()\n",
    "L = []\n",
    "n = 1000\n",
    "import random\n",
    "\n",
    "for i in range(n):\n",
    "    D[n-i] = i\n",
    "    L.append(n-i)\n",
    "    \n",
    "    \n",
    "    \n",
    "import time\n",
    "start = time.time()\n",
    "sorted(L)\n",
    "end = time.time()\n",
    "print end-start\n",
    "\n",
    "start = time.time()\n",
    "sorted(D)\n",
    "end= time.time()\n",
    "print end-start\n",
    "\n",
    "    "
   ]
  },
  {
   "cell_type": "markdown",
   "metadata": {},
   "source": [
    "# Longest substring without repeating characters\n",
    "\n",
    "Given a string, find the length of the longest substring without repeating characters.\n",
    "\n",
    "Examples:\n",
    "\n",
    "Given \"abcabcbb\", the answer is \"abc\", which the length is 3.\n",
    "\n",
    "Given \"bbbbb\", the answer is \"b\", with the length of 1.\n",
    "\n",
    "Given \"pwwkew\", the answer is \"wke\", with the length of 3. Note that the answer must be a substring, \"pwke\" is a subsequence and not a substring."
   ]
  },
  {
   "cell_type": "code",
   "execution_count": 14,
   "metadata": {
    "collapsed": true
   },
   "outputs": [],
   "source": [
    "def is_nonrep(s):\n",
    "    ss = sorted(s)\n",
    "    if len(ss) == 1:\n",
    "        return True\n",
    "    for i in range(len(ss) - 1):\n",
    "        if ss[i] == ss[i+1]:\n",
    "            return False\n",
    "        \n",
    "    return True     "
   ]
  },
  {
   "cell_type": "code",
   "execution_count": 16,
   "metadata": {},
   "outputs": [
    {
     "data": {
      "text/plain": [
       "True"
      ]
     },
     "execution_count": 16,
     "metadata": {},
     "output_type": "execute_result"
    }
   ],
   "source": [
    "is_nonrep('1234')"
   ]
  },
  {
   "cell_type": "code",
   "execution_count": 21,
   "metadata": {
    "collapsed": true
   },
   "outputs": [],
   "source": [
    "def longest_nonrep_substring_brute_force(s):  # O(n^3)\n",
    "    max_len = 0\n",
    "    for i in range(len(s)):\n",
    "        for j in range(len(s)):\n",
    "            if is_nonrep(s[i: j]):\n",
    "                if j-i > max_len:\n",
    "                    max_len = j-i\n",
    "    return max_len        \n",
    "    "
   ]
  },
  {
   "cell_type": "code",
   "execution_count": 23,
   "metadata": {},
   "outputs": [
    {
     "data": {
      "text/plain": [
       "5"
      ]
     },
     "execution_count": 23,
     "metadata": {},
     "output_type": "execute_result"
    }
   ],
   "source": [
    "longest_nonrep_substring_brute_force('111123452')"
   ]
  },
  {
   "cell_type": "code",
   "execution_count": 253,
   "metadata": {
    "collapsed": true
   },
   "outputs": [],
   "source": [
    "def last(s, i):\n",
    "    if i == 0:\n",
    "        return -1\n",
    "    \n",
    "    j = i-1\n",
    "    while j >= 0:\n",
    "        if s[j] == s[i]:\n",
    "            return j\n",
    "        j = j - 1\n",
    "        \n",
    "    return -1    \n",
    "    \n",
    "# pi[i] = length of longest nonrep substring ending in s[i]\n",
    "# last(i) = index of last occurrence of s[i] in s[:i-1] \n",
    "# pi[i+1] = if last(i+1) < i - pi[i] then 1 + pi[i] else i+1 - last(i+1)     \n",
    "def longest_nonrep_substring_simple_dp(s):  # O(n^2)\n",
    "    pi = []\n",
    "    \n",
    "    for i in range(len(s)):\n",
    "        pi.append(1)\n",
    "        \n",
    "    for i in range(len(s)-1):\n",
    "        lst = last(s, i+1)\n",
    "        if lst < i - pi[i]:\n",
    "            pi[i+1] = 1 + pi[i]\n",
    "        else:\n",
    "            pi[i+1] = i+1 - lst\n",
    "            \n",
    "    pi_max = 0   \n",
    "    i_max = -1\n",
    "    for i in range(len(s)):\n",
    "        if pi[i] > pi_max:\n",
    "            pi_max = pi[i]\n",
    "            i_max = i\n",
    "            \n",
    "            \n",
    "    return pi_max, i_max       "
   ]
  },
  {
   "cell_type": "code",
   "execution_count": 69,
   "metadata": {},
   "outputs": [
    {
     "data": {
      "text/plain": [
       "(4, 8)"
      ]
     },
     "execution_count": 69,
     "metadata": {},
     "output_type": "execute_result"
    }
   ],
   "source": [
    "longest_nonrep_substring_simple_dp('11111123411112')"
   ]
  },
  {
   "cell_type": "markdown",
   "metadata": {},
   "source": [
    "# Median of two sorted arrays"
   ]
  },
  {
   "cell_type": "code",
   "execution_count": 152,
   "metadata": {
    "collapsed": true
   },
   "outputs": [],
   "source": [
    "A = [1, 2, 4, 6, 8, 10]\n",
    "B = [5, 6, 7, 8, 9, 10]\n",
    "\n",
    "def find_rank_k(A, B, k):\n",
    "    \n",
    "    a_i = 0\n",
    "    a_j = len(A) - 1\n",
    "    b_i = 0\n",
    "    b_j = len(B) - 1\n",
    "    \n",
    "    a_mid = (a_i + a_j) // 2\n",
    "    b_mid = (b_i + b_j) // 2\n",
    "    \n",
    "\n",
    "    if len(A) == 0:\n",
    "        return B[k]\n",
    "    if len(B) == 0:\n",
    "        return A[k]\n",
    "    \n",
    "        \n",
    "    if A[a_mid] <= B[b_mid]:\n",
    "        if k <= a_mid + b_mid:\n",
    "            return find_rank_k(A, B[:b_mid], k)\n",
    "        if k > a_mid + b_mid:\n",
    "            return find_rank_k(A[a_mid + 1:], B, k - a_mid - 1 )\n",
    "            \n",
    "    if A[a_mid] > B[b_mid]:\n",
    "        \n",
    "        if k <= a_mid + b_mid: \n",
    "            return find_rank_k(A[:a_mid], B, k)\n",
    "        if k > a_mid + b_mid:\n",
    "            return find_rank_k(A, B[b_mid + 1:], k - b_mid - 1)\n",
    "            \n",
    "    return \"WEIRD!!!\"   \n",
    "            \n",
    "    "
   ]
  },
  {
   "cell_type": "code",
   "execution_count": 153,
   "metadata": {},
   "outputs": [
    {
     "name": "stdout",
     "output_type": "stream",
     "text": [
      "0\n",
      "1\n",
      "2\n",
      "3\n",
      "4\n",
      "5\n",
      "6\n",
      "7\n",
      "8\n",
      "9\n",
      "10\n",
      "11\n",
      "12\n",
      "13\n",
      "14\n",
      "15\n",
      "16\n",
      "17\n",
      "18\n",
      "19\n",
      "20\n",
      "21\n",
      "22\n",
      "23\n",
      "24\n",
      "25\n",
      "26\n",
      "27\n",
      "28\n",
      "29\n",
      "30\n",
      "30\n",
      "31\n",
      "31\n",
      "32\n",
      "32\n",
      "33\n",
      "33\n",
      "34\n",
      "34\n",
      "35\n",
      "35\n",
      "36\n",
      "36\n",
      "37\n",
      "37\n",
      "38\n",
      "38\n",
      "39\n",
      "39\n",
      "40\n",
      "40\n",
      "41\n",
      "41\n",
      "42\n",
      "42\n",
      "43\n",
      "43\n",
      "44\n",
      "44\n",
      "45\n",
      "45\n",
      "46\n",
      "46\n",
      "47\n",
      "47\n",
      "48\n",
      "48\n",
      "49\n",
      "49\n",
      "50\n",
      "50\n",
      "51\n",
      "51\n",
      "52\n",
      "52\n",
      "53\n",
      "53\n",
      "54\n",
      "54\n",
      "55\n",
      "55\n",
      "56\n",
      "56\n",
      "57\n",
      "57\n",
      "58\n",
      "58\n",
      "59\n",
      "59\n",
      "60\n",
      "60\n",
      "61\n",
      "61\n",
      "62\n",
      "62\n",
      "63\n",
      "63\n",
      "64\n",
      "64\n",
      "65\n",
      "65\n",
      "66\n",
      "66\n",
      "67\n",
      "67\n",
      "68\n",
      "68\n",
      "69\n",
      "69\n",
      "70\n",
      "70\n",
      "71\n",
      "71\n",
      "72\n",
      "72\n",
      "73\n",
      "73\n",
      "74\n",
      "74\n"
     ]
    }
   ],
   "source": [
    "A = range(100)\n",
    "B = range(30, 400)\n",
    "\n",
    "for i in range(120):\n",
    "    print find_rank_k(A, B, i)"
   ]
  },
  {
   "cell_type": "markdown",
   "metadata": {},
   "source": [
    "# Longest palindromic substring"
   ]
  },
  {
   "cell_type": "code",
   "execution_count": 238,
   "metadata": {
    "collapsed": true
   },
   "outputs": [],
   "source": [
    "def is_pal(s):\n",
    "    i = 0\n",
    "    j = len(s) - 1\n",
    "    \n",
    "    if len(s) <= 1:\n",
    "        return True\n",
    "    \n",
    "    while s[i] == s[j] and i <= j:\n",
    "        i = i + 1\n",
    "        j = j - 1\n",
    "        \n",
    "    if i < j:\n",
    "        return False\n",
    "    else:\n",
    "        return True\n",
    "    \n",
    "def longest_pal_cubic(s):   # O(n^3)\n",
    "    pal_max = 0\n",
    "    for i in range(len(s)):\n",
    "        for j in range(i, len(s)):\n",
    "            if is_pal(s[i:j]):\n",
    "                pal_max = max(pal_max, j-i)\n",
    "                \n",
    "    return pal_max             "
   ]
  },
  {
   "cell_type": "code",
   "execution_count": 239,
   "metadata": {},
   "outputs": [
    {
     "data": {
      "text/plain": [
       "True"
      ]
     },
     "execution_count": 239,
     "metadata": {},
     "output_type": "execute_result"
    }
   ],
   "source": [
    "is_pal(\"12321\")"
   ]
  },
  {
   "cell_type": "code",
   "execution_count": 240,
   "metadata": {},
   "outputs": [
    {
     "data": {
      "text/plain": [
       "5"
      ]
     },
     "execution_count": 240,
     "metadata": {},
     "output_type": "execute_result"
    }
   ],
   "source": [
    "longest_pal(\"010112321876\")"
   ]
  },
  {
   "cell_type": "code",
   "execution_count": 243,
   "metadata": {
    "collapsed": true
   },
   "outputs": [],
   "source": [
    "def longest_pal_quadratic(s): # O(n^2)\n",
    "    n = len(s)\n",
    "    pal_max = 0\n",
    "    for i in range(n):\n",
    "        c = -1\n",
    "        for j in range(min(i+1, n-i)):\n",
    "            \n",
    "            if s[i-j] != s[i+j]:\n",
    "                break\n",
    "                \n",
    "            c = c + 2    \n",
    "            \n",
    "        if c > pal_max:\n",
    "            pal_max = c\n",
    "        \n",
    "        d = 0\n",
    "        for j in range(min(i+1, n-i-1)):\n",
    "            if s[i-j] != s[i+j+1]:\n",
    "                break\n",
    "            d = d + 2    \n",
    "        if d > pal_max:\n",
    "            pal_max = d\n",
    "            \n",
    "        #print i, c, d, pal_max    \n",
    "                \n",
    "    return pal_max            \n",
    "                "
   ]
  },
  {
   "cell_type": "code",
   "execution_count": 244,
   "metadata": {},
   "outputs": [
    {
     "data": {
      "text/plain": [
       "6"
      ]
     },
     "execution_count": 244,
     "metadata": {},
     "output_type": "execute_result"
    }
   ],
   "source": [
    "longest_pal_quadratic(\"0101123321786\")"
   ]
  },
  {
   "cell_type": "markdown",
   "metadata": {},
   "source": [
    "# Zig-zag conversion\n",
    "\n",
    "The string \"PAYPALISHIRING\" is written in a zigzag pattern on a given number of rows like this: (you may want to display this pattern in a fixed font for better legibility)\n",
    "\n",
    "P   A   H   N\n",
    "A P L S I I G\n",
    "Y   I   R"
   ]
  },
  {
   "cell_type": "code",
   "execution_count": 245,
   "metadata": {
    "collapsed": true
   },
   "outputs": [],
   "source": [
    "def zigzag(s): # 3 rows\n",
    "    s0 = \"\"\n",
    "    s1_3 = \"\"\n",
    "    s2 = \"\"\n",
    "    for i in range(len(s)):\n",
    "        if i % 4 == 0:\n",
    "            s0 = s0 + s[i]\n",
    "        if i % 4 == 1 or i % 4 == 3:\n",
    "            s1_3 = s1_3 + s[i]\n",
    "        if i % 4 == 2:\n",
    "            s2 = s2 + s[i]\n",
    "            \n",
    "    return s0 + s1_3 + s2        "
   ]
  },
  {
   "cell_type": "code",
   "execution_count": 246,
   "metadata": {},
   "outputs": [
    {
     "data": {
      "text/plain": [
       "'PAHNAPLSIIGYIR'"
      ]
     },
     "execution_count": 246,
     "metadata": {},
     "output_type": "execute_result"
    }
   ],
   "source": [
    "zigzag(\"PAYPALISHIRING\")"
   ]
  },
  {
   "cell_type": "markdown",
   "metadata": {},
   "source": [
    "# Reverse integer\n",
    "Given a 32-bit signed integer, reverse digits of an integer.\n",
    "\n",
    "Input: 123 Output: 321\n",
    "\n",
    "Input: -123 Output: -321\n",
    "\n",
    "Input: 120 Output: 21\n",
    "\n",
    "\n"
   ]
  },
  {
   "cell_type": "code",
   "execution_count": 250,
   "metadata": {
    "collapsed": true
   },
   "outputs": [],
   "source": [
    "def rev_int(a):\n",
    "    if str(a)[0] == '-':\n",
    "        return -int(str(-a)[::-1])\n",
    "    else:\n",
    "        return int(str(a)[::-1])\n"
   ]
  },
  {
   "cell_type": "code",
   "execution_count": 249,
   "metadata": {},
   "outputs": [
    {
     "name": "stdout",
     "output_type": "stream",
     "text": [
      "321\n",
      "-321\n",
      "21\n"
     ]
    }
   ],
   "source": [
    "print rev_int(123)\n",
    "print rev_int(-123)\n",
    "print rev_int(120)"
   ]
  },
  {
   "cell_type": "markdown",
   "metadata": {},
   "source": [
    "# String to integer"
   ]
  },
  {
   "cell_type": "code",
   "execution_count": 257,
   "metadata": {
    "collapsed": true
   },
   "outputs": [],
   "source": [
    "def stringtoint(s): # only positive integers \n",
    "    x = 0\n",
    "    for i in range(len(s)):\n",
    "        x = 10 * x + int(s[i])\n",
    "        \n",
    "    return x    \n",
    "        "
   ]
  },
  {
   "cell_type": "code",
   "execution_count": 256,
   "metadata": {},
   "outputs": [
    {
     "data": {
      "text/plain": [
       "124"
      ]
     },
     "execution_count": 256,
     "metadata": {},
     "output_type": "execute_result"
    }
   ],
   "source": [
    "stringtoint(\"124\")"
   ]
  },
  {
   "cell_type": "markdown",
   "metadata": {},
   "source": [
    "# Palindrome integer\n",
    "Determine whether an integer is a palindrome. Do this without extra space."
   ]
  },
  {
   "cell_type": "code",
   "execution_count": 258,
   "metadata": {
    "collapsed": true
   },
   "outputs": [],
   "source": [
    "def is_palindrome_recursive(s):\n",
    "    s = str(s)\n",
    "    if len(s) <= 1:\n",
    "        return True\n",
    "    else:\n",
    "        if s[0] == s[-1]:\n",
    "            return is_palindrome(s[1:-1])\n",
    "        else:\n",
    "            return False"
   ]
  },
  {
   "cell_type": "code",
   "execution_count": 261,
   "metadata": {},
   "outputs": [
    {
     "data": {
      "text/plain": [
       "True"
      ]
     },
     "execution_count": 261,
     "metadata": {},
     "output_type": "execute_result"
    }
   ],
   "source": [
    "is_palindrome(13231)"
   ]
  },
  {
   "cell_type": "code",
   "execution_count": 259,
   "metadata": {
    "collapsed": true
   },
   "outputs": [],
   "source": [
    "def is_palindrome_without_extra_space(s):\n",
    "    s = str(s)\n",
    "    i = 0\n",
    "    j = len(s) - 1\n",
    "    while i < j:\n",
    "        if s[i] == s[j]:\n",
    "            i = i + 1\n",
    "            j = j - 1\n",
    "        else:\n",
    "            return False\n",
    "    return True     "
   ]
  },
  {
   "cell_type": "code",
   "execution_count": 260,
   "metadata": {},
   "outputs": [
    {
     "data": {
      "text/plain": [
       "True"
      ]
     },
     "execution_count": 260,
     "metadata": {},
     "output_type": "execute_result"
    }
   ],
   "source": [
    "is_palindrome_without_extra_space(12321)"
   ]
  },
  {
   "cell_type": "markdown",
   "metadata": {},
   "source": [
    "# Implement regular expression matching with support for '.' and '*'.\n",
    "'.' Matches any single character.\n",
    "'*' Matches zero or more of the preceding element.\n",
    "\n",
    "The matching should cover the entire input string (not partial).\n",
    "\n",
    "The function prototype should be:\n",
    "bool isMatch(const char *s, const char *p)\n",
    "\n",
    "Some examples:\n",
    "- isMatch(\"aa\",\"a\") → false\n",
    "- isMatch(\"aa\",\"aa\") → true\n",
    "- isMatch(\"aaa\",\"aa\") → false\n",
    "- isMatch(\"aa\", \"a*\") → true\n",
    "- isMatch(\"aa\", \".*\") → true\n",
    "- isMatch(\"ab\", \".*\") → true\n",
    "- isMatch(\"cab\", \"c * a * b\") → true"
   ]
  },
  {
   "cell_type": "code",
   "execution_count": 279,
   "metadata": {
    "collapsed": true
   },
   "outputs": [],
   "source": [
    "def isMatch(s, r):  # s: string, r: regex  # worst case complexity is exponential\n",
    "    print s, r\n",
    "    if r == '*':\n",
    "        return True\n",
    "    \n",
    "    if len(s) == 0 and len(r) == 0:\n",
    "        return True\n",
    "    if len(s) > 0 and len(r) == 0:\n",
    "        return False\n",
    "    \n",
    "    if r[0] == '.':\n",
    "        return isMatch(s[1:], r[1:])\n",
    "    if r[0] != '*': # and r[0] != '.'\n",
    "        if r[0] == s[0]:\n",
    "            return isMatch(s[1:], r[1:])\n",
    "        else:\n",
    "            return False\n",
    "    else: # r[0] == '*'     \n",
    "        for i in range(len(s)+1):\n",
    "            if isMatch(s[i:], r[1:]):\n",
    "                return True\n",
    "        return False    \n",
    "    "
   ]
  },
  {
   "cell_type": "code",
   "execution_count": 275,
   "metadata": {},
   "outputs": [
    {
     "name": "stdout",
     "output_type": "stream",
     "text": [
      "aaa a*\n",
      "aa *\n"
     ]
    },
    {
     "data": {
      "text/plain": [
       "True"
      ]
     },
     "execution_count": 275,
     "metadata": {},
     "output_type": "execute_result"
    }
   ],
   "source": [
    "isMatch(\"aaa\", \"a*\")"
   ]
  },
  {
   "cell_type": "code",
   "execution_count": 276,
   "metadata": {},
   "outputs": [
    {
     "name": "stdout",
     "output_type": "stream",
     "text": [
      "ab .*\n",
      "b *\n"
     ]
    },
    {
     "data": {
      "text/plain": [
       "True"
      ]
     },
     "execution_count": 276,
     "metadata": {},
     "output_type": "execute_result"
    }
   ],
   "source": [
    "isMatch(\"ab\", \".*\")"
   ]
  },
  {
   "cell_type": "code",
   "execution_count": 278,
   "metadata": {},
   "outputs": [
    {
     "name": "stdout",
     "output_type": "stream",
     "text": [
      "cab c*a*b\n",
      "ab *a*b\n",
      "ab a*b\n",
      "b *b\n",
      "b b\n",
      " \n"
     ]
    },
    {
     "data": {
      "text/plain": [
       "True"
      ]
     },
     "execution_count": 278,
     "metadata": {},
     "output_type": "execute_result"
    }
   ],
   "source": [
    "isMatch(\"cab\", \"c*a*b\")"
   ]
  },
  {
   "cell_type": "markdown",
   "metadata": {},
   "source": [
    "# Container with most water\n",
    "\n",
    "Given n non-negative integers a1, a2, ..., an, where each represents a point at coordinate (i, ai). n vertical lines are drawn such that the two endpoints of line i is at (i, ai) and (i, 0). Find two lines, which together with x-axis forms a container, such that the container contains the most water.\n",
    "\n",
    "Note: You may not slant the container and n is at least 2.\n",
    "\n",
    "\n",
    "water = (t - s) x min ai for i in [s, s+1, ..., t] "
   ]
  },
  {
   "cell_type": "code",
   "execution_count": 335,
   "metadata": {
    "collapsed": true
   },
   "outputs": [],
   "source": [
    "def watermax(A):  # O(n^2)\n",
    "    C = []\n",
    "    for i in range(len(A)):\n",
    "        C.append([-1, -1])\n",
    "        \n",
    "    C[0] = [A[0], 1]    \n",
    "    \n",
    "    for i in range(len(A)-1):\n",
    "        h = A[i+1]\n",
    "        w = 1\n",
    "        \n",
    "        C[i+1][0] = h\n",
    "        C[i+1][1] = w\n",
    "        \n",
    "        j = i\n",
    "        while j >=0:\n",
    "            h = min(h, A[j])\n",
    "            w = w + 1\n",
    "            \n",
    "            if h * w > C[i+1][0] * C[i+1][1]:\n",
    "                C[i+1][0] = h\n",
    "                C[i+1][1] = w\n",
    "            j = j - 1\n",
    "            \n",
    "    w_max = 0\n",
    "    \n",
    "    for i in range(len(C)):\n",
    "        if C[i][0] * C[i][1] > w_max:\n",
    "            w_max = C[i][0] * C[i][1]\n",
    "    \n",
    "    return w_max       "
   ]
  },
  {
   "cell_type": "code",
   "execution_count": 336,
   "metadata": {},
   "outputs": [
    {
     "data": {
      "text/plain": [
       "500"
      ]
     },
     "execution_count": 336,
     "metadata": {},
     "output_type": "execute_result"
    }
   ],
   "source": [
    "watermax(range(10, 20) + range(20, 30) + range(20, 30) + range(10, 20) +  range(30, 40))"
   ]
  },
  {
   "cell_type": "code",
   "execution_count": 337,
   "metadata": {},
   "outputs": [
    {
     "data": {
      "text/plain": [
       "400"
      ]
     },
     "execution_count": 337,
     "metadata": {},
     "output_type": "execute_result"
    }
   ],
   "source": [
    "watermax(range(20, 30) + range(30, 40))"
   ]
  },
  {
   "cell_type": "markdown",
   "metadata": {},
   "source": [
    "# Integer to Roman"
   ]
  },
  {
   "cell_type": "code",
   "execution_count": null,
   "metadata": {
    "collapsed": true
   },
   "outputs": [],
   "source": []
  },
  {
   "cell_type": "markdown",
   "metadata": {},
   "source": [
    "# Roman to Integer"
   ]
  },
  {
   "cell_type": "code",
   "execution_count": null,
   "metadata": {
    "collapsed": true
   },
   "outputs": [],
   "source": []
  },
  {
   "cell_type": "markdown",
   "metadata": {},
   "source": [
    "# Longest common prefix\n",
    "Write a function to find the longest common prefix string amongst an array of strings"
   ]
  },
  {
   "cell_type": "code",
   "execution_count": 352,
   "metadata": {
    "collapsed": true
   },
   "outputs": [],
   "source": [
    "def is_extendible(string_list, prefix_len):\n",
    "    temp_list = []\n",
    "    for i in range(len(string_list)):\n",
    "        if len(string_list[i]) <= prefix_len:\n",
    "            return False\n",
    "        else:\n",
    "            temp_list.append(string_list[i][prefix_len])\n",
    "     \n",
    "    if len(temp_list) < len(string_list):\n",
    "        return False\n",
    "    \n",
    "    a = temp_list[0]\n",
    "    for b in temp_list[1:]:\n",
    "        if b != a:\n",
    "            return False\n",
    "        \n",
    "    return True    \n",
    "            \n",
    "               \n",
    "            \n",
    "def longest_common_prefix(string_list):\n",
    "    if len(string_list) == 0:\n",
    "        return 0\n",
    "    \n",
    "    prefix_len = 0\n",
    "    \n",
    "    while is_extendible(string_list, prefix_len):\n",
    "        prefix_len = prefix_len + 1\n",
    "    \n",
    "            \n",
    "    return prefix_len         "
   ]
  },
  {
   "cell_type": "code",
   "execution_count": 353,
   "metadata": {},
   "outputs": [
    {
     "data": {
      "text/plain": [
       "5"
      ]
     },
     "execution_count": 353,
     "metadata": {},
     "output_type": "execute_result"
    }
   ],
   "source": [
    "longest_common_prefix(['aabccccc', 'aabccde'])"
   ]
  },
  {
   "cell_type": "markdown",
   "metadata": {},
   "source": [
    "# Three-sum\n",
    "Given an array S of n integers, are there elements a, b, c in S such that a + b + c = 0? Find all unique triplets in the array which gives the sum of zero.\n",
    "\n",
    "Note: The solution set must not contain duplicate triplets.\n",
    "\n",
    "For example, given array S = [-1, 0, 1, 2, -1, -4],\n",
    "\n",
    "A solution set is:\n",
    "[\n",
    "  [-1, 0, 1],\n",
    "  [-1, -1, 2]\n",
    "]\n"
   ]
  },
  {
   "cell_type": "code",
   "execution_count": 424,
   "metadata": {
    "collapsed": true
   },
   "outputs": [],
   "source": [
    "def remove_dups(L): # O(n^2)\n",
    "    out_list = []\n",
    "    for item in L:\n",
    "        if item not in out_list:\n",
    "            out_list.append(item)\n",
    "    return out_list        \n",
    "        \n",
    "def three_sum_brute_force(S): # O(n^3 x L)  L = number of distinct solutions \n",
    "    out_list = []\n",
    "    for i in range(len(S)):\n",
    "        for j in range(i+1, len(S)):\n",
    "            for k in range(j+1, len(S)):\n",
    "                if S[i] + S[j] + S[k] == 0:\n",
    "                    ne = tuple(sorted([S[i], S[j], S[k]]))\n",
    "                    #out_list.append(ne)\n",
    "                    if ne not in out_list:\n",
    "                        out_list.append(ne)\n",
    "    return out_list                  \n",
    "    #return remove_dups(out_list) # O(n^3 + L^2)"
   ]
  },
  {
   "cell_type": "code",
   "execution_count": 423,
   "metadata": {},
   "outputs": [
    {
     "data": {
      "text/plain": [
       "[(-1, 0, 1), (-1, -1, 2)]"
      ]
     },
     "execution_count": 423,
     "metadata": {},
     "output_type": "execute_result"
    }
   ],
   "source": [
    "three_sum_brute_force([-1, 0, 1, 2, -1, -4])"
   ]
  },
  {
   "cell_type": "markdown",
   "metadata": {},
   "source": [
    "# Three-sum closest\n",
    "\n",
    "Given an array S of n integers, find three integers in S such that the sum is closest to a given number, target. Return the sum of the three integers. You may assume that each input would have exactly one solution.\n",
    "\n"
   ]
  },
  {
   "cell_type": "code",
   "execution_count": 444,
   "metadata": {
    "collapsed": true
   },
   "outputs": [],
   "source": [
    "import math\n",
    "def three_sum_target_brute_force(S, t): # O(n^3) \n",
    "    diff = Ellipsis\n",
    "    \n",
    "    for i in range(len(S)):\n",
    "        for j in range(i+1, len(S)):\n",
    "            for k in range(j+1, len(S)):\n",
    "                    new_diff = abs(S[i] + S[j] + S[k] - t) \n",
    "                    if new_diff < diff:\n",
    "                        diff = new_diff\n",
    "                        ne = [(S[i], S[j], S[k]), diff] \n",
    "    return ne                  "
   ]
  },
  {
   "cell_type": "code",
   "execution_count": 448,
   "metadata": {},
   "outputs": [
    {
     "data": {
      "text/plain": [
       "[(-1, 1, 2), 0.10000000000000009]"
      ]
     },
     "execution_count": 448,
     "metadata": {},
     "output_type": "execute_result"
    }
   ],
   "source": [
    "S = [-1, 0, 1, 2, -1, -4]\n",
    "three_sum_target_brute_force(S, 2.1)"
   ]
  },
  {
   "cell_type": "markdown",
   "metadata": {},
   "source": [
    "# Valid parenthesis\n",
    "\n",
    "Given a string containing just the characters '(', ')', '{', '}', '[' and ']', determine if the input string is valid.\n",
    "\n",
    "The brackets must close in the correct order, \"()\" and \"()[]{}\" are all valid but \"(]\" and \"([)]\" are not.\n",
    "\n"
   ]
  },
  {
   "cell_type": "code",
   "execution_count": 372,
   "metadata": {
    "collapsed": true
   },
   "outputs": [],
   "source": [
    "def is_oppo(a, b):\n",
    "    if (a == \"(\" and b == \")\") or (a == \"{\" and b == \"}\") or (a == \"[\" and b == \"]\"):\n",
    "        return True\n",
    "    else:\n",
    "        return False\n",
    "    \n",
    "def is_valid(par_string): # O(n)\n",
    "    stack = []\n",
    "    for par in par_string:\n",
    "        if par == '(' or par == '{' or par == '[':\n",
    "            stack.append(par)\n",
    "            \n",
    "        if par == ')' or par == '}' or par == ']':\n",
    "            if len(stack) == 0:\n",
    "                return False\n",
    "            \n",
    "            temp = stack.pop()\n",
    "            if not is_oppo(temp, par):\n",
    "                return False\n",
    "    return True        "
   ]
  },
  {
   "cell_type": "code",
   "execution_count": 360,
   "metadata": {},
   "outputs": [
    {
     "data": {
      "text/plain": [
       "False"
      ]
     },
     "execution_count": 360,
     "metadata": {},
     "output_type": "execute_result"
    }
   ],
   "source": [
    "is_valid(\"({})[(]\")"
   ]
  },
  {
   "cell_type": "code",
   "execution_count": 361,
   "metadata": {},
   "outputs": [
    {
     "data": {
      "text/plain": [
       "True"
      ]
     },
     "execution_count": 361,
     "metadata": {},
     "output_type": "execute_result"
    }
   ],
   "source": [
    "is_valid(\"({})[()]{()}\")"
   ]
  },
  {
   "cell_type": "markdown",
   "metadata": {},
   "source": [
    "# Longest valid parenthesis\n",
    "Given a string containing just the characters '(' and ')', find the length of the longest valid (well-formed) parentheses substring.\n",
    "\n",
    "For \"(()\", the longest valid parentheses substring is \"()\", which has length = 2.\n",
    "\n",
    "Another example is \")()())\", where the longest valid parentheses substring is \"()()\", which has length = 4.\n",
    "\n"
   ]
  },
  {
   "cell_type": "code",
   "execution_count": 370,
   "metadata": {
    "collapsed": true
   },
   "outputs": [],
   "source": [
    "def longest_valid(par_string): # O(n^3)\n",
    "    longest = 0\n",
    "    i_max = -1\n",
    "    j_max = -1\n",
    "    for i in range(len(par_string)):\n",
    "        for j in range(len(par_string)):\n",
    "            if is_valid(par_string[i:j]):\n",
    "                if j-i >= longest:\n",
    "                    longest = j - i\n",
    "                    i_max = i\n",
    "                    j_max = j\n",
    "                \n",
    "    return longest, i_max, j_max            "
   ]
  },
  {
   "cell_type": "code",
   "execution_count": 369,
   "metadata": {},
   "outputs": [
    {
     "data": {
      "text/plain": [
       "(4, 1, 5)"
      ]
     },
     "execution_count": 369,
     "metadata": {},
     "output_type": "execute_result"
    }
   ],
   "source": [
    "longest_valid(\")()())\")"
   ]
  },
  {
   "cell_type": "markdown",
   "metadata": {},
   "source": [
    "# Generate parenthesis"
   ]
  },
  {
   "cell_type": "code",
   "execution_count": 51,
   "metadata": {
    "collapsed": true
   },
   "outputs": [],
   "source": [
    "def add_paras(x_list):\n",
    "    if len(x_list) == 0:\n",
    "        return x_list\n",
    "    \n",
    "    out_list = []\n",
    "    \n",
    "    for x in x_list:\n",
    "        out_list.append(\"(\" + x + \")\")\n",
    "        \n",
    "    return out_list    \n",
    "\n",
    "def cross_add(A, B):\n",
    "    if len(A) == 0:\n",
    "        return B\n",
    "    if len(B) == 0:\n",
    "        return A\n",
    "    \n",
    "    out_list = []\n",
    "    for a in A:\n",
    "        for b in B:\n",
    "            out_list.append(a + b)\n",
    "            \n",
    "    return out_list        \n",
    "\n",
    "def gen_par(n): # n even\n",
    "    #print \"n =\" +str(n)\n",
    "    par_list = []\n",
    "    if n == 0:\n",
    "        #par_list.append(\"\")\n",
    "        return [\"\"]\n",
    "    \n",
    "    if n == 2:\n",
    "        par_list.append(\"()\")\n",
    "        return par_list\n",
    "    \n",
    "    par_list = []\n",
    "    for i in range(1, n+1):\n",
    "        if i % 2 == 0:\n",
    "            #print i\n",
    "            #print cross_add(add_paras(gen_par(i-2)),  gen_par(n-i))\n",
    "            par_list = par_list + cross_add(add_paras(gen_par(i-2)),  gen_par(n-i))\n",
    "    \n",
    "    return par_list\n",
    "        "
   ]
  },
  {
   "cell_type": "code",
   "execution_count": 50,
   "metadata": {},
   "outputs": [
    {
     "data": {
      "text/plain": [
       "['()()()()',\n",
       " '()()(())',\n",
       " '()(())()',\n",
       " '()(()())',\n",
       " '()((()))',\n",
       " '(())()()',\n",
       " '(())(())',\n",
       " '(()())()',\n",
       " '((()))()',\n",
       " '(()()())',\n",
       " '(()(()))',\n",
       " '((())())',\n",
       " '((()()))',\n",
       " '(((())))']"
      ]
     },
     "execution_count": 50,
     "metadata": {},
     "output_type": "execute_result"
    }
   ],
   "source": [
    "gen_par(8)"
   ]
  },
  {
   "cell_type": "markdown",
   "metadata": {},
   "source": [
    "# Pow(x, n)"
   ]
  },
  {
   "cell_type": "code",
   "execution_count": 52,
   "metadata": {
    "collapsed": true
   },
   "outputs": [],
   "source": [
    "def power_brute_force(x, n):\n",
    "    answer = 1\n",
    "    for i in range(n):\n",
    "        answer = x * answer\n",
    "    return answer    \n",
    "        "
   ]
  },
  {
   "cell_type": "code",
   "execution_count": 54,
   "metadata": {
    "collapsed": true
   },
   "outputs": [],
   "source": [
    "def power_recursive(x, n):\n",
    "    if n == 0:\n",
    "        return 1\n",
    "    if n == 1:\n",
    "        return x\n",
    "    if n % 2 == 0:\n",
    "        temp = power(x, n // 2)\n",
    "        return temp * temp\n",
    "    else:\n",
    "        return x * power(x, n-1)"
   ]
  },
  {
   "cell_type": "code",
   "execution_count": 60,
   "metadata": {},
   "outputs": [
    {
     "name": "stdout",
     "output_type": "stream",
     "text": [
      "10000000000000000000000000000000000000000000000000000000000000000000000000000000000000000000000000000\n",
      "0.000809192657471\n",
      "10000000000000000000000000000000000000000000000000000000000000000000000000000000000000000000000000000\n",
      "0.000150203704834\n"
     ]
    }
   ],
   "source": [
    "import time\n",
    "start = time.time()\n",
    "print power_brute_force(10, 100)\n",
    "end = time.time()\n",
    "print end-start\n",
    "start = time.time()\n",
    "print power_recursive(10, 100)\n",
    "end = time.time()\n",
    "print end-start"
   ]
  },
  {
   "cell_type": "code",
   "execution_count": 67,
   "metadata": {
    "collapsed": true
   },
   "outputs": [],
   "source": [
    "def power_nonrec(x, n): # works when n is a power of 2\n",
    "    if n == 0:\n",
    "        return 1\n",
    "    if n == 1:\n",
    "        return x\n",
    "    \n",
    "    answer = x\n",
    "    i = 1\n",
    "    while 2*i <= n:\n",
    "        answer = answer * answer\n",
    "        i = 2*i\n",
    "        \n",
    "    return answer    "
   ]
  },
  {
   "cell_type": "markdown",
   "metadata": {},
   "source": [
    "# Maximum subarray"
   ]
  },
  {
   "cell_type": "code",
   "execution_count": 77,
   "metadata": {
    "collapsed": true
   },
   "outputs": [],
   "source": [
    "A = [-2,1,-3,4,-1,2,1,-5,4]\n",
    "\n",
    "# [4,-1,2,1]\n",
    "def get_sum(A, i, j):\n",
    "    s = 0\n",
    "    for k in range(i, j):\n",
    "        s = s + A[k]\n",
    "        \n",
    "    return s\n",
    "\n",
    "def max_sub_brute_force(A):\n",
    "    s_max = 0\n",
    "    i_max = -1\n",
    "    j_max = -1\n",
    "    for i in range(len(A)):\n",
    "        for j in range(i, len(A)):\n",
    "            s = get_sum(A, i, j)\n",
    "            if s > s_max:\n",
    "                s_max = s\n",
    "                i_max = i\n",
    "                j_max = j\n",
    "                \n",
    "    return s_max, i_max, j_max  \n",
    "\n",
    "\n",
    "def max_sum(A):\n",
    "    pi=[]\n",
    "    for i in range(len(A)):\n",
    "        pi.append(max(A[i], 0))\n",
    "        \n",
    "\n",
    "    for i in range(len(A)-1):\n",
    "        pi[i+1] = max(pi[i] + A[i+1], 0)\n",
    "        \n",
    "    \n",
    "    pi_max = 0\n",
    "    \n",
    "    for v in pi:\n",
    "        if v > pi_max:\n",
    "            pi_max = v\n",
    "            \n",
    "    return pi_max                          \n",
    "    "
   ]
  },
  {
   "cell_type": "code",
   "execution_count": 78,
   "metadata": {},
   "outputs": [
    {
     "data": {
      "text/plain": [
       "6"
      ]
     },
     "execution_count": 78,
     "metadata": {},
     "output_type": "execute_result"
    }
   ],
   "source": [
    "max_sum(A)"
   ]
  },
  {
   "cell_type": "markdown",
   "metadata": {},
   "source": [
    "# Merge two sorted lists"
   ]
  },
  {
   "cell_type": "code",
   "execution_count": 84,
   "metadata": {
    "collapsed": true
   },
   "outputs": [],
   "source": [
    "def merge_two_sorted(A, B):\n",
    "    C = []\n",
    "    i = 0\n",
    "    j = 0\n",
    "    \n",
    "    while i < len(A) and j < len(B):\n",
    "        if A[i] < B[j]:\n",
    "            C.append(A[i])\n",
    "            i = i + 1\n",
    "        else:\n",
    "            C.append(B[j])\n",
    "            j = j + 1\n",
    "            \n",
    "    if i == len(A):\n",
    "        for k in range(j, len(B)):\n",
    "            C.append(B[j])\n",
    "            \n",
    "    if j == len(B):\n",
    "        for k in range(i, len(A)):\n",
    "            C.append(A[k])\n",
    "\n",
    "    return C"
   ]
  },
  {
   "cell_type": "code",
   "execution_count": 85,
   "metadata": {},
   "outputs": [
    {
     "data": {
      "text/plain": [
       "[1, 1, 2, 3, 4, 4]"
      ]
     },
     "execution_count": 85,
     "metadata": {},
     "output_type": "execute_result"
    }
   ],
   "source": [
    "merge_two_sorted([1,2,4], [1,3,4])"
   ]
  },
  {
   "cell_type": "markdown",
   "metadata": {},
   "source": [
    "# Longest harmonious subsequence "
   ]
  },
  {
   "cell_type": "code",
   "execution_count": 68,
   "metadata": {},
   "outputs": [
    {
     "data": {
      "text/plain": [
       "81"
      ]
     },
     "execution_count": 68,
     "metadata": {},
     "output_type": "execute_result"
    }
   ],
   "source": [
    "def longest_harm(A):\n",
    "    "
   ]
  },
  {
   "cell_type": "code",
   "execution_count": null,
   "metadata": {
    "collapsed": true
   },
   "outputs": [],
   "source": []
  },
  {
   "cell_type": "markdown",
   "metadata": {},
   "source": [
    "# Two-sum\n",
    "Given an array of integers, return indices of the two numbers such that they add up to a specific target.\n",
    "\n",
    "You may assume that each input would have exactly one solution, and you may not use the same element twice.\n",
    "\n",
    "Example:\n",
    "\n",
    "Given nums = [2, 7, 11, 15], target = 9,\n",
    "\n",
    "Because nums[0] + nums[1] = 2 + 7 = 9, return [0, 1]."
   ]
  },
  {
   "cell_type": "code",
   "execution_count": 156,
   "metadata": {
    "collapsed": true
   },
   "outputs": [],
   "source": [
    "def two_sum(A, target):\n",
    "    for i in range (len(A)): \n",
    "        for j in range(i+1,len(A)):\n",
    "            if A[i]+ A[j] == target:\n",
    "                print A[i],A[j],target\n",
    "                return i,j\n",
    "                 \n",
    "                \n",
    "    \n",
    "    \n",
    "  \n",
    "    "
   ]
  },
  {
   "cell_type": "code",
   "execution_count": 158,
   "metadata": {},
   "outputs": [
    {
     "name": "stdout",
     "output_type": "stream",
     "text": [
      "4 5 9\n"
     ]
    },
    {
     "data": {
      "text/plain": [
       "(2, 3)"
      ]
     },
     "execution_count": 158,
     "metadata": {},
     "output_type": "execute_result"
    }
   ],
   "source": [
    "A = [1,2,4,5,6]\n",
    "target = 9\n",
    "two_sum(A,target)"
   ]
  },
  {
   "cell_type": "code",
   "execution_count": 159,
   "metadata": {},
   "outputs": [
    {
     "name": "stdout",
     "output_type": "stream",
     "text": [
      "0 3000 3000\n",
      "-0.00240111351013\n"
     ]
    }
   ],
   "source": [
    "import time \n",
    "start = time.time()\n",
    "two_sum_brute_force(range(3600),3000)\n",
    "end = time.time()\n",
    "print start-end "
   ]
  },
  {
   "cell_type": "markdown",
   "metadata": {},
   "source": [
    "\n",
    "Given a string, determine if it is a palindrome, considering only alphanumeric characters and ignoring cases.\n",
    "\n",
    "For example,\n",
    "\"A man, a plan, a canal: Panama\" is a palindrome.\n",
    "\"race a car\" is not a palindrome.\n",
    "\n",
    "Note:\n",
    "Have you consider that the string might be empty? This is a good question to ask during an interview.\n",
    "\n",
    "For the purpose of this problem, we define empty string as valid palindrome.\n",
    "\n"
   ]
  },
  {
   "cell_type": "code",
   "execution_count": 195,
   "metadata": {},
   "outputs": [
    {
     "name": "stdout",
     "output_type": "stream",
     "text": [
      "character matches at position 0\n",
      "character matches at position 1\n",
      "character matches at position 2\n",
      "character matches at position 3\n",
      "character matches at position 4\n",
      "character matches at position 5\n"
     ]
    },
    {
     "data": {
      "text/plain": [
       "'not palindrome'"
      ]
     },
     "execution_count": 195,
     "metadata": {},
     "output_type": "execute_result"
    }
   ],
   "source": [
    "def is_pal(s): # \"010\", \"110011\", \"abccba\", \"aba\", \"abcbc\"-not\n",
    "    for i in range(len(s)):\n",
    "        if s[i] != s[len(s)-1-i]:\n",
    "            return \"not palindrome\"\n",
    "        else: # s[i] == s[len(s) -1 -i]\n",
    "            print \"character matches at position \"+str(i)\n",
    "            pass\n",
    "        \n",
    "    return \"palindrome\"\n",
    "            \n",
    "    \n",
    "          \n",
    "            \n",
    "    \n",
    "    \n",
    "    return 0\n",
    "    \n",
    "    \n",
    "is_pal(\"abcbdefeedbcba\")    "
   ]
  },
  {
   "cell_type": "code",
   "execution_count": 174,
   "metadata": {},
   "outputs": [
    {
     "data": {
      "text/plain": [
       "[0, 1, 2]"
      ]
     },
     "execution_count": 174,
     "metadata": {},
     "output_type": "execute_result"
    }
   ],
   "source": [
    "s = \"abc\"\n",
    "s[2]\n",
    "s[-1]\n",
    "\n",
    "i = 0\n",
    "s[i] == s[len(s)-1-i]\n",
    "range(len(s))"
   ]
  },
  {
   "cell_type": "code",
   "execution_count": 164,
   "metadata": {},
   "outputs": [
    {
     "name": "stdout",
     "output_type": "stream",
     "text": [
      "a\n",
      "b\n",
      "c\n"
     ]
    }
   ],
   "source": [
    "for i in range(len(s)):\n",
    "    print s[i]"
   ]
  },
  {
   "cell_type": "code",
   "execution_count": 166,
   "metadata": {},
   "outputs": [
    {
     "data": {
      "text/plain": [
       "[0, 1, 2]"
      ]
     },
     "execution_count": 166,
     "metadata": {},
     "output_type": "execute_result"
    }
   ],
   "source": [
    "range(len(s))"
   ]
  },
  {
   "cell_type": "code",
   "execution_count": 167,
   "metadata": {
    "collapsed": true
   },
   "outputs": [],
   "source": [
    "def fun_s(s):\n",
    "    output = \"\"\n",
    "    for i in range(len(s)):\n",
    "        output = output + s[i] + s[i]\n",
    "        \n",
    "    return output    "
   ]
  },
  {
   "cell_type": "code",
   "execution_count": 168,
   "metadata": {},
   "outputs": [
    {
     "data": {
      "text/plain": [
       "'aabbcc'"
      ]
     },
     "execution_count": 168,
     "metadata": {},
     "output_type": "execute_result"
    }
   ],
   "source": [
    "fun_s(\"abc\")"
   ]
  },
  {
   "cell_type": "code",
   "execution_count": 210,
   "metadata": {
    "collapsed": true
   },
   "outputs": [],
   "source": [
    "#n = 3  --> 1 + 2^2 + 3^2 = 1 + 4 + 9 = 14\n",
    "def sum_squares(n):\n",
    "    s = 0\n",
    "    for i in range(n):\n",
    "        s = s + (i+1)*(i+1)\n",
    "    return s     \n",
    "    \n",
    "    \n",
    "    "
   ]
  },
  {
   "cell_type": "markdown",
   "metadata": {
    "collapsed": true
   },
   "source": [
    "# Length of last word"
   ]
  },
  {
   "cell_type": "code",
   "execution_count": 2,
   "metadata": {
    "collapsed": true
   },
   "outputs": [],
   "source": [
    "def last_len(s):\n",
    "    i = 1\n",
    "    while s[-i] != \" \" and i <= len(s):\n",
    "        i = i + 1\n",
    "        \n",
    "    return i-1     "
   ]
  },
  {
   "cell_type": "code",
   "execution_count": 3,
   "metadata": {},
   "outputs": [
    {
     "data": {
      "text/plain": [
       "9"
      ]
     },
     "execution_count": 3,
     "metadata": {},
     "output_type": "execute_result"
    }
   ],
   "source": [
    "last_len(\"I am not a dynasour!\")"
   ]
  },
  {
   "cell_type": "markdown",
   "metadata": {},
   "source": [
    "# Plus one"
   ]
  },
  {
   "cell_type": "code",
   "execution_count": null,
   "metadata": {
    "collapsed": true
   },
   "outputs": [],
   "source": [
    "def binary_plus_one(s):\n",
    "    \n",
    "    "
   ]
  },
  {
   "cell_type": "markdown",
   "metadata": {},
   "source": [
    "# Add binary"
   ]
  },
  {
   "cell_type": "code",
   "execution_count": null,
   "metadata": {
    "collapsed": true
   },
   "outputs": [],
   "source": [
    "def bin_add(a, b):\n",
    "    "
   ]
  },
  {
   "cell_type": "markdown",
   "metadata": {},
   "source": [
    "We are given two strings, A and B.\n",
    "\n",
    "A shift on A consists of taking string A and moving the leftmost character to the rightmost position. For example, if A = 'abcde', then it will be 'bcdea' after one shift on A. Return True if and only if A can become B after some number of shifts on A.\n",
    "\n",
    "Example 1:\n",
    "Input: A = 'abcde', B = 'cdeab'\n",
    "Output: true\n",
    "\n",
    "Example 2:\n",
    "Input: A = 'abcde', B = 'abced'\n",
    "Output: false\n"
   ]
  },
  {
   "cell_type": "code",
   "execution_count": 28,
   "metadata": {
    "collapsed": true
   },
   "outputs": [],
   "source": [
    "def is_match(A, i, B):\n",
    "    if len(A) != len(B):\n",
    "        return False\n",
    "    if not i < len(A):\n",
    "        return False\n",
    "    \n",
    "    for j in range(len(B)):\n",
    "        #print j, (i+j) % len(A), A[(i+j) % len(A)], B[j]\n",
    "        if A[(i+j) % len(B)] != B[j]:\n",
    "            return False\n",
    "    return True\n",
    "        \n",
    "def rotate_match(A, B):\n",
    "    if len(A) != len(B):\n",
    "        return False\n",
    "    \n",
    "    for i in range(len(A)):\n",
    "        if is_match(A, i, B):\n",
    "            return True\n",
    "    \n",
    "    return False\n",
    "        "
   ]
  },
  {
   "cell_type": "code",
   "execution_count": 29,
   "metadata": {},
   "outputs": [
    {
     "data": {
      "text/plain": [
       "True"
      ]
     },
     "execution_count": 29,
     "metadata": {},
     "output_type": "execute_result"
    }
   ],
   "source": [
    "is_match(\"abcabc\", 1, \"bcabca\")\n",
    "is_match(\"abcabc\", 2, \"cabcab\")"
   ]
  },
  {
   "cell_type": "code",
   "execution_count": 30,
   "metadata": {},
   "outputs": [
    {
     "data": {
      "text/plain": [
       "True"
      ]
     },
     "execution_count": 30,
     "metadata": {},
     "output_type": "execute_result"
    }
   ],
   "source": [
    "rotate_match(\"abcabc\", \"cabcab\")"
   ]
  },
  {
   "cell_type": "code",
   "execution_count": 32,
   "metadata": {},
   "outputs": [
    {
     "data": {
      "text/plain": [
       "False"
      ]
     },
     "execution_count": 32,
     "metadata": {},
     "output_type": "execute_result"
    }
   ],
   "source": [
    "rotate_match(\"abcdef\", \"ddfabc\")"
   ]
  },
  {
   "cell_type": "code",
   "execution_count": 35,
   "metadata": {
    "collapsed": true
   },
   "outputs": [],
   "source": [
    "import time\n",
    "start = time.time()\n",
    "rotate_match(1000*\"ab\"+ \"z\" + 1000*\"ab\", \"z\" + 1000*\"ab\" + 1000*\"ab\")"
   ]
  },
  {
   "cell_type": "code",
   "execution_count": 39,
   "metadata": {
    "collapsed": true
   },
   "outputs": [],
   "source": [
    "N = 10000\n",
    "s1 = N * \"ab\" + \"z\" + N * \"ab\"\n",
    "s2 = \"z\" + N * \"ab\" + N * \"ab\""
   ]
  },
  {
   "cell_type": "code",
   "execution_count": 40,
   "metadata": {},
   "outputs": [
    {
     "name": "stdout",
     "output_type": "stream",
     "text": [
      "5.42738103867\n"
     ]
    }
   ],
   "source": [
    "start = time.time()\n",
    "rotate_match(s1, s2)\n",
    "end = time.time()\n",
    "print end-start"
   ]
  },
  {
   "cell_type": "markdown",
   "metadata": {
    "collapsed": true
   },
   "source": [
    "# Merge two sorted arrays"
   ]
  },
  {
   "cell_type": "code",
   "execution_count": 4,
   "metadata": {},
   "outputs": [],
   "source": [
    "def merge_two(A, B):\n",
    "    C = []\n",
    "    i = 0\n",
    "    j = 0\n",
    "    \n",
    "    while i < len(A) and j < len(B):\n",
    "        if A[i] <= B[j]:\n",
    "            C.append(A[i])\n",
    "            i = i + 1\n",
    "        else:\n",
    "            C.append(B[j])\n",
    "            j = j + 1\n",
    "            \n",
    "    if i == len(A):\n",
    "        C = C + B[j:]\n",
    "    \n",
    "    if j == len(B):\n",
    "        C = C + A[i:]\n",
    "        \n",
    "    return C"
   ]
  },
  {
   "cell_type": "code",
   "execution_count": 10,
   "metadata": {},
   "outputs": [
    {
     "name": "stdout",
     "output_type": "stream",
     "text": [
      "0.571662187576\n"
     ]
    }
   ],
   "source": [
    "N = 1000000\n",
    "A = [2*i + 1 for i in range(N)]\n",
    "B = [2*i for i in range(N)]\n",
    "import time\n",
    "start = time.time()\n",
    "merge_two(A, B)\n",
    "end = time.time()\n",
    "print end-start"
   ]
  },
  {
   "cell_type": "code",
   "execution_count": null,
   "metadata": {
    "collapsed": true
   },
   "outputs": [],
   "source": []
  }
 ],
 "metadata": {
  "kernelspec": {
   "display_name": "Python 2",
   "language": "python",
   "name": "python2"
  },
  "language_info": {
   "codemirror_mode": {
    "name": "ipython",
    "version": 2
   },
   "file_extension": ".py",
   "mimetype": "text/x-python",
   "name": "python",
   "nbconvert_exporter": "python",
   "pygments_lexer": "ipython2",
   "version": "2.7.13"
  }
 },
 "nbformat": 4,
 "nbformat_minor": 2
}
