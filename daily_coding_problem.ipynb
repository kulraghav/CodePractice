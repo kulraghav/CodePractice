{
 "cells": [
  {
   "cell_type": "markdown",
   "metadata": {
    "collapsed": true
   },
   "source": [
    "# Big thanks to founders@dailycodingproblem.com"
   ]
  },
  {
   "cell_type": "markdown",
   "metadata": {},
   "source": [
    "# Two-sum [May 13, 2018] \n",
    "\n",
    "Given a list of numbers, return whether any two sums to k.\n",
    "\n",
    "For example, given [10, 15, 3, 7] and k of 17, return true since 10 + 7 is 17.\n",
    "\n",
    "Bonus: Can you do this in one pass?"
   ]
  },
  {
   "cell_type": "markdown",
   "metadata": {},
   "source": [
    "_present = 1\n",
    "def two_sum(A, k):\n",
    "    \"\"\" returns True if there are i and j such that i != j and A[i] + A[j] = k; False otherwise \"\"\"\n",
    "    prefix = {}\n",
    "    for i in range(len(A)):\n",
    "        if prefix.has_key(k-A[i]):\n",
    "            return True\n",
    "        else:\n",
    "            prefix[A[i]] = _present\n",
    "    return False        "
   ]
  },
  {
   "cell_type": "code",
   "execution_count": 8,
   "metadata": {
    "collapsed": true
   },
   "outputs": [],
   "source": [
    "_present = 1\n",
    "def two_sum(A, k):\n",
    "    \"\"\" returns True if there are i and j such that i != j and A[i] + A[j] = k; False otherwise \"\"\"\n",
    "    prefix = {}\n",
    "    for i in range(len(A)):\n",
    "        if prefix.has_key(k-A[i]):\n",
    "            return True\n",
    "        else:\n",
    "            prefix[A[i]] = _present\n",
    "    return False        "
   ]
  },
  {
   "cell_type": "code",
   "execution_count": 9,
   "metadata": {},
   "outputs": [
    {
     "data": {
      "text/plain": [
       "True"
      ]
     },
     "execution_count": 9,
     "metadata": {},
     "output_type": "execute_result"
    }
   ],
   "source": [
    "A = [10, 15, 3, 7] \n",
    "k = 17\n",
    "two_sum(A, k)"
   ]
  },
  {
   "cell_type": "code",
   "execution_count": 10,
   "metadata": {},
   "outputs": [
    {
     "name": "stdout",
     "output_type": "stream",
     "text": [
      " returns True if there are i and j such that i != j and A[i] + A[j] = k; False otherwise \n"
     ]
    }
   ],
   "source": [
    "print two_sum.__doc__"
   ]
  },
  {
   "cell_type": "markdown",
   "metadata": {},
   "source": [
    "# All-but-one products [May 14, 2018]\n",
    "This problem was asked by Uber.\n",
    "\n",
    "Given an array of integers, return a new array such that each element at index i of the new array is the product of all the numbers in the original array except the one at i.\n",
    "\n",
    "For example, if our input was [1, 2, 3, 4, 5], the expected output would be [120, 60, 40, 30, 24]. If our input was [3, 2, 1], the expected output would be [2, 3, 6].\n",
    "\n",
    "Follow-up: what if you can't use division?"
   ]
  },
  {
   "cell_type": "markdown",
   "metadata": {},
   "source": [
    "def all_but_one_prodcut(A):\n",
    "    \"\"\" returns an array P such that P[i] is product of all A[j] such that j != i \"\"\"\n",
    "    \n",
    "    product = 1\n",
    "    for i in range(len(A)):\n",
    "        product = product*A[i]\n",
    "        \n",
    "    P = []\n",
    "    for i in range(len(A)):\n",
    "        P[i] = product / A[i]  # use list with append\n",
    "        \n",
    "    return P    "
   ]
  },
  {
   "cell_type": "code",
   "execution_count": 14,
   "metadata": {
    "collapsed": true
   },
   "outputs": [],
   "source": [
    "def all_but_one_prodcut(A):\n",
    "    \"\"\" returns an array P such that P[i] is product of all A[j] such that j != i \"\"\"\n",
    "    \n",
    "    product = 1\n",
    "    for i in range(len(A)):\n",
    "        product = product*A[i]\n",
    "        \n",
    "    P = []\n",
    "    for i in range(len(A)):\n",
    "        P.append(product / A[i])\n",
    "        \n",
    "    return P    "
   ]
  },
  {
   "cell_type": "code",
   "execution_count": 15,
   "metadata": {},
   "outputs": [
    {
     "data": {
      "text/plain": [
       "[120, 60, 40, 30, 24]"
      ]
     },
     "execution_count": 15,
     "metadata": {},
     "output_type": "execute_result"
    }
   ],
   "source": [
    "A =  [1, 2, 3, 4, 5]\n",
    "all_but_one_prodcut(A)"
   ]
  },
  {
   "cell_type": "markdown",
   "metadata": {},
   "source": [
    "def all_but_one_product_without_division(A):\n",
    "    \"\"\" returns P such that P[i] is product of all A[j] where j != i \"\"\"\n",
    "    \n",
    "    prefix = {}\n",
    "    prefix[-1] = 1\n",
    "    prefix_product = 1\n",
    "    for i in range(len(A)):\n",
    "        prefix_product = prefix_product*A[i]\n",
    "        prefix[i] = prefix_product\n",
    "        \n",
    "    suffix = {}\n",
    "    suffix[len(A)] = 1\n",
    "    suffix_product = 1\n",
    "    for j in range(len(A)-1, -1, -1):\n",
    "        suffix_product = suffix_product*A[j]\n",
    "        suffix[j] = suffix_product\n",
    "        \n",
    "    P = {}\n",
    "    for k in range(len(A)):\n",
    "        P[k] = prefix[k-1]*suffix[k+1]\n",
    "        \n",
    "    return P    \n",
    "        "
   ]
  },
  {
   "cell_type": "code",
   "execution_count": 16,
   "metadata": {
    "collapsed": true
   },
   "outputs": [],
   "source": [
    "def all_but_one_product_without_division(A):\n",
    "    \"\"\" returns P such that P[i] is product of all A[j] where j != i \"\"\"\n",
    "    \n",
    "    prefix = {}\n",
    "    prefix[-1] = 1\n",
    "    prefix_product = 1\n",
    "    for i in range(len(A)):\n",
    "        prefix_product = prefix_product*A[i]\n",
    "        prefix[i] = prefix_product\n",
    "        \n",
    "    suffix = {}\n",
    "    suffix[len(A)] = 1\n",
    "    suffix_product = 1\n",
    "    for j in range(len(A)-1, -1, -1):\n",
    "        suffix_product = suffix_product*A[j]\n",
    "        suffix[j] = suffix_product\n",
    "        \n",
    "    P = {}\n",
    "    for k in range(len(A)):\n",
    "        P[k] = prefix[k-1]*suffix[k+1]\n",
    "        \n",
    "    return P        "
   ]
  },
  {
   "cell_type": "code",
   "execution_count": 17,
   "metadata": {},
   "outputs": [
    {
     "data": {
      "text/plain": [
       "{0: 120, 1: 60, 2: 40, 3: 30, 4: 24}"
      ]
     },
     "execution_count": 17,
     "metadata": {},
     "output_type": "execute_result"
    }
   ],
   "source": [
    "all_but_one_product_without_division(A)"
   ]
  },
  {
   "cell_type": "markdown",
   "metadata": {},
   "source": [
    "# Serialization and deserializatiobn of a binary tree [May 15, 2018]\n",
    "This problem was asked by Google.\n",
    "\n",
    "Given the root to a binary tree, implement serialize(root), which serializes the tree into a string, and deserialize(s), which deserializes the string back into the tree.\n",
    "\n",
    "For example, given the following Node class\n",
    "\n",
    "class Node:\n",
    "    def __init__(self, val, left=None, right=None):\n",
    "        self.val = val\n",
    "        self.left = left\n",
    "        self.right = right\n",
    "The following test should pass:\n",
    "\n",
    "node = Node('root', Node('left', Node('left.left')), Node('right'))\n",
    "assert deserialize(serialize(node)).left.left.val == 'left.left'"
   ]
  },
  {
   "cell_type": "markdown",
   "metadata": {},
   "source": [
    "_empty = None\n",
    "_end = \"XXX\"\n",
    "\n",
    "class Node:\n",
    "    def __init__(self, val, left=None, right=None):\n",
    "        self.val = val\n",
    "        self.left = left\n",
    "        self.right = right\n",
    "        \n",
    "def serialize(binary_tree):\n",
    "    \"\"\" returns a string representing the binary tree \"\"\"\n",
    "    \n",
    "    nodes = []\n",
    "    if binary_tree == _empty:\n",
    "        return [(0, _end)]\n",
    "    else:\n",
    "        left_serial = serialize(binary_tree.left)\n",
    "        right_serial = serialize(binary_tree.right)\n",
    "        \n",
    "        left_size = left_serial[0][0]\n",
    "        right_size = right_serial[0][0]\n",
    "        \n",
    "        total_serial = [(1 + left_size + right_size, binary_tree.val)] + left_serial + right_serial\n",
    "        \n",
    "        return total_serial\n",
    "        "
   ]
  },
  {
   "cell_type": "code",
   "execution_count": 49,
   "metadata": {
    "collapsed": true
   },
   "outputs": [],
   "source": [
    "_empty = None\n",
    "\n",
    "class Node:\n",
    "    def __init__(self, val, left=None, right=None):\n",
    "        self.val = val\n",
    "        self.left = left\n",
    "        self.right = right\n",
    "            \n",
    "        \n",
    "def serialize(binary_tree):\n",
    "    \"\"\" returns a string representing the binary tree \"\"\"\n",
    "    \n",
    "    nodes = []\n",
    "    if binary_tree == _empty:\n",
    "        return []\n",
    "    else:\n",
    "        left_serial = serialize(binary_tree.left)\n",
    "        right_serial = serialize(binary_tree.right)\n",
    "        \n",
    "        left_size = len(left_serial)\n",
    "        right_size = len(right_serial)\n",
    "        \n",
    "        header = {}\n",
    "        header['size'] = 1 + left_size + right_size\n",
    "        header['left_size'] = left_size\n",
    "        header['right_size'] = right_size\n",
    "        header['val'] = binary_tree.val\n",
    "        \n",
    "        total_serial = [header] + left_serial + right_serial\n",
    "        \n",
    "        return total_serial\n",
    "def deserialize(serial):\n",
    "    \"\"\" returns a binary tree from serialized representation \"\"\"\n",
    "    \n",
    "    if len(serial) == 0:\n",
    "        return _empty\n",
    "    else:\n",
    "        header = serial[0]\n",
    "        val = header['val']\n",
    "        left_size = header['left_size']\n",
    "        right_size = header['right_size']\n",
    "        return Node(val, deserialize(serial[1: left_size+1]) , deserialize(serial[left_size+1:]))\n",
    "    \n",
    "    "
   ]
  },
  {
   "cell_type": "code",
   "execution_count": 50,
   "metadata": {},
   "outputs": [
    {
     "data": {
      "text/plain": [
       "[{'left_size': 2, 'right_size': 1, 'size': 4, 'val': 'root'},\n",
       " {'left_size': 1, 'right_size': 0, 'size': 2, 'val': 'left'},\n",
       " {'left_size': 0, 'right_size': 0, 'size': 1, 'val': 'left.left'},\n",
       " {'left_size': 0, 'right_size': 0, 'size': 1, 'val': 'right'}]"
      ]
     },
     "execution_count": 50,
     "metadata": {},
     "output_type": "execute_result"
    }
   ],
   "source": [
    "node = Node('root', Node('left', Node('left.left')), Node('right'))\n",
    "serialize(node)"
   ]
  },
  {
   "cell_type": "code",
   "execution_count": 55,
   "metadata": {},
   "outputs": [],
   "source": [
    "assert deserialize(serialize(node)).left.left.val  == 'left.left'"
   ]
  },
  {
   "cell_type": "markdown",
   "metadata": {},
   "source": [
    "The \"assert\" statement in python\n",
    "- https://stackoverflow.com/questions/5142418/what-is-the-use-of-assert-in-python\n",
    "- https://www.tutorialspoint.com/python/assertions_in_python.htm"
   ]
  },
  {
   "cell_type": "code",
   "execution_count": 60,
   "metadata": {},
   "outputs": [
    {
     "name": "stdout",
     "output_type": "stream",
     "text": [
      "None\n"
     ]
    }
   ],
   "source": [
    "print deserialize(serialize(Node('one'))).right"
   ]
  },
  {
   "cell_type": "markdown",
   "metadata": {},
   "source": [
    "# lowest missing positive int  [May 16, 2018]\n",
    "This problem was asked by Stripe.\n",
    "\n",
    "Given an array of integers, find the first missing positive integer in linear time and constant space. In other words, find the lowest positive integer that does not exist in the array. The array can contain duplicates and negative numbers as well.\n",
    "\n",
    "For example, the input [3, 4, -1, 1] should give 2. The input min should give 3.\n",
    "\n",
    "You can modify the input array in-place."
   ]
  },
  {
   "cell_type": "markdown",
   "metadata": {},
   "source": [
    "_present = True\n",
    "def minimum_missing_positive(A):\n",
    "    \"\"\" returns the first missing positive integer among A[i] s \"\"\"\n",
    "    \n",
    "    prefix = {}\n",
    "    min_miss_pos = 1\n",
    "    for i in range(len(A)):\n",
    "        prefix[A[i]] = _present\n",
    "        while prefix.has_key(min_miss_pos):\n",
    "            min_miss_pos = min_miss_pos + 1\n",
    "            \n",
    "    return min_miss_pos        \n",
    "        "
   ]
  },
  {
   "cell_type": "code",
   "execution_count": 61,
   "metadata": {
    "collapsed": true
   },
   "outputs": [],
   "source": [
    "_present = True\n",
    "def minimum_missing_positive(A):\n",
    "    \"\"\" returns the first missing positive integer among A[i] s \"\"\"\n",
    "    \n",
    "    prefix = {}\n",
    "    min_miss_pos = 1\n",
    "    for i in range(len(A)):\n",
    "        prefix[A[i]] = _present\n",
    "        while prefix.has_key(min_miss_pos):\n",
    "            min_miss_pos = min_miss_pos + 1\n",
    "            \n",
    "    return min_miss_pos              "
   ]
  },
  {
   "cell_type": "code",
   "execution_count": 62,
   "metadata": {},
   "outputs": [
    {
     "data": {
      "text/plain": [
       "2"
      ]
     },
     "execution_count": 62,
     "metadata": {},
     "output_type": "execute_result"
    }
   ],
   "source": [
    "minimum_missing_positive([3, 4, -1, 1])"
   ]
  },
  {
   "cell_type": "code",
   "execution_count": 63,
   "metadata": {},
   "outputs": [
    {
     "data": {
      "text/plain": [
       "3"
      ]
     },
     "execution_count": 63,
     "metadata": {},
     "output_type": "execute_result"
    }
   ],
   "source": [
    "minimum_missing_positive([1, 2, 0])"
   ]
  },
  {
   "cell_type": "markdown",
   "metadata": {},
   "source": [
    "def separate_non_positives(A):\n",
    "    \"\"\" returns A by moving in-place non-positive elements towards the end of A \"\"\"\n",
    "    \n",
    "    begin = 0\n",
    "    end = len(A)-1\n",
    "    \n",
    "    while begin < end:\n",
    "       if A[begin] > 0:\n",
    "           begin = begin + 1\n",
    "       if A[end] <= 0:\n",
    "           end = end - 1\n",
    "       if A[begin] <= 0 and A[end] > 0:\n",
    "           temp = A[begin]\n",
    "           A[begin] = A[end]\n",
    "           A[end] = temp\n",
    "           \n",
    "    return A, begin       \n",
    "        \n",
    "            "
   ]
  },
  {
   "cell_type": "code",
   "execution_count": 82,
   "metadata": {
    "collapsed": true
   },
   "outputs": [],
   "source": [
    "def separate_non_positives(A):\n",
    "    \"\"\" returns A by moving in-place non-positive elements towards the end of A \"\"\"\n",
    "    \n",
    "    begin = 0\n",
    "    end = len(A)-1\n",
    "    \n",
    "    while begin <= end:\n",
    "        if A[begin] <= 0 and A[end] > 0:\n",
    "            temp = A[begin]\n",
    "            A[begin] = A[end]\n",
    "            A[end] = temp\n",
    "        if A[begin] > 0:\n",
    "            begin = begin + 1\n",
    "        if A[end] <= 0:\n",
    "            end = end - 1  \n",
    "                    \n",
    "    return A[:begin]                 "
   ]
  },
  {
   "cell_type": "code",
   "execution_count": 85,
   "metadata": {},
   "outputs": [
    {
     "data": {
      "text/plain": [
       "([3, 4, 1, -1], 3)"
      ]
     },
     "execution_count": 85,
     "metadata": {},
     "output_type": "execute_result"
    }
   ],
   "source": [
    "A = [3, 4, -1, 1]\n",
    "separate_non_positives(A)"
   ]
  },
  {
   "cell_type": "code",
   "execution_count": 86,
   "metadata": {},
   "outputs": [
    {
     "data": {
      "text/plain": [
       "([-1], 0)"
      ]
     },
     "execution_count": 86,
     "metadata": {},
     "output_type": "execute_result"
    }
   ],
   "source": [
    "separate_non_positives([-1])"
   ]
  },
  {
   "cell_type": "code",
   "execution_count": 45,
   "metadata": {},
   "outputs": [],
   "source": [
    "def partition(A, pivot):\n",
    "    \"\"\" returns A by moving in-place non-positive elements towards the end of A \"\"\"\n",
    "    \n",
    "    begin = 0\n",
    "    end = len(A)-1\n",
    "    \n",
    "    while begin <= end:\n",
    "        \n",
    "        if A[begin] > pivot and A[end] <= pivot:\n",
    "            temp = A[begin]\n",
    "            A[begin] = A[end]\n",
    "            A[end] = temp\n",
    "            begin = begin + 1\n",
    "            end = end - 1\n",
    "        \n",
    "        if A[begin] <= pivot:\n",
    "            begin = begin + 1\n",
    "        if A[end] > pivot:\n",
    "            end = end - 1  \n",
    "            \n",
    "                    \n",
    "    return A[:begin], A[begin:]                 "
   ]
  },
  {
   "cell_type": "code",
   "execution_count": 46,
   "metadata": {},
   "outputs": [
    {
     "data": {
      "text/plain": [
       "([3, 1, 2], [5, 4])"
      ]
     },
     "execution_count": 46,
     "metadata": {},
     "output_type": "execute_result"
    }
   ],
   "source": [
    "A = [1,2,3,4,5]\n",
    "A = [5,1,2,3,4]\n",
    "partition(A, 3)"
   ]
  },
  {
   "cell_type": "code",
   "execution_count": 49,
   "metadata": {
    "collapsed": true
   },
   "outputs": [],
   "source": [
    "# A is non-negative\n",
    "def min_miss(A, offset):\n",
    "    if len(A) == 0:\n",
    "        return offset + 1\n",
    "    if len(A) == 1:\n",
    "        if A[0] == offset + 1:\n",
    "            return offset + 2\n",
    "        else:\n",
    "            return offset + 1\n",
    "    \n",
    "    begin = 0\n",
    "    end = len(A)-1\n",
    "    mid = begin + end + 1 // 2\n",
    "    \n",
    "    A_left, A_right = partition(A, mid + offset)\n",
    "    \n",
    "    \n",
    "    min_miss_left = min_miss(A_left, offset)\n",
    "    \n",
    "    if min_miss_left <= offset + len(A_left):\n",
    "        return min_miss_left\n",
    "    else: # min_miss_left = offset + len(A) + 1\n",
    "        min_miss_right = min_miss(A_right, offset + len(A_left))\n",
    "        return min_miss_right\n",
    "    \n",
    "    #return A_left, A_right\n",
    "    \n",
    "    "
   ]
  },
  {
   "cell_type": "code",
   "execution_count": 50,
   "metadata": {},
   "outputs": [
    {
     "data": {
      "text/plain": [
       "6"
      ]
     },
     "execution_count": 50,
     "metadata": {},
     "output_type": "execute_result"
    }
   ],
   "source": [
    "A = [5,1,2,3,4]\n",
    "min_miss(A, 0)"
   ]
  },
  {
   "cell_type": "code",
   "execution_count": 51,
   "metadata": {},
   "outputs": [
    {
     "data": {
      "text/plain": [
       "([3, 1, 2], [4, 5])"
      ]
     },
     "execution_count": 51,
     "metadata": {},
     "output_type": "execute_result"
    }
   ],
   "source": [
    "partition(A, 3)"
   ]
  },
  {
   "cell_type": "code",
   "execution_count": 52,
   "metadata": {},
   "outputs": [
    {
     "data": {
      "text/plain": [
       "3"
      ]
     },
     "execution_count": 52,
     "metadata": {},
     "output_type": "execute_result"
    }
   ],
   "source": [
    "min_miss([2,1], 0)"
   ]
  },
  {
   "cell_type": "code",
   "execution_count": 53,
   "metadata": {},
   "outputs": [
    {
     "data": {
      "text/plain": [
       "3"
      ]
     },
     "execution_count": 53,
     "metadata": {},
     "output_type": "execute_result"
    }
   ],
   "source": [
    "min_miss([2], 1)"
   ]
  },
  {
   "cell_type": "code",
   "execution_count": null,
   "metadata": {
    "collapsed": true
   },
   "outputs": [],
   "source": []
  }
 ],
 "metadata": {
  "kernelspec": {
   "display_name": "Python 2",
   "language": "python",
   "name": "python2"
  },
  "language_info": {
   "codemirror_mode": {
    "name": "ipython",
    "version": 2
   },
   "file_extension": ".py",
   "mimetype": "text/x-python",
   "name": "python",
   "nbconvert_exporter": "python",
   "pygments_lexer": "ipython2",
   "version": "2.7.13"
  }
 },
 "nbformat": 4,
 "nbformat_minor": 2
}
