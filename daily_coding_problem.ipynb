{
 "cells": [
  {
   "cell_type": "markdown",
   "metadata": {
    "collapsed": true
   },
   "source": [
    "# Big thanks to founders@dailycodingproblem.com"
   ]
  },
  {
   "cell_type": "markdown",
   "metadata": {},
   "source": [
    "# Two-sum [May 13, 2018] \n",
    "\n",
    "Given a list of numbers, return whether any two sums to k.\n",
    "\n",
    "For example, given [10, 15, 3, 7] and k of 17, return true since 10 + 7 is 17.\n",
    "\n",
    "Bonus: Can you do this in one pass?"
   ]
  },
  {
   "cell_type": "markdown",
   "metadata": {},
   "source": [
    "_present = 1\n",
    "def two_sum(A, k):\n",
    "    \"\"\" returns True if there are i and j such that i != j and A[i] + A[j] = k; False otherwise \"\"\"\n",
    "    prefix = {}\n",
    "    for i in range(len(A)):\n",
    "        if prefix.has_key(k-A[i]):\n",
    "            return True\n",
    "        else:\n",
    "            prefix[A[i]] = _present\n",
    "    return False        "
   ]
  },
  {
   "cell_type": "code",
   "execution_count": 8,
   "metadata": {
    "collapsed": true
   },
   "outputs": [],
   "source": [
    "_present = 1\n",
    "def two_sum(A, k):\n",
    "    \"\"\" returns True if there are i and j such that i != j and A[i] + A[j] = k; False otherwise \"\"\"\n",
    "    prefix = {}\n",
    "    for i in range(len(A)):\n",
    "        if prefix.has_key(k-A[i]):\n",
    "            return True\n",
    "        else:\n",
    "            prefix[A[i]] = _present\n",
    "    return False        "
   ]
  },
  {
   "cell_type": "code",
   "execution_count": 9,
   "metadata": {},
   "outputs": [
    {
     "data": {
      "text/plain": [
       "True"
      ]
     },
     "execution_count": 9,
     "metadata": {},
     "output_type": "execute_result"
    }
   ],
   "source": [
    "A = [10, 15, 3, 7] \n",
    "k = 17\n",
    "two_sum(A, k)"
   ]
  },
  {
   "cell_type": "code",
   "execution_count": 10,
   "metadata": {},
   "outputs": [
    {
     "name": "stdout",
     "output_type": "stream",
     "text": [
      " returns True if there are i and j such that i != j and A[i] + A[j] = k; False otherwise \n"
     ]
    }
   ],
   "source": [
    "print two_sum.__doc__"
   ]
  },
  {
   "cell_type": "markdown",
   "metadata": {},
   "source": [
    "# All-but-one products [May 14, 2018]\n",
    "This problem was asked by Uber.\n",
    "\n",
    "Given an array of integers, return a new array such that each element at index i of the new array is the product of all the numbers in the original array except the one at i.\n",
    "\n",
    "For example, if our input was [1, 2, 3, 4, 5], the expected output would be [120, 60, 40, 30, 24]. If our input was [3, 2, 1], the expected output would be [2, 3, 6].\n",
    "\n",
    "Follow-up: what if you can't use division?"
   ]
  },
  {
   "cell_type": "markdown",
   "metadata": {},
   "source": [
    "def all_but_one_prodcut(A):\n",
    "    \"\"\" returns an array P such that P[i] is product of all A[j] such that j != i \"\"\"\n",
    "    \n",
    "    product = 1\n",
    "    for i in range(len(A)):\n",
    "        product = product*A[i]\n",
    "        \n",
    "    P = []\n",
    "    for i in range(len(A)):\n",
    "        P[i] = product / A[i]  # use list with append\n",
    "        \n",
    "    return P    "
   ]
  },
  {
   "cell_type": "code",
   "execution_count": 14,
   "metadata": {
    "collapsed": true
   },
   "outputs": [],
   "source": [
    "def all_but_one_prodcut(A):\n",
    "    \"\"\" returns an array P such that P[i] is product of all A[j] such that j != i \"\"\"\n",
    "    \n",
    "    product = 1\n",
    "    for i in range(len(A)):\n",
    "        product = product*A[i]\n",
    "        \n",
    "    P = []\n",
    "    for i in range(len(A)):\n",
    "        P.append(product / A[i])\n",
    "        \n",
    "    return P    "
   ]
  },
  {
   "cell_type": "code",
   "execution_count": 15,
   "metadata": {},
   "outputs": [
    {
     "data": {
      "text/plain": [
       "[120, 60, 40, 30, 24]"
      ]
     },
     "execution_count": 15,
     "metadata": {},
     "output_type": "execute_result"
    }
   ],
   "source": [
    "A =  [1, 2, 3, 4, 5]\n",
    "all_but_one_prodcut(A)"
   ]
  },
  {
   "cell_type": "markdown",
   "metadata": {},
   "source": [
    "def all_but_one_product_without_division(A):\n",
    "    \"\"\" returns P such that P[i] is product of all A[j] where j != i \"\"\"\n",
    "    \n",
    "    prefix = {}\n",
    "    prefix[-1] = 1\n",
    "    prefix_product = 1\n",
    "    for i in range(len(A)):\n",
    "        prefix_product = prefix_product*A[i]\n",
    "        prefix[i] = prefix_product\n",
    "        \n",
    "    suffix = {}\n",
    "    suffix[len(A)] = 1\n",
    "    suffix_product = 1\n",
    "    for j in range(len(A)-1, -1, -1):\n",
    "        suffix_product = suffix_product*A[j]\n",
    "        suffix[j] = suffix_product\n",
    "        \n",
    "    P = {}\n",
    "    for k in range(len(A)):\n",
    "        P[k] = prefix[k-1]*suffix[k+1]\n",
    "        \n",
    "    return P    \n",
    "        "
   ]
  },
  {
   "cell_type": "code",
   "execution_count": 16,
   "metadata": {
    "collapsed": true
   },
   "outputs": [],
   "source": [
    "def all_but_one_product_without_division(A):\n",
    "    \"\"\" returns P such that P[i] is product of all A[j] where j != i \"\"\"\n",
    "    \n",
    "    prefix = {}\n",
    "    prefix[-1] = 1\n",
    "    prefix_product = 1\n",
    "    for i in range(len(A)):\n",
    "        prefix_product = prefix_product*A[i]\n",
    "        prefix[i] = prefix_product\n",
    "        \n",
    "    suffix = {}\n",
    "    suffix[len(A)] = 1\n",
    "    suffix_product = 1\n",
    "    for j in range(len(A)-1, -1, -1):\n",
    "        suffix_product = suffix_product*A[j]\n",
    "        suffix[j] = suffix_product\n",
    "        \n",
    "    P = {}\n",
    "    for k in range(len(A)):\n",
    "        P[k] = prefix[k-1]*suffix[k+1]\n",
    "        \n",
    "    return P        "
   ]
  },
  {
   "cell_type": "code",
   "execution_count": 17,
   "metadata": {},
   "outputs": [
    {
     "data": {
      "text/plain": [
       "{0: 120, 1: 60, 2: 40, 3: 30, 4: 24}"
      ]
     },
     "execution_count": 17,
     "metadata": {},
     "output_type": "execute_result"
    }
   ],
   "source": [
    "all_but_one_product_without_division(A)"
   ]
  },
  {
   "cell_type": "markdown",
   "metadata": {},
   "source": [
    "# Serialization and deserializatiobn of a binary tree [May 15, 2018]\n",
    "This problem was asked by Google.\n",
    "\n",
    "Given the root to a binary tree, implement serialize(root), which serializes the tree into a string, and deserialize(s), which deserializes the string back into the tree.\n",
    "\n",
    "For example, given the following Node class\n",
    "\n",
    "class Node:\n",
    "    def __init__(self, val, left=None, right=None):\n",
    "        self.val = val\n",
    "        self.left = left\n",
    "        self.right = right\n",
    "The following test should pass:\n",
    "\n",
    "node = Node('root', Node('left', Node('left.left')), Node('right'))\n",
    "assert deserialize(serialize(node)).left.left.val == 'left.left'"
   ]
  },
  {
   "cell_type": "markdown",
   "metadata": {},
   "source": [
    "_empty = None\n",
    "_end = \"XXX\"\n",
    "\n",
    "class Node:\n",
    "    def __init__(self, val, left=None, right=None):\n",
    "        self.val = val\n",
    "        self.left = left\n",
    "        self.right = right\n",
    "        \n",
    "def serialize(binary_tree):\n",
    "    \"\"\" returns a string representing the binary tree \"\"\"\n",
    "    \n",
    "    nodes = []\n",
    "    if binary_tree == _empty:\n",
    "        return [(0, _end)]\n",
    "    else:\n",
    "        left_serial = serialize(binary_tree.left)\n",
    "        right_serial = serialize(binary_tree.right)\n",
    "        \n",
    "        left_size = left_serial[0][0]\n",
    "        right_size = right_serial[0][0]\n",
    "        \n",
    "        total_serial = [(1 + left_size + right_size, binary_tree.val)] + left_serial + right_serial\n",
    "        \n",
    "        return total_serial\n",
    "        "
   ]
  },
  {
   "cell_type": "code",
   "execution_count": 49,
   "metadata": {
    "collapsed": true
   },
   "outputs": [],
   "source": [
    "_empty = None\n",
    "\n",
    "class Node:\n",
    "    def __init__(self, val, left=None, right=None):\n",
    "        self.val = val\n",
    "        self.left = left\n",
    "        self.right = right\n",
    "            \n",
    "        \n",
    "def serialize(binary_tree):\n",
    "    \"\"\" returns a string representing the binary tree \"\"\"\n",
    "    \n",
    "    nodes = []\n",
    "    if binary_tree == _empty:\n",
    "        return []\n",
    "    else:\n",
    "        left_serial = serialize(binary_tree.left)\n",
    "        right_serial = serialize(binary_tree.right)\n",
    "        \n",
    "        left_size = len(left_serial)\n",
    "        right_size = len(right_serial)\n",
    "        \n",
    "        header = {}\n",
    "        header['size'] = 1 + left_size + right_size\n",
    "        header['left_size'] = left_size\n",
    "        header['right_size'] = right_size\n",
    "        header['val'] = binary_tree.val\n",
    "        \n",
    "        total_serial = [header] + left_serial + right_serial\n",
    "        \n",
    "        return total_serial\n",
    "def deserialize(serial):\n",
    "    \"\"\" returns a binary tree from serialized representation \"\"\"\n",
    "    \n",
    "    if len(serial) == 0:\n",
    "        return _empty\n",
    "    else:\n",
    "        header = serial[0]\n",
    "        val = header['val']\n",
    "        left_size = header['left_size']\n",
    "        right_size = header['right_size']\n",
    "        return Node(val, deserialize(serial[1: left_size+1]) , deserialize(serial[left_size+1:]))\n",
    "    \n",
    "    "
   ]
  },
  {
   "cell_type": "code",
   "execution_count": 50,
   "metadata": {},
   "outputs": [
    {
     "data": {
      "text/plain": [
       "[{'left_size': 2, 'right_size': 1, 'size': 4, 'val': 'root'},\n",
       " {'left_size': 1, 'right_size': 0, 'size': 2, 'val': 'left'},\n",
       " {'left_size': 0, 'right_size': 0, 'size': 1, 'val': 'left.left'},\n",
       " {'left_size': 0, 'right_size': 0, 'size': 1, 'val': 'right'}]"
      ]
     },
     "execution_count": 50,
     "metadata": {},
     "output_type": "execute_result"
    }
   ],
   "source": [
    "node = Node('root', Node('left', Node('left.left')), Node('right'))\n",
    "serialize(node)"
   ]
  },
  {
   "cell_type": "code",
   "execution_count": 55,
   "metadata": {
    "collapsed": true
   },
   "outputs": [],
   "source": [
    "assert deserialize(serialize(node)).left.left.val  == 'left.left'"
   ]
  },
  {
   "cell_type": "markdown",
   "metadata": {},
   "source": [
    "The \"assert\" statement in python\n",
    "- https://stackoverflow.com/questions/5142418/what-is-the-use-of-assert-in-python\n",
    "- https://www.tutorialspoint.com/python/assertions_in_python.htm"
   ]
  },
  {
   "cell_type": "code",
   "execution_count": 60,
   "metadata": {},
   "outputs": [
    {
     "name": "stdout",
     "output_type": "stream",
     "text": [
      "None\n"
     ]
    }
   ],
   "source": [
    "print deserialize(serialize(Node('one'))).right"
   ]
  },
  {
   "cell_type": "markdown",
   "metadata": {},
   "source": [
    "# Find the lowest missing positive integer  [May 16, 2018]\n",
    "This problem was asked by Stripe.\n",
    "\n",
    "Given an array of integers, find the first missing positive integer in linear time and constant space. In other words, find the lowest positive integer that does not exist in the array. The array can contain duplicates and negative numbers as well.\n",
    "\n",
    "For example, the input [3, 4, -1, 1] should give 2. The input min should give 3.\n",
    "\n",
    "You can modify the input array in-place."
   ]
  },
  {
   "cell_type": "markdown",
   "metadata": {},
   "source": [
    "_present = True\n",
    "def minimum_missing_positive(A):\n",
    "    \"\"\" returns the first missing positive integer among A[i] s \"\"\"\n",
    "    \n",
    "    prefix = {}\n",
    "    min_miss_pos = 1\n",
    "    for i in range(len(A)):\n",
    "        prefix[A[i]] = _present\n",
    "        while prefix.has_key(min_miss_pos):\n",
    "            min_miss_pos = min_miss_pos + 1\n",
    "            \n",
    "    return min_miss_pos        \n",
    "        "
   ]
  },
  {
   "cell_type": "code",
   "execution_count": 61,
   "metadata": {
    "collapsed": true
   },
   "outputs": [],
   "source": [
    "_present = True\n",
    "def minimum_missing_positive(A):\n",
    "    \"\"\" returns the first missing positive integer among A[i] s \"\"\"\n",
    "    \n",
    "    prefix = {}\n",
    "    min_miss_pos = 1\n",
    "    for i in range(len(A)):\n",
    "        prefix[A[i]] = _present\n",
    "        while prefix.has_key(min_miss_pos):\n",
    "            min_miss_pos = min_miss_pos + 1\n",
    "            \n",
    "    return min_miss_pos              "
   ]
  },
  {
   "cell_type": "code",
   "execution_count": 62,
   "metadata": {},
   "outputs": [
    {
     "data": {
      "text/plain": [
       "2"
      ]
     },
     "execution_count": 62,
     "metadata": {},
     "output_type": "execute_result"
    }
   ],
   "source": [
    "minimum_missing_positive([3, 4, -1, 1])"
   ]
  },
  {
   "cell_type": "code",
   "execution_count": 63,
   "metadata": {},
   "outputs": [
    {
     "data": {
      "text/plain": [
       "3"
      ]
     },
     "execution_count": 63,
     "metadata": {},
     "output_type": "execute_result"
    }
   ],
   "source": [
    "minimum_missing_positive([1, 2, 0])"
   ]
  },
  {
   "cell_type": "markdown",
   "metadata": {},
   "source": [
    "def separate_non_positives(A):\n",
    "    \"\"\" returns A by moving in-place non-positive elements towards the end of A \"\"\"\n",
    "    \n",
    "    begin = 0\n",
    "    end = len(A)-1\n",
    "    \n",
    "    while begin < end:\n",
    "       if A[begin] > 0:\n",
    "           begin = begin + 1\n",
    "       if A[end] <= 0:\n",
    "           end = end - 1\n",
    "       if A[begin] <= 0 and A[end] > 0:\n",
    "           temp = A[begin]\n",
    "           A[begin] = A[end]\n",
    "           A[end] = temp\n",
    "           \n",
    "    return A, begin       \n",
    "        \n",
    "            "
   ]
  },
  {
   "cell_type": "code",
   "execution_count": 82,
   "metadata": {
    "collapsed": true
   },
   "outputs": [],
   "source": [
    "def separate_non_positives(A):\n",
    "    \"\"\" returns A by moving in-place non-positive elements towards the end of A \"\"\"\n",
    "    \n",
    "    begin = 0\n",
    "    end = len(A)-1\n",
    "    \n",
    "    while begin <= end:\n",
    "        if A[begin] <= 0 and A[end] > 0:\n",
    "            temp = A[begin]\n",
    "            A[begin] = A[end]\n",
    "            A[end] = temp\n",
    "        if A[begin] > 0:\n",
    "            begin = begin + 1\n",
    "        if A[end] <= 0:\n",
    "            end = end - 1  \n",
    "                    \n",
    "    return A[:begin]                 "
   ]
  },
  {
   "cell_type": "code",
   "execution_count": 85,
   "metadata": {},
   "outputs": [
    {
     "data": {
      "text/plain": [
       "([3, 4, 1, -1], 3)"
      ]
     },
     "execution_count": 85,
     "metadata": {},
     "output_type": "execute_result"
    }
   ],
   "source": [
    "A = [3, 4, -1, 1]\n",
    "separate_non_positives(A)"
   ]
  },
  {
   "cell_type": "code",
   "execution_count": 86,
   "metadata": {},
   "outputs": [
    {
     "data": {
      "text/plain": [
       "([-1], 0)"
      ]
     },
     "execution_count": 86,
     "metadata": {},
     "output_type": "execute_result"
    }
   ],
   "source": [
    "separate_non_positives([-1])"
   ]
  },
  {
   "cell_type": "code",
   "execution_count": 45,
   "metadata": {
    "collapsed": true
   },
   "outputs": [],
   "source": [
    "def partition(A, pivot):\n",
    "    \"\"\" returns A by moving in-place non-positive elements towards the end of A \"\"\"\n",
    "    \n",
    "    begin = 0\n",
    "    end = len(A)-1\n",
    "    \n",
    "    while begin <= end:\n",
    "        \n",
    "        if A[begin] > pivot and A[end] <= pivot:\n",
    "            temp = A[begin]\n",
    "            A[begin] = A[end]\n",
    "            A[end] = temp\n",
    "            begin = begin + 1\n",
    "            end = end - 1\n",
    "        \n",
    "        if A[begin] <= pivot:\n",
    "            begin = begin + 1\n",
    "        if A[end] > pivot:\n",
    "            end = end - 1  \n",
    "            \n",
    "                    \n",
    "    return A[:begin], A[begin:]                 "
   ]
  },
  {
   "cell_type": "code",
   "execution_count": 46,
   "metadata": {},
   "outputs": [
    {
     "data": {
      "text/plain": [
       "([3, 1, 2], [5, 4])"
      ]
     },
     "execution_count": 46,
     "metadata": {},
     "output_type": "execute_result"
    }
   ],
   "source": [
    "A = [1,2,3,4,5]\n",
    "A = [5,1,2,3,4]\n",
    "partition(A, 3)"
   ]
  },
  {
   "cell_type": "code",
   "execution_count": 49,
   "metadata": {
    "collapsed": true
   },
   "outputs": [],
   "source": [
    "# A is non-negative\n",
    "def min_miss(A, offset):\n",
    "    if len(A) == 0:\n",
    "        return offset + 1\n",
    "    if len(A) == 1:\n",
    "        if A[0] == offset + 1:\n",
    "            return offset + 2\n",
    "        else:\n",
    "            return offset + 1\n",
    "    \n",
    "    begin = 0\n",
    "    end = len(A)-1\n",
    "    mid = begin + end + 1 // 2\n",
    "    \n",
    "    A_left, A_right = partition(A, mid + offset)\n",
    "    \n",
    "    \n",
    "    min_miss_left = min_miss(A_left, offset)\n",
    "    \n",
    "    if min_miss_left <= offset + len(A_left):\n",
    "        return min_miss_left\n",
    "    else: # min_miss_left = offset + len(A) + 1\n",
    "        min_miss_right = min_miss(A_right, offset + len(A_left))\n",
    "        return min_miss_right\n",
    "    \n",
    "    #return A_left, A_right\n",
    "    \n",
    "    "
   ]
  },
  {
   "cell_type": "code",
   "execution_count": 50,
   "metadata": {},
   "outputs": [
    {
     "data": {
      "text/plain": [
       "6"
      ]
     },
     "execution_count": 50,
     "metadata": {},
     "output_type": "execute_result"
    }
   ],
   "source": [
    "A = [5,1,2,3,4]\n",
    "min_miss(A, 0)"
   ]
  },
  {
   "cell_type": "code",
   "execution_count": 51,
   "metadata": {},
   "outputs": [
    {
     "data": {
      "text/plain": [
       "([3, 1, 2], [4, 5])"
      ]
     },
     "execution_count": 51,
     "metadata": {},
     "output_type": "execute_result"
    }
   ],
   "source": [
    "partition(A, 3)"
   ]
  },
  {
   "cell_type": "code",
   "execution_count": 52,
   "metadata": {},
   "outputs": [
    {
     "data": {
      "text/plain": [
       "3"
      ]
     },
     "execution_count": 52,
     "metadata": {},
     "output_type": "execute_result"
    }
   ],
   "source": [
    "min_miss([2,1], 0)"
   ]
  },
  {
   "cell_type": "code",
   "execution_count": 53,
   "metadata": {},
   "outputs": [
    {
     "data": {
      "text/plain": [
       "3"
      ]
     },
     "execution_count": 53,
     "metadata": {},
     "output_type": "execute_result"
    }
   ],
   "source": [
    "min_miss([2], 1)"
   ]
  },
  {
   "cell_type": "markdown",
   "metadata": {},
   "source": [
    "# Deconstructing a function constructor [May 17, 2018]\n",
    "This problem was asked by Jane Street.\n",
    "\n",
    "cons(a, b) constructs a pair, and car(pair) and cdr(pair) returns the first and last element of that pair. For example, car(cons(3, 4)) returns 3, and cdr(cons(3, 4)) returns 4.\n",
    "\n",
    "Given this implementation of cons:\n",
    "\n",
    "def cons(a, b):\n",
    "\n",
    "    def pair(f):\n",
    "    \n",
    "        return f(a, b)\n",
    "        \n",
    "    return pair\n",
    "    \n",
    "Implement car and cdr."
   ]
  },
  {
   "cell_type": "markdown",
   "metadata": {},
   "source": [
    "- https://realpython.com/inner-functions-what-are-they-good-for/\n",
    "- https://docs.python.org/3/library/inspect.html\n",
    "- https://stackoverflow.com/questions/582056/getting-list-of-parameter-names-inside-python-function/582193\n",
    "- https://stackoverflow.com/questions/10724495/getting-all-arguments-and-values-passed-to-a-function/23982966"
   ]
  },
  {
   "cell_type": "code",
   "execution_count": 58,
   "metadata": {
    "collapsed": true
   },
   "outputs": [],
   "source": [
    "def cons(a, b):\n",
    "    def pair(f):\n",
    "        return f(a, b)\n",
    "    return pair"
   ]
  },
  {
   "cell_type": "code",
   "execution_count": 74,
   "metadata": {
    "collapsed": true
   },
   "outputs": [],
   "source": [
    "def car(pair):\n",
    "    return pair.__code__, pair.__code__.co_varnames, pair.__defaults__"
   ]
  },
  {
   "cell_type": "code",
   "execution_count": 75,
   "metadata": {},
   "outputs": [
    {
     "name": "stdout",
     "output_type": "stream",
     "text": [
      "(<code object pair at 0x10d0bde30, file \"<ipython-input-58-707d66ad40a8>\", line 2>, ('f',), None)\n"
     ]
    }
   ],
   "source": [
    "print car(cons(1,2))"
   ]
  },
  {
   "cell_type": "code",
   "execution_count": 76,
   "metadata": {
    "collapsed": true
   },
   "outputs": [],
   "source": [
    "import inspect"
   ]
  },
  {
   "cell_type": "code",
   "execution_count": 78,
   "metadata": {},
   "outputs": [
    {
     "data": {
      "text/plain": [
       "['f']"
      ]
     },
     "execution_count": 78,
     "metadata": {},
     "output_type": "execute_result"
    }
   ],
   "source": [
    "inspect.getargspec(cons(1,2)).args"
   ]
  },
  {
   "cell_type": "code",
   "execution_count": 85,
   "metadata": {},
   "outputs": [
    {
     "data": {
      "text/plain": [
       "['a', 'b']"
      ]
     },
     "execution_count": 85,
     "metadata": {},
     "output_type": "execute_result"
    }
   ],
   "source": [
    "pair = cons(1,2)\n",
    "inspect.getargspec(cons).args\n",
    "# locals()\n",
    "#[locals()[arg] for arg in inspect.getargspec(cons).args]"
   ]
  },
  {
   "cell_type": "code",
   "execution_count": 86,
   "metadata": {},
   "outputs": [
    {
     "data": {
      "text/plain": [
       "function"
      ]
     },
     "execution_count": 86,
     "metadata": {},
     "output_type": "execute_result"
    }
   ],
   "source": [
    "type(cons(1,2))"
   ]
  },
  {
   "cell_type": "code",
   "execution_count": 87,
   "metadata": {},
   "outputs": [
    {
     "data": {
      "text/plain": [
       "1"
      ]
     },
     "execution_count": 87,
     "metadata": {},
     "output_type": "execute_result"
    }
   ],
   "source": [
    "def first(a,b):\n",
    "    return a\n",
    "def second(a,b):\n",
    "    return b\n",
    "\n",
    "cons(1,2)(first)"
   ]
  },
  {
   "cell_type": "code",
   "execution_count": 88,
   "metadata": {},
   "outputs": [
    {
     "data": {
      "text/plain": [
       "2"
      ]
     },
     "execution_count": 88,
     "metadata": {},
     "output_type": "execute_result"
    }
   ],
   "source": [
    "cons(1,2)(second)"
   ]
  },
  {
   "cell_type": "code",
   "execution_count": 89,
   "metadata": {
    "collapsed": true
   },
   "outputs": [],
   "source": [
    "def car(pair):\n",
    "    return pair(first)\n",
    "def cdr(pair):\n",
    "    return pair(second)"
   ]
  },
  {
   "cell_type": "code",
   "execution_count": 90,
   "metadata": {},
   "outputs": [
    {
     "data": {
      "text/plain": [
       "1"
      ]
     },
     "execution_count": 90,
     "metadata": {},
     "output_type": "execute_result"
    }
   ],
   "source": [
    "car(cons(1,2))"
   ]
  },
  {
   "cell_type": "code",
   "execution_count": 91,
   "metadata": {},
   "outputs": [
    {
     "data": {
      "text/plain": [
       "2"
      ]
     },
     "execution_count": 91,
     "metadata": {},
     "output_type": "execute_result"
    }
   ],
   "source": [
    "cdr(cons(1,2))"
   ]
  },
  {
   "cell_type": "markdown",
   "metadata": {},
   "source": [
    "# XOR linked list [May 18, 2018]\n",
    "\n",
    "This problem was asked by Google.\n",
    "\n",
    "An XOR linked list is a more memory efficient doubly linked list. Instead of each node holding next and prev fields, it holds a field named both, which is an XOR of the next node and the previous node. Implement an XOR linked list; it has an add(element) which adds the element to the end, and a get(index) which returns the node at index.\n",
    "\n",
    "If using a language that has no pointers (such as Python), you can assume you have access to get_pointer and dereference_pointer functions that converts between nodes and memory addresses."
   ]
  },
  {
   "cell_type": "markdown",
   "metadata": {},
   "source": [
    "0  a1 (a0)\n",
    "a0 a2 (a1)\n",
    "a1 a3 (a2)\n",
    "a2 a4 (a3)"
   ]
  },
  {
   "cell_type": "code",
   "execution_count": null,
   "metadata": {
    "collapsed": true
   },
   "outputs": [],
   "source": [
    "_zero = 0\n",
    "\n",
    "class Node:\n",
    "    def __init__(self, val, both):\n",
    "        self.val = val\n",
    "        self.both = both\n",
    "        \n",
    "class DoublyLinkedList:\n",
    "    def __init__(self, first, last):\n",
    "        self.first = first\n",
    "        self.last = last\n",
    "        \n",
    "    def is_empty(self):\n",
    "        if self.first == _zero:\n",
    "            return True\n",
    "        else:\n",
    "            return False\n",
    "        \n",
    "    def add(self, val):\n",
    "        a = Node(val, _zero)\n",
    "        if self.is_empty():\n",
    "            self.first = get_pointer(a)\n",
    "            self.last = get_pointer(a)\n",
    "            return self\n",
    "        \n",
    "        last_node = dereference_pointer(self.last)\n",
    "        last_node.both = XOR(last_node.both, dereference_pointer(a))\n",
    "        \n",
    "        return self\n",
    "        \n",
    "    def get(self, index):\n",
    "        crnt = self.first\n",
    "        prv = _zero\n",
    "        \n",
    "        for i in range(index):\n",
    "            nxt = XOR(prev, dereference_pointer(crnt).both) \n",
    "            prv = crnt\n",
    "            crnt = nxt\n",
    "            \n",
    "        return nxt           "
   ]
  },
  {
   "cell_type": "markdown",
   "metadata": {},
   "source": [
    "referencing and dereferencing in python\n",
    "- https://www.quora.com/What-is-the-pointer-in-Python-Does-a-pointer-exist-in-Python\n",
    "- https://stackoverflow.com/questions/15011674/is-it-possible-to-dereference-variable-ids"
   ]
  },
  {
   "cell_type": "markdown",
   "metadata": {},
   "source": [
    "# Count the number of decodings [May 19, 2018]\n",
    "This problem was asked by Facebook.\n",
    "\n",
    "Given the mapping a = 1, b = 2, ... z = 26, and an encoded message, count the number of ways it can be decoded.\n",
    "\n",
    "For example, the message '111' would give 3, since it could be decoded as 'aaa', 'ka', and 'ak'.\n",
    "\n",
    "You can assume that the messages are decodable. For example, '001' is not allowed."
   ]
  },
  {
   "cell_type": "code",
   "execution_count": 102,
   "metadata": {
    "collapsed": true
   },
   "outputs": [],
   "source": [
    "int_to_char = {1: 'a', 2: 'b', 3: 'c', 4: 'd', 5: 'e', 6: 'f', 7: 'g', 8: 'h', 9: 'i', 10: 'j', 11: 'k', 12: 'l', 13: 'm'}\n",
    "\n",
    "def count_decodings(encrypted_message):\n",
    "    em = encrypted_message\n",
    "    count = 1\n",
    "    prev_count = 1\n",
    "    prev_digit = 0\n",
    "    \n",
    "    if len(em) == 1:\n",
    "        return count\n",
    "    \n",
    "    for i in range(1, len(em)):\n",
    "        prev_digit = int(em[i-1])\n",
    "        current_digit = int(em[i])\n",
    "        if int_to_char.has_key(10*prev_digit + current_digit):\n",
    "            temp = count\n",
    "            count = count + prev_count \n",
    "            prev_count = temp\n",
    "            \n",
    "    return count      "
   ]
  },
  {
   "cell_type": "code",
   "execution_count": 104,
   "metadata": {},
   "outputs": [
    {
     "data": {
      "text/plain": [
       "2"
      ]
     },
     "execution_count": 104,
     "metadata": {},
     "output_type": "execute_result"
    }
   ],
   "source": [
    "count_decodings(\"122\")"
   ]
  },
  {
   "cell_type": "markdown",
   "metadata": {},
   "source": [
    "# Count the number of unival trees [May 20, 2018]\n",
    "\n",
    "This problem was asked by Google.\n",
    "\n",
    "A unival tree (which stands for \"universal value\") is a tree where all nodes under it have the same value.\n",
    "\n",
    "Given the root to a binary tree, count the number of unival subtrees.\n",
    "\n",
    "For example, the following tree has 5 unival subtrees:\n",
    "\n",
    "\n",
    "   0\n",
    "  / \\\n",
    " 1   0\n",
    "    / \\\n",
    "   1   0\n",
    "  / \\\n",
    " 1   1"
   ]
  },
  {
   "cell_type": "code",
   "execution_count": 4,
   "metadata": {
    "collapsed": true
   },
   "outputs": [],
   "source": [
    "class Node:\n",
    "    def __init__(self, val, left=None, right=None):\n",
    "        self.val = val\n",
    "        self.left = left\n",
    "        self.right = right\n",
    "        \n",
    "    \n",
    "def count_unival_subtrees(root_node):\n",
    "    count_zero = 0\n",
    "    count_one = 0\n",
    "    is_all_zero = True\n",
    "    is_all_one = True\n",
    "    \n",
    "    if root_node == None:\n",
    "        return count_zero, count_one, is_all_zero, is_all_one\n",
    "    \n",
    "    left_zero, left_one, left_is_all_zero, left_is_all_one = count_unival_subtrees(root_node.left)\n",
    "    right_zero, right_one, right_is_all_zero, right_is_all_one = count_unival_subtrees(root_node.right)\n",
    "    \n",
    "    plus_one = 0\n",
    "    plus_zero = 0\n",
    "    \n",
    "    if root_node.val == 1 and left_is_all_one and right_is_all_one:\n",
    "        plus_one = 1\n",
    "        is_all_one = True\n",
    "    else:\n",
    "        is_all_one = False\n",
    "        \n",
    "    if root_node.val == 0 and left_is_all_zero and right_is_all_zero:\n",
    "        plus_zero = 1\n",
    "        is_all_zero = True\n",
    "    else:\n",
    "        is_all_zero = False\n",
    "        \n",
    "    return left_zero + right_zero + plus_zero,  left_one + right_one + plus_one, is_all_zero, is_all_one \n",
    "        "
   ]
  },
  {
   "cell_type": "code",
   "execution_count": 5,
   "metadata": {
    "collapsed": true
   },
   "outputs": [],
   "source": [
    "tree = Node(0, Node(1), Node(0, Node(1, Node(1), Node(1)), Node(0)))"
   ]
  },
  {
   "cell_type": "code",
   "execution_count": 6,
   "metadata": {},
   "outputs": [
    {
     "data": {
      "text/plain": [
       "(1, 4, False, False)"
      ]
     },
     "execution_count": 6,
     "metadata": {},
     "output_type": "execute_result"
    }
   ],
   "source": [
    "count_unival_subtrees(tree)"
   ]
  },
  {
   "cell_type": "markdown",
   "metadata": {
    "collapsed": true
   },
   "source": [
    "# Max sum of non-adjacent numbers [May 21, 2018]\n",
    "\n",
    "This problem was asked by Airbnb.\n",
    "\n",
    "Given a list of integers, write a function that returns the largest sum of non-adjacent numbers. Numbers can be 0 or negative.\n",
    "\n",
    "For example, [2, 4, 6, 8] should return 12, since we pick 4 and 8. [5, 1, 1, 5] should return 10, since we pick 5 and 5.\n",
    "\n",
    "Follow-up: Can you do this in O(N) time and constant space?\n",
    "\n"
   ]
  },
  {
   "cell_type": "code",
   "execution_count": 1,
   "metadata": {
    "collapsed": true
   },
   "outputs": [],
   "source": [
    "def max_non_adj(A):\n",
    "    if len(A) <= 2:\n",
    "        return max(A)\n",
    "    \n",
    "    current = max(A[0], A[1])\n",
    "    prev = A[0]\n",
    "    \n",
    "    for i in range(2, len(A)):\n",
    "        new = max(A[i] + prev, current)\n",
    "        prev = current\n",
    "        current = new\n",
    "        \n",
    "    return current    "
   ]
  },
  {
   "cell_type": "code",
   "execution_count": 2,
   "metadata": {},
   "outputs": [
    {
     "data": {
      "text/plain": [
       "12"
      ]
     },
     "execution_count": 2,
     "metadata": {},
     "output_type": "execute_result"
    }
   ],
   "source": [
    "max_non_adj([2, 4, 6, 8])"
   ]
  },
  {
   "cell_type": "code",
   "execution_count": 3,
   "metadata": {},
   "outputs": [
    {
     "data": {
      "text/plain": [
       "10"
      ]
     },
     "execution_count": 3,
     "metadata": {},
     "output_type": "execute_result"
    }
   ],
   "source": [
    "max_non_adj([5, 1, 1, 5])"
   ]
  },
  {
   "cell_type": "markdown",
   "metadata": {
    "collapsed": true
   },
   "source": [
    "# Job scheduler [May 22, 2018]\n",
    "\n",
    "This problem was asked by Apple.\n",
    "\n",
    "Implement a job scheduler which takes in a function f and an integer n, and calls f after n milliseconds.\n",
    "\n"
   ]
  },
  {
   "cell_type": "code",
   "execution_count": 10,
   "metadata": {
    "collapsed": true
   },
   "outputs": [],
   "source": [
    "from time import time, sleep\n",
    "\n",
    "def schedule(f, n, *args, **kwargs):\n",
    "    \"\"\" executes f after n seconds and returns the answer \"\"\"\n",
    "    sleep(n)\n",
    "    return f(*args, **kwargs)\n",
    "    "
   ]
  },
  {
   "cell_type": "code",
   "execution_count": 11,
   "metadata": {
    "collapsed": true
   },
   "outputs": [],
   "source": [
    "def fun(x):\n",
    "    return x*x"
   ]
  },
  {
   "cell_type": "code",
   "execution_count": 14,
   "metadata": {},
   "outputs": [
    {
     "data": {
      "text/plain": [
       "100"
      ]
     },
     "execution_count": 14,
     "metadata": {},
     "output_type": "execute_result"
    }
   ],
   "source": [
    "schedule(fun, 10, 10)"
   ]
  },
  {
   "cell_type": "markdown",
   "metadata": {},
   "source": [
    " https://github.com/dbader/schedule"
   ]
  },
  {
   "cell_type": "markdown",
   "metadata": {},
   "source": [
    "# Autocomplete [May 23, 2018]\n",
    "\n",
    "This problem was asked by Twitter.\n",
    "\n",
    "Implement an autocomplete system. That is, given a query string s and a set of all possible query strings, return all strings in the set that have s as a prefix.\n",
    "\n",
    "For example, given the query string de and the set of strings [dog, deer, deal], return [deer, deal].\n",
    "\n",
    "Hint: Try preprocessing the dictionary into a more efficient data structure to speed up queries."
   ]
  }
 ],
 "metadata": {
  "kernelspec": {
   "display_name": "Python 2",
   "language": "python",
   "name": "python2"
  },
  "language_info": {
   "codemirror_mode": {
    "name": "ipython",
    "version": 2
   },
   "file_extension": ".py",
   "mimetype": "text/x-python",
   "name": "python",
   "nbconvert_exporter": "python",
   "pygments_lexer": "ipython2",
   "version": "2.7.13"
  }
 },
 "nbformat": 4,
 "nbformat_minor": 2
}
