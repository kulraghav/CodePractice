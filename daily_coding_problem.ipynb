{
 "cells": [
  {
   "cell_type": "markdown",
   "metadata": {
    "collapsed": true
   },
   "source": [
    "# Big thanks to founders@dailycodingproblem.com"
   ]
  },
  {
   "cell_type": "markdown",
   "metadata": {},
   "source": [
    "# Two-sum [May 13, 2018] \n",
    "\n",
    "Given a list of numbers, return whether any two sums to k.\n",
    "\n",
    "For example, given [10, 15, 3, 7] and k of 17, return true since 10 + 7 is 17.\n",
    "\n",
    "Bonus: Can you do this in one pass?"
   ]
  },
  {
   "cell_type": "markdown",
   "metadata": {},
   "source": [
    "_present = 1\n",
    "def two_sum(A, k):\n",
    "    \"\"\" returns True if there are i and j such that i != j and A[i] + A[j] = k; False otherwise \"\"\"\n",
    "    prefix = {}\n",
    "    for i in range(len(A)):\n",
    "        if prefix.has_key(k-A[i]):\n",
    "            return True\n",
    "        else:\n",
    "            prefix[A[i]] = _present\n",
    "    return False        "
   ]
  },
  {
   "cell_type": "code",
   "execution_count": 8,
   "metadata": {
    "collapsed": true
   },
   "outputs": [],
   "source": [
    "_present = 1\n",
    "def two_sum(A, k):\n",
    "    \"\"\" returns True if there are i and j such that i != j and A[i] + A[j] = k; False otherwise \"\"\"\n",
    "    prefix = {}\n",
    "    for i in range(len(A)):\n",
    "        if prefix.has_key(k-A[i]):\n",
    "            return True\n",
    "        else:\n",
    "            prefix[A[i]] = _present\n",
    "    return False        "
   ]
  },
  {
   "cell_type": "code",
   "execution_count": 9,
   "metadata": {},
   "outputs": [
    {
     "data": {
      "text/plain": [
       "True"
      ]
     },
     "execution_count": 9,
     "metadata": {},
     "output_type": "execute_result"
    }
   ],
   "source": [
    "A = [10, 15, 3, 7] \n",
    "k = 17\n",
    "two_sum(A, k)"
   ]
  },
  {
   "cell_type": "code",
   "execution_count": 10,
   "metadata": {},
   "outputs": [
    {
     "name": "stdout",
     "output_type": "stream",
     "text": [
      " returns True if there are i and j such that i != j and A[i] + A[j] = k; False otherwise \n"
     ]
    }
   ],
   "source": [
    "print two_sum.__doc__"
   ]
  },
  {
   "cell_type": "markdown",
   "metadata": {},
   "source": [
    "# All-but-one products [May 14, 2018]\n",
    "This problem was asked by Uber.\n",
    "\n",
    "Given an array of integers, return a new array such that each element at index i of the new array is the product of all the numbers in the original array except the one at i.\n",
    "\n",
    "For example, if our input was [1, 2, 3, 4, 5], the expected output would be [120, 60, 40, 30, 24]. If our input was [3, 2, 1], the expected output would be [2, 3, 6].\n",
    "\n",
    "Follow-up: what if you can't use division?"
   ]
  },
  {
   "cell_type": "markdown",
   "metadata": {},
   "source": [
    "def all_but_one_prodcut(A):\n",
    "    \"\"\" returns an array P such that P[i] is product of all A[j] such that j != i \"\"\"\n",
    "    \n",
    "    product = 1\n",
    "    for i in range(len(A)):\n",
    "        product = product*A[i]\n",
    "        \n",
    "    P = []\n",
    "    for i in range(len(A)):\n",
    "        P[i] = product / A[i]  # use list with append\n",
    "        \n",
    "    return P    "
   ]
  },
  {
   "cell_type": "code",
   "execution_count": 14,
   "metadata": {
    "collapsed": true
   },
   "outputs": [],
   "source": [
    "def all_but_one_prodcut(A):\n",
    "    \"\"\" returns an array P such that P[i] is product of all A[j] such that j != i \"\"\"\n",
    "    \n",
    "    product = 1\n",
    "    for i in range(len(A)):\n",
    "        product = product*A[i]\n",
    "        \n",
    "    P = []\n",
    "    for i in range(len(A)):\n",
    "        P.append(product / A[i])\n",
    "        \n",
    "    return P    "
   ]
  },
  {
   "cell_type": "code",
   "execution_count": 15,
   "metadata": {},
   "outputs": [
    {
     "data": {
      "text/plain": [
       "[120, 60, 40, 30, 24]"
      ]
     },
     "execution_count": 15,
     "metadata": {},
     "output_type": "execute_result"
    }
   ],
   "source": [
    "A =  [1, 2, 3, 4, 5]\n",
    "all_but_one_prodcut(A)"
   ]
  },
  {
   "cell_type": "markdown",
   "metadata": {},
   "source": [
    "def all_but_one_product_without_division(A):\n",
    "    \"\"\" returns P such that P[i] is product of all A[j] where j != i \"\"\"\n",
    "    \n",
    "    prefix = {}\n",
    "    prefix[-1] = 1\n",
    "    prefix_product = 1\n",
    "    for i in range(len(A)):\n",
    "        prefix_product = prefix_product*A[i]\n",
    "        prefix[i] = prefix_product\n",
    "        \n",
    "    suffix = {}\n",
    "    suffix[len(A)] = 1\n",
    "    suffix_product = 1\n",
    "    for j in range(len(A)-1, -1, -1):\n",
    "        suffix_product = suffix_product*A[j]\n",
    "        suffix[j] = suffix_product\n",
    "        \n",
    "    P = {}\n",
    "    for k in range(len(A)):\n",
    "        P[k] = prefix[k-1]*suffix[k+1]\n",
    "        \n",
    "    return P    \n",
    "        "
   ]
  },
  {
   "cell_type": "code",
   "execution_count": 16,
   "metadata": {
    "collapsed": true
   },
   "outputs": [],
   "source": [
    "def all_but_one_product_without_division(A):\n",
    "    \"\"\" returns P such that P[i] is product of all A[j] where j != i \"\"\"\n",
    "    \n",
    "    prefix = {}\n",
    "    prefix[-1] = 1\n",
    "    prefix_product = 1\n",
    "    for i in range(len(A)):\n",
    "        prefix_product = prefix_product*A[i]\n",
    "        prefix[i] = prefix_product\n",
    "        \n",
    "    suffix = {}\n",
    "    suffix[len(A)] = 1\n",
    "    suffix_product = 1\n",
    "    for j in range(len(A)-1, -1, -1):\n",
    "        suffix_product = suffix_product*A[j]\n",
    "        suffix[j] = suffix_product\n",
    "        \n",
    "    P = {}\n",
    "    for k in range(len(A)):\n",
    "        P[k] = prefix[k-1]*suffix[k+1]\n",
    "        \n",
    "    return P        "
   ]
  },
  {
   "cell_type": "code",
   "execution_count": 17,
   "metadata": {},
   "outputs": [
    {
     "data": {
      "text/plain": [
       "{0: 120, 1: 60, 2: 40, 3: 30, 4: 24}"
      ]
     },
     "execution_count": 17,
     "metadata": {},
     "output_type": "execute_result"
    }
   ],
   "source": [
    "all_but_one_product_without_division(A)"
   ]
  },
  {
   "cell_type": "markdown",
   "metadata": {},
   "source": [
    "# Serialization and deserializatiobn of a binary tree [May 15, 2018]\n",
    "This problem was asked by Google.\n",
    "\n",
    "Given the root to a binary tree, implement serialize(root), which serializes the tree into a string, and deserialize(s), which deserializes the string back into the tree.\n",
    "\n",
    "For example, given the following Node class\n",
    "\n",
    "class Node:\n",
    "    def __init__(self, val, left=None, right=None):\n",
    "        self.val = val\n",
    "        self.left = left\n",
    "        self.right = right\n",
    "The following test should pass:\n",
    "\n",
    "node = Node('root', Node('left', Node('left.left')), Node('right'))\n",
    "assert deserialize(serialize(node)).left.left.val == 'left.left'"
   ]
  },
  {
   "cell_type": "markdown",
   "metadata": {},
   "source": [
    "_empty = None\n",
    "_end = \"XXX\"\n",
    "\n",
    "class Node:\n",
    "    def __init__(self, val, left=None, right=None):\n",
    "        self.val = val\n",
    "        self.left = left\n",
    "        self.right = right\n",
    "        \n",
    "def serialize(binary_tree):\n",
    "    \"\"\" returns a string representing the binary tree \"\"\"\n",
    "    \n",
    "    nodes = []\n",
    "    if binary_tree == _empty:\n",
    "        return [(0, _end)]\n",
    "    else:\n",
    "        left_serial = serialize(binary_tree.left)\n",
    "        right_serial = serialize(binary_tree.right)\n",
    "        \n",
    "        left_size = left_serial[0][0]\n",
    "        right_size = right_serial[0][0]\n",
    "        \n",
    "        total_serial = [(1 + left_size + right_size, binary_tree.val)] + left_serial + right_serial\n",
    "        \n",
    "        return total_serial\n",
    "        "
   ]
  },
  {
   "cell_type": "code",
   "execution_count": 49,
   "metadata": {
    "collapsed": true
   },
   "outputs": [],
   "source": [
    "_empty = None\n",
    "\n",
    "class Node:\n",
    "    def __init__(self, val, left=None, right=None):\n",
    "        self.val = val\n",
    "        self.left = left\n",
    "        self.right = right\n",
    "            \n",
    "        \n",
    "def serialize(binary_tree):\n",
    "    \"\"\" returns a string representing the binary tree \"\"\"\n",
    "    \n",
    "    nodes = []\n",
    "    if binary_tree == _empty:\n",
    "        return []\n",
    "    else:\n",
    "        left_serial = serialize(binary_tree.left)\n",
    "        right_serial = serialize(binary_tree.right)\n",
    "        \n",
    "        left_size = len(left_serial)\n",
    "        right_size = len(right_serial)\n",
    "        \n",
    "        header = {}\n",
    "        header['size'] = 1 + left_size + right_size\n",
    "        header['left_size'] = left_size\n",
    "        header['right_size'] = right_size\n",
    "        header['val'] = binary_tree.val\n",
    "        \n",
    "        total_serial = [header] + left_serial + right_serial\n",
    "        \n",
    "        return total_serial\n",
    "def deserialize(serial):\n",
    "    \"\"\" returns a binary tree from serialized representation \"\"\"\n",
    "    \n",
    "    if len(serial) == 0:\n",
    "        return _empty\n",
    "    else:\n",
    "        header = serial[0]\n",
    "        val = header['val']\n",
    "        left_size = header['left_size']\n",
    "        right_size = header['right_size']\n",
    "        return Node(val, deserialize(serial[1: left_size+1]) , deserialize(serial[left_size+1:]))\n",
    "    \n",
    "    "
   ]
  },
  {
   "cell_type": "code",
   "execution_count": 50,
   "metadata": {},
   "outputs": [
    {
     "data": {
      "text/plain": [
       "[{'left_size': 2, 'right_size': 1, 'size': 4, 'val': 'root'},\n",
       " {'left_size': 1, 'right_size': 0, 'size': 2, 'val': 'left'},\n",
       " {'left_size': 0, 'right_size': 0, 'size': 1, 'val': 'left.left'},\n",
       " {'left_size': 0, 'right_size': 0, 'size': 1, 'val': 'right'}]"
      ]
     },
     "execution_count": 50,
     "metadata": {},
     "output_type": "execute_result"
    }
   ],
   "source": [
    "node = Node('root', Node('left', Node('left.left')), Node('right'))\n",
    "serialize(node)"
   ]
  },
  {
   "cell_type": "code",
   "execution_count": 55,
   "metadata": {
    "collapsed": true
   },
   "outputs": [],
   "source": [
    "assert deserialize(serialize(node)).left.left.val  == 'left.left'"
   ]
  },
  {
   "cell_type": "markdown",
   "metadata": {},
   "source": [
    "The \"assert\" statement in python\n",
    "- https://stackoverflow.com/questions/5142418/what-is-the-use-of-assert-in-python\n",
    "- https://www.tutorialspoint.com/python/assertions_in_python.htm"
   ]
  },
  {
   "cell_type": "code",
   "execution_count": 60,
   "metadata": {},
   "outputs": [
    {
     "name": "stdout",
     "output_type": "stream",
     "text": [
      "None\n"
     ]
    }
   ],
   "source": [
    "print deserialize(serialize(Node('one'))).right"
   ]
  },
  {
   "cell_type": "markdown",
   "metadata": {},
   "source": [
    "# Find the lowest missing positive integer  [May 16, 2018]\n",
    "This problem was asked by Stripe.\n",
    "\n",
    "Given an array of integers, find the first missing positive integer in linear time and constant space. In other words, find the lowest positive integer that does not exist in the array. The array can contain duplicates and negative numbers as well.\n",
    "\n",
    "For example, the input [3, 4, -1, 1] should give 2. The input min should give 3.\n",
    "\n",
    "You can modify the input array in-place."
   ]
  },
  {
   "cell_type": "markdown",
   "metadata": {},
   "source": [
    "_present = True\n",
    "def minimum_missing_positive(A):\n",
    "    \"\"\" returns the first missing positive integer among A[i] s \"\"\"\n",
    "    \n",
    "    prefix = {}\n",
    "    min_miss_pos = 1\n",
    "    for i in range(len(A)):\n",
    "        prefix[A[i]] = _present\n",
    "        while prefix.has_key(min_miss_pos):\n",
    "            min_miss_pos = min_miss_pos + 1\n",
    "            \n",
    "    return min_miss_pos        \n",
    "        "
   ]
  },
  {
   "cell_type": "code",
   "execution_count": 61,
   "metadata": {
    "collapsed": true
   },
   "outputs": [],
   "source": [
    "_present = True\n",
    "def minimum_missing_positive(A):\n",
    "    \"\"\" returns the first missing positive integer among A[i] s \"\"\"\n",
    "    \n",
    "    prefix = {}\n",
    "    min_miss_pos = 1\n",
    "    for i in range(len(A)):\n",
    "        prefix[A[i]] = _present\n",
    "        while prefix.has_key(min_miss_pos):\n",
    "            min_miss_pos = min_miss_pos + 1\n",
    "            \n",
    "    return min_miss_pos              "
   ]
  },
  {
   "cell_type": "code",
   "execution_count": 62,
   "metadata": {},
   "outputs": [
    {
     "data": {
      "text/plain": [
       "2"
      ]
     },
     "execution_count": 62,
     "metadata": {},
     "output_type": "execute_result"
    }
   ],
   "source": [
    "minimum_missing_positive([3, 4, -1, 1])"
   ]
  },
  {
   "cell_type": "code",
   "execution_count": 63,
   "metadata": {},
   "outputs": [
    {
     "data": {
      "text/plain": [
       "3"
      ]
     },
     "execution_count": 63,
     "metadata": {},
     "output_type": "execute_result"
    }
   ],
   "source": [
    "minimum_missing_positive([1, 2, 0])"
   ]
  },
  {
   "cell_type": "markdown",
   "metadata": {},
   "source": [
    "def separate_non_positives(A):\n",
    "    \"\"\" returns A by moving in-place non-positive elements towards the end of A \"\"\"\n",
    "    \n",
    "    begin = 0\n",
    "    end = len(A)-1\n",
    "    \n",
    "    while begin < end:\n",
    "       if A[begin] > 0:\n",
    "           begin = begin + 1\n",
    "       if A[end] <= 0:\n",
    "           end = end - 1\n",
    "       if A[begin] <= 0 and A[end] > 0:\n",
    "           temp = A[begin]\n",
    "           A[begin] = A[end]\n",
    "           A[end] = temp\n",
    "           \n",
    "    return A, begin       \n",
    "        \n",
    "            "
   ]
  },
  {
   "cell_type": "code",
   "execution_count": 82,
   "metadata": {
    "collapsed": true
   },
   "outputs": [],
   "source": [
    "def separate_non_positives(A):\n",
    "    \"\"\" returns A by moving in-place non-positive elements towards the end of A \"\"\"\n",
    "    \n",
    "    begin = 0\n",
    "    end = len(A)-1\n",
    "    \n",
    "    while begin <= end:\n",
    "        if A[begin] <= 0 and A[end] > 0:\n",
    "            temp = A[begin]\n",
    "            A[begin] = A[end]\n",
    "            A[end] = temp\n",
    "        if A[begin] > 0:\n",
    "            begin = begin + 1\n",
    "        if A[end] <= 0:\n",
    "            end = end - 1  \n",
    "                    \n",
    "    return A[:begin]                 "
   ]
  },
  {
   "cell_type": "code",
   "execution_count": 85,
   "metadata": {},
   "outputs": [
    {
     "data": {
      "text/plain": [
       "([3, 4, 1, -1], 3)"
      ]
     },
     "execution_count": 85,
     "metadata": {},
     "output_type": "execute_result"
    }
   ],
   "source": [
    "A = [3, 4, -1, 1]\n",
    "separate_non_positives(A)"
   ]
  },
  {
   "cell_type": "code",
   "execution_count": 86,
   "metadata": {},
   "outputs": [
    {
     "data": {
      "text/plain": [
       "([-1], 0)"
      ]
     },
     "execution_count": 86,
     "metadata": {},
     "output_type": "execute_result"
    }
   ],
   "source": [
    "separate_non_positives([-1])"
   ]
  },
  {
   "cell_type": "code",
   "execution_count": 45,
   "metadata": {
    "collapsed": true
   },
   "outputs": [],
   "source": [
    "def partition(A, pivot):\n",
    "    \"\"\" returns A by moving in-place non-positive elements towards the end of A \"\"\"\n",
    "    \n",
    "    begin = 0\n",
    "    end = len(A)-1\n",
    "    \n",
    "    while begin <= end:\n",
    "        \n",
    "        if A[begin] > pivot and A[end] <= pivot:\n",
    "            temp = A[begin]\n",
    "            A[begin] = A[end]\n",
    "            A[end] = temp\n",
    "            begin = begin + 1\n",
    "            end = end - 1\n",
    "        \n",
    "        if A[begin] <= pivot:\n",
    "            begin = begin + 1\n",
    "            \n",
    "        if A[end] > pivot:\n",
    "            end = end - 1  \n",
    "            \n",
    "                    \n",
    "    return A[:begin], A[begin:]                 "
   ]
  },
  {
   "cell_type": "code",
   "execution_count": 46,
   "metadata": {},
   "outputs": [
    {
     "data": {
      "text/plain": [
       "([3, 1, 2], [5, 4])"
      ]
     },
     "execution_count": 46,
     "metadata": {},
     "output_type": "execute_result"
    }
   ],
   "source": [
    "A = [1,2,3,4,5]\n",
    "A = [5,1,2,3,4]\n",
    "partition(A, 3)"
   ]
  },
  {
   "cell_type": "code",
   "execution_count": 49,
   "metadata": {
    "collapsed": true
   },
   "outputs": [],
   "source": [
    "# A is non-negative\n",
    "def min_miss(A, offset):\n",
    "    if len(A) == 0:\n",
    "        return offset + 1\n",
    "    if len(A) == 1:\n",
    "        if A[0] == offset + 1:\n",
    "            return offset + 2\n",
    "        else:\n",
    "            return offset + 1\n",
    "    \n",
    "    begin = 0\n",
    "    end = len(A)-1\n",
    "    mid = begin + end + 1 // 2\n",
    "    \n",
    "    A_left, A_right = partition(A, mid + offset)\n",
    "    \n",
    "    \n",
    "    min_miss_left = min_miss(A_left, offset)\n",
    "    \n",
    "    if min_miss_left <= offset + len(A_left):\n",
    "        return min_miss_left\n",
    "    else: # min_miss_left = offset + len(A) + 1\n",
    "        min_miss_right = min_miss(A_right, offset + len(A_left))\n",
    "        return min_miss_right\n",
    "    \n",
    "    #return A_left, A_right\n",
    "    \n",
    "    "
   ]
  },
  {
   "cell_type": "code",
   "execution_count": 50,
   "metadata": {},
   "outputs": [
    {
     "data": {
      "text/plain": [
       "6"
      ]
     },
     "execution_count": 50,
     "metadata": {},
     "output_type": "execute_result"
    }
   ],
   "source": [
    "A = [5,1,2,3,4]\n",
    "min_miss(A, 0)"
   ]
  },
  {
   "cell_type": "code",
   "execution_count": 51,
   "metadata": {},
   "outputs": [
    {
     "data": {
      "text/plain": [
       "([3, 1, 2], [4, 5])"
      ]
     },
     "execution_count": 51,
     "metadata": {},
     "output_type": "execute_result"
    }
   ],
   "source": [
    "partition(A, 3)"
   ]
  },
  {
   "cell_type": "code",
   "execution_count": 52,
   "metadata": {},
   "outputs": [
    {
     "data": {
      "text/plain": [
       "3"
      ]
     },
     "execution_count": 52,
     "metadata": {},
     "output_type": "execute_result"
    }
   ],
   "source": [
    "min_miss([2,1], 0)"
   ]
  },
  {
   "cell_type": "code",
   "execution_count": 53,
   "metadata": {},
   "outputs": [
    {
     "data": {
      "text/plain": [
       "3"
      ]
     },
     "execution_count": 53,
     "metadata": {},
     "output_type": "execute_result"
    }
   ],
   "source": [
    "min_miss([2], 1)"
   ]
  },
  {
   "cell_type": "markdown",
   "metadata": {},
   "source": [
    "# Deconstructing a function constructor [May 17, 2018]\n",
    "This problem was asked by Jane Street.\n",
    "\n",
    "cons(a, b) constructs a pair, and car(pair) and cdr(pair) returns the first and last element of that pair. For example, car(cons(3, 4)) returns 3, and cdr(cons(3, 4)) returns 4.\n",
    "\n",
    "Given this implementation of cons:\n",
    "\n",
    "def cons(a, b):\n",
    "\n",
    "    def pair(f):\n",
    "    \n",
    "        return f(a, b)\n",
    "        \n",
    "    return pair\n",
    "    \n",
    "Implement car and cdr."
   ]
  },
  {
   "cell_type": "markdown",
   "metadata": {},
   "source": [
    "- https://realpython.com/inner-functions-what-are-they-good-for/\n",
    "- https://docs.python.org/3/library/inspect.html\n",
    "- https://stackoverflow.com/questions/582056/getting-list-of-parameter-names-inside-python-function/582193\n",
    "- https://stackoverflow.com/questions/10724495/getting-all-arguments-and-values-passed-to-a-function/23982966"
   ]
  },
  {
   "cell_type": "code",
   "execution_count": 58,
   "metadata": {
    "collapsed": true
   },
   "outputs": [],
   "source": [
    "def cons(a, b):\n",
    "    def pair(f):\n",
    "        return f(a, b)\n",
    "    return pair"
   ]
  },
  {
   "cell_type": "code",
   "execution_count": 74,
   "metadata": {
    "collapsed": true
   },
   "outputs": [],
   "source": [
    "def car(pair):\n",
    "    return pair.__code__, pair.__code__.co_varnames, pair.__defaults__"
   ]
  },
  {
   "cell_type": "code",
   "execution_count": 75,
   "metadata": {},
   "outputs": [
    {
     "name": "stdout",
     "output_type": "stream",
     "text": [
      "(<code object pair at 0x10d0bde30, file \"<ipython-input-58-707d66ad40a8>\", line 2>, ('f',), None)\n"
     ]
    }
   ],
   "source": [
    "print car(cons(1,2))"
   ]
  },
  {
   "cell_type": "code",
   "execution_count": 76,
   "metadata": {
    "collapsed": true
   },
   "outputs": [],
   "source": [
    "import inspect"
   ]
  },
  {
   "cell_type": "code",
   "execution_count": 78,
   "metadata": {},
   "outputs": [
    {
     "data": {
      "text/plain": [
       "['f']"
      ]
     },
     "execution_count": 78,
     "metadata": {},
     "output_type": "execute_result"
    }
   ],
   "source": [
    "inspect.getargspec(cons(1,2)).args"
   ]
  },
  {
   "cell_type": "code",
   "execution_count": 85,
   "metadata": {},
   "outputs": [
    {
     "data": {
      "text/plain": [
       "['a', 'b']"
      ]
     },
     "execution_count": 85,
     "metadata": {},
     "output_type": "execute_result"
    }
   ],
   "source": [
    "pair = cons(1,2)\n",
    "inspect.getargspec(cons).args\n",
    "# locals()\n",
    "#[locals()[arg] for arg in inspect.getargspec(cons).args]"
   ]
  },
  {
   "cell_type": "code",
   "execution_count": 86,
   "metadata": {},
   "outputs": [
    {
     "data": {
      "text/plain": [
       "function"
      ]
     },
     "execution_count": 86,
     "metadata": {},
     "output_type": "execute_result"
    }
   ],
   "source": [
    "type(cons(1,2))"
   ]
  },
  {
   "cell_type": "code",
   "execution_count": 87,
   "metadata": {},
   "outputs": [
    {
     "data": {
      "text/plain": [
       "1"
      ]
     },
     "execution_count": 87,
     "metadata": {},
     "output_type": "execute_result"
    }
   ],
   "source": [
    "def first(a,b):\n",
    "    return a\n",
    "def second(a,b):\n",
    "    return b\n",
    "\n",
    "cons(1,2)(first)"
   ]
  },
  {
   "cell_type": "code",
   "execution_count": 88,
   "metadata": {},
   "outputs": [
    {
     "data": {
      "text/plain": [
       "2"
      ]
     },
     "execution_count": 88,
     "metadata": {},
     "output_type": "execute_result"
    }
   ],
   "source": [
    "cons(1,2)(second)"
   ]
  },
  {
   "cell_type": "code",
   "execution_count": 89,
   "metadata": {
    "collapsed": true
   },
   "outputs": [],
   "source": [
    "def car(pair):\n",
    "    return pair(first)\n",
    "def cdr(pair):\n",
    "    return pair(second)"
   ]
  },
  {
   "cell_type": "code",
   "execution_count": 90,
   "metadata": {},
   "outputs": [
    {
     "data": {
      "text/plain": [
       "1"
      ]
     },
     "execution_count": 90,
     "metadata": {},
     "output_type": "execute_result"
    }
   ],
   "source": [
    "car(cons(1,2))"
   ]
  },
  {
   "cell_type": "code",
   "execution_count": 91,
   "metadata": {},
   "outputs": [
    {
     "data": {
      "text/plain": [
       "2"
      ]
     },
     "execution_count": 91,
     "metadata": {},
     "output_type": "execute_result"
    }
   ],
   "source": [
    "cdr(cons(1,2))"
   ]
  },
  {
   "cell_type": "markdown",
   "metadata": {},
   "source": [
    "# XOR linked list [May 18, 2018]\n",
    "\n",
    "This problem was asked by Google.\n",
    "\n",
    "An XOR linked list is a more memory efficient doubly linked list. Instead of each node holding next and prev fields, it holds a field named both, which is an XOR of the next node and the previous node. Implement an XOR linked list; it has an add(element) which adds the element to the end, and a get(index) which returns the node at index.\n",
    "\n",
    "If using a language that has no pointers (such as Python), you can assume you have access to get_pointer and dereference_pointer functions that converts between nodes and memory addresses."
   ]
  },
  {
   "cell_type": "markdown",
   "metadata": {},
   "source": [
    "0  a1 (a0)\n",
    "a0 a2 (a1)\n",
    "a1 a3 (a2)\n",
    "a2 a4 (a3)"
   ]
  },
  {
   "cell_type": "code",
   "execution_count": null,
   "metadata": {
    "collapsed": true
   },
   "outputs": [],
   "source": [
    "_zero = 0\n",
    "\n",
    "class Node:\n",
    "    def __init__(self, val, both):\n",
    "        self.val = val\n",
    "        self.both = both\n",
    "        \n",
    "class DoublyLinkedList:\n",
    "    def __init__(self, first, last):\n",
    "        self.first = first\n",
    "        self.last = last\n",
    "        \n",
    "    def is_empty(self):\n",
    "        if self.first == _zero:\n",
    "            return True\n",
    "        else:\n",
    "            return False\n",
    "        \n",
    "    def add(self, val):\n",
    "        a = Node(val, _zero)\n",
    "        if self.is_empty():\n",
    "            self.first = get_pointer(a)\n",
    "            self.last = get_pointer(a)\n",
    "            return self\n",
    "        \n",
    "        last_node = dereference_pointer(self.last)\n",
    "        last_node.both = XOR(last_node.both, dereference_pointer(a))\n",
    "        \n",
    "        return self\n",
    "        \n",
    "    def get(self, index):\n",
    "        crnt = self.first\n",
    "        prv = _zero\n",
    "        \n",
    "        for i in range(index):\n",
    "            nxt = XOR(prev, dereference_pointer(crnt).both) \n",
    "            prv = crnt\n",
    "            crnt = nxt\n",
    "            \n",
    "        return nxt           "
   ]
  },
  {
   "cell_type": "markdown",
   "metadata": {},
   "source": [
    "referencing and dereferencing in python\n",
    "- https://www.quora.com/What-is-the-pointer-in-Python-Does-a-pointer-exist-in-Python\n",
    "- https://stackoverflow.com/questions/15011674/is-it-possible-to-dereference-variable-ids"
   ]
  },
  {
   "cell_type": "markdown",
   "metadata": {},
   "source": [
    "# Count the number of decodings [May 19, 2018]\n",
    "This problem was asked by Facebook.\n",
    "\n",
    "Given the mapping a = 1, b = 2, ... z = 26, and an encoded message, count the number of ways it can be decoded.\n",
    "\n",
    "For example, the message '111' would give 3, since it could be decoded as 'aaa', 'ka', and 'ak'.\n",
    "\n",
    "You can assume that the messages are decodable. For example, '001' is not allowed."
   ]
  },
  {
   "cell_type": "code",
   "execution_count": 102,
   "metadata": {
    "collapsed": true
   },
   "outputs": [],
   "source": [
    "int_to_char = {1: 'a', 2: 'b', 3: 'c', 4: 'd', 5: 'e', 6: 'f', 7: 'g', 8: 'h', 9: 'i', 10: 'j', 11: 'k', 12: 'l', 13: 'm'}\n",
    "\n",
    "def count_decodings(encrypted_message):\n",
    "    em = encrypted_message\n",
    "    count = 1\n",
    "    prev_count = 1\n",
    "    prev_digit = 0\n",
    "    \n",
    "    if len(em) == 1:\n",
    "        return count\n",
    "    \n",
    "    for i in range(1, len(em)):\n",
    "        prev_digit = int(em[i-1])\n",
    "        current_digit = int(em[i])\n",
    "        if int_to_char.has_key(10*prev_digit + current_digit):\n",
    "            temp = count\n",
    "            count = count + prev_count \n",
    "            prev_count = temp\n",
    "            \n",
    "    return count      "
   ]
  },
  {
   "cell_type": "code",
   "execution_count": 104,
   "metadata": {},
   "outputs": [
    {
     "data": {
      "text/plain": [
       "2"
      ]
     },
     "execution_count": 104,
     "metadata": {},
     "output_type": "execute_result"
    }
   ],
   "source": [
    "count_decodings(\"122\")"
   ]
  },
  {
   "cell_type": "markdown",
   "metadata": {},
   "source": [
    "# Count the number of unival trees [May 20, 2018]\n",
    "\n",
    "This problem was asked by Google.\n",
    "\n",
    "A unival tree (which stands for \"universal value\") is a tree where all nodes under it have the same value.\n",
    "\n",
    "Given the root to a binary tree, count the number of unival subtrees.\n",
    "\n",
    "For example, the following tree has 5 unival subtrees:\n",
    "\n",
    "\n",
    "   0\n",
    "  / \\\n",
    " 1   0\n",
    "    / \\\n",
    "   1   0\n",
    "  / \\\n",
    " 1   1"
   ]
  },
  {
   "cell_type": "code",
   "execution_count": 4,
   "metadata": {
    "collapsed": true
   },
   "outputs": [],
   "source": [
    "class Node:\n",
    "    def __init__(self, val, left=None, right=None):\n",
    "        self.val = val\n",
    "        self.left = left\n",
    "        self.right = right\n",
    "        \n",
    "    \n",
    "def count_unival_subtrees(root_node):\n",
    "    count_zero = 0\n",
    "    count_one = 0\n",
    "    is_all_zero = True\n",
    "    is_all_one = True\n",
    "    \n",
    "    if root_node == None:\n",
    "        return count_zero, count_one, is_all_zero, is_all_one\n",
    "    \n",
    "    left_zero, left_one, left_is_all_zero, left_is_all_one = count_unival_subtrees(root_node.left)\n",
    "    right_zero, right_one, right_is_all_zero, right_is_all_one = count_unival_subtrees(root_node.right)\n",
    "    \n",
    "    plus_one = 0\n",
    "    plus_zero = 0\n",
    "    \n",
    "    if root_node.val == 1 and left_is_all_one and right_is_all_one:\n",
    "        plus_one = 1\n",
    "        is_all_one = True\n",
    "    else:\n",
    "        is_all_one = False\n",
    "        \n",
    "    if root_node.val == 0 and left_is_all_zero and right_is_all_zero:\n",
    "        plus_zero = 1\n",
    "        is_all_zero = True\n",
    "    else:\n",
    "        is_all_zero = False\n",
    "        \n",
    "    return left_zero + right_zero + plus_zero,  left_one + right_one + plus_one, is_all_zero, is_all_one \n",
    "        "
   ]
  },
  {
   "cell_type": "code",
   "execution_count": 5,
   "metadata": {
    "collapsed": true
   },
   "outputs": [],
   "source": [
    "tree = Node(0, Node(1), Node(0, Node(1, Node(1), Node(1)), Node(0)))"
   ]
  },
  {
   "cell_type": "code",
   "execution_count": 6,
   "metadata": {},
   "outputs": [
    {
     "data": {
      "text/plain": [
       "(1, 4, False, False)"
      ]
     },
     "execution_count": 6,
     "metadata": {},
     "output_type": "execute_result"
    }
   ],
   "source": [
    "count_unival_subtrees(tree)"
   ]
  },
  {
   "cell_type": "markdown",
   "metadata": {
    "collapsed": true
   },
   "source": [
    "# Max sum of non-adjacent numbers [May 21, 2018]\n",
    "\n",
    "This problem was asked by Airbnb.\n",
    "\n",
    "Given a list of integers, write a function that returns the largest sum of non-adjacent numbers. Numbers can be 0 or negative.\n",
    "\n",
    "For example, [2, 4, 6, 8] should return 12, since we pick 4 and 8. [5, 1, 1, 5] should return 10, since we pick 5 and 5.\n",
    "\n",
    "Follow-up: Can you do this in O(N) time and constant space?\n",
    "\n"
   ]
  },
  {
   "cell_type": "code",
   "execution_count": 1,
   "metadata": {
    "collapsed": true
   },
   "outputs": [],
   "source": [
    "def max_non_adj(A):\n",
    "    if len(A) <= 2:\n",
    "        return max(A)\n",
    "    \n",
    "    current = max(A[0], A[1])\n",
    "    prev = A[0]\n",
    "    \n",
    "    for i in range(2, len(A)):\n",
    "        new = max(A[i] + prev, current)\n",
    "        prev = current\n",
    "        current = new\n",
    "        \n",
    "    return current    "
   ]
  },
  {
   "cell_type": "code",
   "execution_count": 2,
   "metadata": {},
   "outputs": [
    {
     "data": {
      "text/plain": [
       "12"
      ]
     },
     "execution_count": 2,
     "metadata": {},
     "output_type": "execute_result"
    }
   ],
   "source": [
    "max_non_adj([2, 4, 6, 8])"
   ]
  },
  {
   "cell_type": "code",
   "execution_count": 3,
   "metadata": {},
   "outputs": [
    {
     "data": {
      "text/plain": [
       "10"
      ]
     },
     "execution_count": 3,
     "metadata": {},
     "output_type": "execute_result"
    }
   ],
   "source": [
    "max_non_adj([5, 1, 1, 5])"
   ]
  },
  {
   "cell_type": "markdown",
   "metadata": {
    "collapsed": true
   },
   "source": [
    "# Job scheduler [May 22, 2018]\n",
    "\n",
    "This problem was asked by Apple.\n",
    "\n",
    "Implement a job scheduler which takes in a function f and an integer n, and calls f after n milliseconds.\n",
    "\n"
   ]
  },
  {
   "cell_type": "code",
   "execution_count": 10,
   "metadata": {
    "collapsed": true
   },
   "outputs": [],
   "source": [
    "from time import time, sleep\n",
    "\n",
    "def schedule(f, n, *args, **kwargs):\n",
    "    \"\"\" executes f after n seconds and returns the answer \"\"\"\n",
    "    sleep(n)\n",
    "    return f(*args, **kwargs)\n",
    "    "
   ]
  },
  {
   "cell_type": "code",
   "execution_count": 11,
   "metadata": {
    "collapsed": true
   },
   "outputs": [],
   "source": [
    "def fun(x):\n",
    "    return x*x"
   ]
  },
  {
   "cell_type": "code",
   "execution_count": 14,
   "metadata": {},
   "outputs": [
    {
     "data": {
      "text/plain": [
       "100"
      ]
     },
     "execution_count": 14,
     "metadata": {},
     "output_type": "execute_result"
    }
   ],
   "source": [
    "schedule(fun, 10, 10)"
   ]
  },
  {
   "cell_type": "markdown",
   "metadata": {},
   "source": [
    " https://github.com/dbader/schedule"
   ]
  },
  {
   "cell_type": "markdown",
   "metadata": {},
   "source": [
    "# Autocomplete [May 23, 2018]\n",
    "\n",
    "This problem was asked by Twitter.\n",
    "\n",
    "Implement an autocomplete system. That is, given a query string s and a set of all possible query strings, return all strings in the set that have s as a prefix.\n",
    "\n",
    "For example, given the query string de and the set of strings [dog, deer, deal], return [deer, deal].\n",
    "\n",
    "Hint: Try preprocessing the dictionary into a more efficient data structure to speed up queries."
   ]
  },
  {
   "cell_type": "code",
   "execution_count": 47,
   "metadata": {
    "collapsed": true
   },
   "outputs": [],
   "source": [
    "_end = '_end_'\n",
    "\n",
    "def make_trie(words):\n",
    "    trie = {}\n",
    "    for word in words:\n",
    "        current = trie\n",
    "        for letter in word:\n",
    "            if not current.has_key(letter):\n",
    "                current[letter] = {} \n",
    "            current = current[letter]\n",
    "        current[_end] = _end        \n",
    "    return trie        "
   ]
  },
  {
   "cell_type": "code",
   "execution_count": 48,
   "metadata": {},
   "outputs": [
    {
     "data": {
      "text/plain": [
       "{'d': {'e': {'a': {'l': {'_end_': '_end_'}}, 'e': {'r': {'_end_': '_end_'}}},\n",
       "  'o': {'g': {'_end_': '_end_'}}}}"
      ]
     },
     "execution_count": 48,
     "metadata": {},
     "output_type": "execute_result"
    }
   ],
   "source": [
    "words = ['dog', 'deer', 'deal']\n",
    "make_trie(words)"
   ]
  },
  {
   "cell_type": "code",
   "execution_count": 53,
   "metadata": {
    "collapsed": true
   },
   "outputs": [],
   "source": [
    "def list_all(trie): # O(n^2)\n",
    "    words = []\n",
    "    sub = {}\n",
    "    \n",
    "    for key in trie.keys():\n",
    "        if not key == _end:\n",
    "            sub[key] = list_all(trie[key])\n",
    "        else:\n",
    "            sub[''] = ['']\n",
    "            \n",
    "    for key in sub.keys():\n",
    "        for suffix in sub[key]:\n",
    "            words.append(key + suffix)\n",
    "            \n",
    "    return words        "
   ]
  },
  {
   "cell_type": "code",
   "execution_count": 57,
   "metadata": {
    "collapsed": true
   },
   "outputs": [],
   "source": [
    "_undefined = None\n",
    "\n",
    "def is_end(trie):\n",
    "    if trie == {_end: _end}:\n",
    "        return True\n",
    "    else:\n",
    "        return False\n",
    "    \n",
    "def list_all(trie): # O(n)\n",
    "    words = []\n",
    "    return words        "
   ]
  },
  {
   "cell_type": "code",
   "execution_count": 62,
   "metadata": {},
   "outputs": [
    {
     "data": {
      "text/plain": [
       "{'d': {'e': {'a': {'l': {'_end_': '_end_'}}, 'e': {'r': {'_end_': '_end_'}}},\n",
       "  'o': {'g': {'_end_': '_end_'}}}}"
      ]
     },
     "execution_count": 62,
     "metadata": {},
     "output_type": "execute_result"
    }
   ],
   "source": [
    "trie = make_trie(words)\n",
    "trie"
   ]
  },
  {
   "cell_type": "code",
   "execution_count": 63,
   "metadata": {},
   "outputs": [
    {
     "data": {
      "text/plain": [
       "[]"
      ]
     },
     "execution_count": 63,
     "metadata": {},
     "output_type": "execute_result"
    }
   ],
   "source": [
    "#trie = {'a': {_end: _end}}\n",
    "list_all(trie)"
   ]
  },
  {
   "cell_type": "code",
   "execution_count": 64,
   "metadata": {},
   "outputs": [
    {
     "data": {
      "text/plain": [
       "[]"
      ]
     },
     "execution_count": 64,
     "metadata": {},
     "output_type": "execute_result"
    }
   ],
   "source": [
    "list_all(empty)"
   ]
  },
  {
   "cell_type": "code",
   "execution_count": 49,
   "metadata": {
    "collapsed": true
   },
   "outputs": [],
   "source": [
    "def autocomplete(word, trie):\n",
    "    current = trie\n",
    "    for letter in word:\n",
    "        if current.has_key(letter):\n",
    "            current = current[letter]\n",
    "        else:\n",
    "            return []\n",
    "    return list_all(current)    "
   ]
  },
  {
   "cell_type": "code",
   "execution_count": 58,
   "metadata": {},
   "outputs": [
    {
     "data": {
      "text/plain": [
       "[]"
      ]
     },
     "execution_count": 58,
     "metadata": {},
     "output_type": "execute_result"
    }
   ],
   "source": [
    "autocomplete('d', trie)"
   ]
  },
  {
   "cell_type": "markdown",
   "metadata": {},
   "source": [
    "# Climbing a staircase [May 24, 2018]\n",
    "This problem was asked by Amazon.\n",
    "\n",
    "There exists a staircase with N steps, and you can climb up either 1 or 2 steps at a time. Given N, write a function that returns the number of unique ways you can climb the staircase. The order of the steps matters.\n",
    "\n",
    "For example, if N is 4, then there are 5 unique ways:\n",
    "\n",
    "1, 1, 1, 1\n",
    "2, 1, 1\n",
    "1, 2, 1\n",
    "1, 1, 2\n",
    "2, 2\n",
    "What if, instead of being able to climb 1 or 2 steps at a time, you could climb any number from a set of positive integers X? For example, if X = {1, 3, 5}, you could climb 1, 3, or 5 steps at a time."
   ]
  },
  {
   "cell_type": "code",
   "execution_count": 2,
   "metadata": {
    "collapsed": true
   },
   "outputs": [],
   "source": [
    "def climb_one_two(N):\n",
    "    counts = {}\n",
    "    counts[1] = 1\n",
    "    counts[2] = 2\n",
    "    \n",
    "    for i in range(3, N+1):\n",
    "        counts[i] = counts[i-1] + counts[i-2]\n",
    "        \n",
    "    return counts[N]"
   ]
  },
  {
   "cell_type": "code",
   "execution_count": 11,
   "metadata": {},
   "outputs": [
    {
     "data": {
      "text/plain": [
       "5"
      ]
     },
     "execution_count": 11,
     "metadata": {},
     "output_type": "execute_result"
    }
   ],
   "source": [
    "climb_one_two(4)"
   ]
  },
  {
   "cell_type": "code",
   "execution_count": 22,
   "metadata": {
    "collapsed": true
   },
   "outputs": [],
   "source": [
    "X = {1, 3, 5}\n",
    "N = 10\n",
    "def climb_X(N):\n",
    "    counts = {}\n",
    "    counts[1] = 1\n",
    "    counts[2] = 1\n",
    "    counts[3] = 2\n",
    "    counts[4] = 3\n",
    "    counts[5] = 5\n",
    "    \n",
    "    for i in range(6, N+1):\n",
    "        counts[i] = counts[i-1] + counts[i-3] + counts[i-5]\n",
    "        \n",
    "    return counts[N]    \n",
    "    "
   ]
  },
  {
   "cell_type": "code",
   "execution_count": 23,
   "metadata": {},
   "outputs": [
    {
     "data": {
      "text/plain": [
       "47"
      ]
     },
     "execution_count": 23,
     "metadata": {},
     "output_type": "execute_result"
    }
   ],
   "source": [
    "climb_X(N)"
   ]
  },
  {
   "cell_type": "code",
   "execution_count": 28,
   "metadata": {
    "collapsed": true
   },
   "outputs": [],
   "source": [
    "def climb_any(X, N):\n",
    "    counts = {}\n",
    "    \n",
    "    M = max(X)\n",
    "    \n",
    "    for i in range(1, M+1):\n",
    "        counts[-i] = 0\n",
    "        \n",
    "    counts[0] = 1    \n",
    "    \n",
    "    for i in range(1, N+1):\n",
    "        count = 0\n",
    "        for x in X:\n",
    "            count = count + counts[i-x]\n",
    "        counts[i] = count\n",
    "        \n",
    "    return counts[N]    \n",
    "    "
   ]
  },
  {
   "cell_type": "code",
   "execution_count": 29,
   "metadata": {},
   "outputs": [
    {
     "data": {
      "text/plain": [
       "47"
      ]
     },
     "execution_count": 29,
     "metadata": {},
     "output_type": "execute_result"
    }
   ],
   "source": [
    "climb_any(X, N)"
   ]
  },
  {
   "cell_type": "markdown",
   "metadata": {},
   "source": [
    "# Longest substring with at most k distinct chars [May 25, 2018]\n",
    "This problem was asked by Amazon.\n",
    "\n",
    "Given an integer k and a string s, find the length of the longest substring that contains at most k distinct characters.\n",
    "\n",
    "For example, given s = \"abcba\" and k = 2, the longest substring with k distinct characters is \"bcb\"."
   ]
  },
  {
   "cell_type": "code",
   "execution_count": 34,
   "metadata": {
    "collapsed": true
   },
   "outputs": [],
   "source": [
    "def longest_run(s):\n",
    "    if s == '':\n",
    "        return 0\n",
    "    \n",
    "    runs = {}\n",
    "    runs[0] = 1\n",
    "    \n",
    "    for i in range(len(s)-1):\n",
    "        current_char = s[i]\n",
    "        next_char = s[i+1]\n",
    "        if next_char == current_char:\n",
    "            runs[i+1] = runs[i] + 1\n",
    "        else:\n",
    "            runs[i+1] = 1\n",
    "    return max(runs.values())        \n",
    "        "
   ]
  },
  {
   "cell_type": "code",
   "execution_count": 36,
   "metadata": {},
   "outputs": [
    {
     "data": {
      "text/plain": [
       "3"
      ]
     },
     "execution_count": 36,
     "metadata": {},
     "output_type": "execute_result"
    }
   ],
   "source": [
    "longest_run(\"abcbbba\")"
   ]
  },
  {
   "cell_type": "code",
   "execution_count": null,
   "metadata": {
    "collapsed": true
   },
   "outputs": [],
   "source": [
    "def longest_with_k_distinct(k, s):\n",
    "     \n",
    "    "
   ]
  },
  {
   "cell_type": "markdown",
   "metadata": {},
   "source": [
    "# Monte Carlo Pi [May 26, 2018]\n",
    "\n",
    "This problem was asked by Google.\n",
    "\n",
    "The area of a circle is defined as πr^2. Estimate π to 3 decimal places using a Monte Carlo method.\n",
    "\n",
    "Hint: The basic equation of a circle is x^2 + y^2 = r^2.\n",
    "\n",
    "- http://www.eveandersson.com/pi/monte-carlo-circle\n",
    "\n",
    "- http://www.codeandfinance.com/estimating-pi-monte-carlo.html\n",
    "\n",
    "- https://math.stackexchange.com/questions/2493445/error-in-calculation-of-pi-using-monte-carlo-method\n",
    "\n",
    "How to estimate confidence interval ?"
   ]
  },
  {
   "cell_type": "code",
   "execution_count": 41,
   "metadata": {
    "collapsed": true
   },
   "outputs": [],
   "source": [
    "import numpy\n",
    "from __future__ import division\n",
    "def estimate_pi(num_samples):\n",
    "    count = 0\n",
    "    r = 1\n",
    "    for i in range(num_samples):\n",
    "        x = numpy.random.uniform(-r, r)\n",
    "        y = numpy.random.uniform(-r, r)\n",
    "        if x**2 + y**2 <= r**2:\n",
    "            count = count + 1\n",
    "            \n",
    "    return 4 * count / num_samples         "
   ]
  },
  {
   "cell_type": "code",
   "execution_count": 48,
   "metadata": {},
   "outputs": [
    {
     "data": {
      "text/plain": [
       "3.141908"
      ]
     },
     "execution_count": 48,
     "metadata": {},
     "output_type": "execute_result"
    }
   ],
   "source": [
    "estimate_pi(10000000)"
   ]
  },
  {
   "cell_type": "markdown",
   "metadata": {},
   "source": [
    "# Uniform random sampling from a stream  [May 27, 2018]\n",
    "This problem was asked by Facebook.\n",
    "\n",
    "Given a stream of elements too large to store in memory, pick a random element from the stream with uniform probability."
   ]
  },
  {
   "cell_type": "code",
   "execution_count": 57,
   "metadata": {
    "collapsed": true
   },
   "outputs": [],
   "source": [
    "import random \n",
    "\n",
    "def reservoir_sampling(A):\n",
    "    \n",
    "    for i in range(len(A)):\n",
    "        r = random.randint(0, i)\n",
    "        if r == 0:\n",
    "            rand = A[i]\n",
    "            \n",
    "    return rand        "
   ]
  },
  {
   "cell_type": "code",
   "execution_count": 64,
   "metadata": {},
   "outputs": [
    {
     "data": {
      "text/plain": [
       "2"
      ]
     },
     "execution_count": 64,
     "metadata": {},
     "output_type": "execute_result"
    }
   ],
   "source": [
    "reservoir_sampling([1,2,3])"
   ]
  },
  {
   "cell_type": "markdown",
   "metadata": {},
   "source": [
    "# Last N order ids [May 28, 2018]\n",
    "This problem was asked by Twitter.\n",
    "\n",
    "You run an e-commerce website and want to record the last N order ids in a log. Implement a data structure to accomplish this, with the following API:\n",
    "\n",
    "record(order_id): adds the order_id to the log\n",
    "get_last(i): gets the ith last element from the log. i is guaranteed to be smaller than or equal to N.\n",
    "You should be as efficient with time and space as possible.\n",
    "\n"
   ]
  },
  {
   "cell_type": "code",
   "execution_count": 2,
   "metadata": {
    "collapsed": true
   },
   "outputs": [],
   "source": [
    "records = []"
   ]
  },
  {
   "cell_type": "code",
   "execution_count": 3,
   "metadata": {
    "collapsed": true
   },
   "outputs": [],
   "source": [
    "def record(order_id):\n",
    "    records.append(order_id)\n",
    "\n",
    "\n",
    "def get_last(i):\n",
    "    return records[-i]"
   ]
  },
  {
   "cell_type": "code",
   "execution_count": 14,
   "metadata": {},
   "outputs": [
    {
     "data": {
      "text/plain": [
       "198025"
      ]
     },
     "execution_count": 14,
     "metadata": {},
     "output_type": "execute_result"
    }
   ],
   "source": [
    "for i in range(1000):\n",
    "    order_id = i*i\n",
    "    record(order_id)\n",
    "    \n",
    "get_last(555)    \n"
   ]
  },
  {
   "cell_type": "markdown",
   "metadata": {},
   "source": [
    "## more efficient solution using binary search tree"
   ]
  },
  {
   "cell_type": "code",
   "execution_count": 1,
   "metadata": {
    "collapsed": true
   },
   "outputs": [],
   "source": [
    "# implement a binary search tree\n",
    "_void = None\n",
    "class binary_search_tree:\n",
    "    def __init__(self, root=_void, left=_void, right=_void):\n",
    "        self.root = root\n",
    "        self.left = left\n",
    "        self.right = right\n",
    "        \n",
    "    def insert(self, value):\n",
    "        pass\n",
    "    \n",
    "    def delete(self, value):\n",
    "        pass"
   ]
  },
  {
   "cell_type": "code",
   "execution_count": null,
   "metadata": {
    "collapsed": true
   },
   "outputs": [],
   "source": []
  },
  {
   "cell_type": "markdown",
   "metadata": {},
   "source": [
    "# longest path string in a file system [May 29, 2018]\n",
    "\n",
    "Good morning! Here's your coding interview problem for today.\n",
    "\n",
    "This problem was asked by Google.\n",
    "\n",
    "Suppose we represent our file system by a string in the following manner:\n",
    "\n",
    "The string \"dir\\n\\tsubdir1\\n\\tsubdir2\\n\\t\\tfile.ext\" represents:\n",
    "\n",
    "dir\n",
    "    subdir1\n",
    "    subdir2\n",
    "        file.ext\n",
    "The directory dir contains an empty sub-directory subdir1 and a sub-directory subdir2 containing a file file.ext.\n",
    "\n",
    "The string \"dir\\n\\tsubdir1\\n\\t\\tfile1.ext\\n\\t\\tsubsubdir1\\n\\tsubdir2\\n\\t\\tsubsubdir2\\n\\t\\t\\tfile2.ext\" represents:\n",
    "\n",
    "dir\n",
    "    subdir1\n",
    "        file1.ext\n",
    "        subsubdir1\n",
    "    subdir2\n",
    "        subsubdir2\n",
    "            file2.ext\n",
    "The directory dir contains two sub-directories subdir1 and subdir2. subdir1 contains a file file1.ext and an empty second-level sub-directory subsubdir1. subdir2 contains a second-level sub-directory subsubdir2 containing a file file2.ext.\n",
    "\n",
    "We are interested in finding the longest (number of characters) absolute path to a file within our file system. For example, in the second example above, the longest absolute path is \"dir/subdir2/subsubdir2/file2.ext\", and its length is 32 (not including the double quotes).\n",
    "\n",
    "Given a string representing the file system in the above format, return the length of the longest absolute path to a file in the abstracted file system. If there is no file in the system, return 0.\n",
    "\n",
    "Note:\n",
    "\n",
    "The name of a file contains at least a period and an extension.\n",
    "\n",
    "The name of a directory or sub-directory will not contain a period."
   ]
  },
  {
   "cell_type": "code",
   "execution_count": 21,
   "metadata": {
    "collapsed": true
   },
   "outputs": [],
   "source": [
    "def build_trie(fstr, split_on ='\\n\\t'):\n",
    "    trie = {}\n",
    "    subfstrs = fstr.split(split_on)\n",
    "    \n",
    "    print subfstrs\n",
    "    return 0\n",
    "    \n",
    "    for subfstr in subfstrs:\n",
    "        key = subfstr.split('\\n')[0]\n",
    "        trie[key] = build_trie(subfstr, split_on + '\\t')\n",
    "        \n",
    "    return trie    "
   ]
  },
  {
   "cell_type": "code",
   "execution_count": 22,
   "metadata": {
    "collapsed": true
   },
   "outputs": [],
   "source": [
    "fstr = \"dir\\n\\tsubdir1\\n\\t\\tfile1.ext\\n\\t\\tsubsubdir1\\n\\tsubdir2\\n\\t\\tsubsubdir2\\n\\t\\t\\tfile2.ext\""
   ]
  },
  {
   "cell_type": "code",
   "execution_count": 34,
   "metadata": {},
   "outputs": [
    {
     "data": {
      "text/plain": [
       "['dir',\n",
       " '\\tsubdir1',\n",
       " '\\t\\tfile1.ext',\n",
       " '\\t\\tsubsubdir1',\n",
       " '\\tsubdir2',\n",
       " '\\t\\tsubsubdir2',\n",
       " '\\t\\t\\tfile2.ext']"
      ]
     },
     "execution_count": 34,
     "metadata": {},
     "output_type": "execute_result"
    }
   ],
   "source": [
    "fstr.split('\\n')"
   ]
  },
  {
   "cell_type": "code",
   "execution_count": 41,
   "metadata": {
    "collapsed": true
   },
   "outputs": [],
   "source": [
    "def remove_single_tab(fstr):\n",
    "    return fstr[1:]"
   ]
  },
  {
   "cell_type": "code",
   "execution_count": 42,
   "metadata": {},
   "outputs": [
    {
     "data": {
      "text/plain": [
       "'subdir2'"
      ]
     },
     "execution_count": 42,
     "metadata": {},
     "output_type": "execute_result"
    }
   ],
   "source": [
    "remove_single_tab('\\tsubdir2')"
   ]
  },
  {
   "cell_type": "code",
   "execution_count": 43,
   "metadata": {
    "collapsed": true
   },
   "outputs": [],
   "source": [
    "_undefined = '_undefined'\n",
    "\n",
    "def partition(fstr_list):\n",
    "    partition = {}\n",
    "    current_key = _undefined\n",
    "    for fstr in fstr_list:\n",
    "        if '\\t' in fstr:\n",
    "            partition[current_key].append(remove_single_tab(fstr))\n",
    "        else:\n",
    "            current_key = fstr\n",
    "            partition[current_key] = []\n",
    "            \n",
    "    return partition        \n",
    "        "
   ]
  },
  {
   "cell_type": "code",
   "execution_count": 44,
   "metadata": {},
   "outputs": [
    {
     "data": {
      "text/plain": [
       "{'dir': ['subdir1',\n",
       "  '\\tfile1.ext',\n",
       "  '\\tsubsubdir1',\n",
       "  'subdir2',\n",
       "  '\\tsubsubdir2',\n",
       "  '\\t\\tfile2.ext']}"
      ]
     },
     "execution_count": 44,
     "metadata": {},
     "output_type": "execute_result"
    }
   ],
   "source": [
    "partition(fstr_list=fstr.split('\\n'))"
   ]
  },
  {
   "cell_type": "code",
   "execution_count": 49,
   "metadata": {
    "collapsed": true
   },
   "outputs": [],
   "source": [
    "def build_trie(fstr_list):\n",
    "    trie = {}\n",
    "    parts = partition(fstr_list)\n",
    "    for key in parts.keys():\n",
    "        trie[key] = build_trie(parts[key])\n",
    "        \n",
    "    return trie    "
   ]
  },
  {
   "cell_type": "code",
   "execution_count": 53,
   "metadata": {},
   "outputs": [
    {
     "data": {
      "text/plain": [
       "{'dir': {'subdir1': {'file1.ext': {}, 'subsubdir1': {}},\n",
       "  'subdir2': {'subsubdir2': {'file2.ext': {}}}}}"
      ]
     },
     "execution_count": 53,
     "metadata": {},
     "output_type": "execute_result"
    }
   ],
   "source": [
    "fstr_list=fstr.split('\\n')\n",
    "trie = build_trie(fstr_list)\n",
    "trie"
   ]
  },
  {
   "cell_type": "code",
   "execution_count": 65,
   "metadata": {
    "collapsed": true
   },
   "outputs": [],
   "source": [
    "def is_dir(key):\n",
    "    if not '.' in key:\n",
    "        return True\n",
    "    else:\n",
    "        return False\n",
    "    \n",
    "def get_max_path_len(trie):\n",
    "    current_max = 0\n",
    "    for key in trie.keys():\n",
    "        new_max = len(key) + is_dir(key) + get_max_path_len(trie[key])\n",
    "        if new_max > current_max:\n",
    "            current_max = new_max\n",
    "    return current_max       "
   ]
  },
  {
   "cell_type": "code",
   "execution_count": 66,
   "metadata": {},
   "outputs": [
    {
     "data": {
      "text/plain": [
       "32"
      ]
     },
     "execution_count": 66,
     "metadata": {},
     "output_type": "execute_result"
    }
   ],
   "source": [
    "get_max_path_len(trie)"
   ]
  },
  {
   "cell_type": "markdown",
   "metadata": {},
   "source": [
    "# Max of a moving window  [May 30, 2018]\n",
    "\n",
    "Good morning! Here's your coding interview problem for today.\n",
    "\n",
    "This problem was asked by Google.\n",
    "\n",
    "Given an array of integers and a number k, where 1 <= k <= length of the array, compute the maximum values of each subarray of length k.\n",
    "\n",
    "For example, given array = [10, 5, 2, 7, 8, 7] and k = 3, we should get: [10, 7, 8, 8], since:\n",
    "\n",
    "10 = max(10, 5, 2)\n",
    "7 = max(5, 2, 7)\n",
    "8 = max(2, 7, 8)\n",
    "8 = max(7, 8, 7)\n",
    "Do this in O(n) time and O(k) space. You can modify the input array in-place and you do not need to store the results. You can simply print them out as you compute them."
   ]
  },
  {
   "cell_type": "code",
   "execution_count": 32,
   "metadata": {
    "collapsed": true
   },
   "outputs": [],
   "source": [
    "A = [10, 5, 2, 7, 8, 7] \n",
    "k = 3\n",
    "def max_of_window(A, window_size=k):\n",
    "    for i in range(len(A)-window_size + 1):\n",
    "        print A[i: i+window_size]\n",
    "        print max(A[i:i+window_size]) "
   ]
  },
  {
   "cell_type": "code",
   "execution_count": 33,
   "metadata": {},
   "outputs": [
    {
     "name": "stdout",
     "output_type": "stream",
     "text": [
      "[10, 5, 2]\n",
      "10\n",
      "[5, 2, 7]\n",
      "7\n",
      "[2, 7, 8]\n",
      "8\n",
      "[7, 8, 7]\n",
      "8\n"
     ]
    }
   ],
   "source": [
    "max_of_window(A, k)"
   ]
  },
  {
   "cell_type": "markdown",
   "metadata": {},
   "source": []
  },
  {
   "cell_type": "code",
   "execution_count": 67,
   "metadata": {
    "collapsed": true
   },
   "outputs": [],
   "source": []
  },
  {
   "cell_type": "markdown",
   "metadata": {},
   "source": [
    "# Building houses (dynamic programming) [May 31, 2018]\n",
    "\n",
    "Good morning! Here's your coding interview problem for today.\n",
    "\n",
    "This problem was asked by Facebook.\n",
    "\n",
    "A builder is looking to build a row of N houses that can be of K different colors. He has a goal of minimizing cost while ensuring that no two neighboring houses are of the same color.\n",
    "\n",
    "Given an N by K matrix where the nth row and kth column represents the cost to build the nth house with kth color, return the minimum cost which achieves this goal.\n",
    "\n",
    "Upgrade to premium and get in-depth solutions to every problem."
   ]
  },
  {
   "cell_type": "code",
   "execution_count": 19,
   "metadata": {
    "collapsed": true
   },
   "outputs": [],
   "source": [
    "_infinity = 99999999\n",
    "\n",
    "def house_cost(A):\n",
    "    costs = []\n",
    "    for i in range(len(A[0])):\n",
    "        costs.append(0)\n",
    "        \n",
    "    for i in range(len(A)):\n",
    "        new_costs = []\n",
    "        for j in range(len(A[i])):\n",
    "            a = min(costs[:j])\n",
    "            b = min(costs[j+1:] + [_infinity]))\n",
    "            \n",
    "            \n",
    "            new_costs.append(A[j] + min(a, b))\n",
    "            \n",
    "        costs = new_costs\n",
    "        \n",
    "    return costs    \n",
    "            "
   ]
  },
  {
   "cell_type": "code",
   "execution_count": 20,
   "metadata": {},
   "outputs": [
    {
     "ename": "ValueError",
     "evalue": "min() arg is an empty sequence",
     "output_type": "error",
     "traceback": [
      "\u001b[0;31m---------------------------------------------------------------------------\u001b[0m",
      "\u001b[0;31mValueError\u001b[0m                                Traceback (most recent call last)",
      "\u001b[0;32m<ipython-input-20-93759148d60f>\u001b[0m in \u001b[0;36m<module>\u001b[0;34m()\u001b[0m\n\u001b[1;32m      1\u001b[0m \u001b[0mA\u001b[0m \u001b[0;34m=\u001b[0m \u001b[0;34m[\u001b[0m\u001b[0;34m[\u001b[0m\u001b[0;36m1\u001b[0m\u001b[0;34m,\u001b[0m\u001b[0;36m2\u001b[0m\u001b[0;34m,\u001b[0m\u001b[0;36m3\u001b[0m\u001b[0;34m]\u001b[0m\u001b[0;34m,\u001b[0m\u001b[0;34m[\u001b[0m\u001b[0;36m3\u001b[0m\u001b[0;34m,\u001b[0m\u001b[0;36m2\u001b[0m\u001b[0;34m,\u001b[0m\u001b[0;36m1\u001b[0m\u001b[0;34m]\u001b[0m\u001b[0;34m,\u001b[0m\u001b[0;34m[\u001b[0m\u001b[0;36m4\u001b[0m\u001b[0;34m,\u001b[0m\u001b[0;36m5\u001b[0m\u001b[0;34m,\u001b[0m\u001b[0;36m6\u001b[0m\u001b[0;34m]\u001b[0m\u001b[0;34m,\u001b[0m\u001b[0;34m[\u001b[0m\u001b[0;36m6\u001b[0m\u001b[0;34m,\u001b[0m\u001b[0;36m5\u001b[0m\u001b[0;34m,\u001b[0m\u001b[0;36m4\u001b[0m\u001b[0;34m]\u001b[0m\u001b[0;34m,\u001b[0m\u001b[0;34m[\u001b[0m\u001b[0;36m7\u001b[0m\u001b[0;34m,\u001b[0m\u001b[0;36m8\u001b[0m\u001b[0;34m,\u001b[0m\u001b[0;36m9\u001b[0m\u001b[0;34m]\u001b[0m\u001b[0;34m,\u001b[0m\u001b[0;34m[\u001b[0m\u001b[0;36m9\u001b[0m\u001b[0;34m,\u001b[0m\u001b[0;36m8\u001b[0m\u001b[0;34m,\u001b[0m\u001b[0;36m7\u001b[0m\u001b[0;34m]\u001b[0m\u001b[0;34m]\u001b[0m\u001b[0;34m\u001b[0m\u001b[0m\n\u001b[1;32m      2\u001b[0m \u001b[0;34m\u001b[0m\u001b[0m\n\u001b[0;32m----> 3\u001b[0;31m \u001b[0mhouse_cost\u001b[0m\u001b[0;34m(\u001b[0m\u001b[0mA\u001b[0m\u001b[0;34m)\u001b[0m\u001b[0;34m\u001b[0m\u001b[0m\n\u001b[0m",
      "\u001b[0;32m<ipython-input-19-a66e4f3f57e0>\u001b[0m in \u001b[0;36mhouse_cost\u001b[0;34m(A)\u001b[0m\n\u001b[1;32m      7\u001b[0m         \u001b[0mnew_costs\u001b[0m \u001b[0;34m=\u001b[0m \u001b[0;34m[\u001b[0m\u001b[0;34m]\u001b[0m\u001b[0;34m\u001b[0m\u001b[0m\n\u001b[1;32m      8\u001b[0m         \u001b[0;32mfor\u001b[0m \u001b[0mj\u001b[0m \u001b[0;32min\u001b[0m \u001b[0mrange\u001b[0m\u001b[0;34m(\u001b[0m\u001b[0mlen\u001b[0m\u001b[0;34m(\u001b[0m\u001b[0mA\u001b[0m\u001b[0;34m[\u001b[0m\u001b[0mi\u001b[0m\u001b[0;34m]\u001b[0m\u001b[0;34m)\u001b[0m\u001b[0;34m)\u001b[0m\u001b[0;34m:\u001b[0m\u001b[0;34m\u001b[0m\u001b[0m\n\u001b[0;32m----> 9\u001b[0;31m             \u001b[0mnew_costs\u001b[0m\u001b[0;34m.\u001b[0m\u001b[0mappend\u001b[0m\u001b[0;34m(\u001b[0m\u001b[0mA\u001b[0m\u001b[0;34m[\u001b[0m\u001b[0mj\u001b[0m\u001b[0;34m]\u001b[0m \u001b[0;34m+\u001b[0m \u001b[0mmin\u001b[0m\u001b[0;34m(\u001b[0m\u001b[0mmin\u001b[0m\u001b[0;34m(\u001b[0m\u001b[0mcosts\u001b[0m\u001b[0;34m[\u001b[0m\u001b[0;34m:\u001b[0m\u001b[0mj\u001b[0m\u001b[0;34m]\u001b[0m\u001b[0;34m)\u001b[0m\u001b[0;34m,\u001b[0m \u001b[0mmin\u001b[0m\u001b[0;34m(\u001b[0m\u001b[0mcosts\u001b[0m\u001b[0;34m[\u001b[0m\u001b[0mj\u001b[0m\u001b[0;34m+\u001b[0m\u001b[0;36m1\u001b[0m\u001b[0;34m:\u001b[0m\u001b[0;34m]\u001b[0m\u001b[0;34m)\u001b[0m\u001b[0;34m)\u001b[0m\u001b[0;34m)\u001b[0m\u001b[0;34m\u001b[0m\u001b[0m\n\u001b[0m\u001b[1;32m     10\u001b[0m \u001b[0;34m\u001b[0m\u001b[0m\n\u001b[1;32m     11\u001b[0m         \u001b[0mcosts\u001b[0m \u001b[0;34m=\u001b[0m \u001b[0mnew_costs\u001b[0m\u001b[0;34m\u001b[0m\u001b[0m\n",
      "\u001b[0;31mValueError\u001b[0m: min() arg is an empty sequence"
     ]
    }
   ],
   "source": [
    "A = [[1,2,3],[3,2,1],[4,5,6],[6,5,4],[7,8,9],[9,8,7]]\n",
    "\n",
    "house_cost(A)"
   ]
  },
  {
   "cell_type": "markdown",
   "metadata": {},
   "source": [
    "# Intersection of two singly linked lists [June 1, 2018]\n",
    "\n",
    "\n",
    "Good morning! Here's your coding interview problem for today.\n",
    "\n",
    "This problem was asked by Google.\n",
    "\n",
    "Given two singly linked lists that intersect at some point, find the intersecting node. The lists are non-cyclical.\n",
    "\n",
    "For example, given A = 3 -> 7 -> 8 -> 10 and B = 99 -> 1 -> 8 -> 10, return the node with value 8.\n",
    "\n",
    "In this example, assume nodes with the same value are the exact same node objects.\n",
    "\n",
    "Do this in O(M + N) time (where M and N are the lengths of the lists) and constant space.\n",
    "\n",
    "Upgrade to premium and get in-depth solutions to every problem."
   ]
  },
  {
   "cell_type": "markdown",
   "metadata": {},
   "source": [
    "# Minimum number of rooms [June 2, 2018]\n",
    "\n",
    "Good morning! Here's your coding interview problem for today.\n",
    "\n",
    "This problem was asked by Snapchat.\n",
    "\n",
    "Given an array of time intervals (start, end) for classroom lectures (possibly overlapping), find the minimum number of rooms required.\n",
    "\n",
    "For example, given [(30, 75), (0, 50), (60, 150)], you should return 2.\n",
    "\n",
    "Upgrade to premium and get in-depth solutions to every problem.\n",
    "\n"
   ]
  },
  {
   "cell_type": "markdown",
   "metadata": {},
   "source": [
    "# Recovering spaces [June 3, 2018]\n",
    "\n",
    "Good morning! Here's your coding interview problem for today.\n",
    "\n",
    "This problem was asked by Microsoft.\n",
    "\n",
    "Given a dictionary of words and a string made up of those words (no spaces), return the original sentence in a list. If there is more than one possible reconstruction, return any of them. If there is no possible reconstruction, then return null.\n",
    "\n",
    "For example, given the set of words 'quick', 'brown', 'the', 'fox', and the string \"thequickbrownfox\", you should return ['the', 'quick', 'brown', 'fox'].\n",
    "\n",
    "Given the set of words 'bed', 'bath', 'bedbath', 'and', 'beyond', and the string \"bedbathandbeyond\", return either ['bed', 'bath', 'and', 'beyond] or ['bedbath', 'and', 'beyond']."
   ]
  },
  {
   "cell_type": "markdown",
   "metadata": {},
   "source": [
    "# Shortest path on grid with blocks [June 4, 2018]\n",
    "\n",
    "Good morning! Here's your coding interview problem for today.\n",
    "\n",
    "\n",
    "This problem was asked by Google.\n",
    "\n",
    "You are given an M by N matrix consisting of booleans that represents a board. Each True boolean represents a wall. Each False boolean represents a tile you can walk on.\n",
    "\n",
    "Given this matrix, a start coordinate, and an end coordinate, return the minimum number of steps required to reach the end coordinate from the start. If there is no possible path, then return null. You can move up, left, down, and right. You cannot move through walls. You cannot wrap around the edges of the board.\n",
    "\n",
    "For example, given the following board:\n",
    "\n",
    "[[f, f, f, f],\n",
    "[t, t, f, t],\n",
    "[f, f, f, f],\n",
    "[f, f, f, f]]\n",
    "and start = (3, 0) (bottom left) and end = (0, 0) (top left), the minimum number of steps required to reach the end is 7, since we would need to go through (1, 2) because there is a wall everywhere else on the second row."
   ]
  },
  {
   "cell_type": "markdown",
   "metadata": {},
   "source": [
    "# Reservoir Sampling [June 5, 2018]\n",
    "\n",
    "Hey there,\n",
    "\n",
    "Hope your interview practicing is going well! Let's work through the problem of uniformly picking a random element from a gigantic stream. This is a common interview question at companies like Google and Facebook.\n",
    "\n",
    "Naively, we could process the stream and store all the elements we encounter in a list, find its size, and pick a random element from [0, size - 1]. The problem with this approach is that it would take O(N) space for a large N.\n",
    "\n",
    "Instead, let's attempt to solve using loop invariants. On the ith iteration of our loop to pick a random element, let's assume we already picked an element uniformly from [0, i - 1]. In order to maintain the loop invariant, we would need to pick the ith element as the new random element at 1 / (i + 1) chance. For the base case where i = 0, let's say the random element is the first one. Then we know it works because\n",
    "\n",
    "For i = 0, we would've picked uniformly from [0, 0].\n",
    "For i > 0, before the loop began, any element K in [0, i - 1] had 1 / i chance of being chosen as the random element. We want K to have 1 / (i + 1) chance of being chosen after the iteration. This is the case since the chance of having being chosen already but not getting swapped with the ith element is 1 / i * (1 - (1 / (i + 1))) which is 1 / i * i / (i + 1) or 1 / (i + 1)\n",
    "Let's see how the code would look:\n",
    "\n",
    "import random\n",
    "\n",
    "def pick(big_stream):\n",
    "    random_element = None\n",
    "\n",
    "    for i, e in enumerate(big_stream):\n",
    "        if i == 0:\n",
    "            random_element = e\n",
    "        if random.randint(1, i + 1) == 1:\n",
    "            random_element = e\n",
    "    return random_element\n",
    "Since we are only storing a single variable, this only takes up constant space!\n",
    "\n",
    "Turns out this algorithm is called Reservoir Sampling. If you liked this problem and solution, sign up for our mailing list below for problems like these! You can also read our other post on how to solve tricky interview questions like this one here."
   ]
  },
  {
   "cell_type": "code",
   "execution_count": 9,
   "metadata": {},
   "outputs": [
    {
     "data": {
      "text/plain": [
       "2"
      ]
     },
     "execution_count": 9,
     "metadata": {},
     "output_type": "execute_result"
    }
   ],
   "source": [
    "import random\n",
    "random.randint(1,2)"
   ]
  },
  {
   "cell_type": "code",
   "execution_count": 12,
   "metadata": {
    "collapsed": true
   },
   "outputs": [],
   "source": [
    "import random\n",
    "\n",
    "def reservoir_sampling(A):\n",
    "    sample = A[0]\n",
    "    \n",
    "    for i in range(1, len(A)):\n",
    "        r = random.randint(0, i)\n",
    "        \n",
    "        if r == 0:\n",
    "            sample = A[i]\n",
    "            \n",
    "        print sample         "
   ]
  },
  {
   "cell_type": "code",
   "execution_count": 13,
   "metadata": {},
   "outputs": [
    {
     "name": "stdout",
     "output_type": "stream",
     "text": [
      "1\n",
      "1\n",
      "4\n",
      "4\n",
      "6\n",
      "6\n",
      "6\n",
      "9\n",
      "9\n"
     ]
    }
   ],
   "source": [
    "A = [1,2,3,4,5,6,7,8,9,10]\n",
    "\n",
    "reservoir_sampling(A)"
   ]
  },
  {
   "cell_type": "markdown",
   "metadata": {},
   "source": [
    "# Locking in binary tree [June 6, 2018]\n",
    "\n",
    "Good morning! Here's your coding interview problem for today.\n",
    "\n",
    "This problem was asked by Google.\n",
    "\n",
    "Implement locking in a binary tree. A binary tree node can be locked or unlocked only if all of its descendants or ancestors are not locked.\n",
    "\n",
    "Design a binary tree node class with the following methods:\n",
    "\n",
    "is_locked, which returns whether the node is locked\n",
    "lock, which attempts to lock the node. If it cannot be locked, then it should return false. Otherwise, it should lock it and return true.\n",
    "unlock, which unlocks the node. If it cannot be unlocked, then it should return false. Otherwise, it should unlock it and return true.\n",
    "You may augment the node to add parent pointers or any other property you would like. You may assume the class is used in a single-threaded program, so there is no need for actual locks or mutexes. Each method should run in O(h), where h is the height of the tree.\n",
    "\n"
   ]
  },
  {
   "cell_type": "markdown",
   "metadata": {},
   "source": [
    "# Search with wildcards [June 25, 2018]\n",
    "\n",
    "You are given a dictionary of words, which you can preprocess to support search queries for input words. The input word can contain up to two consecutive wildcards. For example:\n",
    "dictionary = {\"foo\", \"bar\", \"baaz\", \"food\"}\n",
    "query = \"bar\", answer = True\n",
    "query = \"b.r\", answer = True\n",
    "query = \"f..d\", answer = True\n",
    "query = \"xyz\", answer = False\n",
    "\n",
    "\n",
    "related links:\n",
    "https://www.geeksforgeeks.org/wildcard-pattern-matching/\n",
    "https://www.geeksforgeeks.org/searching-for-patterns-set-2-kmp-algorithm/"
   ]
  },
  {
   "cell_type": "code",
   "execution_count": 14,
   "metadata": {
    "collapsed": true
   },
   "outputs": [],
   "source": [
    "_end = \"_end\"\n",
    "def make_trie(words):\n",
    "    trie = {}\n",
    "    for word in words:\n",
    "        current = trie\n",
    "        for letter in word:\n",
    "            if not current.has_key(letter):\n",
    "                current[letter] = {} \n",
    "            current = current[letter]\n",
    "        current[_end] = _end\n",
    "    return trie    "
   ]
  },
  {
   "cell_type": "code",
   "execution_count": 48,
   "metadata": {},
   "outputs": [
    {
     "data": {
      "text/plain": [
       "{'a': {'b': {'x': {'y': {'z': {'d': {'e': {'_end': '_end'}}}}}}},\n",
       " 'd': {'o': {'g': {'_end': '_end'},\n",
       "   'l': {'l': {'a': {'r': {'_end': '_end'}}}},\n",
       "   'n': {'k': {'e': {'y': {'_end': '_end'}}}}}},\n",
       " 'e': {'l': {'e': {'p': {'h': {'a': {'n': {'t': {'_end': '_end'}}}}}}},\n",
       "  'm': {'p': {'h': {'a': {'s': {'i': {'z': {'e': {'_end': '_end'}}}}}}}},\n",
       "  'q': {'u': {'a': {'l': {'_end': '_end'}}}}},\n",
       " 'f': {'e': {'a': {'r': {'_end': '_end'}}},\n",
       "  'o': {'o': {'_end': '_end', 'd': {'_end': '_end'}}}}}"
      ]
     },
     "execution_count": 48,
     "metadata": {},
     "output_type": "execute_result"
    }
   ],
   "source": [
    "words = [\"dog\", \"donkey\", \"dollar\", \"foo\", \"food\", \"fear\", \"elephant\", \"equal\", \"emphasize\", \"abxyzde\"]\n",
    "trie = make_trie(words)\n",
    "trie"
   ]
  },
  {
   "cell_type": "code",
   "execution_count": 49,
   "metadata": {
    "collapsed": true
   },
   "outputs": [],
   "source": [
    "def search_trie(word, trie):\n",
    "    current = trie\n",
    "    for letter in word:\n",
    "        if not current.has_key(letter):\n",
    "            return False\n",
    "        current = current[letter]\n",
    "    if current.has_key(_end):\n",
    "        return True\n",
    "    else:\n",
    "        return False"
   ]
  },
  {
   "cell_type": "code",
   "execution_count": 50,
   "metadata": {},
   "outputs": [
    {
     "name": "stdout",
     "output_type": "stream",
     "text": [
      "True\n",
      "False\n"
     ]
    }
   ],
   "source": [
    "w_1 = \"foo\"\n",
    "w_2 = \"cool\"\n",
    "print search_trie(w_1, trie)\n",
    "print search_trie(w_2, trie)"
   ]
  },
  {
   "cell_type": "code",
   "execution_count": 51,
   "metadata": {
    "collapsed": true
   },
   "outputs": [],
   "source": [
    "_wildcard = \".\"\n",
    "def search_with_one_wildcard(word, trie):\n",
    "    current = trie\n",
    "    for i in range(len(word)):\n",
    "        letter = word[i]\n",
    "        \n",
    "        if letter == _wildcard:\n",
    "            for key in current.keys():\n",
    "                if search_trie(word[i+1:], current[key]):\n",
    "                    return True\n",
    "            return False\n",
    "        \n",
    "        if not current.has_key(letter):\n",
    "            return False\n",
    "        \n",
    "        current = current[letter]\n",
    "        \n",
    "    if current.has_key(_end):\n",
    "        return True\n",
    "    else:\n",
    "        return False  "
   ]
  },
  {
   "cell_type": "code",
   "execution_count": 53,
   "metadata": {},
   "outputs": [
    {
     "name": "stdout",
     "output_type": "stream",
     "text": [
      "True\n",
      "True\n",
      "False\n",
      "False\n"
     ]
    }
   ],
   "source": [
    "w_3 = \"f.o\"\n",
    "w_4 = \"d.g\"\n",
    "w_5 = \"c.ol\"\n",
    "w_6 = \"ab.de\"\n",
    "print search_with_one_wildcard(w_3, trie)\n",
    "print search_with_one_wildcard(w_4, trie)\n",
    "print search_with_one_wildcard(w_5, trie)\n",
    "print search_with_one_wildcard(w_6, trie)"
   ]
  },
  {
   "cell_type": "markdown",
   "metadata": {},
   "source": [
    "https://www.geeksforgeeks.org/reverse-string-python-5-different-ways/"
   ]
  },
  {
   "cell_type": "code",
   "execution_count": 56,
   "metadata": {},
   "outputs": [
    {
     "data": {
      "text/plain": [
       "{'d': {'o': {'o': {'f': {'_end': '_end'}}}},\n",
       " 'e': {'d': {'z': {'y': {'x': {'b': {'a': {'_end': '_end'}}}}}},\n",
       "  'z': {'i': {'s': {'a': {'h': {'p': {'m': {'e': {'_end': '_end'}}}}}}}}},\n",
       " 'g': {'o': {'d': {'_end': '_end'}}},\n",
       " 'l': {'a': {'u': {'q': {'e': {'_end': '_end'}}}}},\n",
       " 'o': {'o': {'f': {'_end': '_end'}}},\n",
       " 'r': {'a': {'e': {'f': {'_end': '_end'}},\n",
       "   'l': {'l': {'o': {'d': {'_end': '_end'}}}}}},\n",
       " 't': {'n': {'a': {'h': {'p': {'e': {'l': {'e': {'_end': '_end'}}}}}}}},\n",
       " 'y': {'e': {'k': {'n': {'o': {'d': {'_end': '_end'}}}}}}}"
      ]
     },
     "execution_count": 56,
     "metadata": {},
     "output_type": "execute_result"
    }
   ],
   "source": [
    "trie_reverse = make_trie(word[::-1] for word in words)\n",
    "trie_reverse"
   ]
  },
  {
   "cell_type": "code",
   "execution_count": 57,
   "metadata": {
    "collapsed": true
   },
   "outputs": [],
   "source": [
    "def search_trie_extension(word, trie):\n",
    "    if len(word) == 1:\n",
    "        return True # assuming trie is non-empty\n",
    "    \n",
    "    current = trie\n",
    "    \n",
    "    for letter in word:\n",
    "        if not current.has_key(letter):\n",
    "            return False\n",
    "        current = current[letter]\n",
    "    \n",
    "    if len(current.keys()) > 1: # _end is a key by default\n",
    "        return True\n",
    "    else: # _end is the only key\n",
    "        return False"
   ]
  },
  {
   "cell_type": "code",
   "execution_count": 58,
   "metadata": {},
   "outputs": [
    {
     "name": "stdout",
     "output_type": "stream",
     "text": [
      "True\n",
      "False\n",
      "False\n"
     ]
    }
   ],
   "source": [
    "w_1 = \"foo\"\n",
    "w_2 = \"cool\"\n",
    "w_7 = \"food\"\n",
    "print search_trie_extension(w_1, trie)\n",
    "print search_trie_extension(w_2, trie)\n",
    "print search_trie_extension(w_6, trie)"
   ]
  },
  {
   "cell_type": "code",
   "execution_count": 59,
   "metadata": {
    "collapsed": true
   },
   "outputs": [],
   "source": [
    "# A slight variation of the algorithm below is not correct\n",
    "# In particular, consider searching for word pattern = ab.de\n",
    "# by performing two checks separately and returning True if both checks pass: \n",
    "# a) check if ab ... is present in trie and \n",
    "# b) check if ed ... is present in trie_reverse \n",
    "# Unfortunately these two checks are not sufficient. \n",
    "# For example, abxyzde would pass these two checks but abxyzde does not match pattern ab.de.\n",
    "# Perhaps we have to maintain reverse of every subtrie in order to make it work.\n",
    "\n",
    "def efficient_search_with_one_wildcard(word, trie, trie_reverse):\n",
    "    current = trie\n",
    "    for i in range(len(word)):\n",
    "        letter = word[i]\n",
    "        \n",
    "        if letter == _wildcard:\n",
    "            suffix_reverse = word[i+1:][::-1]\n",
    "            return search_trie_extension(suffix_reverse, trie_reverse)\n",
    "            \n",
    "        if not current.has_key(letter):\n",
    "            return False\n",
    "        \n",
    "        current = current[letter]\n",
    "        \n",
    "    if current.has_key(_end):\n",
    "        return True\n",
    "    else:\n",
    "        return False  \n",
    "    "
   ]
  },
  {
   "cell_type": "code",
   "execution_count": 63,
   "metadata": {},
   "outputs": [
    {
     "name": "stdout",
     "output_type": "stream",
     "text": [
      "True\n",
      "True\n",
      "False\n",
      "False\n",
      "True\n"
     ]
    }
   ],
   "source": [
    "w_3 = \"f.o\"\n",
    "w_4 = \"d.g\"\n",
    "w_5 = \"c.ol\"\n",
    "w_6 = \"ab.de\"\n",
    "w_8 = \"abxy.de\"\n",
    "print efficient_search_with_one_wildcard(w_3, trie, trie_reverse)\n",
    "print efficient_search_with_one_wildcard(w_4, trie, trie_reverse)\n",
    "print efficient_search_with_one_wildcard(w_5, trie, trie_reverse)\n",
    "\n",
    "print efficient_search_with_one_wildcard(w_6, trie, trie_reverse)\n",
    "print efficient_search_with_one_wildcard(w_7, trie, trie_reverse)"
   ]
  },
  {
   "cell_type": "code",
   "execution_count": null,
   "metadata": {
    "collapsed": true
   },
   "outputs": [],
   "source": []
  }
 ],
 "metadata": {
  "kernelspec": {
   "display_name": "Python 2",
   "language": "python",
   "name": "python2"
  },
  "language_info": {
   "codemirror_mode": {
    "name": "ipython",
    "version": 2
   },
   "file_extension": ".py",
   "mimetype": "text/x-python",
   "name": "python",
   "nbconvert_exporter": "python",
   "pygments_lexer": "ipython2",
   "version": "2.7.13"
  }
 },
 "nbformat": 4,
 "nbformat_minor": 2
}
