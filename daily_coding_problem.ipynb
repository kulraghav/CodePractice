{
 "cells": [
  {
   "cell_type": "markdown",
   "metadata": {
    "collapsed": true
   },
   "source": [
    "# Big thanks to founders@dailycodingproblem.com"
   ]
  },
  {
   "cell_type": "markdown",
   "metadata": {},
   "source": [
    "# Two-sum [May 13, 2018] \n",
    "\n",
    "Given a list of numbers, return whether any two sums to k.\n",
    "\n",
    "For example, given [10, 15, 3, 7] and k of 17, return true since 10 + 7 is 17.\n",
    "\n",
    "Bonus: Can you do this in one pass?"
   ]
  },
  {
   "cell_type": "markdown",
   "metadata": {},
   "source": [
    "_present = 1\n",
    "def two_sum(A, k):\n",
    "    \"\"\" returns True if there are i and j such that i != j and A[i] + A[j] = k; False otherwise \"\"\"\n",
    "    prefix = {}\n",
    "    for i in range(len(A)):\n",
    "        if prefix.has_key(k-A[i]):\n",
    "            return True\n",
    "        else:\n",
    "            prefix[A[i]] = _present\n",
    "    return False        "
   ]
  },
  {
   "cell_type": "code",
   "execution_count": 8,
   "metadata": {
    "collapsed": true
   },
   "outputs": [],
   "source": [
    "_present = 1\n",
    "def two_sum(A, k):\n",
    "    \"\"\" returns True if there are i and j such that i != j and A[i] + A[j] = k; False otherwise \"\"\"\n",
    "    prefix = {}\n",
    "    for i in range(len(A)):\n",
    "        if prefix.has_key(k-A[i]):\n",
    "            return True\n",
    "        else:\n",
    "            prefix[A[i]] = _present\n",
    "    return False        "
   ]
  },
  {
   "cell_type": "code",
   "execution_count": 9,
   "metadata": {},
   "outputs": [
    {
     "data": {
      "text/plain": [
       "True"
      ]
     },
     "execution_count": 9,
     "metadata": {},
     "output_type": "execute_result"
    }
   ],
   "source": [
    "A = [10, 15, 3, 7] \n",
    "k = 17\n",
    "two_sum(A, k)"
   ]
  },
  {
   "cell_type": "code",
   "execution_count": 10,
   "metadata": {},
   "outputs": [
    {
     "name": "stdout",
     "output_type": "stream",
     "text": [
      " returns True if there are i and j such that i != j and A[i] + A[j] = k; False otherwise \n"
     ]
    }
   ],
   "source": [
    "print two_sum.__doc__"
   ]
  },
  {
   "cell_type": "markdown",
   "metadata": {},
   "source": [
    "# All-but-one products [May 14, 2018]\n",
    "This problem was asked by Uber.\n",
    "\n",
    "Given an array of integers, return a new array such that each element at index i of the new array is the product of all the numbers in the original array except the one at i.\n",
    "\n",
    "For example, if our input was [1, 2, 3, 4, 5], the expected output would be [120, 60, 40, 30, 24]. If our input was [3, 2, 1], the expected output would be [2, 3, 6].\n",
    "\n",
    "Follow-up: what if you can't use division?"
   ]
  },
  {
   "cell_type": "markdown",
   "metadata": {},
   "source": [
    "def all_but_one_prodcut(A):\n",
    "    \"\"\" returns an array P such that P[i] is product of all A[j] such that j != i \"\"\"\n",
    "    \n",
    "    product = 1\n",
    "    for i in range(len(A)):\n",
    "        product = product*A[i]\n",
    "        \n",
    "    P = []\n",
    "    for i in range(len(A)):\n",
    "        P[i] = product / A[i]  # use list with append\n",
    "        \n",
    "    return P    "
   ]
  },
  {
   "cell_type": "code",
   "execution_count": 14,
   "metadata": {
    "collapsed": true
   },
   "outputs": [],
   "source": [
    "def all_but_one_prodcut(A):\n",
    "    \"\"\" returns an array P such that P[i] is product of all A[j] such that j != i \"\"\"\n",
    "    \n",
    "    product = 1\n",
    "    for i in range(len(A)):\n",
    "        product = product*A[i]\n",
    "        \n",
    "    P = []\n",
    "    for i in range(len(A)):\n",
    "        P.append(product / A[i])\n",
    "        \n",
    "    return P    "
   ]
  },
  {
   "cell_type": "code",
   "execution_count": 15,
   "metadata": {},
   "outputs": [
    {
     "data": {
      "text/plain": [
       "[120, 60, 40, 30, 24]"
      ]
     },
     "execution_count": 15,
     "metadata": {},
     "output_type": "execute_result"
    }
   ],
   "source": [
    "A =  [1, 2, 3, 4, 5]\n",
    "all_but_one_prodcut(A)"
   ]
  },
  {
   "cell_type": "markdown",
   "metadata": {},
   "source": [
    "def all_but_one_product_without_division(A):\n",
    "    \"\"\" returns P such that P[i] is product of all A[j] where j != i \"\"\"\n",
    "    \n",
    "    prefix = {}\n",
    "    prefix[-1] = 1\n",
    "    prefix_product = 1\n",
    "    for i in range(len(A)):\n",
    "        prefix_product = prefix_product*A[i]\n",
    "        prefix[i] = prefix_product\n",
    "        \n",
    "    suffix = {}\n",
    "    suffix[len(A)] = 1\n",
    "    suffix_product = 1\n",
    "    for j in range(len(A)-1, -1, -1):\n",
    "        suffix_product = suffix_product*A[j]\n",
    "        suffix[j] = suffix_product\n",
    "        \n",
    "    P = {}\n",
    "    for k in range(len(A)):\n",
    "        P[k] = prefix[k-1]*suffix[k+1]\n",
    "        \n",
    "    return P    \n",
    "        "
   ]
  },
  {
   "cell_type": "code",
   "execution_count": 16,
   "metadata": {
    "collapsed": true
   },
   "outputs": [],
   "source": [
    "def all_but_one_product_without_division(A):\n",
    "    \"\"\" returns P such that P[i] is product of all A[j] where j != i \"\"\"\n",
    "    \n",
    "    prefix = {}\n",
    "    prefix[-1] = 1\n",
    "    prefix_product = 1\n",
    "    for i in range(len(A)):\n",
    "        prefix_product = prefix_product*A[i]\n",
    "        prefix[i] = prefix_product\n",
    "        \n",
    "    suffix = {}\n",
    "    suffix[len(A)] = 1\n",
    "    suffix_product = 1\n",
    "    for j in range(len(A)-1, -1, -1):\n",
    "        suffix_product = suffix_product*A[j]\n",
    "        suffix[j] = suffix_product\n",
    "        \n",
    "    P = {}\n",
    "    for k in range(len(A)):\n",
    "        P[k] = prefix[k-1]*suffix[k+1]\n",
    "        \n",
    "    return P        "
   ]
  },
  {
   "cell_type": "code",
   "execution_count": 17,
   "metadata": {},
   "outputs": [
    {
     "data": {
      "text/plain": [
       "{0: 120, 1: 60, 2: 40, 3: 30, 4: 24}"
      ]
     },
     "execution_count": 17,
     "metadata": {},
     "output_type": "execute_result"
    }
   ],
   "source": [
    "all_but_one_product_without_division(A)"
   ]
  },
  {
   "cell_type": "code",
   "execution_count": null,
   "metadata": {
    "collapsed": true
   },
   "outputs": [],
   "source": []
  }
 ],
 "metadata": {
  "kernelspec": {
   "display_name": "Python 2",
   "language": "python",
   "name": "python2"
  },
  "language_info": {
   "codemirror_mode": {
    "name": "ipython",
    "version": 2
   },
   "file_extension": ".py",
   "mimetype": "text/x-python",
   "name": "python",
   "nbconvert_exporter": "python",
   "pygments_lexer": "ipython2",
   "version": "2.7.13"
  }
 },
 "nbformat": 4,
 "nbformat_minor": 2
}
