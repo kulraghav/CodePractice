{
 "cells": [
  {
   "cell_type": "markdown",
   "metadata": {},
   "source": [
    "http://highered.mheducation.com/sites/0070131511/information_center_view0/table_of_contents.html"
   ]
  },
  {
   "cell_type": "markdown",
   "metadata": {},
   "source": [
    "# Graph representations\n",
    "- adjacency matrix\n",
    "- adjacency list"
   ]
  },
  {
   "cell_type": "code",
   "execution_count": 5,
   "metadata": {
    "collapsed": true
   },
   "outputs": [],
   "source": [
    "def matrix_to_list(A):\n",
    "    G = {}\n",
    "    n = len(A)\n",
    "    for i in range(n):\n",
    "        G[i] = []\n",
    "        for j in range(n):\n",
    "            if A[i][j] == 1:\n",
    "                G[i].append(j)  \n",
    "                \n",
    "    return G            "
   ]
  },
  {
   "cell_type": "code",
   "execution_count": 9,
   "metadata": {},
   "outputs": [
    {
     "data": {
      "text/plain": [
       "{0: [1], 1: [0, 2], 2: [1]}"
      ]
     },
     "execution_count": 9,
     "metadata": {},
     "output_type": "execute_result"
    }
   ],
   "source": [
    "A = [[0, 1, 0], [1, 0, 1], [0, 1, 0]]\n",
    "G = matrix_to_list(A)\n",
    "G"
   ]
  },
  {
   "cell_type": "code",
   "execution_count": 11,
   "metadata": {
    "collapsed": true
   },
   "outputs": [],
   "source": [
    "def list_to_matrix(G):\n",
    "    A = []\n",
    "    n = len(G.keys())\n",
    "    for i in G.keys():\n",
    "        A.append([])\n",
    "        for j in range(n):\n",
    "            A[i].append(0)\n",
    "        for j in G[i]:\n",
    "            A[i][j] = 1\n",
    "    return A        "
   ]
  },
  {
   "cell_type": "code",
   "execution_count": 12,
   "metadata": {},
   "outputs": [
    {
     "data": {
      "text/plain": [
       "[[0, 1, 0], [1, 0, 1], [0, 1, 0]]"
      ]
     },
     "execution_count": 12,
     "metadata": {},
     "output_type": "execute_result"
    }
   ],
   "source": [
    "list_to_matrix(G)"
   ]
  },
  {
   "cell_type": "markdown",
   "metadata": {},
   "source": [
    "# Breadth First Search"
   ]
  },
  {
   "cell_type": "code",
   "execution_count": 55,
   "metadata": {},
   "outputs": [],
   "source": [
    "_visited = True\n",
    "\n",
    "def breadth_first_search_order_generator(G, root):\n",
    "    visited_nodes = {} \n",
    "    queue = [root] \n",
    "\n",
    "    while len(queue) > 0:\n",
    "        next_node = queue.pop(0)\n",
    "        yield next_node        \n",
    "        visited_nodes[next_node] = _visited\n",
    "        \n",
    "        for node in G[next_node]:\n",
    "            if not visited_nodes.has_key(node):\n",
    "                queue.append(node)    "
   ]
  },
  {
   "cell_type": "code",
   "execution_count": 56,
   "metadata": {},
   "outputs": [
    {
     "name": "stdout",
     "output_type": "stream",
     "text": [
      "0\n",
      "1\n",
      "2\n",
      "4\n",
      "3\n",
      "5\n"
     ]
    }
   ],
   "source": [
    "G = {0: [1], 1: [0, 2, 4], 2: [1, 3], 3:[2], 4: [1, 5], 5: [4]}\n",
    "for node in breadth_first_search_order_generator(G, 0):\n",
    "    print node"
   ]
  },
  {
   "cell_type": "markdown",
   "metadata": {},
   "source": [
    "# Python lists are not FIFO queues but they can be used as FIFO queue using pop(0)\n",
    "https://dbader.org/blog/queues-in-python"
   ]
  },
  {
   "cell_type": "code",
   "execution_count": 57,
   "metadata": {},
   "outputs": [
    {
     "name": "stdout",
     "output_type": "stream",
     "text": [
      "3\n",
      "[1, 2, 4]\n"
     ]
    },
    {
     "data": {
      "text/plain": [
       "1"
      ]
     },
     "execution_count": 57,
     "metadata": {},
     "output_type": "execute_result"
    }
   ],
   "source": [
    "\n",
    "q = [1,2,3]\n",
    "print q.pop()\n",
    "q.append(4)\n",
    "print q\n",
    "q.pop(0)"
   ]
  },
  {
   "cell_type": "markdown",
   "metadata": {},
   "source": [
    "# Depth First Search"
   ]
  },
  {
   "cell_type": "code",
   "execution_count": 75,
   "metadata": {
    "collapsed": true
   },
   "outputs": [],
   "source": [
    "_visited = True\n",
    "\n",
    "def depth_first_search_order_generator(G, root):\n",
    "    visited_nodes = {}\n",
    "    stack = [root] # python lists are LIFO \n",
    "    \n",
    "    while len(stack) > 0:\n",
    "        next_node = stack[-1]\n",
    "        yield next_node\n",
    "        visited_nodes[next_node] = _visited\n",
    "        \n",
    "        num_visited = 0\n",
    "        for node in G[next_node]:\n",
    "            if not visited_nodes.has_key(node):\n",
    "                stack.append(node)\n",
    "                break \n",
    "            else:\n",
    "                num_visited = num_visited + 1\n",
    "                \n",
    "        if num_visited == len(G[next_node]):\n",
    "            stack.pop()"
   ]
  },
  {
   "cell_type": "code",
   "execution_count": 76,
   "metadata": {},
   "outputs": [
    {
     "name": "stdout",
     "output_type": "stream",
     "text": [
      "0\n",
      "1\n",
      "2\n",
      "3\n",
      "2\n",
      "1\n",
      "4\n",
      "5\n",
      "4\n",
      "1\n",
      "0\n"
     ]
    }
   ],
   "source": [
    "root = 0\n",
    "G = {0: [1], 1: [0, 2, 4], 2: [1, 3], 3:[2], 4: [1, 5], 5: [4]}\n",
    "\n",
    "for node in depth_first_search_order_generator(G, root):\n",
    "    print node"
   ]
  },
  {
   "cell_type": "markdown",
   "metadata": {},
   "source": [
    "# Topological sort\n",
    "\n",
    "https://stackoverflow.com/questions/11277432/how-to-remove-a-key-from-a-python-dictionary\n",
    "\n",
    "https://www.w3resource.com/python-exercises/dictionary/python-data-type-dictionary-exercise-12.php"
   ]
  },
  {
   "cell_type": "code",
   "execution_count": 90,
   "metadata": {
    "collapsed": true
   },
   "outputs": [],
   "source": [
    "def find_sink(G):\n",
    "    for key in G.keys():\n",
    "        if len(G[key]) == 0:\n",
    "            return key\n",
    "\n",
    "def remove(node, G):\n",
    "    if not G.has_key(node):\n",
    "        return G\n",
    "    \n",
    "    del G[node]\n",
    "    \n",
    "    for key in G.keys():\n",
    "        if node in G[key]:\n",
    "            G[key].remove(node)\n",
    "    \n",
    "    return G"
   ]
  },
  {
   "cell_type": "code",
   "execution_count": 96,
   "metadata": {
    "collapsed": true
   },
   "outputs": [],
   "source": [
    "def topological_sort_order_generator(G):\n",
    "    while len(G.keys()) > 0:\n",
    "        sink = find_sink(G)\n",
    "        yield sink\n",
    "        remove(sink, G)"
   ]
  },
  {
   "cell_type": "code",
   "execution_count": 98,
   "metadata": {},
   "outputs": [
    {
     "name": "stdout",
     "output_type": "stream",
     "text": [
      "3\n",
      "2\n",
      "4\n",
      "1\n",
      "0\n"
     ]
    }
   ],
   "source": [
    "G = {0: [1], 1: [2, 4], 2: [3], 3:[], 4: [3]}\n",
    "for node in topological_sort_order_generator(G):\n",
    "    print node"
   ]
  },
  {
   "cell_type": "code",
   "execution_count": 95,
   "metadata": {},
   "outputs": [
    {
     "data": {
      "text/plain": [
       "{0: [1], 1: [2, 4], 2: [], 4: [], 5: []}"
      ]
     },
     "execution_count": 95,
     "metadata": {},
     "output_type": "execute_result"
    }
   ],
   "source": [
    "G = {0: [1], 1: [2, 4], 2: [3], 3:[], 4: [3], 5: []}\n",
    "\n",
    "# del G[3]\n",
    "remove(3, G)\n",
    "\n",
    "G"
   ]
  },
  {
   "cell_type": "code",
   "execution_count": null,
   "metadata": {
    "collapsed": true
   },
   "outputs": [],
   "source": []
  }
 ],
 "metadata": {
  "kernelspec": {
   "display_name": "Python 2",
   "language": "python",
   "name": "python2"
  },
  "language_info": {
   "codemirror_mode": {
    "name": "ipython",
    "version": 2
   },
   "file_extension": ".py",
   "mimetype": "text/x-python",
   "name": "python",
   "nbconvert_exporter": "python",
   "pygments_lexer": "ipython2",
   "version": "2.7.13"
  }
 },
 "nbformat": 4,
 "nbformat_minor": 2
}
