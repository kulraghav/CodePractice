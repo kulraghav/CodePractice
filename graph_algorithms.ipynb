{
 "cells": [
  {
   "cell_type": "markdown",
   "metadata": {},
   "source": [
    "# Graph representations\n",
    "- adjacency matrix\n",
    "- adjacency list"
   ]
  },
  {
   "cell_type": "code",
   "execution_count": 5,
   "metadata": {
    "collapsed": true
   },
   "outputs": [],
   "source": [
    "def matrix_to_list(A):\n",
    "    G = {}\n",
    "    n = len(A)\n",
    "    for i in range(n):\n",
    "        G[i] = []\n",
    "        for j in range(n):\n",
    "            if A[i][j] == 1:\n",
    "                G[i].append(j)  \n",
    "                \n",
    "    return G            "
   ]
  },
  {
   "cell_type": "code",
   "execution_count": 6,
   "metadata": {},
   "outputs": [
    {
     "data": {
      "text/plain": [
       "{0: [1], 1: [0, 2], 2: [1]}"
      ]
     },
     "execution_count": 6,
     "metadata": {},
     "output_type": "execute_result"
    }
   ],
   "source": [
    "A = [[0, 1, 0], [1, 0, 1], [0, 1, 0]]\n",
    "matrix_to_list(A)"
   ]
  },
  {
   "cell_type": "code",
   "execution_count": 2,
   "metadata": {
    "collapsed": true
   },
   "outputs": [],
   "source": [
    "def list_to_matrix(G):\n",
    "    A = []\n",
    "    n = len(G.keys())\n",
    "    for i in G.keys():\n",
    "        A[i] = []\n",
    "        for j in range(n):\n",
    "            A[i].append(0)\n",
    "        for j in G[i]:\n",
    "            A[i][j] = 1"
   ]
  },
  {
   "cell_type": "code",
   "execution_count": null,
   "metadata": {
    "collapsed": true
   },
   "outputs": [],
   "source": []
  }
 ],
 "metadata": {
  "kernelspec": {
   "display_name": "Python 2",
   "language": "python",
   "name": "python2"
  },
  "language_info": {
   "codemirror_mode": {
    "name": "ipython",
    "version": 2
   },
   "file_extension": ".py",
   "mimetype": "text/x-python",
   "name": "python",
   "nbconvert_exporter": "python",
   "pygments_lexer": "ipython2",
   "version": "2.7.13"
  }
 },
 "nbformat": 4,
 "nbformat_minor": 2
}
