{
 "cells": [
  {
   "cell_type": "code",
   "execution_count": 1,
   "id": "2a74ad4f-7313-4aee-8827-8f8b74abc48e",
   "metadata": {},
   "outputs": [],
   "source": [
    "import dvc"
   ]
  },
  {
   "cell_type": "code",
   "execution_count": 3,
   "id": "2bbb8f6d-881d-44a3-ae8f-0fada5eada68",
   "metadata": {},
   "outputs": [
    {
     "name": "stdout",
     "output_type": "stream",
     "text": [
      "There are no data or pipelines tracked in this project yet.           \n",
      "See <https://dvc.org/doc/start> to get started!\n"
     ]
    }
   ],
   "source": [
    "!dvc status"
   ]
  },
  {
   "cell_type": "code",
   "execution_count": 4,
   "id": "4fed10e6-5d80-4a22-92ae-193431b016e2",
   "metadata": {},
   "outputs": [
    {
     "name": "stdout",
     "output_type": "stream",
     "text": [
      "\u001b[?25l                                                                          ⠋ Checking graph\n",
      "Adding...                                                                       \n",
      "!\n",
      "  0% Checking cache in '/workspace/CodePractice/.dvc/cache'| |0/? [00:00<?,    ?\n",
      "                                                                                \n",
      "!\n",
      "  0%|          |Transferring                          0/? [00:00<?,     ?file/s]\n",
      "  0%|          |Transferring                          0/1 [00:00<?,     ?file/s]\n",
      "100% Adding...|████████████████████████████████████████|1/1 [00:00, 19.45file/s]\n",
      "\n",
      "To track the changes with git, run:\n",
      "\n",
      "\tgit add .gitignore data.csv.dvc\n",
      "\n",
      "To enable auto staging, run:\n",
      "\n",
      "\tdvc config core.autostage true\n"
     ]
    }
   ],
   "source": [
    "!dvc add data.csv"
   ]
  },
  {
   "cell_type": "code",
   "execution_count": 5,
   "id": "78f49b75-ffda-492f-a19e-d0c335c0276d",
   "metadata": {},
   "outputs": [],
   "source": [
    "!git add .gitignore data.csv.dvc"
   ]
  },
  {
   "cell_type": "code",
   "execution_count": 6,
   "id": "52033d41-5366-4213-8b8f-b96dc4a88e24",
   "metadata": {},
   "outputs": [
    {
     "name": "stdout",
     "output_type": "stream",
     "text": [
      "[master 5d2c6de] started tracking data.csv\n",
      " 5 files changed, 11 insertions(+)\n",
      " create mode 100644 .dvc/.gitignore\n",
      " create mode 100644 .dvc/config\n",
      " create mode 100644 .dvcignore\n",
      " create mode 100644 .gitignore\n",
      " create mode 100644 data.csv.dvc\n"
     ]
    }
   ],
   "source": [
    "!git commit -m \"started tracking data.csv\""
   ]
  },
  {
   "cell_type": "code",
   "execution_count": 7,
   "id": "0e08accb-e773-47a8-bb8d-7361f7ec359b",
   "metadata": {},
   "outputs": [
    {
     "name": "stdout",
     "output_type": "stream",
     "text": [
      "Enumerating objects: 9, done.\n",
      "Counting objects: 100% (9/9), done.\n",
      "Delta compression using up to 8 threads\n",
      "Compressing objects: 100% (5/5), done.\n",
      "Writing objects: 100% (8/8), 761 bytes | 761.00 KiB/s, done.\n",
      "Total 8 (delta 0), reused 4 (delta 0), pack-reused 0\n",
      "To https://github.com/kulraghav/CodePractice.git\n",
      "   aac1666..5d2c6de  master -> master\n"
     ]
    }
   ],
   "source": [
    "!git push"
   ]
  },
  {
   "cell_type": "code",
   "execution_count": 8,
   "id": "27522292-295e-4c5c-aeba-85d5230ddbc3",
   "metadata": {},
   "outputs": [
    {
     "name": "stdout",
     "output_type": "stream",
     "text": [
      "ERROR                                                                 : failed to push data to the cloud - config file error: no remote specified. Create a default remote with\n",
      "    dvc remote add -d <remote name> <remote url>\n"
     ]
    }
   ],
   "source": [
    "!dvc push"
   ]
  },
  {
   "cell_type": "code",
   "execution_count": 50,
   "id": "ae00c5f0-308a-405b-94ea-be6014edc95e",
   "metadata": {},
   "outputs": [
    {
     "name": "stdout",
     "output_type": "stream",
     "text": [
      "Setting 'data' as a default remote.\n"
     ]
    }
   ],
   "source": [
    "!dvc remote add -d -f data data.csv"
   ]
  },
  {
   "cell_type": "code",
   "execution_count": 11,
   "id": "96b34b5f-8777-4126-ad6e-199dbe7887e7",
   "metadata": {},
   "outputs": [
    {
     "name": "stdout",
     "output_type": "stream",
     "text": [
      "                                                                                \r"
     ]
    }
   ],
   "source": [
    "!dvc checkout data.csv.dvc"
   ]
  },
  {
   "cell_type": "code",
   "execution_count": 12,
   "id": "2534e06d-517a-4d00-9a60-6bc4b73fb1e2",
   "metadata": {},
   "outputs": [
    {
     "name": "stdout",
     "output_type": "stream",
     "text": [
      "Name,Age\n",
      "John,15\n",
      "Mary,14\n"
     ]
    }
   ],
   "source": [
    "!cat data.csv"
   ]
  },
  {
   "cell_type": "code",
   "execution_count": 14,
   "id": "66826ccb-02bb-4f35-be79-f1b51d9b0beb",
   "metadata": {},
   "outputs": [],
   "source": [
    "!echo 'Sally,13' >> data.csv"
   ]
  },
  {
   "cell_type": "code",
   "execution_count": 15,
   "id": "36f521e9-b677-4757-b037-4318a172b057",
   "metadata": {},
   "outputs": [
    {
     "name": "stdout",
     "output_type": "stream",
     "text": [
      "Name,Age\n",
      "John,15\n",
      "Mary,14\n",
      "Sally,13\n"
     ]
    }
   ],
   "source": [
    "!cat data.csv"
   ]
  },
  {
   "cell_type": "code",
   "execution_count": 16,
   "id": "426e75e3-09d3-4b79-ba0a-f138a29e2837",
   "metadata": {},
   "outputs": [
    {
     "name": "stdout",
     "output_type": "stream",
     "text": [
      "\u001b[?25l                                                                          ⠋ Checking graph\n",
      "Adding...                                                                       \n",
      "!\n",
      "  0% Checking cache in '/workspace/CodePractice/.dvc/cache'| |0/? [00:00<?,    ?\n",
      "                                                                                \n",
      "!\n",
      "  0%|          |Transferring                          0/? [00:00<?,     ?file/s]\n",
      "  0%|          |Transferring                          0/1 [00:00<?,     ?file/s]\n",
      "100% Adding...|████████████████████████████████████████|1/1 [00:00, 27.92file/s]\n",
      "\n",
      "To track the changes with git, run:\n",
      "\n",
      "\tgit add data.csv.dvc\n",
      "\n",
      "To enable auto staging, run:\n",
      "\n",
      "\tdvc config core.autostage true\n"
     ]
    }
   ],
   "source": [
    "!dvc add data.csv"
   ]
  },
  {
   "cell_type": "code",
   "execution_count": 17,
   "id": "0c7050ff-0e86-40c1-b275-75ce1d479e38",
   "metadata": {},
   "outputs": [],
   "source": [
    "!git add data.csv.dvc"
   ]
  },
  {
   "cell_type": "code",
   "execution_count": 18,
   "id": "3398bf38-96c8-4f02-9a1d-2138312a30bc",
   "metadata": {},
   "outputs": [
    {
     "name": "stdout",
     "output_type": "stream",
     "text": [
      "[master 7851ab1] added Sally\n",
      " 1 file changed, 2 insertions(+), 2 deletions(-)\n"
     ]
    }
   ],
   "source": [
    "!git commit -m 'added Sally'"
   ]
  },
  {
   "cell_type": "code",
   "execution_count": 19,
   "id": "d43bbae8-3e88-4673-9204-7ba9be9cffda",
   "metadata": {},
   "outputs": [
    {
     "name": "stdout",
     "output_type": "stream",
     "text": [
      "Enumerating objects: 5, done.\n",
      "Counting objects: 100% (5/5), done.\n",
      "Delta compression using up to 8 threads\n",
      "Compressing objects: 100% (3/3), done.\n",
      "Writing objects: 100% (3/3), 325 bytes | 325.00 KiB/s, done.\n",
      "Total 3 (delta 1), reused 0 (delta 0), pack-reused 0\n",
      "remote: Resolving deltas: 100% (1/1), completed with 1 local object.\n",
      "To https://github.com/kulraghav/CodePractice.git\n",
      "   5d2c6de..7851ab1  master -> master\n"
     ]
    }
   ],
   "source": [
    "!git push"
   ]
  },
  {
   "cell_type": "code",
   "execution_count": 21,
   "id": "bb2f4092-fa09-4a6f-ab47-963f414493ef",
   "metadata": {},
   "outputs": [
    {
     "name": "stdout",
     "output_type": "stream",
     "text": [
      "Updated 1 path from 5483ae3\n"
     ]
    }
   ],
   "source": [
    "!git checkout HEAD^ data.csv.dvc"
   ]
  },
  {
   "cell_type": "code",
   "execution_count": 22,
   "id": "35b34d1a-562b-45c9-912f-153977ba19ec",
   "metadata": {},
   "outputs": [
    {
     "name": "stdout",
     "output_type": "stream",
     "text": [
      "  0% Checkout|                                       |0/1 [00:00<?,     ?file/s]\n",
      "!\n",
      "  0%|          |/workspace/CodePractice/.dvc/cache/0.00/? [00:00<?,        ?B/s]\n",
      "  0%|          |/workspace/CodePractice/.dvc/cac0.00/25.0 [00:00<?,        ?B/s]\n",
      "M                                                                                      data.csv\n"
     ]
    }
   ],
   "source": [
    "!dvc checkout"
   ]
  },
  {
   "cell_type": "code",
   "execution_count": 23,
   "id": "32805ad1-2c6a-4aed-a099-8d0f5ca49380",
   "metadata": {},
   "outputs": [
    {
     "name": "stdout",
     "output_type": "stream",
     "text": [
      "Name,Age\n",
      "John,15\n",
      "Mary,14\n"
     ]
    }
   ],
   "source": [
    "!cat data.csv"
   ]
  },
  {
   "cell_type": "code",
   "execution_count": 24,
   "id": "cc18b1a6-2120-4fbe-9bc5-bf2869291881",
   "metadata": {},
   "outputs": [
    {
     "name": "stdout",
     "output_type": "stream",
     "text": [
      "Updated 1 path from b3228a9\n"
     ]
    }
   ],
   "source": [
    "!git checkout HEAD data.csv.dvc"
   ]
  },
  {
   "cell_type": "code",
   "execution_count": 25,
   "id": "db43bafe-0fe4-4b9e-ac29-1c06ac18f7d5",
   "metadata": {},
   "outputs": [
    {
     "name": "stdout",
     "output_type": "stream",
     "text": [
      "  0% Checkout|                                       |0/1 [00:00<?,     ?file/s]\n",
      "!\n",
      "  0%|          |/workspace/CodePractice/.dvc/cache/0.00/? [00:00<?,        ?B/s]\n",
      "  0%|          |/workspace/CodePractice/.dvc/cac0.00/34.0 [00:00<?,        ?B/s]\n",
      "M                                                                                      data.csv\n"
     ]
    }
   ],
   "source": [
    "!dvc checkout"
   ]
  },
  {
   "cell_type": "code",
   "execution_count": 26,
   "id": "af05884f-ddef-40c2-a94d-7aab823d185b",
   "metadata": {},
   "outputs": [
    {
     "name": "stdout",
     "output_type": "stream",
     "text": [
      "Name,Age\n",
      "John,15\n",
      "Mary,14\n",
      "Sally,13\n"
     ]
    }
   ],
   "source": [
    "!cat data.csv"
   ]
  },
  {
   "cell_type": "code",
   "execution_count": 27,
   "id": "48003881-dcc8-4642-abb5-bdca7b9f3908",
   "metadata": {},
   "outputs": [
    {
     "name": "stdout",
     "output_type": "stream",
     "text": [
      "On branch master\n",
      "Your branch is up to date with 'origin/master'.\n",
      "\n",
      "Changes not staged for commit:\n",
      "  (use \"git add <file>...\" to update what will be committed)\n",
      "  (use \"git restore <file>...\" to discard changes in working directory)\n",
      "\tmodified:   .dvc/config\n",
      "\n",
      "Untracked files:\n",
      "  (use \"git add <file>...\" to include in what will be committed)\n",
      "\t.ipynb_checkpoints/\n",
      "\tdvc_experiment.ipynb\n",
      "\n",
      "no changes added to commit (use \"git add\" and/or \"git commit -a\")\n"
     ]
    }
   ],
   "source": [
    "!git status"
   ]
  },
  {
   "cell_type": "code",
   "execution_count": 51,
   "id": "25008278-4dcd-4942-bc36-4543598ac178",
   "metadata": {},
   "outputs": [
    {
     "name": "stdout",
     "output_type": "stream",
     "text": [
      "[core]\n",
      "    remote = data\n",
      "['remote \"data\"']\n",
      "    url = ../data.csv\n"
     ]
    }
   ],
   "source": [
    "!cat .dvc/config"
   ]
  },
  {
   "cell_type": "code",
   "execution_count": 36,
   "id": "31bbfa82-3297-42ac-a5a9-56a5f80b828e",
   "metadata": {},
   "outputs": [
    {
     "name": "stdout",
     "output_type": "stream",
     "text": [
      "/workspace/CodePractice\n"
     ]
    }
   ],
   "source": [
    "!pwd"
   ]
  },
  {
   "cell_type": "code",
   "execution_count": 37,
   "id": "57bc68ed-2827-4723-b489-41091ba07fdd",
   "metadata": {},
   "outputs": [
    {
     "name": "stdout",
     "output_type": "stream",
     "text": [
      "Archive  CP  data.csv  data.csv.dvc  dvc_experiment.ipynb  test.txt\n"
     ]
    }
   ],
   "source": [
    "!ls"
   ]
  },
  {
   "cell_type": "code",
   "execution_count": 38,
   "id": "6b214e76-b3e4-47d2-9e0a-f8be461f39e9",
   "metadata": {},
   "outputs": [
    {
     "name": "stdout",
     "output_type": "stream",
     "text": [
      "total 36\n",
      "drwxr-xr-x 3 root root  4096 Mar  6 14:01 Archive\n",
      "-rw-r--r-- 1 root root     5 Mar  6 14:01 test.txt\n",
      "drwxr-xr-x 2 root root  4096 Mar  6 14:01 CP\n",
      "-rw-r--r-- 1 root root    74 Mar  6 14:35 data.csv.dvc\n",
      "-rw-r--r-- 1 root root    34 Mar  6 14:35 data.csv\n",
      "-rw-r--r-- 1 root root 13095 Mar  6 14:43 dvc_experiment.ipynb\n"
     ]
    }
   ],
   "source": [
    "!ls -lrt"
   ]
  },
  {
   "cell_type": "code",
   "execution_count": 48,
   "id": "8b3bfa22-aa5c-4121-8f20-4a608d30cf9e",
   "metadata": {},
   "outputs": [
    {
     "name": "stdout",
     "output_type": "stream",
     "text": [
      "  0% Transferring|                                   |0/1 [00:00<?,     ?file/s]\n",
      "!\n",
      "  0%|          |/workspace/CodePractice/.dvc/cache/0.00/? [00:00<?,        ?B/s]\n",
      "  0%|          |/workspace/CodePractice/.dvc/cac0.00/34.0 [00:00<?,        ?B/s]\n",
      "1 file pushed                                                                   \n"
     ]
    }
   ],
   "source": [
    "!dvc push"
   ]
  },
  {
   "cell_type": "code",
   "execution_count": 42,
   "id": "447e245f-fe51-41ee-bdcf-40b1e7871d6a",
   "metadata": {},
   "outputs": [
    {
     "name": "stdout",
     "output_type": "stream",
     "text": [
      "Archive  CP  data.csv  data.csv.dvc  dvc_experiment.ipynb  test.txt\n"
     ]
    }
   ],
   "source": [
    "!ls"
   ]
  },
  {
   "cell_type": "code",
   "execution_count": 43,
   "id": "e5b75a7f-65fe-40b4-8555-ad5730814c61",
   "metadata": {},
   "outputs": [],
   "source": [
    "!cd .."
   ]
  },
  {
   "cell_type": "code",
   "execution_count": 44,
   "id": "89b8899a-26c9-45af-a52d-aa02532bb940",
   "metadata": {},
   "outputs": [
    {
     "name": "stdout",
     "output_type": "stream",
     "text": [
      "Archive  CP  data.csv  data.csv.dvc  dvc_experiment.ipynb  test.txt\n"
     ]
    }
   ],
   "source": [
    "!ls"
   ]
  },
  {
   "cell_type": "code",
   "execution_count": 45,
   "id": "709d5d85-e9a3-4c9a-85d0-e5214e37a64e",
   "metadata": {},
   "outputs": [
    {
     "name": "stdout",
     "output_type": "stream",
     "text": [
      "/workspace/CodePractice\n"
     ]
    }
   ],
   "source": [
    "!pwd"
   ]
  },
  {
   "cell_type": "code",
   "execution_count": 49,
   "id": "e51b54e5-9b4e-47b8-a30b-469345a28e5a",
   "metadata": {},
   "outputs": [
    {
     "name": "stdout",
     "output_type": "stream",
     "text": [
      "Name,Age\n",
      "John,15\n",
      "Mary,14\n",
      "Sally,13\n"
     ]
    }
   ],
   "source": [
    "!cat data.csv"
   ]
  },
  {
   "cell_type": "code",
   "execution_count": 1,
   "id": "cb33a3b6-6d94-4add-96e3-3d4ed6ac1d14",
   "metadata": {},
   "outputs": [
    {
     "name": "stdout",
     "output_type": "stream",
     "text": [
      "  0% Checking cache in '1iJ8p-hKGErypS6BAK4jxeIkl8gnjzJxD'| |0/? [00:00<?,    ?f/opt/conda/lib/python3.9/site-packages/oauth2client/_helpers.py:255: UserWarning: Cannot access /root/.cache/pydrive2fs/710796635688-iivsgbgsb6uv1fap6635dhvuei09o66c.apps.googleusercontent.com/default.json: No such file or directory\n",
      "  warnings.warn(_MISSING_FILE_MESSAGE.format(filename))\n",
      "Your browser has been opened to visit:\n",
      "\n",
      "    https://accounts.google.com/o/oauth2/auth?client_id=710796635688-iivsgbgsb6uv1fap6635dhvuei09o66c.apps.googleusercontent.com&redirect_uri=http%3A%2F%2Flocalhost%3A8080%2F&scope=https%3A%2F%2Fwww.googleapis.com%2Fauth%2Fdrive+https%3A%2F%2Fwww.googleapis.com%2Fauth%2Fdrive.appdata&access_type=offline&response_type=code&approval_prompt=force\n",
      "\n",
      "Authentication successful.\n",
      "  0% Transferring|                                   |0/2 [00:00<?,     ?file/s]\n",
      "!\u001b[A\n",
      "  0%|          |1iJ8p-hKGErypS6BAK4jxeIkl8gnjzJxD/80.00/? [00:00<?,        ?B/s]\u001b[A\n",
      "  0%|          |1iJ8p-hKGErypS6BAK4jxeIkl8gnjzJx0.00/16.0 [00:00<?,        ?B/s]\u001b[A\n",
      " 50% Transferring|███████████████▌               |1/2 [00:01<00:01,  1.58s/file]\u001b[A\n",
      "                                                                                \u001b[A\n",
      "!\u001b[A\n",
      "  0%|          |1iJ8p-hKGErypS6BAK4jxeIkl8gnjzJxD/50.00/? [00:00<?,        ?B/s]\u001b[A\n",
      "  0%|          |1iJ8p-hKGErypS6BAK4jxeIkl8gnjzJx0.00/12.0 [00:00<?,        ?B/s]\u001b[A\n",
      "100% Transferring|███████████████████████████████|2/2 [00:03<00:00,  1.67s/file]\u001b[A\n",
      "  0% Checkout|                                       |0/1 [00:00<?,     ?file/s]\u001b[A\n",
      "!\u001b[A\n",
      "  0%|          |/CodePractice/.dvc/cache/86/c5c0ef10.00/? [00:00<?,        ?B/s]\u001b[A\n",
      "  0%|          |/CodePractice/.dvc/cache/86/c5c00.00/16.0 [00:00<?,        ?B/s]\u001b[A\n",
      "100% Checkout|███████████████████████████████████|1/1 [00:00<00:00, 17.68file/s]\u001b[A\n",
      "!\u001b[A\n",
      "  0%|          |/CodePractice/.dvc/cache/57/8ad4b240.00/? [00:00<?,        ?B/s]\u001b[A\n",
      "  0%|          |/CodePractice/.dvc/cache/57/8ad40.00/12.0 [00:00<?,        ?B/s]\u001b[A\n",
      "\u001b[32mA\u001b[0m       data_2.csv                                                     \u001b[A\n",
      "\u001b[32mA\u001b[0m       data.csv\n",
      "2 files added and 2 files fetched\n",
      "\u001b[0m"
     ]
    }
   ],
   "source": [
    "!dvc pull"
   ]
  },
  {
   "cell_type": "code",
   "execution_count": 2,
   "id": "24f97c76-68e5-4640-90d5-74fb78b94188",
   "metadata": {},
   "outputs": [
    {
     "name": "stdout",
     "output_type": "stream",
     "text": [
      "Archive  data.csv      data_2.csv      dvc_experiment.ipynb\n",
      "CP\t data.csv.dvc  data_2.csv.dvc  test.txt\n"
     ]
    }
   ],
   "source": [
    "!ls"
   ]
  },
  {
   "cell_type": "code",
   "execution_count": 3,
   "id": "737e8e14-c1cf-40ca-a2e4-72e229c018bb",
   "metadata": {},
   "outputs": [
    {
     "name": "stdout",
     "output_type": "stream",
     "text": [
      "X,Y\n",
      "1,2\n",
      "3,4\n"
     ]
    }
   ],
   "source": [
    "!cat data.csv"
   ]
  },
  {
   "cell_type": "code",
   "execution_count": null,
   "id": "b4903d01-1db7-430a-92ea-29d863bd520f",
   "metadata": {},
   "outputs": [],
   "source": [
    "'''\n",
    "\n",
    "code -> gitlab\n",
    "data -> gdrive\n",
    "\n",
    "Raghav Linux Machine : install docker + get Dockerfile\n",
    "Ong Windows Machine : install docker + get Dockerfile\n",
    "Wenqing Mac Machine : install docker + get Dockerfile\n",
    "\n",
    "1. configure credentials in Dockerfile\n",
    "2. docker build -t sandbox <path_to_folder_containing_Dockerfile>\n",
    "3. docker run --net=host -p 8888:8888 sandbox\n",
    "4. inside jupyter notebook: \n",
    "    1. !dvc pull -> this will output authentication link\n",
    "    2. click on the authentication link for gdrive -> this will open new browser window for authentication\n",
    "    3. authenticate by logging in and accepting terms and conditions\n",
    "'''"
   ]
  }
 ],
 "metadata": {
  "kernelspec": {
   "display_name": "Python 3 (ipykernel)",
   "language": "python",
   "name": "python3"
  },
  "language_info": {
   "codemirror_mode": {
    "name": "ipython",
    "version": 3
   },
   "file_extension": ".py",
   "mimetype": "text/x-python",
   "name": "python",
   "nbconvert_exporter": "python",
   "pygments_lexer": "ipython3",
   "version": "3.9.13"
  }
 },
 "nbformat": 4,
 "nbformat_minor": 5
}
