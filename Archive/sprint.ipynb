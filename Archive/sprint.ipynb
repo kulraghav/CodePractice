{
 "cells": [
  {
   "cell_type": "markdown",
   "metadata": {},
   "source": [
    "- two-sum (two pointers)\n",
    "- two-diff \n",
    "- max{j-i} such that A[i] > A[j] (sliding window)\n",
    "- reverse a linkedlist\n",
    "- serialize and deserialize a binary tree\n",
    "- merge sort (in place)\n",
    "- heapsort\n",
    "- quicksort (tail recursive)\n",
    "- binary search (recursive and non-recursive)\n",
    "- repeated squaring (exponentiation, fibonacci)\n",
    "- transpose a matrix\n",
    "- rotate a matrix\n",
    "- spiral order\n",
    "- print all words in a trie which end with \"ed\"\n",
    "- search with wildcard \".\"\n",
    "- longest common subsequence\n",
    "- tree traversals (preorder, postorder, inorder, level order, zig-zag level order, vertical order)\n",
    "- graph algorithms (bfs, dfs, dijkstra, A*, prim, kruskal, floyd-warshall all pair shortest paths, distance, search, connectivity, cycle-detection) \n",
    "- brute force search/pruning/constraint propagation (sudoku solver)\n",
    "\n",
    "\n",
    "http://theory.stanford.edu/~amitp/GameProgramming/\n",
    "https://www.redblobgames.com/pathfinding/a-star/introduction.html\n",
    "\n",
    "https://www.quora.com/How-do-Google-interviewers-score-candidates-after-an-interview"
   ]
  },
  {
   "cell_type": "code",
   "execution_count": 31,
   "metadata": {},
   "outputs": [],
   "source": [
    "def two_sum(A, t):\n",
    "    \"\"\"\n",
    "        args: \n",
    "            A: list of integers\n",
    "            t: integer\n",
    "        returns:\n",
    "            True/False \n",
    "    \"\"\"\n",
    "    seen = {}\n",
    "    for i in range(len(A)):\n",
    "        if t - A[i] in seen:\n",
    "            return True\n",
    "        seen[A[i]] = i\n",
    "        \n",
    "    return False\n",
    "\n",
    "def two_sum_sorted(A, t):\n",
    "    \"\"\"\n",
    "        args: \n",
    "            A: list of integers (sorted)\n",
    "            t: integer\n",
    "        returns:\n",
    "            True/False\n",
    "    \"\"\"\n",
    "    low = 0\n",
    "    high = len(A)-1\n",
    "    \n",
    "    while low < high:\n",
    "        if A[low] + A[high] == t:\n",
    "            return True\n",
    "        if A[low] + A[high] > t:\n",
    "            high = high - 1\n",
    "        else:\n",
    "            low = low + 1\n",
    "            \n",
    "    return False  \n",
    "\n",
    "def two_diff(A, t):\n",
    "    seen = {}\n",
    "    \n",
    "    for i in range(len(A)):\n",
    "        if A[i] - t in seen or A[i] + t in seen:\n",
    "            return True, A[i]\n",
    "        seen[A[i]] = i\n",
    "        \n",
    "    return False\n",
    "\n",
    "_infinity = 99999999\n",
    "def max_span(A):\n",
    "    prefix_maxs = []\n",
    "    current_max = -_infinity\n",
    "    \n",
    "    for i in range(len(A)):\n",
    "        if A[i]  > current_max:\n",
    "            current_max = A[i]\n",
    "            \n",
    "        prefix_maxs.append(current_max)  \n",
    "    \n",
    "    print prefix_maxs\n",
    "    \n",
    "    suffix_mins = []\n",
    "    current_min = _infinity\n",
    "    for i in range(len(A)-1, -1, -1):\n",
    "        if A[i] < current_min:\n",
    "            current_min = A[i]\n",
    "        \n",
    "        suffix_mins.append(current_min)\n",
    "    \n",
    "    suffix_mins = suffix_mins[::-1]\n",
    "    \n",
    "    print suffix_mins\n",
    "    \n",
    "    low = 0\n",
    "    high = 0\n",
    "    \n",
    "    max_span = 0\n",
    "    \n",
    "    while low < len(A) and high < len(A):\n",
    "        if prefix_maxs[low] == suffix_mins[high]:\n",
    "            low = low + 1\n",
    "            high = high + 1\n",
    "            \n",
    "        elif prefix_maxs[low] < suffix_mins[high]:\n",
    "            low = low + 1          \n",
    "        else: # prefix_maxs[low] > suffix_mins[high]:\n",
    "            high = high + 1\n",
    "                \n",
    "        if high - low > max_span:\n",
    "            max_span = high - low\n",
    "            \n",
    "        \n",
    "        \n",
    "    return max_span    \n",
    "            \n",
    "            \n",
    "            \n",
    "            \n",
    "        \n"
   ]
  },
  {
   "cell_type": "code",
   "execution_count": 35,
   "metadata": {},
   "outputs": [
    {
     "name": "stdout",
     "output_type": "stream",
     "text": [
      "[5, 8, 9, 9, 10]\n",
      "[1, 1, 1, 1, 10]\n"
     ]
    },
    {
     "data": {
      "text/plain": [
       "4"
      ]
     },
     "execution_count": 35,
     "metadata": {},
     "output_type": "execute_result"
    }
   ],
   "source": [
    "A = [5, 8, 9, 1, 10]\n",
    "t = 6\n",
    "two_sum(A, 5)\n",
    "two_sum_sorted(sorted(A), 11)\n",
    "two_diff(A, 10)\n",
    "max_span(A)"
   ]
  },
  {
   "cell_type": "code",
   "execution_count": 25,
   "metadata": {},
   "outputs": [],
   "source": [
    "class Node:\n",
    "    def __init__(self, val=None, nxt=None):\n",
    "        self.val = val\n",
    "        self.nxt = nxt\n",
    "    \n",
    "    def is_empty(self):\n",
    "        if self.val == None and self.nxt == None:\n",
    "            return True\n",
    "        else:\n",
    "            return False\n",
    "        \n",
    "    def show(self):\n",
    "        output = []\n",
    "        current = self\n",
    "        while not current.is_empty():\n",
    "            output.append(current.val)\n",
    "            current = current.nxt\n",
    "        print output\n",
    "        return\n",
    "    \n",
    "    def reverse(self):\n",
    "        current = self\n",
    "        current.show()\n",
    "        \n",
    "        if current.is_empty():\n",
    "            return current\n",
    "        \n",
    "        prev = Node()\n",
    "        \n",
    "        while not current.is_empty():\n",
    "            temp = current.nxt\n",
    "            current.nxt = prev\n",
    "            prev = current\n",
    "            current = temp\n",
    "            \n",
    "        return prev\n",
    "    \n",
    "\n",
    "class BinaryTreeNode:\n",
    "    def __init__(self, root=None, left=None, right=None):\n",
    "        self.root = root\n",
    "        self.left = left\n",
    "        self.right = right\n",
    "        \n",
    "    def is_empty(self):\n",
    "        if self.root==None and self.left==None and self.right==None:\n",
    "            return True\n",
    "        else:\n",
    "            return False\n",
    "        \n",
    "    def size(self):\n",
    "        if self.is_empty():\n",
    "            return 0\n",
    "        else:\n",
    "            return 1 + self.left.size() + self.right.size()\n",
    "        \n",
    "    def serialize(self):\n",
    "        serial = []\n",
    "        if self.is_empty():\n",
    "            return serial\n",
    "        \n",
    "        left_serial = self.left.serialize()\n",
    "        right_serial = self.right.serialize()\n",
    "        \n",
    "        header = {'root': self.root, \n",
    "                  'size': 1 + len(left_serial) + len(right_serial),\n",
    "                  'left_size': len(left_serial),\n",
    "                  'right_size': len(right_serial)}\n",
    "        \n",
    "        return [header] + left_serial + right_serial\n",
    "    \n",
    "\n",
    "def deserialize(serial):\n",
    "    if len(serial) == 0:\n",
    "        return BinaryTreeNode()\n",
    "    \n",
    "    header = serial[0]\n",
    "    left_size = header['left_size']\n",
    "    \n",
    "    return BinaryTreeNode(header['root'], deserialize(serial[1:1+left_size]), \n",
    "                deserialize(serial[1+left_size:]))     "
   ]
  },
  {
   "cell_type": "code",
   "execution_count": 27,
   "metadata": {},
   "outputs": [
    {
     "name": "stdout",
     "output_type": "stream",
     "text": [
      "[1, 2, 3, 4]\n",
      "[1, 2, 3, 4]\n",
      "[4, 3, 2, 1]\n"
     ]
    },
    {
     "data": {
      "text/plain": [
       "[{'left_size': 1, 'right_size': 1, 'root': 1, 'size': 3},\n",
       " {'left_size': 0, 'right_size': 0, 'root': 2, 'size': 1},\n",
       " {'left_size': 0, 'right_size': 0, 'root': 3, 'size': 1}]"
      ]
     },
     "execution_count": 27,
     "metadata": {},
     "output_type": "execute_result"
    }
   ],
   "source": [
    "mylist = Node(1, Node(2, Node(3, Node(4, Node()))))\n",
    "mylist.is_empty()\n",
    "mylist.show()\n",
    "mylist.reverse().show()\n",
    "\n",
    "mytree = BinaryTreeNode(1, BinaryTreeNode(2, BinaryTreeNode(), BinaryTreeNode()), BinaryTreeNode(3, BinaryTreeNode(), BinaryTreeNode()))\n",
    "mytree.is_empty()\n",
    "mytree.size()\n",
    "deserialize(mytree.serialize()).serialize()"
   ]
  },
  {
   "cell_type": "code",
   "execution_count": 58,
   "metadata": {
    "collapsed": true
   },
   "outputs": [],
   "source": [
    "def merge(A, B):\n",
    "    if len(A) == 0:\n",
    "        return B\n",
    "    if len(B) == 0:\n",
    "        return A\n",
    "    \n",
    "    C = []\n",
    "    i = 0\n",
    "    j = 0\n",
    "    \n",
    "    while i < len(A) and j < len(B):\n",
    "        if A[i] <= B[j]:\n",
    "            C.append(A[i])\n",
    "            i = i + 1\n",
    "        else:\n",
    "            C.append(B[j])\n",
    "            j = j + 1\n",
    "   \n",
    "    if i == len(A) and j < len(B):\n",
    "        for k in range(j, len(B)):\n",
    "            C.append(B[k])\n",
    "            \n",
    "    if j == len(B) and i < len(A): \n",
    "        for k in range(i, len(A)):\n",
    "            C.append(A[k])\n",
    "            \n",
    "    return C        \n",
    "\n",
    "def merge_sort(A):\n",
    "    if len(A) < 2:\n",
    "        return A\n",
    "    mid = len(A)//2\n",
    "    return merge(merge_sort(A[:mid]), merge_sort(A[mid:]))\n",
    "\n",
    "def binary_search(A, x):\n",
    "    if len(A) == 0:\n",
    "        return False\n",
    "    \n",
    "    begin = 0\n",
    "    end = len(A) - 1\n",
    "    \n",
    "    while begin < end:\n",
    "        mid = (begin + end) // 2\n",
    "        if A[mid] == x:\n",
    "            return True\n",
    "        elif A[mid] < x:\n",
    "            begin = mid + 1\n",
    "        else: # we must have A[mid] > x  \n",
    "            end = mid - 1\n",
    "            \n",
    "    if A[begin] == x:\n",
    "        return True\n",
    "    else:\n",
    "        return False\n",
    "            \n",
    "def expo(x, y):\n",
    "    if y == 0:\n",
    "        return 1\n",
    "    \n",
    "    if y % 2 == 0:\n",
    "        return expo(x, y//2)**2\n",
    "    else:\n",
    "        return x*expo(x, y//2)**2\n",
    "    \n",
    "    "
   ]
  },
  {
   "cell_type": "code",
   "execution_count": 59,
   "metadata": {},
   "outputs": [
    {
     "data": {
      "text/plain": [
       "8"
      ]
     },
     "execution_count": 59,
     "metadata": {},
     "output_type": "execute_result"
    }
   ],
   "source": [
    "expo(2,3)"
   ]
  },
  {
   "cell_type": "code",
   "execution_count": 57,
   "metadata": {},
   "outputs": [
    {
     "data": {
      "text/plain": [
       "True"
      ]
     },
     "execution_count": 57,
     "metadata": {},
     "output_type": "execute_result"
    }
   ],
   "source": [
    "binary_search([1,3,5,7,9], 7)"
   ]
  },
  {
   "cell_type": "code",
   "execution_count": 48,
   "metadata": {},
   "outputs": [
    {
     "name": "stdout",
     "output_type": "stream",
     "text": [
      "[1, 5] [2, 4, 3]\n",
      "[1] [5]\n",
      "[2] [4, 3]\n",
      "[4] [3]\n"
     ]
    },
    {
     "data": {
      "text/plain": [
       "[1, 2, 3, 4, 5]"
      ]
     },
     "execution_count": 48,
     "metadata": {},
     "output_type": "execute_result"
    }
   ],
   "source": [
    "A = [1,5,2,4,3]\n",
    "\n",
    "merge_sort(A)\n"
   ]
  },
  {
   "cell_type": "code",
   "execution_count": 60,
   "metadata": {
    "collapsed": true
   },
   "outputs": [],
   "source": [
    "def transpose(M):\n",
    "    for i in range(len(M)):\n",
    "        for j in range(i+1, len(M)):\n",
    "            temp = M[i][j]\n",
    "            M[i][j] = M[j][i]\n",
    "            M[j][i] = temp\n",
    "            \n",
    "    return M         "
   ]
  },
  {
   "cell_type": "code",
   "execution_count": 61,
   "metadata": {},
   "outputs": [
    {
     "data": {
      "text/plain": [
       "[[1, 3], [2, 4]]"
      ]
     },
     "execution_count": 61,
     "metadata": {},
     "output_type": "execute_result"
    }
   ],
   "source": [
    "M = [[1,2], [3,4]]\n",
    "transpose(M)"
   ]
  },
  {
   "cell_type": "code",
   "execution_count": 62,
   "metadata": {
    "collapsed": true
   },
   "outputs": [],
   "source": [
    "_end = '_end'\n",
    "def make_trie(words):\n",
    "    trie = {}\n",
    "    for word in words:\n",
    "        current = trie\n",
    "        for letter in word:\n",
    "            if letter in current:\n",
    "                current = current[letter]\n",
    "            else:\n",
    "                current[letter] = {}\n",
    "                current = current[letter]\n",
    "        current[_end] = _end  \n",
    "    return trie    "
   ]
  },
  {
   "cell_type": "code",
   "execution_count": 63,
   "metadata": {},
   "outputs": [
    {
     "data": {
      "text/plain": [
       "{'c': {'a': {'p': {'s': {'u': {'l': {'e': {'_end': '_end'}}}}},\n",
       "   't': {'_end': '_end', 'a': {'l': {'y': {'s': {'t': {'_end': '_end'}}}}}}}},\n",
       " 'd': {'a': {'l': {'l': {'_end': '_end'}}},\n",
       "  'o': {'g': {'_end': '_end'}, 'l': {'l': {'a': {'r': {'_end': '_end'}}}}}}}"
      ]
     },
     "execution_count": 63,
     "metadata": {},
     "output_type": "execute_result"
    }
   ],
   "source": [
    "words = ['cat', 'capsule', 'catalyst', 'dog', 'dall', 'dollar']\n",
    "make_trie(words)"
   ]
  },
  {
   "cell_type": "code",
   "execution_count": 64,
   "metadata": {
    "collapsed": true
   },
   "outputs": [],
   "source": [
    "def bfs(G, root):\n",
    "    queue = [root]\n",
    "    levels = {root: 0}\n",
    "    \n",
    "    while queue:\n",
    "        u = queue.pop(0)\n",
    "        \n",
    "        for v in G[u]:\n",
    "            if not v in levels:\n",
    "                levels[v] = 1 + levels[u]\n",
    "                queue.append(v)\n",
    "                \n",
    "    return levels    \n",
    "            \n",
    "    \n",
    "    "
   ]
  },
  {
   "cell_type": "code",
   "execution_count": 74,
   "metadata": {},
   "outputs": [
    {
     "data": {
      "text/plain": [
       "{1: 0, 2: 1, 3: 2, 4: 1, 5: 2, 6: 3, 7: 4}"
      ]
     },
     "execution_count": 74,
     "metadata": {},
     "output_type": "execute_result"
    }
   ],
   "source": [
    "G = {1: [2,4], 2:[3, 4], 3:[1], 4:[1,2,5], 5:[2,6], 6:[1,7], 7:[4]}\n",
    "\n",
    "bfs(G, 1)"
   ]
  },
  {
   "cell_type": "code",
   "execution_count": 82,
   "metadata": {
    "collapsed": true
   },
   "outputs": [],
   "source": [
    "_done = 1\n",
    "def dfs(G, u, visited={}):\n",
    "    print u\n",
    "    visited[u] = _done\n",
    "    \n",
    "    for v in G[u]:\n",
    "        if not v in visited:\n",
    "            dfs(G, v, visited)\n",
    "            \n",
    "    return       \n",
    "    \n",
    "    \n",
    "    \n",
    "       "
   ]
  },
  {
   "cell_type": "code",
   "execution_count": 81,
   "metadata": {},
   "outputs": [
    {
     "name": "stdout",
     "output_type": "stream",
     "text": [
      "1\n",
      "2\n",
      "3\n",
      "4\n",
      "5\n",
      "6\n",
      "7\n"
     ]
    }
   ],
   "source": [
    "dfs(G, 1)"
   ]
  },
  {
   "cell_type": "code",
   "execution_count": 83,
   "metadata": {
    "collapsed": true
   },
   "outputs": [],
   "source": [
    "def lcs(A, B):\n",
    "    lcs = {}\n",
    "    m = len(A)\n",
    "    n = len(B)\n",
    "    \n",
    "    for j in range(len(B)+1):\n",
    "        lcs[(0,j)] = 0\n",
    "        \n",
    "    for i in range(len(A)+1):\n",
    "        lcs[(i,0)] = 0\n",
    "        \n",
    "    for i in range(1, len(A)+1):\n",
    "        for j in range(1, len(B)+1):\n",
    "            if A[i-1] == B[j-1]:\n",
    "                lcs[(i,j)] = 1 + lcs[(i-1,j-1)]\n",
    "            else:\n",
    "                lcs[(i,j)] = max(lcs[(i,j-1)], lcs[(i-1,j)])\n",
    "                \n",
    "    return lcs[(m,n)]            \n",
    "        \n",
    "        "
   ]
  },
  {
   "cell_type": "code",
   "execution_count": 84,
   "metadata": {},
   "outputs": [
    {
     "data": {
      "text/plain": [
       "3"
      ]
     },
     "execution_count": 84,
     "metadata": {},
     "output_type": "execute_result"
    }
   ],
   "source": [
    "A = [1,2,4,8,16]\n",
    "B = [2,4,6,8,12]\n",
    "\n",
    "lcs(A, B)"
   ]
  },
  {
   "cell_type": "code",
   "execution_count": 87,
   "metadata": {
    "collapsed": true
   },
   "outputs": [],
   "source": [
    "def two_sum(A, t):\n",
    "    A = sorted(A)\n",
    "    low = 0\n",
    "    high = len(A)-1\n",
    "    \n",
    "    while low <= high:\n",
    "        if A[low] + A[high] == t:\n",
    "            return True\n",
    "        elif A[low] + A[high] > t:\n",
    "            high = high - 1\n",
    "        else:\n",
    "            low = low + 1\n",
    "            \n",
    "    return False \n",
    "\n",
    "def two_diff(A, t):\n",
    "    seen = {}\n",
    "    for i in range(len(A)):\n",
    "        seen[A[i]] = i\n",
    "        \n",
    "    for j in range(len(A)):\n",
    "        if A[j] + t in seen:\n",
    "            return True, j, seen[A[j]+t]\n",
    "        \n",
    "    return False, -1, -1\n",
    "\n",
    "\n",
    "def max_span(A):\n",
    "    prefix_maxs = get_prefix_maxs(A)\n",
    "    suffix_mins = get_suffix_mins(A)\n",
    "    \n",
    "    i = 0\n",
    "    j = 0\n",
    "    \n",
    "    max_span = 0\n",
    "    i_max = 0\n",
    "    j_max = 0\n",
    "    \n",
    "    while i < len(A) and j < len(A):\n",
    "        if prefix_maxs[i] > suffix_mins[j]:\n",
    "            if j - i > max_span:\n",
    "                max_span = j - i\n",
    "                i_max = i\n",
    "                j_max = j\n",
    "            j = j + 1\n",
    "        else:\n",
    "            i = i + 1\n",
    "            \n",
    "    return max_span \n",
    "\n",
    "\n",
    "class Node:\n",
    "    def __init__(self, value, next_node):\n",
    "        self.value = value\n",
    "        self.next_node = next_node\n",
    "        \n",
    "_void = None\n",
    "\n",
    "def reverse_linked_list(node):\n",
    "    if node == _void or node.next_node == _void:\n",
    "        return node\n",
    "    \n",
    "    prev_node = _void\n",
    "    current_node = node\n",
    "    \n",
    "    while not current_node == _void:\n",
    "        temp = current_node.next_node\n",
    "        current_node.next_node = prev_node\n",
    "        prev_node = current_node\n",
    "        current_node = temp\n",
    "        \n",
    "    return prev_node     \n",
    "    \n",
    "class BinaryTree:\n",
    "    def __init__(self, value, left, right):\n",
    "        self.value = value\n",
    "        self.left = left\n",
    "        self.right = right\n",
    "        \n",
    "        \n",
    "def serialize(mytree):\n",
    "    serial = []\n",
    "    \n",
    "    if mytree == None:\n",
    "        return serial\n",
    "    \n",
    "    left_serial = serialize(mytree.left)    \n",
    "    right_serial = serialize(mytree.right)\n",
    "    \n",
    "    if len(left_serial) == 0:\n",
    "        left_size = 0\n",
    "    else:\n",
    "        left_size = left_serial[0]['size']\n",
    "        \n",
    "    if len(right_serial) == 0:\n",
    "        right_size = 0\n",
    "    else:\n",
    "        right_size = right_serial[0]['size']\n",
    "        \n",
    "    size = left_size + right_size + 1    \n",
    "    \n",
    "\n",
    "    \n",
    "    header = {'root_value': mytree.value, 'size': size, 'left_size': left_size, 'right_size': right_size}\n",
    "    \n",
    "    serial = [header] + left_serial + right_serial\n",
    "    \n",
    "    return serial\n",
    "\n",
    "def deserialize(serial):\n",
    "    if len(serial) == 0:\n",
    "        return None\n",
    "    \n",
    "    header = serial[0]\n",
    "    root_value = header['root_value']\n",
    "    left_tree = deserialize(serial[1: 1 + header['left_size']])\n",
    "    right_tree = deserialize(serial[1 + header['left_size']: header['size']])\n",
    "    \n",
    "    return BinaryTree(root_value, left_tree, right_tree)\n",
    "    \n",
    "    \n",
    "def merge(A, B):\n",
    "    i = 0\n",
    "    j = 0\n",
    "    \n",
    "    C = []\n",
    "    \n",
    "    while i < len(A) and j < len(B):\n",
    "        if A[i] < A[j]:\n",
    "            C.append(A[i])\n",
    "            i = i + 1\n",
    "        else:\n",
    "            C.append(B[j])\n",
    "            j = j + 1\n",
    "            \n",
    "    if i < len(A):\n",
    "        C = C + A[i:]\n",
    "        \n",
    "    if j < len(B):\n",
    "        C = C + B[j]\n",
    "        \n",
    "    return C    \n",
    "    \n",
    "def merge_sort(A):\n",
    "    if len(A) < 2:\n",
    "        return A\n",
    "    \n",
    "    mid = len(A)//2\n",
    "    \n",
    "    return merge(merge_sort(A[:mid]), merge_sort(A[mid:]))\n",
    "\n",
    "\n",
    "def partition(A):\n",
    "    \"\"\"\n",
    "        Assume len(A) > 0\n",
    "    \"\"\"\n",
    "    pivot = A[0]\n",
    "    \n",
    "    i = 0\n",
    "    j = len(A)-1\n",
    "    \n",
    "    while i < j:\n",
    "        if A[i] > pivot and A[j] <= pivot:\n",
    "            temp = A[i]\n",
    "            A[i] = A[j]\n",
    "            A[j] = temp\n",
    "            \n",
    "        if A[i] <= pivot:\n",
    "            i = i + 1\n",
    "        \n",
    "        if A[j] > pivot:\n",
    "            j = j - 1\n",
    "            \n",
    "    temp = A[j]\n",
    "    A[j] = A[0]\n",
    "    A[0] = temp\n",
    "    \n",
    "    return A[:i], pivot, A[i:]\n",
    "\n",
    "\n",
    "def binary_search(A, x):\n",
    "    if len(A) == 0:\n",
    "        return False\n",
    "    \n",
    "    begin_index = 0\n",
    "    end_index = len(A)-1\n",
    "    \n",
    "    while begin_index <= end_index:\n",
    "        mid_index = (begin_index + end_index) // 2\n",
    "        \n",
    "        if A[mid_index] == x:\n",
    "            return True\n",
    "        \n",
    "        if A[mid_index] > x:\n",
    "            end_index = mid_index - 1\n",
    "            \n",
    "        if A[mid_index] < x:\n",
    "            begin_index = mid_index + 1\n",
    "            \n",
    "    return False        \n",
    "            \n",
    "        \n",
    "def expo(a, n):\n",
    "    if n == 0:\n",
    "        return 1\n",
    "    \n",
    "    if n % 2 == 0:\n",
    "        temp = expo(a, n//2)\n",
    "        return temp*temp\n",
    "    \n",
    "    if n % 2 == 1:\n",
    "        temp = expo(a, (n-1)//2)\n",
    "        return a*temp*temp\n",
    "    \n",
    "    \n",
    "def transpose(M):\n",
    "    for i in range(len(M)):\n",
    "        for j in range(i+1, len(M)):\n",
    "            temp = M[i][j]\n",
    "            M[i][j] = M[j][i]\n",
    "            M[j][i] = temp\n",
    "            \n",
    "    return M        \n",
    "    \n",
    "_end_ = \"_end_\"    \n",
    "def make_trie(words):\n",
    "    trie = {}\n",
    "    \n",
    "    for word in words:\n",
    "        current = trie\n",
    "        for letter in word:\n",
    "            if not letter in current:\n",
    "                current[letter] = {}\n",
    "            current = current[letter]   \n",
    "                \n",
    "                \n",
    "        current[_end_] = _end_\n",
    "        \n",
    "    return trie\n",
    "            "
   ]
  },
  {
   "cell_type": "code",
   "execution_count": 88,
   "metadata": {},
   "outputs": [
    {
     "data": {
      "text/plain": [
       "{'a': {'p': {'p': {'l': {'e': {'_end_': '_end_'}}},\n",
       "   'r': {'i': {'c': {'o': {'t': {'_end_': '_end_'}}}}}}},\n",
       " 'b': {'a': {'m': {'b': {'o': {'o': {'_end_': '_end_'}}}},\n",
       "   'n': {'a': {'n': {'a': {'_end_': '_end_'}}}}}}}"
      ]
     },
     "execution_count": 88,
     "metadata": {},
     "output_type": "execute_result"
    }
   ],
   "source": [
    "words = ['apple', 'banana', 'apricot', 'bamboo']\n",
    "make_trie(words)"
   ]
  },
  {
   "cell_type": "code",
   "execution_count": 84,
   "metadata": {},
   "outputs": [
    {
     "data": {
      "text/plain": [
       "[[11, 21], [12, 22]]"
      ]
     },
     "execution_count": 84,
     "metadata": {},
     "output_type": "execute_result"
    }
   ],
   "source": [
    "M = [[11,12], [21, 22]]\n",
    "\n",
    "transpose(M)"
   ]
  },
  {
   "cell_type": "code",
   "execution_count": 80,
   "metadata": {},
   "outputs": [
    {
     "data": {
      "text/plain": [
       "-125"
      ]
     },
     "execution_count": 80,
     "metadata": {},
     "output_type": "execute_result"
    }
   ],
   "source": [
    "A = [1,3,5,7,9,11]\n",
    "x = 5\n",
    "\n",
    "binary_search(A, x)\n",
    "expo(-5,3)"
   ]
  },
  {
   "cell_type": "code",
   "execution_count": 66,
   "metadata": {},
   "outputs": [
    {
     "name": "stdout",
     "output_type": "stream",
     "text": [
      "3\n",
      "2\n",
      "1\n"
     ]
    }
   ],
   "source": [
    "mylist = Node(1,Node(2, Node(3, None)))\n",
    "rev = reverse_linked_list(mylist)\n",
    "print rev.value \n",
    "print rev.next_node.value\n",
    "print rev.next_node.next_node.value"
   ]
  },
  {
   "cell_type": "code",
   "execution_count": 61,
   "metadata": {},
   "outputs": [
    {
     "name": "stdout",
     "output_type": "stream",
     "text": [
      " 0 False\n",
      "2 False\n",
      "4 True\n",
      "6 True\n",
      "8 True\n",
      "10 True\n",
      "12 True\n",
      "14 True\n",
      "16 True\n",
      "18 True\n",
      "20 True\n",
      "22 True\n",
      "24 True\n",
      "26 True\n",
      "28 True\n",
      "30 True\n",
      "(True, 0, 9)\n",
      "(False, -1, -1)\n",
      "3"
     ]
    },
    {
     "ename": "AttributeError",
     "evalue": "'NoneType' object has no attribute 'value'",
     "output_type": "error",
     "traceback": [
      "\u001b[0;31m---------------------------------------------------------------------------\u001b[0m",
      "\u001b[0;31mAttributeError\u001b[0m                            Traceback (most recent call last)",
      "\u001b[0;32m<ipython-input-61-9048fbe34cf8>\u001b[0m in \u001b[0;36m<module>\u001b[0;34m()\u001b[0m\n\u001b[1;32m     12\u001b[0m \u001b[0mrev\u001b[0m \u001b[0;34m=\u001b[0m \u001b[0mreverse_linked_list\u001b[0m\u001b[0;34m(\u001b[0m\u001b[0mmylist\u001b[0m\u001b[0;34m)\u001b[0m\u001b[0;34m\u001b[0m\u001b[0m\n\u001b[1;32m     13\u001b[0m \u001b[0;32mprint\u001b[0m \u001b[0mrev\u001b[0m\u001b[0;34m.\u001b[0m\u001b[0mvalue\u001b[0m\u001b[0;34m,\u001b[0m\u001b[0;34m\u001b[0m\u001b[0m\n\u001b[0;32m---> 14\u001b[0;31m \u001b[0;32mprint\u001b[0m \u001b[0mrev\u001b[0m\u001b[0;34m.\u001b[0m\u001b[0mnext_node\u001b[0m\u001b[0;34m.\u001b[0m\u001b[0mvalue\u001b[0m\u001b[0;34m\u001b[0m\u001b[0m\n\u001b[0m\u001b[1;32m     15\u001b[0m \u001b[0;32mprint\u001b[0m \u001b[0mrev\u001b[0m\u001b[0;34m.\u001b[0m\u001b[0mnext_node\u001b[0m\u001b[0;34m.\u001b[0m\u001b[0mnext_node\u001b[0m\u001b[0;34m.\u001b[0m\u001b[0mvalue\u001b[0m\u001b[0;34m\u001b[0m\u001b[0m\n",
      "\u001b[0;31mAttributeError\u001b[0m: 'NoneType' object has no attribute 'value'"
     ]
    }
   ],
   "source": [
    "A = [2,3,5,7,11,13,19,23,29,31]\n",
    "t = 22\n",
    "for i in range(32):\n",
    "    if i % 2 == 0:\n",
    "        print i, two_sum(A, i)\n",
    "        \n",
    "print two_diff(A, 29) \n",
    "\n",
    "print two_diff(A, 32)\n",
    "\n"
   ]
  },
  {
   "cell_type": "code",
   "execution_count": 1,
   "metadata": {
    "collapsed": true
   },
   "outputs": [],
   "source": [
    "def two_sum(A, t):\n",
    "    \"\"\"\n",
    "        Args: A (list of int), t (int)\n",
    "        Returns: True/False\n",
    "        Raises: Exception(\"Invalid Input\")\n",
    "    \"\"\"\n",
    "    seen = {}\n",
    "    for i in range(len(A)):\n",
    "        if t-A[i] in seen:\n",
    "            return True\n",
    "        seen[A[i]] = i\n",
    "        \n",
    "    return False    "
   ]
  },
  {
   "cell_type": "code",
   "execution_count": 5,
   "metadata": {
    "collapsed": true
   },
   "outputs": [],
   "source": [
    "def two_sum_sorted(A, t):\n",
    "    \"\"\"\n",
    "        Args: A (list of int)\n",
    "        Returns: True/False\n",
    "        Raises: Exception(\"Invalid Input\")\n",
    "    \"\"\"\n",
    "    \n",
    "    low = 0\n",
    "    high = len(A)-1\n",
    "    \n",
    "    while low < high:\n",
    "        if A[low] + A[high] == t:\n",
    "            return True\n",
    "        if A[low] + A[high] > t:\n",
    "            high = high - 1\n",
    "        if A[low] + A[high] < t:\n",
    "            low = low + 1\n",
    "            \n",
    "    return False         "
   ]
  },
  {
   "cell_type": "code",
   "execution_count": 6,
   "metadata": {},
   "outputs": [
    {
     "data": {
      "text/plain": [
       "True"
      ]
     },
     "execution_count": 6,
     "metadata": {},
     "output_type": "execute_result"
    }
   ],
   "source": [
    "A = [5,1,4,2,1,6]\n",
    "t = 10\n",
    "\n",
    "two_sum_sorted(sorted(A), t)"
   ]
  },
  {
   "cell_type": "code",
   "execution_count": 9,
   "metadata": {
    "collapsed": true
   },
   "outputs": [],
   "source": [
    "def two_diff(A, t):\n",
    "    table = {}\n",
    "    for i in range(len(A)):\n",
    "        table[A[i]] = i\n",
    "        \n",
    "    for i in range(len(A)):\n",
    "        if t + A[i] in table:\n",
    "            return True\n",
    "        \n",
    "    return False    "
   ]
  },
  {
   "cell_type": "code",
   "execution_count": 8,
   "metadata": {
    "collapsed": true
   },
   "outputs": [],
   "source": [
    "def two_diff(A, t):\n",
    "    seen = {}\n",
    "    for i in range(len(A)):\n",
    "        seen[A[i]] = i\n",
    "        \n",
    "    for i in range(len(A)):\n",
    "        if t + A[i] in seen:\n",
    "            return True\n",
    "        \n",
    "    return False    "
   ]
  },
  {
   "cell_type": "code",
   "execution_count": 10,
   "metadata": {},
   "outputs": [
    {
     "data": {
      "text/plain": [
       "True"
      ]
     },
     "execution_count": 10,
     "metadata": {},
     "output_type": "execute_result"
    }
   ],
   "source": [
    "A = [5,1,4,2,1,6]\n",
    "t = 10\n",
    "\n",
    "two_diff(A, 5)"
   ]
  },
  {
   "cell_type": "code",
   "execution_count": 18,
   "metadata": {},
   "outputs": [
    {
     "name": "stdout",
     "output_type": "stream",
     "text": [
      "{0: 3, 1: 7, 2: 7, 3: 7, 4: 7, 5: 8}\n",
      "{0: 2, 1: 2, 2: 2, 3: 2, 4: 2, 5: 8}\n"
     ]
    },
    {
     "data": {
      "text/plain": [
       "4"
      ]
     },
     "execution_count": 18,
     "metadata": {},
     "output_type": "execute_result"
    }
   ],
   "source": [
    "_infinity = 99999999\n",
    "def max_span(A):\n",
    "    \"\"\"\n",
    "        Args: A (list of int)\n",
    "        Returns: max_span (int)\n",
    "        Raises: Exception(\"Invalid Input\")\n",
    "    \"\"\"\n",
    "    prefix_maxs = {}\n",
    "    current_max = -_infinity\n",
    "    \n",
    "    for i in range(len(A)):\n",
    "        if A[i] > current_max:\n",
    "            current_max = A[i]\n",
    "        prefix_maxs[i] = current_max\n",
    "    print(prefix_maxs)  \n",
    "    \n",
    "    prefix_mins = {}         \n",
    "    current_min = _infinity \n",
    "    \n",
    "    \n",
    "    \n",
    "    for i in range(len(A)-1, -1, -1):\n",
    "        if A[i] < current_min:\n",
    "            current_min = A[i]\n",
    "        prefix_mins[i] = current_min\n",
    "            \n",
    "    i = 0\n",
    "    j = 0\n",
    "    \n",
    "    print(prefix_mins)\n",
    "    \n",
    "    max_span = 0\n",
    "    \n",
    "    while i < len(A) and j < len(A):\n",
    "        \n",
    "        if prefix_maxs[i] > prefix_mins[j]:\n",
    "            if j - i > max_span:\n",
    "                max_span = j - i\n",
    "            j = j + 1\n",
    "        else:\n",
    "            i = i + 1\n",
    "            \n",
    "    return max_span        \n",
    "            \n",
    "A = [3,7,5,3,2,8] \n",
    "\n",
    "max_span(A)"
   ]
  },
  {
   "cell_type": "code",
   "execution_count": 35,
   "metadata": {
    "collapsed": true
   },
   "outputs": [],
   "source": [
    "_infinity = 99999999\n",
    "def max_span(A):\n",
    "    \"\"\"\n",
    "        Args: A (list of int)\n",
    "        Returns: i,j such that j-i is maximum subject to A[i] > A[j]\n",
    "    \"\"\"\n",
    "    \n",
    "    prefix_maxs = []\n",
    "    current_max = - _infinity\n",
    "    \n",
    "    for i in range(len(A)):\n",
    "        current_max = max(current_max, A[i])\n",
    "        prefix_maxs.append(current_max)\n",
    "        \n",
    "    suffix_mins = []\n",
    "    current_min = _infinity\n",
    "    \n",
    "    for i in range(len(A)-1, -1, -1):\n",
    "        current_min = min(current_min, A[i])\n",
    "        suffix_mins = [current_min] + suffix_mins\n",
    "        \n",
    "    i = 0\n",
    "    j = 0\n",
    "    \n",
    "    max_span = 0\n",
    "    \n",
    "    while i < len(A) and j < len(A):\n",
    "        if j-i > max_span:\n",
    "            max_span = j-i\n",
    "            i_max = i\n",
    "            j_max = j\n",
    "            \n",
    "        if prefix_maxs[i] > suffix_mins[j]:\n",
    "            j = j + 1\n",
    "        else:\n",
    "            i = i + 1\n",
    "              \n",
    "    return max_span, i_max, j_max             "
   ]
  },
  {
   "cell_type": "code",
   "execution_count": 36,
   "metadata": {},
   "outputs": [
    {
     "data": {
      "text/plain": [
       "(4, 0, 4)"
      ]
     },
     "execution_count": 36,
     "metadata": {},
     "output_type": "execute_result"
    }
   ],
   "source": [
    "max_span([5,3,4,2,1])"
   ]
  },
  {
   "cell_type": "code",
   "execution_count": 30,
   "metadata": {},
   "outputs": [
    {
     "data": {
      "text/plain": [
       "[3, 3, 3]"
      ]
     },
     "execution_count": 30,
     "metadata": {},
     "output_type": "execute_result"
    }
   ],
   "source": [
    "A = [3,2,1]\n",
    "prefix_maxs = []\n",
    "current_max = - _infinity\n",
    "    \n",
    "for i in range(len(A)):\n",
    "    current_max = max(current_max, A[i])\n",
    "    prefix_maxs.append(current_max)\n",
    "    \n",
    "prefix_maxs    "
   ]
  },
  {
   "cell_type": "code",
   "execution_count": 25,
   "metadata": {},
   "outputs": [
    {
     "data": {
      "text/plain": [
       "[1, 2, 3]"
      ]
     },
     "execution_count": 25,
     "metadata": {},
     "output_type": "execute_result"
    }
   ],
   "source": [
    "A = [1,2]\n",
    "A.append(3)\n",
    "A"
   ]
  },
  {
   "cell_type": "code",
   "execution_count": 3,
   "metadata": {},
   "outputs": [
    {
     "name": "stdout",
     "output_type": "stream",
     "text": [
      "True\n",
      "False\n"
     ]
    }
   ],
   "source": [
    "def two_sum(A,t):\n",
    "    \"\"\" Function to find if t can be expressed as a sum of two distinct elements of A\n",
    "        Args:\n",
    "            A: list of int\n",
    "            t: target int\n",
    "        Returns:\n",
    "            True if there exist i,j (i != j) such that A[i] + A[j] = t\n",
    "            False otherwise\n",
    "    \"\"\"        \n",
    "    A = sorted(A)\n",
    "    low = 0\n",
    "    high = len(A)-1\n",
    "    \n",
    "    while low < high:\n",
    "        if A[low] + A[high] == t:\n",
    "            return True\n",
    "        if A[low] + A[high] < t:     \n",
    "            low = low + 1\n",
    "        if A[low] + A[high] > t:\n",
    "            high = high - 1\n",
    "    return False        \n",
    "    \n",
    "A = [2,7,3,5,9]\n",
    "print two_sum(A, 12)\n",
    "print two_sum(A, 13)\n",
    "\n",
    "# switched < and > case\n",
    "# think thoroughly while writing the code, think of reasons why you are writing that line"
   ]
  },
  {
   "cell_type": "code",
   "execution_count": 12,
   "metadata": {},
   "outputs": [
    {
     "data": {
      "text/plain": [
       "True"
      ]
     },
     "execution_count": 12,
     "metadata": {},
     "output_type": "execute_result"
    }
   ],
   "source": [
    "def two_diff(A, t):\n",
    "    seen = {}\n",
    "    for i in range(len(A)):\n",
    "        seen[A[i]] = i\n",
    "        \n",
    "    for i in range(len(A)):\n",
    "        if A[i] + t in seen:\n",
    "            return True\n",
    "    return False\n",
    "\n",
    "two_diff(A, 6)"
   ]
  },
  {
   "cell_type": "code",
   "execution_count": 23,
   "metadata": {},
   "outputs": [
    {
     "name": "stdout",
     "output_type": "stream",
     "text": [
      "True\n",
      "False\n"
     ]
    }
   ],
   "source": [
    "def two_diff_positive(A, t):\n",
    "    A = sorted(A)\n",
    "    low = 0\n",
    "    high = 0\n",
    "    \n",
    "    while low < len(A) and high < len(A):\n",
    "        if A[high] - A[low] == t:\n",
    "            return True\n",
    "        if A[high] - A[low] > t:\n",
    "            low = low + 1\n",
    "        if A[high] - A[low] < t:\n",
    "            high = high + 1\n",
    "    return False\n",
    "\n",
    "A = [2,7,3,5,9]\n",
    "print two_diff_positive(A, 7)\n",
    "print two_diff_positive(A, 8)"
   ]
  },
  {
   "cell_type": "code",
   "execution_count": 37,
   "metadata": {},
   "outputs": [
    {
     "data": {
      "text/plain": [
       "1"
      ]
     },
     "execution_count": 37,
     "metadata": {},
     "output_type": "execute_result"
    }
   ],
   "source": [
    "_infinity = 99999999\n",
    "def max_index_diff(A):\n",
    "    prefix_maxs = {}\n",
    "    \n",
    "    current_max = -1*_infinity\n",
    "    for i in range(len(A)):\n",
    "        if A[i] > current_max:\n",
    "            current_max = A[i]\n",
    "        prefix_maxs[i] = current_max\n",
    "    \n",
    "    suffix_mins = {}\n",
    "    current_min = _infinity\n",
    "    for i in range(len(A)-1, -1, -1):\n",
    "        if A[i] < current_min:\n",
    "            current_min = A[i]\n",
    "        suffix_mins[i] = current_min\n",
    "        \n",
    "    low = 0\n",
    "    high = 0\n",
    "    \n",
    "    max_diff = 0\n",
    "    while low < len(A) and high < len(A):\n",
    "        max_diff = max(max_diff, high-low)\n",
    "        if prefix_maxs[low] > suffix_mins[high]:\n",
    "            high = high + 1\n",
    "        else: # prefix_maxs[low] <= suffix_mins[high]:\n",
    "            low = low + 1\n",
    "            \n",
    "    return max_diff\n",
    "\n",
    "#A = [2,7,3,5,4,9]\n",
    "A = [5,4,3,2,1]\n",
    "A = [3,2]\n",
    "A = [1,2]\n",
    "A = [2,1]\n",
    "max_index_diff(A)"
   ]
  },
  {
   "cell_type": "code",
   "execution_count": 6,
   "metadata": {
    "collapsed": true
   },
   "outputs": [],
   "source": [
    "def binary_search(A, x):\n",
    "    begin_index = 0\n",
    "    end_index = len(A)-1\n",
    "    \n",
    "    while begin_index <= end_index:\n",
    "        mid = (begin_index + end_index)//2 \n",
    "        if A[mid] == x:\n",
    "            return True\n",
    "        if x > A[mid]:\n",
    "            begin_index = mid + 1\n",
    "        if x < A[mid]:\n",
    "            end_index = mid - 1\n",
    "            \n",
    "    return False        \n",
    "    "
   ]
  },
  {
   "cell_type": "code",
   "execution_count": 7,
   "metadata": {},
   "outputs": [
    {
     "data": {
      "text/plain": [
       "False"
      ]
     },
     "execution_count": 7,
     "metadata": {},
     "output_type": "execute_result"
    }
   ],
   "source": [
    "A = [1,2,3,4,5,6,7]\n",
    "A = [1]\n",
    "binary_search(A, 3.3)"
   ]
  },
  {
   "cell_type": "code",
   "execution_count": 3,
   "metadata": {
    "collapsed": true
   },
   "outputs": [],
   "source": [
    "_undefined = None\n",
    "_void = None\n",
    "class Node:\n",
    "    def __init__(self, value=_undefined, next_node = _void):\n",
    "        self.value = value\n",
    "        self.next_node = next_node\n",
    "        \n",
    "    def insert(self, new_value):\n",
    "        current = self\n",
    "        while current.next_node:\n",
    "            current = current.next_node\n",
    "            \n",
    "        new_node = Node(new_value)    \n",
    "        current.next_node = new_node\n",
    "        \n",
    "        return self\n",
    "    \n",
    "    def show(self):\n",
    "        current = self\n",
    "        while current.next_node:\n",
    "            print(current.value)\n",
    "            current = current.next_node\n",
    "        print(current.value)    \n",
    "            "
   ]
  },
  {
   "cell_type": "code",
   "execution_count": 4,
   "metadata": {},
   "outputs": [
    {
     "name": "stdout",
     "output_type": "stream",
     "text": [
      "1\n",
      "2\n",
      "3\n",
      "4\n"
     ]
    }
   ],
   "source": [
    "mynode = Node(1)\n",
    "mynode.insert(2)\n",
    "mynode.insert(3)\n",
    "mynode.insert(4)\n",
    "mynode.show()"
   ]
  },
  {
   "cell_type": "code",
   "execution_count": 4,
   "metadata": {
    "collapsed": true
   },
   "outputs": [],
   "source": [
    "_undefined = None\n",
    "_void = None\n",
    "\n",
    "class Node:\n",
    "    def __init__(self, value=_undefined, next_node = _void):\n",
    "        self.value = value\n",
    "        self.next_node = next_node\n",
    "        \n",
    "    def show(self):\n",
    "        values = []\n",
    "        current = self\n",
    "        while current.next_node != _void:\n",
    "            values.append(current.value)\n",
    "            current = current.next_node\n",
    "        values.append(current.value)    \n",
    "        return values    \n",
    "            \n",
    "        \n",
    "    def add(self, new_value):\n",
    "        current = self\n",
    "        while current.next_node != _void:\n",
    "            current = current.next_node\n",
    "            \n",
    "        new_node = Node(new_value)\n",
    "        \n",
    "        current.next_node = new_node\n",
    "        return self\n",
    "    \n",
    "    def reverse(self):\n",
    "        prev = _void\n",
    "        current = self\n",
    "        \n",
    "        while current.next_node != _void:\n",
    "            next_node = current.next_node\n",
    "            current.next_node = prev\n",
    "            prev = current\n",
    "            current = next_node\n",
    "            \n",
    "        current.next_node = prev\n",
    "        return current"
   ]
  },
  {
   "cell_type": "code",
   "execution_count": 9,
   "metadata": {},
   "outputs": [
    {
     "data": {
      "text/plain": [
       "[5, 4, 3, 2, 1]"
      ]
     },
     "execution_count": 9,
     "metadata": {},
     "output_type": "execute_result"
    }
   ],
   "source": [
    "mynode = Node(1)\n",
    "mynode.add(2).show()\n",
    "mynode.add(3)\n",
    "mynode.add(4)\n",
    "mynode.add(5).show()\n",
    "mynode.reverse().show()"
   ]
  },
  {
   "cell_type": "code",
   "execution_count": 23,
   "metadata": {
    "collapsed": true
   },
   "outputs": [],
   "source": [
    "_undefined = None\n",
    "_void = None\n",
    "class Node:\n",
    "    def __init__(self, value=_undefined, left=_void, right=_void):\n",
    "        self.value = value\n",
    "        self.left = left\n",
    "        self.right = right\n",
    "        \n",
    "    def serialize(self):\n",
    "        if self == _void:\n",
    "            return []\n",
    "        \n",
    "        if self.left != _void:\n",
    "            left_headers = self.left.serialize()\n",
    "        else:\n",
    "            left_headers = []\n",
    "        \n",
    "        if self.right != _void:\n",
    "            right_headers = self.right.serialize()\n",
    "        else:\n",
    "            right_headers = []\n",
    "            \n",
    "        left_size = len(left_headers)\n",
    "        right_size = len(right_headers)\n",
    "        \n",
    "        this_header = {'value': self.value, 'size': 1 + left_size + right_size, 'left_size': left_size, 'right_size': right_size}\n",
    "        \n",
    "        return [this_header] + left_headers + right_headers\n",
    "    \n",
    "        "
   ]
  },
  {
   "cell_type": "code",
   "execution_count": 24,
   "metadata": {
    "collapsed": true
   },
   "outputs": [],
   "source": [
    "mynode = Node(1, Node(2, _void, _void), Node(3, _void, _void))"
   ]
  },
  {
   "cell_type": "code",
   "execution_count": 25,
   "metadata": {},
   "outputs": [
    {
     "data": {
      "text/plain": [
       "[{'left_size': 1, 'right_size': 1, 'size': 3, 'value': 1},\n",
       " {'left_size': 0, 'right_size': 0, 'size': 1, 'value': 2},\n",
       " {'left_size': 0, 'right_size': 0, 'size': 1, 'value': 3}]"
      ]
     },
     "execution_count": 25,
     "metadata": {},
     "output_type": "execute_result"
    }
   ],
   "source": [
    "mynode.serialize()"
   ]
  },
  {
   "cell_type": "code",
   "execution_count": 35,
   "metadata": {
    "collapsed": true
   },
   "outputs": [],
   "source": [
    "def deserialize(headers):\n",
    "    root_node = Node()\n",
    "    if len(headers) == 0:\n",
    "        return _void\n",
    "    \n",
    "    header = headers[0]\n",
    "    \n",
    "    value = header['value']\n",
    "    left_size = header['left_size']\n",
    "    right_size = header['right_size']\n",
    "    \n",
    "    root_node.value = value\n",
    "    root_node.left = deserialize(headers[1:left_size+1])\n",
    "    root_node.right = deserialize(headers[left_size+1:left_size+right_size+1])\n",
    "    \n",
    "    return root_node\n",
    "    "
   ]
  },
  {
   "cell_type": "code",
   "execution_count": 36,
   "metadata": {
    "collapsed": true
   },
   "outputs": [],
   "source": [
    "my_deserialized_node = deserialize(mynode.serialize())"
   ]
  },
  {
   "cell_type": "code",
   "execution_count": 37,
   "metadata": {},
   "outputs": [
    {
     "data": {
      "text/plain": [
       "[{'left_size': 1, 'right_size': 1, 'size': 3, 'value': 1},\n",
       " {'left_size': 0, 'right_size': 0, 'size': 1, 'value': 2},\n",
       " {'left_size': 0, 'right_size': 0, 'size': 1, 'value': 3}]"
      ]
     },
     "execution_count": 37,
     "metadata": {},
     "output_type": "execute_result"
    }
   ],
   "source": [
    "my_deserialized_node.serialize()"
   ]
  },
  {
   "cell_type": "code",
   "execution_count": 62,
   "metadata": {
    "collapsed": true
   },
   "outputs": [],
   "source": [
    "def merge(A, B):\n",
    "    C = []\n",
    "    i = 0\n",
    "    j = 0\n",
    "    while i < len(A) and j < len(B):\n",
    "        if A[i] < B[j]:\n",
    "            C.append(A[i])\n",
    "            i = i + 1\n",
    "        else:\n",
    "            C.append(B[j])\n",
    "            j = j + 1\n",
    "    \n",
    "    if i == len(A):\n",
    "        C = C + B[j:]\n",
    "    if j == len(B):\n",
    "        C = C + A[i:]\n",
    "        \n",
    "    return C\n",
    "\n",
    "def merge_sort(A):\n",
    "    if len(A) < 2:\n",
    "        return A\n",
    "    mid = len(A)//2\n",
    "    \n",
    "    return merge(merge_sort(A[:mid]), merge_sort(A[mid:]))\n",
    "\n",
    "# too many mistakes on first attempt\n",
    "# forgot to initialize i and j\n",
    "# used A[j] instead of B[j]\n",
    "# used mid+1 instead of mid\n",
    "    "
   ]
  },
  {
   "cell_type": "code",
   "execution_count": 9,
   "metadata": {
    "collapsed": true
   },
   "outputs": [],
   "source": [
    "_undefined = None\n",
    "def partition(A):\n",
    "    \"\"\"\n",
    "        Args: A (list of int)\n",
    "        Returns: \n",
    "                A_left (list of int)\n",
    "                pivot (int)\n",
    "                A_right (list of int)\n",
    "        Raises: Exception(\"Invalid Input\")         \n",
    "                \n",
    "    \"\"\"\n",
    "    if not A:\n",
    "        A_left = []\n",
    "        pivot = _undefined\n",
    "        A_right = []\n",
    "        return A_left, pivot, A_right\n",
    "    \n",
    "    pivot = A[0]\n",
    "    \n",
    "    low = 0\n",
    "    high = len(A)-1\n",
    "    \n",
    "    while low < high:\n",
    "        if A[low] > pivot and A[high] <= pivot:\n",
    "            temp = A[low]\n",
    "            A[low] = A[high]\n",
    "            A[high] = temp\n",
    "            \n",
    "        if A[low] <= pivot:\n",
    "            low = low + 1\n",
    "            \n",
    "        if A[high] > pivot:\n",
    "            high = high - 1\n",
    "            \n",
    "    A_left = A[1:low]       \n",
    "    A_right = A[low:]\n",
    "    \n",
    "    return A_left, pivot, A_right"
   ]
  },
  {
   "cell_type": "code",
   "execution_count": 11,
   "metadata": {},
   "outputs": [
    {
     "data": {
      "text/plain": [
       "([5, 2, 3], 6, [7, 8, 9])"
      ]
     },
     "execution_count": 11,
     "metadata": {},
     "output_type": "execute_result"
    }
   ],
   "source": [
    "A = [6,8,2,7,3,5,9]\n",
    "partition(A)"
   ]
  },
  {
   "cell_type": "code",
   "execution_count": 66,
   "metadata": {},
   "outputs": [
    {
     "name": "stdout",
     "output_type": "stream",
     "text": [
      "[2, 3, 5, 7, 9]\n"
     ]
    },
    {
     "data": {
      "text/plain": [
       "[2, 3, 5, 7, 9]"
      ]
     },
     "execution_count": 66,
     "metadata": {},
     "output_type": "execute_result"
    }
   ],
   "source": [
    "A = [2,7,3,5,9]\n",
    "\n",
    "B = sorted(A)\n",
    "print B\n",
    "\n",
    "#merge([2], [3])\n",
    "merge_sort(A)"
   ]
  },
  {
   "cell_type": "code",
   "execution_count": 96,
   "metadata": {
    "collapsed": true
   },
   "outputs": [],
   "source": [
    "def partition(A):\n",
    "    pivot = A[0]\n",
    "    \n",
    "    low = 0\n",
    "    high = len(A)-1\n",
    "    \n",
    "    while low <= high:\n",
    "        \n",
    "        if A[low] > pivot and A[high] <= pivot:\n",
    "            temp = A[low]\n",
    "            A[low] = A[high]\n",
    "            A[high] = temp\n",
    "        \n",
    "        if A[low] <= pivot:\n",
    "            low = low + 1\n",
    "        \n",
    "        if A[high] > pivot:\n",
    "            high = high - 1\n",
    "            \n",
    "    temp = A[low-1]\n",
    "    A[low-1] = A[0]\n",
    "    A[0] = temp\n",
    "    \n",
    "    return A[:low-1], pivot, A[low:]\n",
    "    \n",
    "def quick_sort(A):\n",
    "    if len(A) < 2:\n",
    "        return A\n",
    "    left_part, pivot, right_part = partition(A)\n",
    "    return quick_sort(left_part) + [pivot] + quick_sort(right_part)"
   ]
  },
  {
   "cell_type": "code",
   "execution_count": 94,
   "metadata": {},
   "outputs": [
    {
     "data": {
      "text/plain": [
       "([5, 3], 7, [])"
      ]
     },
     "execution_count": 94,
     "metadata": {},
     "output_type": "execute_result"
    }
   ],
   "source": [
    "partition([7,3,5])"
   ]
  },
  {
   "cell_type": "code",
   "execution_count": 99,
   "metadata": {},
   "outputs": [
    {
     "data": {
      "text/plain": [
       "[2, 3, 5, 7, 9]"
      ]
     },
     "execution_count": 99,
     "metadata": {},
     "output_type": "execute_result"
    }
   ],
   "source": [
    "A = [2,7,3,5,9]\n",
    "\n",
    "quick_sort(A)"
   ]
  },
  {
   "cell_type": "code",
   "execution_count": 97,
   "metadata": {},
   "outputs": [
    {
     "data": {
      "text/plain": [
       "([], 2, [7, 3, 5, 9])"
      ]
     },
     "execution_count": 97,
     "metadata": {},
     "output_type": "execute_result"
    }
   ],
   "source": [
    "partition(A)"
   ]
  },
  {
   "cell_type": "code",
   "execution_count": 98,
   "metadata": {},
   "outputs": [
    {
     "data": {
      "text/plain": [
       "([5, 3], 7, [9])"
      ]
     },
     "execution_count": 98,
     "metadata": {},
     "output_type": "execute_result"
    }
   ],
   "source": [
    "partition([7, 3, 5, 9])"
   ]
  },
  {
   "cell_type": "code",
   "execution_count": 100,
   "metadata": {
    "collapsed": true
   },
   "outputs": [],
   "source": [
    "def binary_search(A, begin_index, end_index, key):\n",
    "    if begin_index > end_index:\n",
    "        return False\n",
    "    mid = (begin_index + end_index) // 2\n",
    "    \n",
    "    if A[mid] == key:\n",
    "        return True\n",
    "    if A[mid] > key:\n",
    "        return binary_search(A, begin_index, mid-1, key)\n",
    "    if A[mid] < key:\n",
    "        return binary_search(A, mid+1, end_index, key)"
   ]
  },
  {
   "cell_type": "code",
   "execution_count": 10,
   "metadata": {
    "collapsed": true
   },
   "outputs": [],
   "source": [
    "def binary_search_iterative(A, x):\n",
    "    begin_index = 0\n",
    "    end_index = len(A) - 1\n",
    "    \n",
    "    while begin_index <= end_index:\n",
    "        mid = (begin_index + end_index) // 2\n",
    "        if x == A[mid]:\n",
    "            return True\n",
    "        if x > A[mid]:\n",
    "            begin_index = mid + 1\n",
    "        if x < A[mid]:    \n",
    "            end_index = mid - 1\n",
    "    return False        "
   ]
  },
  {
   "cell_type": "code",
   "execution_count": 11,
   "metadata": {},
   "outputs": [
    {
     "name": "stdout",
     "output_type": "stream",
     "text": [
      "False\n",
      "True\n",
      "False\n"
     ]
    }
   ],
   "source": [
    "A = [1, 3, 5, 7, 9, 11]\n",
    "x = 5\n",
    "y = 6\n",
    "\n",
    "print binary_search_iterative([], 2)\n",
    "print binary_search_iterative(A, x)\n",
    "print binary_search_iterative(A, y)"
   ]
  },
  {
   "cell_type": "code",
   "execution_count": 101,
   "metadata": {},
   "outputs": [
    {
     "name": "stdout",
     "output_type": "stream",
     "text": [
      "[2, 3, 5, 7, 9]\n"
     ]
    }
   ],
   "source": [
    "B = quick_sort(A)\n",
    "print B"
   ]
  },
  {
   "cell_type": "code",
   "execution_count": 107,
   "metadata": {},
   "outputs": [
    {
     "data": {
      "text/plain": [
       "False"
      ]
     },
     "execution_count": 107,
     "metadata": {},
     "output_type": "execute_result"
    }
   ],
   "source": [
    "binary_search(B, 0, 4, 4)"
   ]
  },
  {
   "cell_type": "code",
   "execution_count": 111,
   "metadata": {
    "collapsed": true
   },
   "outputs": [],
   "source": [
    "def expo(x, y):\n",
    "    if y == 0:\n",
    "        return 1\n",
    "    if y % 2 == 1:\n",
    "        return x*(expo(x, y//2)**2)\n",
    "    else:\n",
    "        return expo(x, y//2)**2"
   ]
  },
  {
   "cell_type": "code",
   "execution_count": 117,
   "metadata": {},
   "outputs": [
    {
     "name": "stdout",
     "output_type": "stream",
     "text": [
      "8\n",
      "1\n"
     ]
    }
   ],
   "source": [
    "print expo(2,3)\n",
    "print expo(0,1)"
   ]
  },
  {
   "cell_type": "code",
   "execution_count": 118,
   "metadata": {
    "collapsed": true
   },
   "outputs": [],
   "source": [
    "def transpose(M):\n",
    "    for i in range(len(M)):\n",
    "        for j in range(i+1, len(M[i])):\n",
    "            temp = M[i][j]\n",
    "            M[i][j] = M[j][i]\n",
    "            M[j][i] = temp\n",
    "    return M        "
   ]
  },
  {
   "cell_type": "code",
   "execution_count": 128,
   "metadata": {},
   "outputs": [
    {
     "data": {
      "text/plain": [
       "[[1, 3], [2, 4]]"
      ]
     },
     "execution_count": 128,
     "metadata": {},
     "output_type": "execute_result"
    }
   ],
   "source": [
    "M = [[1,2], [3,4]]\n",
    "\n",
    "transpose(M)"
   ]
  },
  {
   "cell_type": "code",
   "execution_count": 133,
   "metadata": {
    "collapsed": true
   },
   "outputs": [],
   "source": [
    "def combine(T, B):\n",
    "    C = []\n",
    "    for i in range(len(T)):\n",
    "        C.append(B[i] + T[i])\n",
    "    return C    \n",
    "        \n",
    "def rotate(M):\n",
    "    if len(M) == 0:\n",
    "        return M\n",
    "    if len(M) == 1:\n",
    "        M_rot = []\n",
    "        for i in range(len(M[0])):\n",
    "            M_rot.append([M[0][i]])\n",
    "        return M_rot\n",
    "    \n",
    "    mid = len(M)//2\n",
    "    \n",
    "    M_rot_top = rotate(M[:mid])\n",
    "    M_rot_bottom = rotate(M[mid:])\n",
    "    \n",
    "    #print M_rot_top, M_rot_bottom\n",
    "    \n",
    "    return combine(M_rot_top, M_rot_bottom)"
   ]
  },
  {
   "cell_type": "code",
   "execution_count": 134,
   "metadata": {},
   "outputs": [
    {
     "data": {
      "text/plain": [
       "[[3, 1], [4, 2]]"
      ]
     },
     "execution_count": 134,
     "metadata": {},
     "output_type": "execute_result"
    }
   ],
   "source": [
    "M = [[1,2], [3, 4]]\n",
    "rotate(M)"
   ]
  },
  {
   "cell_type": "code",
   "execution_count": null,
   "metadata": {
    "collapsed": true
   },
   "outputs": [],
   "source": [
    "combine([3,4], [1,2])"
   ]
  },
  {
   "cell_type": "code",
   "execution_count": 2,
   "metadata": {},
   "outputs": [
    {
     "name": "stdout",
     "output_type": "stream",
     "text": [
      "[1, 2, 3, 4, 5, 10, 15, 20, 19, 18, 17, 16, 11, 6, 7, 8, 9, 14, 13, 12]\n"
     ]
    }
   ],
   "source": [
    "def spiral_copy(inputMatrix):\n",
    "    \"\"\"\n",
    "        Args: inputMatrix (list of list of int)\n",
    "        Returns: spiral (list of int)\n",
    "        Raises: Exception(\"invalid input\")\n",
    "    \"\"\"\n",
    "    if len(inputMatrix) == 0:\n",
    "        return []\n",
    "      \n",
    "    m = len(inputMatrix)\n",
    "    n = len(inputMatrix[0])\n",
    "    top =  0\n",
    "    left = 0\n",
    "    bottom = m-1 \n",
    "    right  = n-1\n",
    "    \n",
    "    spiral = []\n",
    "    \n",
    "    while bottom - top >= 0 and right - left >= 0:\n",
    "        top_row = inputMatrix[top]\n",
    "        for i in range(left, right+1):\n",
    "              spiral.append(top_row[i])\n",
    "        \n",
    "        for j in range(top+1, bottom):\n",
    "              spiral.append(inputMatrix[j][right])\n",
    "        if bottom != top:    \n",
    "            bottom_row = inputMatrix[bottom]\n",
    "            for i in range(right, left-1, -1):\n",
    "                spiral.append(bottom_row[i])\n",
    "        if right != left:\n",
    "            for j in range(bottom-1, top, -1):\n",
    "                spiral.append(inputMatrix[j][left])\n",
    "            \n",
    "        top = top + 1\n",
    "        bottom = bottom - 1\n",
    "        left = left + 1\n",
    "        right = right - 1\n",
    "        \n",
    "    return spiral   \n",
    "  \n",
    "inputMatrix = [[1,2,3,4,5],[6,7,8,9,10],[11,12,13,14,15],[16,17,18,19,20]]\n",
    "  \n",
    "print spiral_copy(inputMatrix)"
   ]
  },
  {
   "cell_type": "code",
   "execution_count": 137,
   "metadata": {
    "collapsed": true
   },
   "outputs": [],
   "source": [
    "words = ['apple', 'ants', 'babies', 'banana', 'cat', 'candle']\n",
    "\n",
    "_end_ = '_end_'\n",
    "def make_trie(words):\n",
    "    trie = {}\n",
    "    \n",
    "    for word in words:\n",
    "        current = trie\n",
    "        for letter in word:\n",
    "            if not letter in current:\n",
    "                current[letter] = {}\n",
    "            current = current[letter]   \n",
    "        current[_end_] = _end_\n",
    "        \n",
    "    return trie    "
   ]
  },
  {
   "cell_type": "code",
   "execution_count": 139,
   "metadata": {
    "collapsed": true
   },
   "outputs": [],
   "source": [
    "trie = make_trie(words)"
   ]
  },
  {
   "cell_type": "code",
   "execution_count": 142,
   "metadata": {},
   "outputs": [
    {
     "data": {
      "text/plain": [
       "{'a': {'n': {'a': {'_end_': '_end_'}}}}"
      ]
     },
     "execution_count": 142,
     "metadata": {},
     "output_type": "execute_result"
    }
   ],
   "source": [
    "trie['b']['a']['n']"
   ]
  },
  {
   "cell_type": "code",
   "execution_count": 148,
   "metadata": {
    "collapsed": true
   },
   "outputs": [],
   "source": [
    "def all_is_well_that_ends(with_this_ending, words):\n",
    "    words_reversed = [word[::-1] for word in words]\n",
    "    trie = make_trie(words_reversed)\n",
    "    \n",
    "    current = trie\n",
    "    for letter in with_this_ending[::-1]:\n",
    "        if not letter in current:\n",
    "            return False\n",
    "        else:\n",
    "            current = current[letter]\n",
    "    return True        \n",
    "    "
   ]
  },
  {
   "cell_type": "code",
   "execution_count": 151,
   "metadata": {},
   "outputs": [
    {
     "data": {
      "text/plain": [
       "False"
      ]
     },
     "execution_count": 151,
     "metadata": {},
     "output_type": "execute_result"
    }
   ],
   "source": [
    "all_is_well_that_ends('nan', words)"
   ]
  },
  {
   "cell_type": "code",
   "execution_count": 147,
   "metadata": {},
   "outputs": [
    {
     "data": {
      "text/plain": [
       "['elppa', 'stna', 'seibab', 'ananab', 'tac', 'eldnac']"
      ]
     },
     "execution_count": 147,
     "metadata": {},
     "output_type": "execute_result"
    }
   ],
   "source": [
    "[word[::-1] for word in words]\n"
   ]
  },
  {
   "cell_type": "code",
   "execution_count": 152,
   "metadata": {
    "collapsed": true
   },
   "outputs": [],
   "source": [
    "def lcs(A, B):\n",
    "    m = len(A)\n",
    "    n = len(B)\n",
    "    \n",
    "    if m == 0 or n == 0:\n",
    "        return 0\n",
    "    \n",
    "    if A[0] == B[0]:\n",
    "        initial_value = 1\n",
    "    else:\n",
    "        initial_value = 0\n",
    "        \n",
    "    lcs = {}\n",
    "    for i in range(m):\n",
    "        for j in range(n):\n",
    "            if A[i] == B[j]:\n",
    "                match = 1\n",
    "            else:\n",
    "                match = 0\n",
    "                \n",
    "            if i == 0 and j == 0:\n",
    "                lcs[(0,0)] = match\n",
    "            if i == 0 and j > 0:\n",
    "                lcs[(0,j)] = max(match, lcs[(0,j-1)])\n",
    "            if i > 0 and j == 0:\n",
    "                lcs[(i, 0)] = max(match, lcs[(i-1, 0)])\n",
    "            if i > 0 and j > 0:\n",
    "                lcs[(i,j)] = max(match + lcs[(i-1, j-1)], lcs[(i,j-1)], lcs[(i-1,j)])\n",
    "                \n",
    "    return lcs[(m-1,n-1)]            "
   ]
  },
  {
   "cell_type": "code",
   "execution_count": 153,
   "metadata": {},
   "outputs": [
    {
     "data": {
      "text/plain": [
       "2"
      ]
     },
     "execution_count": 153,
     "metadata": {},
     "output_type": "execute_result"
    }
   ],
   "source": [
    "A = [1,2,3,5,6,7]\n",
    "B= [2,6,9]\n",
    "\n",
    "lcs(A,B)"
   ]
  },
  {
   "cell_type": "code",
   "execution_count": 157,
   "metadata": {
    "collapsed": true
   },
   "outputs": [],
   "source": [
    "class Node:\n",
    "    def __init__(self, value=_undefined, left=_void, right=_void):\n",
    "        self.value = value\n",
    "        self.left = left\n",
    "        self.right = right\n",
    "        \n",
    "    def preorder(self):\n",
    "        if self == _void or self.value == None:\n",
    "            return []\n",
    "        \n",
    "        \n",
    "        if self.left != _void:\n",
    "            preorder_left = self.left.preorder()\n",
    "        else:\n",
    "            preorder_left = []\n",
    "            \n",
    "        if self.right != _void:\n",
    "            preorder_right = self.right.preorder()\n",
    "        else:\n",
    "            preorder_right = []\n",
    "        \n",
    "        return [self.value] + preorder_left + preorder_right\n",
    "    \n",
    "    "
   ]
  },
  {
   "cell_type": "code",
   "execution_count": 161,
   "metadata": {
    "collapsed": true
   },
   "outputs": [],
   "source": [
    "mynode = Node(1, Node(2, _void), Node(3, _void))"
   ]
  },
  {
   "cell_type": "code",
   "execution_count": 162,
   "metadata": {},
   "outputs": [
    {
     "data": {
      "text/plain": [
       "[1, 2, 3]"
      ]
     },
     "execution_count": 162,
     "metadata": {},
     "output_type": "execute_result"
    }
   ],
   "source": [
    "mynode.preorder()"
   ]
  },
  {
   "cell_type": "markdown",
   "metadata": {},
   "source": [
    "https://www.codementor.io/sheena/how-to-write-python-custom-exceptions-du107ufv9"
   ]
  },
  {
   "cell_type": "code",
   "execution_count": 11,
   "metadata": {
    "collapsed": true
   },
   "outputs": [],
   "source": [
    "def bfs(G, root):\n",
    "    \"\"\" BFS traversal generator\n",
    "        Args: G (dictionary {node (int): adjacency_list(list of int)}), root (int)\n",
    "        Yields: next_node, level (next node, level of next node in bfs traversal)\n",
    "        Returns: None\n",
    "        Raises: exception \"invalid input\" if input is invalid\n",
    "    \"\"\"\n",
    "    queue = [root]\n",
    "    levels = {root: 0}\n",
    "    \n",
    "    \n",
    "    while queue:\n",
    "        next_node = queue.pop(0)\n",
    "        level = levels[next_node]\n",
    "        yield next_node, level\n",
    "        neighbors = G[next_node]\n",
    "        for neighbor in neighbors:\n",
    "            if not neighbor in levels:\n",
    "                levels[neighbor] = levels[next_node] + 1\n",
    "                queue.append(neighbor)         \n",
    "    return          \n",
    "        \n",
    "    "
   ]
  },
  {
   "cell_type": "code",
   "execution_count": null,
   "metadata": {
    "collapsed": true
   },
   "outputs": [],
   "source": []
  },
  {
   "cell_type": "code",
   "execution_count": 15,
   "metadata": {
    "collapsed": true
   },
   "outputs": [],
   "source": [
    "G = {1: [2,3], 2: [4,5], 3:[6,7], 4: [1], 5:[1], 6:[1], 7:[1]}"
   ]
  },
  {
   "cell_type": "code",
   "execution_count": 16,
   "metadata": {},
   "outputs": [
    {
     "name": "stdout",
     "output_type": "stream",
     "text": [
      "4 0\n",
      "1 1\n",
      "2 2\n",
      "3 2\n",
      "5 3\n",
      "6 3\n",
      "7 3\n"
     ]
    }
   ],
   "source": [
    "for node, level in bfs(G, 4):\n",
    "    print node, level"
   ]
  },
  {
   "cell_type": "code",
   "execution_count": 23,
   "metadata": {
    "collapsed": true
   },
   "outputs": [],
   "source": [
    "def get_next_unvisited_neighbor(neighbors, visited_nodes):\n",
    "    for neighbor in neighbors:\n",
    "        if not neighbor in visited_nodes:\n",
    "            return neighbor\n",
    "    return _undefined    \n",
    "\n",
    "_undefined = -1\n",
    "def dfs(G, root):\n",
    "    \"\"\" Function to generate dfs order of graph G starting at a specified node named root\n",
    "        Args: G (dictionary {node (int): adjacency_list (list of int)}), root (int)\n",
    "        Yields: next_node (next_node in dfs order)\n",
    "        Returns: None\n",
    "        Raises: Exception(\"invalid input\") if input is not valid\n",
    "    \"\"\"\n",
    "    stack = [root]\n",
    "    visited_nodes = {root: [0, _undefined]}\n",
    "    \n",
    "    time = 0\n",
    "    while stack:\n",
    "        time = time + 1\n",
    "        next_node = stack[-1]\n",
    "        yield next_node\n",
    "        next_unvisited_neighbor = get_next_unvisited_neighbor(G[next_node], visited_nodes)\n",
    "        if next_unvisited_neighbor == _undefined:\n",
    "            stack.pop()\n",
    "            end_time = time\n",
    "            visited_nodes[next_node][1] = end_time \n",
    "        else: \n",
    "            start_time = time\n",
    "            visited_nodes[next_unvisited_neighbor] = [start_time, _undefined]\n",
    "            stack.append(next_unvisited_neighbor)     \n",
    "    return"
   ]
  },
  {
   "cell_type": "code",
   "execution_count": null,
   "metadata": {
    "collapsed": true
   },
   "outputs": [],
   "source": [
    "def dfs(G, root):\n",
    "    stack = [root]\n",
    "    visited = set()\n",
    "    while stack:\n",
    "        next_node = stack.pop(-1)\n",
    "        visited.add(next_node)\n",
    "        "
   ]
  },
  {
   "cell_type": "code",
   "execution_count": 87,
   "metadata": {},
   "outputs": [
    {
     "data": {
      "text/plain": [
       "[1, 4, 3]"
      ]
     },
     "execution_count": 87,
     "metadata": {},
     "output_type": "execute_result"
    }
   ],
   "source": [
    "a = [1,2,3]\n",
    "a[1] = 4\n",
    "a"
   ]
  },
  {
   "cell_type": "code",
   "execution_count": 24,
   "metadata": {},
   "outputs": [
    {
     "name": "stdout",
     "output_type": "stream",
     "text": [
      "1\n",
      "2\n",
      "4\n",
      "2\n",
      "5\n",
      "2\n",
      "1\n",
      "3\n",
      "6\n",
      "3\n",
      "7\n",
      "3\n",
      "1\n"
     ]
    }
   ],
   "source": [
    "for node in dfs(G, 1):\n",
    "    print node"
   ]
  },
  {
   "cell_type": "code",
   "execution_count": null,
   "metadata": {
    "collapsed": true
   },
   "outputs": [],
   "source": [
    "_infinity = 99999999\n",
    "def dijkstra(G, W, s):\n",
    "    \"\"\" This function computes lengths of shortest paths \n",
    "        starting from node s in graph G with edge-weights W.\n",
    "        Args: G ({node (int): neighbors (list of int)}) \n",
    "              W ({(i,j): w_ij})\n",
    "              s (int)\n",
    "        Returns:\n",
    "              distances ({i: d_i})\n",
    "        Raises:\n",
    "              Exception(\"invalid input\") if input is invalid\n",
    "    \"\"\"\n",
    "    \n",
    "    distances = {}\n",
    "    interior_nodes = {}\n",
    "    for node in G:\n",
    "        distances[node] = _infinity\n",
    "    \n",
    "    distances[s] = 0\n",
    "    interior_nodes[]\n",
    "    \n",
    "    "
   ]
  },
  {
   "cell_type": "code",
   "execution_count": 25,
   "metadata": {},
   "outputs": [
    {
     "name": "stdout",
     "output_type": "stream",
     "text": [
      "1\n",
      "2\n"
     ]
    }
   ],
   "source": [
    "G = {1:2, 2:4}\n",
    "\n"
   ]
  },
  {
   "cell_type": "code",
   "execution_count": 19,
   "metadata": {
    "collapsed": true
   },
   "outputs": [],
   "source": [
    "def array_of_array_products(arr):\n",
    "    \"\"\"\n",
    "         Args: arr (list of int)\n",
    "         Returns: output (list of int)\n",
    "         Raises: Exception(\"Invalid Input\")\n",
    "    \"\"\"\n",
    "    \n",
    "    if len(arr) == 1:\n",
    "        return []\n",
    "    \n",
    "    prefix_products = {}\n",
    "    product = 1 \n",
    "    prefix_products[0] = 1\n",
    "    \n",
    "    for i in range(len(arr)):\n",
    "          product = product * arr[i]\n",
    "          prefix_products[i+1] = product\n",
    "          \n",
    "    suffix_products = {}\n",
    "    product = 1\n",
    "    suffix_products[len(arr)] = 1\n",
    "    \n",
    "    for i in range(len(arr)-1, -1, -1):\n",
    "          product = product * arr[i]\n",
    "          suffix_products[i] = product\n",
    "          \n",
    "    output = []      \n",
    "    for i in range(len(arr)):  \n",
    "          output.append(prefix_products[i]*suffix_products[i+1])\n",
    "        \n",
    "    return output    "
   ]
  },
  {
   "cell_type": "code",
   "execution_count": 8,
   "metadata": {},
   "outputs": [
    {
     "name": "stdout",
     "output_type": "stream",
     "text": [
      ".\n"
     ]
    },
    {
     "data": {
      "text/plain": [
       "True"
      ]
     },
     "execution_count": 8,
     "metadata": {},
     "output_type": "execute_result"
    }
   ],
   "source": [
    "\"\"\"\n",
    "0    1  2  3\n",
    "[-8, 0, 2, 5]\n",
    "\n",
    "begin_index = 0\n",
    "\n",
    "end_index = 3\n",
    "\n",
    "mid = (begin_index + end_index) // 2   3//2 = 1\n",
    "\n",
    "arr[1] = 0  (arr[1] < 1)\n",
    "\n",
    "lowest i such that arr[i] == i\n",
    "\n",
    " 0  1  2  3 4  5  6             \n",
    "[0, 1, 2, 3 14 15 20]\n",
    "\n",
    "mid\n",
    "\n",
    "A[mid] == mid\n",
    "     end_index = mid\n",
    "\n",
    "A[mid] < mid   \n",
    "\n",
    "     begin_index = mid + 1\n",
    "\n",
    "A[mid] > mid\n",
    "\n",
    "     end_index = mid - 1\n",
    "\"\"\"\n",
    "\n",
    "_undefined = -1\n",
    "def index_equals_value_search(arr):\n",
    "      \"\"\"\n",
    "          Args: arr (list of int)\n",
    "          Returns: fixed_point (int)\n",
    "          Raises: Exception (\"Invalid Input\")\n",
    "      \"\"\"\n",
    "      begin_index = 0\n",
    "      end_index = len(arr)-1\n",
    "    \n",
    "      while begin_index < end_index:\n",
    "          mid = (begin_index + end_index) // 2\n",
    "          \n",
    "          if arr[mid] < mid:\n",
    "              begin_index = mid + 1\n",
    "          if arr[mid] >= mid:\n",
    "              end_index = mid\n",
    "              \n",
    "      if begin_index == end_index and arr[begin_index] == begin_index:\n",
    "          fixed_point = begin_index\n",
    "      else:\n",
    "          fixed_point = _undefined\n",
    "          \n",
    "      return fixed_point\n",
    "    \n",
    "def test_fixed_point():\n",
    "      \"\"\"\n",
    "          Args: this function does not take any arguments\n",
    "          Returns: True (if all tests passed)\n",
    "          Raises: AssertionError() (if any of the test fails)\n",
    "      \"\"\"\n",
    "      arr = []\n",
    "      assert index_equals_value_search(arr) == -1\n",
    "      \n",
    "      arr = [-8, 0, 2, 5]\n",
    "      assert index_equals_value_search(arr) == 2\n",
    "      \n",
    "      arr = [-1,0,3,6]\n",
    "      assert index_equals_value_search(arr) == -1\n",
    "      \n",
    "      print(\".\")\n",
    "      return True\n",
    "    \n",
    "    \n",
    "test_fixed_point()    "
   ]
  },
  {
   "cell_type": "code",
   "execution_count": 46,
   "metadata": {
    "collapsed": true
   },
   "outputs": [],
   "source": [
    "\n",
    "def delete(this_node, graph):\n",
    "    del graph[this_node]\n",
    "    for node in graph:\n",
    "        if this_node in graph[node]:\n",
    "            graph[node].remove(this_node)\n",
    "            \n",
    "    return graph        \n",
    "        \n",
    "        \n",
    "\n",
    "_undefined = None\n",
    "def get_sink(graph):\n",
    "        \"\"\"\n",
    "            Args: graph (dictionary {node (int): neighbors (list of int)})\n",
    "            Returns: node (int)\n",
    "            Raises: Exception(\"Invalid Input: graph does not have sink!)\n",
    "            \n",
    "        \"\"\"\n",
    "        for node in graph:\n",
    "             if not graph[node]:\n",
    "                return node\n",
    "        return _undefined    \n",
    "        \n",
    "def topological_sort(graph):\n",
    "    \"\"\"\n",
    "        Args: graph (dictionary {node (int): neighbors (list of int)})\n",
    "        Returns: topological_order (list of int)\n",
    "        Raises: Exception(\"Invalid Input\")\n",
    "    \"\"\"\n",
    "    \n",
    "    while graph:\n",
    "        next_node = get_sink(graph)\n",
    "        yield next_node\n",
    "        #print next_node\n",
    "        graph = delete(next_node, graph)\n",
    "           \n",
    "        \n",
    "        "
   ]
  },
  {
   "cell_type": "code",
   "execution_count": 48,
   "metadata": {},
   "outputs": [
    {
     "data": {
      "text/plain": [
       "False"
      ]
     },
     "execution_count": 48,
     "metadata": {},
     "output_type": "execute_result"
    }
   ],
   "source": [
    "graph = {0:[1,2], 1:[3,4], 2:[], 3:[], 4:[]}\n",
    "not graph"
   ]
  },
  {
   "cell_type": "code",
   "execution_count": 49,
   "metadata": {},
   "outputs": [
    {
     "name": "stdout",
     "output_type": "stream",
     "text": [
      "2\n",
      "3\n",
      "4\n",
      "1\n",
      "0\n"
     ]
    }
   ],
   "source": [
    "for node in topological_sort(graph):\n",
    "    print node"
   ]
  },
  {
   "cell_type": "code",
   "execution_count": 16,
   "metadata": {},
   "outputs": [
    {
     "data": {
      "text/plain": [
       "{}"
      ]
     },
     "execution_count": 16,
     "metadata": {},
     "output_type": "execute_result"
    }
   ],
   "source": [
    "graph"
   ]
  },
  {
   "cell_type": "code",
   "execution_count": 26,
   "metadata": {},
   "outputs": [
    {
     "ename": "ValueError",
     "evalue": "list.remove(x): x not in list",
     "output_type": "error",
     "traceback": [
      "\u001b[0;31m---------------------------------------------------------------------------\u001b[0m",
      "\u001b[0;31mValueError\u001b[0m                                Traceback (most recent call last)",
      "\u001b[0;32m<ipython-input-26-48796770d893>\u001b[0m in \u001b[0;36m<module>\u001b[0;34m()\u001b[0m\n\u001b[1;32m      1\u001b[0m \u001b[0mneighbors\u001b[0m \u001b[0;34m=\u001b[0m \u001b[0;34m[\u001b[0m\u001b[0;36m1\u001b[0m\u001b[0;34m,\u001b[0m\u001b[0;36m2\u001b[0m\u001b[0;34m]\u001b[0m\u001b[0;34m\u001b[0m\u001b[0m\n\u001b[1;32m      2\u001b[0m \u001b[0;34m\u001b[0m\u001b[0m\n\u001b[0;32m----> 3\u001b[0;31m \u001b[0mneighbors\u001b[0m\u001b[0;34m.\u001b[0m\u001b[0mremove\u001b[0m\u001b[0;34m(\u001b[0m\u001b[0;36m3\u001b[0m\u001b[0;34m)\u001b[0m\u001b[0;34m\u001b[0m\u001b[0m\n\u001b[0m",
      "\u001b[0;31mValueError\u001b[0m: list.remove(x): x not in list"
     ]
    }
   ],
   "source": [
    "neighbors = [1,2]\n",
    "\n",
    "neighbors.remove(3)"
   ]
  },
  {
   "cell_type": "code",
   "execution_count": 22,
   "metadata": {},
   "outputs": [
    {
     "data": {
      "text/plain": [
       "[2]"
      ]
     },
     "execution_count": 22,
     "metadata": {},
     "output_type": "execute_result"
    }
   ],
   "source": [
    "neighbors"
   ]
  },
  {
   "cell_type": "code",
   "execution_count": 4,
   "metadata": {
    "collapsed": true
   },
   "outputs": [],
   "source": [
    "_undefined = -1\n",
    "def binary_search_last_index(A, x):\n",
    "    begin_index = 0\n",
    "    end_index = len(A)-1\n",
    "    \n",
    "    while begin_index < end_index:\n",
    "        mid = (begin_index + end_index)//2\n",
    "        \n",
    "        if x == A[end_index]:\n",
    "            return end_index\n",
    "        if x == A[mid]:\n",
    "            begin_index = mid\n",
    "        if x < A[mid]:\n",
    "            end_index = mid - 1\n",
    "        if x > A[mid]:\n",
    "            begin_index = mid + 1\n",
    "            \n",
    "    if begin_index == end_index and x == A[begin_index]:\n",
    "        return begin_index\n",
    "    else:\n",
    "        return _undefined"
   ]
  },
  {
   "cell_type": "code",
   "execution_count": 2,
   "metadata": {
    "collapsed": true
   },
   "outputs": [],
   "source": [
    "A = [1,1,1,1,2,2,2,2,2]"
   ]
  },
  {
   "cell_type": "code",
   "execution_count": 3,
   "metadata": {},
   "outputs": [
    {
     "name": "stdout",
     "output_type": "stream",
     "text": [
      "0 8 4\n",
      "0 3 1\n"
     ]
    },
    {
     "data": {
      "text/plain": [
       "3"
      ]
     },
     "execution_count": 3,
     "metadata": {},
     "output_type": "execute_result"
    }
   ],
   "source": [
    "binary_search_last_index(A, 1)"
   ]
  },
  {
   "cell_type": "code",
   "execution_count": 3,
   "metadata": {
    "collapsed": true
   },
   "outputs": [],
   "source": [
    "def two_sum(A, t):\n",
    "    seen = {}\n",
    "    for i in range(len(A)):\n",
    "        if t-A[i] in seen:\n",
    "            return True\n",
    "        seen[A[i]] = i\n",
    "        \n",
    "    return False    "
   ]
  },
  {
   "cell_type": "code",
   "execution_count": 5,
   "metadata": {},
   "outputs": [
    {
     "data": {
      "text/plain": [
       "True"
      ]
     },
     "execution_count": 5,
     "metadata": {},
     "output_type": "execute_result"
    }
   ],
   "source": [
    "A = [3,5,7,11,13,17,19]\n",
    "two_sum(A, 22)"
   ]
  },
  {
   "cell_type": "markdown",
   "metadata": {
    "collapsed": true
   },
   "source": [
    "# Maximum Valid Parenthesis \n",
    "Given a string of open and closed brackets, determine the minimum number of deletions that make this string a valid parenthesis."
   ]
  },
  {
   "cell_type": "code",
   "execution_count": 93,
   "metadata": {
    "collapsed": true
   },
   "outputs": [],
   "source": [
    "def max_valid_parenthesis(s):\n",
    "    \"\"\"\n",
    "        Args: s (string containing '(' and ')')\n",
    "        Returns: max_valid (string: maximum size substring which is a valid parenthesis)\n",
    "        Raises: Exception(\"Invalid Input\")\n",
    "    \"\"\"\n",
    "    \n",
    "    stack = []\n",
    "    parstack = []\n",
    "    \n",
    "    for i in range(len(s)):\n",
    "        if s[i] == \"(\":\n",
    "            parstack.append(\"(\")\n",
    "            stack.append(i)\n",
    "        \n",
    "        if s[i] == \")\":\n",
    "            if parstack and parstack[-1] == \"(\":\n",
    "                    stack.pop(-1) \n",
    "                    parstack.pop(-1)\n",
    "            else:\n",
    "                stack.append(i)\n",
    "                parstack.append(\")\")\n",
    "                \n",
    "    max_valid = \"\"\n",
    "    for i in range(len(s)):\n",
    "        if i not in stack:\n",
    "            max_valid = max_valid + s[i]\n",
    "   \n",
    "    return max_valid\n",
    "            "
   ]
  },
  {
   "cell_type": "code",
   "execution_count": 96,
   "metadata": {},
   "outputs": [
    {
     "data": {
      "text/plain": [
       "'((()))()'"
      ]
     },
     "execution_count": 96,
     "metadata": {},
     "output_type": "execute_result"
    }
   ],
   "source": [
    "s = \"))((()))((()\"\n",
    "max_valid_parenthesis(s)"
   ]
  },
  {
   "cell_type": "markdown",
   "metadata": {},
   "source": [
    "# Word Search: \n",
    "Given a start and end word and a list of valid words(all words have same length) find a path from start to end word using transformations of the start word such that the transformations differ by a single word and are in the list of valid words: \n",
    "Example: \n",
    "start_word = good and end_word = soul and valid_words: [fowl, food, fool , foul, bowl],\n",
    "The path would be: good -> food->foul -> soul"
   ]
  },
  {
   "cell_type": "code",
   "execution_count": 8,
   "metadata": {
    "collapsed": true
   },
   "outputs": [],
   "source": [
    "_void = None\n",
    "\n",
    "def is_neighbor(this_word, word):\n",
    "    mismatch_count = 0\n",
    "    for i in range(len(word)):\n",
    "        if this_word[i] != word[i]:\n",
    "            mismatch_count = mismatch_count + 1\n",
    "            \n",
    "        if mismatch_count > 1:\n",
    "            return False\n",
    "    return True    \n",
    "        \n",
    "\n",
    "def get_neighbors(this_word, words):\n",
    "    neighbors = []\n",
    "    for word in words:\n",
    "        if is_neighbor(this_word, word):\n",
    "            neighbors.append(word)\n",
    "            \n",
    "    return neighbors        \n",
    "        \n",
    "    \n",
    "    \n",
    "def word_search(start_word, end_word, words):\n",
    "    \"\"\"\n",
    "        Args:\n",
    "            start_word: string\n",
    "            end_word: string\n",
    "            words: list of words\n",
    "        Returns:\n",
    "            path: list of words\n",
    "        Raises:\n",
    "            Exception(\"Invalid Input\")\n",
    "    \"\"\"\n",
    "    \n",
    "    queue = [start_word]\n",
    "    found = False\n",
    "    parents = {start_word: _void}\n",
    "    \n",
    "    while queue and not found:\n",
    "        next_word = queue.pop(0)\n",
    "        if next_word == end_word:\n",
    "            found == True\n",
    "            \n",
    "        else:\n",
    "            neighbors = get_neighbors(next_word, words)\n",
    "            for neighbor in neighbors:\n",
    "                queue.append(neighbor)\n",
    "                parents[neighbor] = next_word\n",
    "                \n",
    "    if not found:\n",
    "        return _not_found\n",
    "    else:\n",
    "        path = []\n",
    "        current = end_word\n",
    "        \n",
    "        while not parents[current] == _void:\n",
    "            path = [current] + path\n",
    "            \n",
    "        return path    \n",
    "                \n",
    "                \n",
    "        \n",
    "            \n",
    "        "
   ]
  },
  {
   "cell_type": "code",
   "execution_count": null,
   "metadata": {
    "collapsed": true
   },
   "outputs": [],
   "source": [
    "start = \"good\" \n",
    "end = \"soul\" \n",
    "words = [\"fowl\", \"food\", \"fool\" , \"foul\", \"bowl\"]\n",
    "word_search(start, end, words)"
   ]
  },
  {
   "cell_type": "code",
   "execution_count": 18,
   "metadata": {
    "collapsed": true
   },
   "outputs": [],
   "source": [
    "def intersection_sorted(A, B):\n",
    "    C = []\n",
    "    i = 0\n",
    "    j = 0\n",
    "    \n",
    "    while i < len(A) and j < len(B):\n",
    "        if A[i] == B[j]:\n",
    "            C.append[A[i]]\n",
    "            i = i + 1\n",
    "            j = j + 1\n",
    "        elif A[i] < B[j]:\n",
    "            i = i + 1\n",
    "        else: # A[i] > B[j]\n",
    "            j = j + 1\n",
    "    return C         \n",
    "            "
   ]
  },
  {
   "cell_type": "code",
   "execution_count": 4,
   "metadata": {},
   "outputs": [
    {
     "ename": "NameError",
     "evalue": "global name 'found' is not defined",
     "output_type": "error",
     "traceback": [
      "\u001b[0;31m---------------------------------------------------------------------------\u001b[0m",
      "\u001b[0;31mNameError\u001b[0m                                 Traceback (most recent call last)",
      "\u001b[0;32m<ipython-input-4-50b9721bfb07>\u001b[0m in \u001b[0;36m<module>\u001b[0;34m()\u001b[0m\n\u001b[1;32m      2\u001b[0m \u001b[0mend\u001b[0m \u001b[0;34m=\u001b[0m \u001b[0;34m\"soul\"\u001b[0m\u001b[0;34m\u001b[0m\u001b[0m\n\u001b[1;32m      3\u001b[0m \u001b[0mwords\u001b[0m \u001b[0;34m=\u001b[0m \u001b[0;34m[\u001b[0m\u001b[0;34m\"fowl\"\u001b[0m\u001b[0;34m,\u001b[0m \u001b[0;34m\"food\"\u001b[0m\u001b[0;34m,\u001b[0m \u001b[0;34m\"fool\"\u001b[0m \u001b[0;34m,\u001b[0m \u001b[0;34m\"foul\"\u001b[0m\u001b[0;34m,\u001b[0m \u001b[0;34m\"bowl\"\u001b[0m\u001b[0;34m]\u001b[0m\u001b[0;34m\u001b[0m\u001b[0m\n\u001b[0;32m----> 4\u001b[0;31m \u001b[0mword_search\u001b[0m\u001b[0;34m(\u001b[0m\u001b[0mstart\u001b[0m\u001b[0;34m,\u001b[0m \u001b[0mend\u001b[0m\u001b[0;34m,\u001b[0m \u001b[0mwords\u001b[0m\u001b[0;34m)\u001b[0m\u001b[0;34m\u001b[0m\u001b[0m\n\u001b[0m",
      "\u001b[0;32m<ipython-input-2-03f2879f8408>\u001b[0m in \u001b[0;36mword_search\u001b[0;34m(start_word, end_word, words)\u001b[0m\n\u001b[1;32m     35\u001b[0m \u001b[0;34m\u001b[0m\u001b[0m\n\u001b[1;32m     36\u001b[0m     \u001b[0mqueue\u001b[0m \u001b[0;34m=\u001b[0m \u001b[0;34m[\u001b[0m\u001b[0mstart_word\u001b[0m\u001b[0;34m]\u001b[0m\u001b[0;34m\u001b[0m\u001b[0m\n\u001b[0;32m---> 37\u001b[0;31m     \u001b[0mfound\u001b[0m \u001b[0;34m==\u001b[0m \u001b[0mFalse\u001b[0m\u001b[0;34m\u001b[0m\u001b[0m\n\u001b[0m\u001b[1;32m     38\u001b[0m     \u001b[0mparents\u001b[0m \u001b[0;34m=\u001b[0m \u001b[0;34m{\u001b[0m\u001b[0mstart_word\u001b[0m\u001b[0;34m:\u001b[0m \u001b[0m_void\u001b[0m\u001b[0;34m}\u001b[0m\u001b[0;34m\u001b[0m\u001b[0m\n\u001b[1;32m     39\u001b[0m \u001b[0;34m\u001b[0m\u001b[0m\n",
      "\u001b[0;31mNameError\u001b[0m: global name 'found' is not defined"
     ]
    }
   ],
   "source": [
    "start = \"good\" \n",
    "end = \"soul\" \n",
    "words = [\"fowl\", \"food\", \"fool\" , \"foul\", \"bowl\"]\n",
    "word_search(start, end, words)"
   ]
  },
  {
   "cell_type": "code",
   "execution_count": 19,
   "metadata": {
    "collapsed": true
   },
   "outputs": [],
   "source": [
    "def first_duplicate(s):\n",
    "    seen = {}\n",
    "    for i in range(len(s)):\n",
    "        if not s[i] in seen:\n",
    "            seen[s[i]] = i\n",
    "        else:\n",
    "            return s[i]\n",
    "        \n",
    "    return None    "
   ]
  },
  {
   "cell_type": "code",
   "execution_count": 23,
   "metadata": {},
   "outputs": [
    {
     "data": {
      "text/plain": [
       "'\\n Allowed to buy and sell arbitrary number of times\\n \\n P\\n \\n T[i] = maximum possible profit from P[:i]\\n \\n on i^th day we have two choices: 1. do nothing\\n                                  2. sell\\n                                  \\n                                  \\n     T[i] =   max (T[i-1], max_{j < i} {(P[i] - P[j]) + T[j-1])}) \\n     \\n     p -> [7,1,5,9,3,6,4]\\n     \\n     1-5  3-6\\n     \\n     1-9  3-6  \\n     \\n\\n only one trascation\\n \\n -P[i_1] + P[i_2]  under i_1 < i_2\\n \\n T_2[i] = max sum under i_1 < i_2 where i_2 = i\\n \\n S_2[i] = max T_2[j] until j <= i\\n \\n Intermediate sum\\n - P[i_1] + P[i_2] - P[i_3] \\n \\n max of 3-chain-sum subject to i_1 < i_2 < i_3\\n \\n T_3[i] = max of 3-chain-sum where i_3 = i\\n \\n        = - P[i] + S_2[i-1]\\n        \\n S_3 = max(T_3[j]) where j <= i       \\n \\n \\n maximum two transactions\\n \\n exactly two transactions\\n \\n i_1 i_2 i_3 i_4\\n \\n - P[i_1] + P[i_2] - P[i_3] + P[i_4] constraint i_1 < i_2 < i_3 < i_4\\n \\n \\n max sum_{1 <= t <= k} a_t P[i_t] subject to constraint i_1 < i_2 < ... < i_k\\n \\n T_4[i] = maximum value of this sum where i_4 = i\\n \\n T_4[i] = P[i] + S_3[i-1]\\n S_4[i] max(T_4[j]) where j <= i\\n \\n\\n '"
      ]
     },
     "execution_count": 23,
     "metadata": {},
     "output_type": "execute_result"
    }
   ],
   "source": [
    "#Say you have an array for which the ith element is the price of a given stock on day i.\n",
    "\n",
    "#If you were only permitted to complete at most one transaction (i.e., buy one and sell one share of the stock), design an algorithm to find the maximum profit.\n",
    "\n",
    "\n",
    "\"\"\"\n",
    "P = [1, 11, 3, 7, 21, 9, 5]\n",
    "\n",
    "\n",
    "\n",
    "T[i] = maximum profit possible from the first i days given that you sell exactly on the i^th day\n",
    "\n",
    "PrefixMin[i] = min(P[:i])\n",
    "\n",
    "T[i] = P[i] - PrefixMin[i-1]\n",
    "\n",
    "max(T[i])\n",
    "\n",
    "\n",
    "\n",
    "\"\"\"\n",
    "\n",
    "\n",
    "\n",
    "_infinity = 99999999\n",
    "def one_transaction_stock_sell(P):\n",
    "    \"\"\"\n",
    "        Args: P (list of int)\n",
    "        Returns: max_profit (int)\n",
    "        Raises: Exception(\"Invalid Input\")\n",
    "    \"\"\"\n",
    "    if len(P) < 2:\n",
    "       return 0\n",
    "    \n",
    "    PrefixMin = {}\n",
    "    \n",
    "    current_min = _infinity\n",
    "    \n",
    "    for i in range(len(P)):\n",
    "        if P[i] < current_min:\n",
    "            current_min = P[i]\n",
    "        PrefixMin[i] = current_min\n",
    "    \n",
    "    T = {}    \n",
    "    for i in range(1, len(P)):\n",
    "        T[i] = P[i] - PrefixMin[i-1]\n",
    "        \n",
    "    max_profit = max(T.values()) \n",
    "    \n",
    "    return max_profit   \n",
    "            \n",
    "\"\"\"\n",
    " Allowed to buy and sell arbitrary number of times\n",
    " \n",
    " P\n",
    " \n",
    " T[i] = maximum possible profit from P[:i]\n",
    " \n",
    " on i^th day we have two choices: 1. do nothing\n",
    "                                  2. sell\n",
    "                                  \n",
    "                                  \n",
    "     T[i] =   max (T[i-1], max_{j < i} {(P[i] - P[j]) + T[j-1])}) \n",
    "     \n",
    "     p -> [7,1,5,9,3,6,4]\n",
    "     \n",
    "     1-5  3-6\n",
    "     \n",
    "     1-9  3-6  \n",
    "     \n",
    "\n",
    " only one trascation\n",
    " \n",
    " -P[i_1] + P[i_2]  under i_1 < i_2\n",
    " \n",
    " T_2[i] = max sum under i_1 < i_2 where i_2 = i\n",
    " \n",
    " S_2[i] = max T_2[j] until j <= i\n",
    " \n",
    " Intermediate sum\n",
    " - P[i_1] + P[i_2] - P[i_3] \n",
    " \n",
    " max of 3-chain-sum subject to i_1 < i_2 < i_3\n",
    " \n",
    " T_3[i] = max of 3-chain-sum where i_3 = i\n",
    " \n",
    "        = - P[i] + S_2[i-1]\n",
    "        \n",
    " S_3 = max(T_3[j]) where j <= i       \n",
    " \n",
    " \n",
    " maximum two transactions\n",
    " \n",
    " exactly two transactions\n",
    " \n",
    " i_1 i_2 i_3 i_4\n",
    " \n",
    " - P[i_1] + P[i_2] - P[i_3] + P[i_4] constraint i_1 < i_2 < i_3 < i_4\n",
    " \n",
    " \n",
    " max sum_{1 <= t <= k} a_t P[i_t] subject to constraint i_1 < i_2 < ... < i_k\n",
    " \n",
    " T_4[i] = maximum value of this sum where i_4 = i\n",
    " \n",
    " T_4[i] = P[i] + S_3[i-1]\n",
    " S_4[i] max(T_4[j]) where j <= i\n",
    " \n",
    "\n",
    " \"\"\"      "
   ]
  },
  {
   "cell_type": "code",
   "execution_count": 97,
   "metadata": {
    "collapsed": true
   },
   "outputs": [],
   "source": [
    "def generate_all_permutations(A):\n",
    "   p = []\n",
    "   if len(A) == 1:\n",
    "      return [[A[0]]]\n",
    "   elts = set(A)\n",
    "   for a in elts:\n",
    "      i = A.index(a)\n",
    "      A1 = A[:i] + A[i+1:]\n",
    "      p1 = generate_all_permutations(A1)\n",
    "      p2 = [[a] + x for x in p1]\n",
    "      p.extend(p2)\n",
    "   return p"
   ]
  },
  {
   "cell_type": "code",
   "execution_count": 100,
   "metadata": {},
   "outputs": [
    {
     "data": {
      "text/plain": [
       "4"
      ]
     },
     "execution_count": 100,
     "metadata": {},
     "output_type": "execute_result"
    }
   ],
   "source": [
    "a = 10\n",
    "b = 14\n",
    "a^b"
   ]
  },
  {
   "cell_type": "code",
   "execution_count": 101,
   "metadata": {},
   "outputs": [
    {
     "ename": "ValueError",
     "evalue": "2 is not in list",
     "output_type": "error",
     "traceback": [
      "\u001b[0;31m---------------------------------------------------------------------------\u001b[0m",
      "\u001b[0;31mValueError\u001b[0m                                Traceback (most recent call last)",
      "\u001b[0;32m<ipython-input-101-61b8d7722bf5>\u001b[0m in \u001b[0;36m<module>\u001b[0;34m()\u001b[0m\n\u001b[1;32m      1\u001b[0m \u001b[0mA\u001b[0m \u001b[0;34m=\u001b[0m \u001b[0;34m[\u001b[0m\u001b[0;36m1\u001b[0m\u001b[0;34m,\u001b[0m\u001b[0;36m3\u001b[0m\u001b[0;34m]\u001b[0m\u001b[0;34m\u001b[0m\u001b[0m\n\u001b[0;32m----> 2\u001b[0;31m \u001b[0mA\u001b[0m\u001b[0;34m.\u001b[0m\u001b[0mindex\u001b[0m\u001b[0;34m(\u001b[0m\u001b[0;36m2\u001b[0m\u001b[0;34m)\u001b[0m\u001b[0;34m\u001b[0m\u001b[0m\n\u001b[0m",
      "\u001b[0;31mValueError\u001b[0m: 2 is not in list"
     ]
    }
   ],
   "source": [
    "A = [1,3]\n",
    "A.index(2)"
   ]
  },
  {
   "cell_type": "code",
   "execution_count": 8,
   "metadata": {
    "collapsed": true
   },
   "outputs": [],
   "source": [
    "_void = None\n",
    "\n",
    "def is_neighbor(this_word, word):\n",
    "    mismatch_count = 0\n",
    "    for i in range(len(word)):\n",
    "        if this_word[i] != word[i]:\n",
    "            mismatch_count = mismatch_count + 1\n",
    "            \n",
    "        if mismatch_count > 1:\n",
    "            return False\n",
    "    return True    \n",
    "        \n",
    "\n",
    "def get_neighbors(this_word, words):\n",
    "    neighbors = []\n",
    "    for word in words:\n",
    "        if is_neighbor(this_word, word):\n",
    "            neighbors.append(word)\n",
    "            \n",
    "    return neighbors   \n",
    "\n",
    "def word_search(start, end, words):\n",
    "    queue = [start]\n",
    "    \n",
    "    levels = {start: 0}\n",
    "    \n",
    "    while queue:\n",
    "        print levels\n",
    "        next_word = queue.pop(0)\n",
    "        neighbors = get_neighbors(next_word, words)\n",
    "        for neighbor in neighbors:\n",
    "            if is_neighbor(neighbor, end):\n",
    "                return True\n",
    "            if not neighbor in levels:\n",
    "                queue.append(neighbor)\n",
    "                levels[neighbor] = levels[next_word] + 1\n",
    "            \n",
    "    return False        "
   ]
  },
  {
   "cell_type": "code",
   "execution_count": 12,
   "metadata": {},
   "outputs": [
    {
     "name": "stdout",
     "output_type": "stream",
     "text": [
      "{'good': 0}\n",
      "{'food': 1, 'good': 0}\n",
      "{'food': 1, 'fool': 2, 'good': 0}\n"
     ]
    },
    {
     "data": {
      "text/plain": [
       "True"
      ]
     },
     "execution_count": 12,
     "metadata": {},
     "output_type": "execute_result"
    }
   ],
   "source": [
    "start = \"good\" \n",
    "end = \"soul\" \n",
    "words = [\"fowl\", \"food\", \"fool\" , \"foul\", \"bowl\"]\n",
    "word_search(start, end, words)"
   ]
  },
  {
   "cell_type": "code",
   "execution_count": 5,
   "metadata": {},
   "outputs": [
    {
     "data": {
      "text/plain": [
       "['foul']"
      ]
     },
     "execution_count": 5,
     "metadata": {},
     "output_type": "execute_result"
    }
   ],
   "source": [
    "get_neighbors(\"good\", words)\n",
    "get_neighbors(\"soul\", words)"
   ]
  },
  {
   "cell_type": "code",
   "execution_count": 22,
   "metadata": {
    "collapsed": true
   },
   "outputs": [],
   "source": [
    "_void = None\n",
    "\n",
    "_void = None\n",
    "\n",
    "def is_neighbor(this_word, word):\n",
    "    mismatch_count = 0\n",
    "    for i in range(len(word)):\n",
    "        if this_word[i] != word[i]:\n",
    "            mismatch_count = mismatch_count + 1\n",
    "            \n",
    "        if mismatch_count > 1:\n",
    "            return False\n",
    "    return True    \n",
    "        \n",
    "\n",
    "def get_neighbors(this_word, words):\n",
    "    neighbors = []\n",
    "    for word in words:\n",
    "        if is_neighbor(this_word, word):\n",
    "            neighbors.append(word)\n",
    "            \n",
    "    return neighbors   \n",
    "\n",
    "def word_search(start, end, words):\n",
    "    frontier = [start] # priority queue\n",
    "    levels = {start: 0}\n",
    "    parents = {start: _void}\n",
    "    \n",
    "    while frontier:\n",
    "        next_word = frontier.pop(0)\n",
    "        \n",
    "        if is_neighbor(next_word, end):\n",
    "            parents[end] = next_word\n",
    "            return True, parents\n",
    "        \n",
    "        neighbors = get_neighbors(next_word, words)\n",
    "        \n",
    "        for neighbor in neighbors:\n",
    "            if not neighbor in levels:\n",
    "                frontier.append(neighbor)\n",
    "                levels[neighbor] = levels[next_word] + 1\n",
    "                parents[neighbor] = next_word\n",
    "                \n",
    "    return False, parents\n",
    "\n",
    "        \n",
    "        \n",
    "    \n",
    "    \n",
    "    "
   ]
  },
  {
   "cell_type": "code",
   "execution_count": 24,
   "metadata": {
    "collapsed": true
   },
   "outputs": [],
   "source": [
    "start = \"good\" \n",
    "end = \"soul\" \n",
    "words = [\"fowl\", \"food\", \"fool\" , \"foul\", \"bowl\"]\n",
    "b, parents = word_search(start, end, words)"
   ]
  },
  {
   "cell_type": "code",
   "execution_count": 25,
   "metadata": {},
   "outputs": [
    {
     "name": "stdout",
     "output_type": "stream",
     "text": [
      "soul\n",
      "foul\n",
      "fool\n",
      "food\n",
      "good\n"
     ]
    }
   ],
   "source": [
    "current = end\n",
    "while current:\n",
    "    print current\n",
    "    current = parents[current]"
   ]
  },
  {
   "cell_type": "code",
   "execution_count": null,
   "metadata": {
    "collapsed": true
   },
   "outputs": [],
   "source": [
    "_void = None\n",
    "\n",
    "_void = None\n",
    "\n",
    "def is_neighbor(this_word, word):\n",
    "    mismatch_count = 0\n",
    "    for i in range(len(word)):\n",
    "        if this_word[i] != word[i]:\n",
    "            mismatch_count = mismatch_count + 1\n",
    "            \n",
    "        if mismatch_count > 1:\n",
    "            return False\n",
    "    return True    \n",
    "        \n",
    "\n",
    "def get_neighbors(this_word, words):\n",
    "    neighbors = []\n",
    "    for word in words:\n",
    "        if is_neighbor(this_word, word):\n",
    "            neighbors.append(word)\n",
    "            \n",
    "    return neighbors   \n",
    "\n",
    "def word_search(start, end, words):\n",
    "    frontier = [start] # priority queue\n",
    "    levels = {start: 0}\n",
    "    costs = {start: 0}\n",
    "    parents = {start: _void}\n",
    "    \n",
    "    while frontier:\n",
    "        next_word = frontier.pop(0)\n",
    "        \n",
    "        if is_neighbor(next_word, end):\n",
    "            parents[end] = next_word\n",
    "            return True, parents\n",
    "        \n",
    "        neighbors = get_neighbors(next_word, words)\n",
    "        \n",
    "        for neighbor in neighbors:\n",
    "            if not neighbor in levels:\n",
    "                \n",
    "                levels[neighbor] = levels[next_word] + 1\n",
    "                costs[neighbor] = costs[next_word] + 1 # change to weight\n",
    "                priority = cost[neighbor] # in A* use cost[neighbor] + heuristic(neighbor, goal)\n",
    "                parents[neighbor] = next_word\n",
    "                frontier.append(neighbor, priority)\n",
    "                \n",
    "    return False, parents\n",
    "\n",
    "        \n",
    "        \n",
    "    \n",
    "    "
   ]
  }
 ],
 "metadata": {
  "kernelspec": {
   "display_name": "Python 2",
   "language": "python",
   "name": "python2"
  },
  "language_info": {
   "codemirror_mode": {
    "name": "ipython",
    "version": 2
   },
   "file_extension": ".py",
   "mimetype": "text/x-python",
   "name": "python",
   "nbconvert_exporter": "python",
   "pygments_lexer": "ipython2",
   "version": "2.7.13"
  }
 },
 "nbformat": 4,
 "nbformat_minor": 2
}
