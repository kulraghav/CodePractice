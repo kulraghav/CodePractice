{
 "cells": [
  {
   "cell_type": "markdown",
   "metadata": {},
   "source": [
    "- two-sum (two pointers)\n",
    "- two-diff \n",
    "- max{j-i} such that A[i] > A[j] (sliding window)\n",
    "- reverse a linkedlist\n",
    "- serialize and deserialize a binary tree\n",
    "- merge sort (in place)\n",
    "- heapsort\n",
    "- quicksort (tail recursive)\n",
    "- binary search (recursive and non-recursive)\n",
    "- repeated squaring (exponentiation, fibonacci)\n",
    "- transpose a matrix\n",
    "- rotate a matrix\n",
    "- spiral order\n",
    "- print all words in a trie which end with \"ed\"\n",
    "- search with wildcard \".\"\n",
    "- longest common subsequence\n",
    "- tree traversals (preorder, postorder, inorder, level order, zig-zag level order, vertical order)\n",
    "- graph algorithms (bfs, dfs, dijkstra, A*, prim, kruskal, floyd-warshall all pair shortest paths, distance, search, connectivity, cycle-detection) \n",
    "- brute force search/pruning/constraint propagation (sudoku solver)\n",
    "\n",
    "https://www.quora.com/How-do-Google-interviewers-score-candidates-after-an-interview"
   ]
  },
  {
   "cell_type": "code",
   "execution_count": 1,
   "metadata": {
    "collapsed": true
   },
   "outputs": [],
   "source": [
    "def two_sum(A, t):\n",
    "    \"\"\"\n",
    "        Args: A (list of int), t (int)\n",
    "        Returns: True/False\n",
    "        Raises: Exception(\"Invalid Input\")\n",
    "    \"\"\"\n",
    "    seen = {}\n",
    "    for i in range(len(A)):\n",
    "        if t-A[i] in seen:\n",
    "            return True\n",
    "        seen[A[i]] = i\n",
    "        \n",
    "    return False    "
   ]
  },
  {
   "cell_type": "code",
   "execution_count": 7,
   "metadata": {},
   "outputs": [
    {
     "data": {
      "text/plain": [
       "False"
      ]
     },
     "execution_count": 7,
     "metadata": {},
     "output_type": "execute_result"
    }
   ],
   "source": [
    "A = [5,1,4,2,1,6]\n",
    "t = 6\n",
    "\n",
    "two_sum(A, -1)"
   ]
  },
  {
   "cell_type": "code",
   "execution_count": 9,
   "metadata": {
    "collapsed": true
   },
   "outputs": [],
   "source": [
    "def two_diff(A, t):\n",
    "    table = {}\n",
    "    for i in range(len(A)):\n",
    "        table[A[i]] = i\n",
    "        \n",
    "    for i in range(len(A)):\n",
    "        if t + A[i] in table:\n",
    "            return True\n",
    "        \n",
    "    return False    "
   ]
  },
  {
   "cell_type": "code",
   "execution_count": 18,
   "metadata": {},
   "outputs": [
    {
     "name": "stdout",
     "output_type": "stream",
     "text": [
      "{0: 3, 1: 7, 2: 7, 3: 7, 4: 7, 5: 8}\n",
      "{0: 2, 1: 2, 2: 2, 3: 2, 4: 2, 5: 8}\n"
     ]
    },
    {
     "data": {
      "text/plain": [
       "4"
      ]
     },
     "execution_count": 18,
     "metadata": {},
     "output_type": "execute_result"
    }
   ],
   "source": [
    "_infinity = 99999999\n",
    "def max_span(A):\n",
    "    \"\"\"\n",
    "        Args: A (list of int)\n",
    "        Returns: max_span (int)\n",
    "        Raises: Exception(\"Invalid Input\")\n",
    "    \"\"\"\n",
    "    prefix_maxs = {}\n",
    "    current_max = -_infinity\n",
    "    \n",
    "    for i in range(len(A)):\n",
    "        if A[i] > current_max:\n",
    "            current_max = A[i]\n",
    "        prefix_maxs[i] = current_max\n",
    "    print(prefix_maxs)  \n",
    "    \n",
    "    prefix_mins = {}         \n",
    "    current_min = _infinity \n",
    "    \n",
    "    \n",
    "    \n",
    "    for i in range(len(A)-1, -1, -1):\n",
    "        if A[i] < current_min:\n",
    "            current_min = A[i]\n",
    "        prefix_mins[i] = current_min\n",
    "            \n",
    "    i = 0\n",
    "    j = 0\n",
    "    \n",
    "    print(prefix_mins)\n",
    "    \n",
    "    max_span = 0\n",
    "    \n",
    "    while i < len(A) and j < len(A):\n",
    "        \n",
    "        if prefix_maxs[i] > prefix_mins[j]:\n",
    "            if j - i > max_span:\n",
    "                max_span = j - i\n",
    "            j = j + 1\n",
    "        else:\n",
    "            i = i + 1\n",
    "            \n",
    "    return max_span        \n",
    "            \n",
    "A = [3,7,5,3,2,8] \n",
    "\n",
    "max_span(A)"
   ]
  },
  {
   "cell_type": "code",
   "execution_count": 3,
   "metadata": {},
   "outputs": [
    {
     "name": "stdout",
     "output_type": "stream",
     "text": [
      "True\n",
      "False\n"
     ]
    }
   ],
   "source": [
    "def two_sum(A,t):\n",
    "    \"\"\" Function to find if t can be expressed as a sum of two distinct elements of A\n",
    "        Args:\n",
    "            A: list of int\n",
    "            t: target int\n",
    "        Returns:\n",
    "            True if there exist i,j (i != j) such that A[i] + A[j] = t\n",
    "            False otherwise\n",
    "    \"\"\"        \n",
    "    A = sorted(A)\n",
    "    low = 0\n",
    "    high = len(A)-1\n",
    "    \n",
    "    while low < high:\n",
    "        if A[low] + A[high] == t:\n",
    "            return True\n",
    "        if A[low] + A[high] < t:     \n",
    "            low = low + 1\n",
    "        if A[low] + A[high] > t:\n",
    "            high = high - 1\n",
    "    return False        \n",
    "    \n",
    "A = [2,7,3,5,9]\n",
    "print two_sum(A, 12)\n",
    "print two_sum(A, 13)\n",
    "\n",
    "# switched < and > case\n",
    "# think thoroughly while writing the code, think of reasons why you are writing that line"
   ]
  },
  {
   "cell_type": "code",
   "execution_count": 12,
   "metadata": {},
   "outputs": [
    {
     "data": {
      "text/plain": [
       "True"
      ]
     },
     "execution_count": 12,
     "metadata": {},
     "output_type": "execute_result"
    }
   ],
   "source": [
    "def two_diff(A, t):\n",
    "    seen = {}\n",
    "    for i in range(len(A)):\n",
    "        seen[A[i]] = i\n",
    "        \n",
    "    for i in range(len(A)):\n",
    "        if A[i] + t in seen:\n",
    "            return True\n",
    "    return False\n",
    "\n",
    "two_diff(A, 6)"
   ]
  },
  {
   "cell_type": "code",
   "execution_count": 23,
   "metadata": {},
   "outputs": [
    {
     "name": "stdout",
     "output_type": "stream",
     "text": [
      "True\n",
      "False\n"
     ]
    }
   ],
   "source": [
    "def two_diff_positive(A, t):\n",
    "    A = sorted(A)\n",
    "    low = 0\n",
    "    high = 0\n",
    "    \n",
    "    while low < len(A) and high < len(A):\n",
    "        if A[high] - A[low] == t:\n",
    "            return True\n",
    "        if A[high] - A[low] > t:\n",
    "            low = low + 1\n",
    "        if A[high] - A[low] < t:\n",
    "            high = high + 1\n",
    "    return False\n",
    "\n",
    "A = [2,7,3,5,9]\n",
    "print two_diff_positive(A, 7)\n",
    "print two_diff_positive(A, 8)"
   ]
  },
  {
   "cell_type": "code",
   "execution_count": 37,
   "metadata": {},
   "outputs": [
    {
     "data": {
      "text/plain": [
       "1"
      ]
     },
     "execution_count": 37,
     "metadata": {},
     "output_type": "execute_result"
    }
   ],
   "source": [
    "_infinity = 99999999\n",
    "def max_index_diff(A):\n",
    "    prefix_maxs = {}\n",
    "    \n",
    "    current_max = -1*_infinity\n",
    "    for i in range(len(A)):\n",
    "        if A[i] > current_max:\n",
    "            current_max = A[i]\n",
    "        prefix_maxs[i] = current_max\n",
    "    \n",
    "    suffix_mins = {}\n",
    "    current_min = _infinity\n",
    "    for i in range(len(A)-1, -1, -1):\n",
    "        if A[i] < current_min:\n",
    "            current_min = A[i]\n",
    "        suffix_mins[i] = current_min\n",
    "        \n",
    "    low = 0\n",
    "    high = 0\n",
    "    \n",
    "    max_diff = 0\n",
    "    while low < len(A) and high < len(A):\n",
    "        max_diff = max(max_diff, high-low)\n",
    "        if prefix_maxs[low] > suffix_mins[high]:\n",
    "            high = high + 1\n",
    "        else: # prefix_maxs[low] <= suffix_mins[high]:\n",
    "            low = low + 1\n",
    "            \n",
    "    return max_diff\n",
    "\n",
    "#A = [2,7,3,5,4,9]\n",
    "A = [5,4,3,2,1]\n",
    "A = [3,2]\n",
    "A = [1,2]\n",
    "A = [2,1]\n",
    "max_index_diff(A)"
   ]
  },
  {
   "cell_type": "code",
   "execution_count": 6,
   "metadata": {
    "collapsed": true
   },
   "outputs": [],
   "source": [
    "def binary_search(A, x):\n",
    "    begin_index = 0\n",
    "    end_index = len(A)-1\n",
    "    \n",
    "    while begin_index <= end_index:\n",
    "        mid = (begin_index + end_index)//2 \n",
    "        if A[mid] == x:\n",
    "            return True\n",
    "        if x > A[mid]:\n",
    "            begin_index = mid + 1\n",
    "        if x < A[mid]:\n",
    "            end_index = mid - 1\n",
    "            \n",
    "    return False        \n",
    "    "
   ]
  },
  {
   "cell_type": "code",
   "execution_count": 7,
   "metadata": {},
   "outputs": [
    {
     "data": {
      "text/plain": [
       "False"
      ]
     },
     "execution_count": 7,
     "metadata": {},
     "output_type": "execute_result"
    }
   ],
   "source": [
    "A = [1,2,3,4,5,6,7]\n",
    "A = [1]\n",
    "binary_search(A, 3.3)"
   ]
  },
  {
   "cell_type": "code",
   "execution_count": 3,
   "metadata": {
    "collapsed": true
   },
   "outputs": [],
   "source": [
    "_undefined = None\n",
    "_void = None\n",
    "class Node:\n",
    "    def __init__(self, value=_undefined, next_node = _void):\n",
    "        self.value = value\n",
    "        self.next_node = next_node\n",
    "        \n",
    "    def insert(self, new_value):\n",
    "        current = self\n",
    "        while current.next_node:\n",
    "            current = current.next_node\n",
    "            \n",
    "        new_node = Node(new_value)    \n",
    "        current.next_node = new_node\n",
    "        \n",
    "        return self\n",
    "    \n",
    "    def show(self):\n",
    "        current = self\n",
    "        while current.next_node:\n",
    "            print(current.value)\n",
    "            current = current.next_node\n",
    "        print(current.value)    \n",
    "            "
   ]
  },
  {
   "cell_type": "code",
   "execution_count": 4,
   "metadata": {},
   "outputs": [
    {
     "name": "stdout",
     "output_type": "stream",
     "text": [
      "1\n",
      "2\n",
      "3\n",
      "4\n"
     ]
    }
   ],
   "source": [
    "mynode = Node(1)\n",
    "mynode.insert(2)\n",
    "mynode.insert(3)\n",
    "mynode.insert(4)\n",
    "mynode.show()"
   ]
  },
  {
   "cell_type": "code",
   "execution_count": 4,
   "metadata": {
    "collapsed": true
   },
   "outputs": [],
   "source": [
    "_undefined = None\n",
    "_void = None\n",
    "\n",
    "class Node:\n",
    "    def __init__(self, value=_undefined, next_node = _void):\n",
    "        self.value = value\n",
    "        self.next_node = next_node\n",
    "        \n",
    "    def show(self):\n",
    "        values = []\n",
    "        current = self\n",
    "        while current.next_node != _void:\n",
    "            values.append(current.value)\n",
    "            current = current.next_node\n",
    "        values.append(current.value)    \n",
    "        return values    \n",
    "            \n",
    "        \n",
    "    def add(self, new_value):\n",
    "        current = self\n",
    "        while current.next_node != _void:\n",
    "            current = current.next_node\n",
    "            \n",
    "        new_node = Node(new_value)\n",
    "        \n",
    "        current.next_node = new_node\n",
    "        return self\n",
    "    \n",
    "    def reverse(self):\n",
    "        prev = _void\n",
    "        current = self\n",
    "        \n",
    "        while current.next_node != _void:\n",
    "            next_node = current.next_node\n",
    "            current.next_node = prev\n",
    "            prev = current\n",
    "            current = next_node\n",
    "            \n",
    "        current.next_node = prev\n",
    "        return current"
   ]
  },
  {
   "cell_type": "code",
   "execution_count": 9,
   "metadata": {},
   "outputs": [
    {
     "data": {
      "text/plain": [
       "[5, 4, 3, 2, 1]"
      ]
     },
     "execution_count": 9,
     "metadata": {},
     "output_type": "execute_result"
    }
   ],
   "source": [
    "mynode = Node(1)\n",
    "mynode.add(2).show()\n",
    "mynode.add(3)\n",
    "mynode.add(4)\n",
    "mynode.add(5).show()\n",
    "mynode.reverse().show()"
   ]
  },
  {
   "cell_type": "code",
   "execution_count": 23,
   "metadata": {
    "collapsed": true
   },
   "outputs": [],
   "source": [
    "_undefined = None\n",
    "_void = None\n",
    "class Node:\n",
    "    def __init__(self, value=_undefined, left=_void, right=_void):\n",
    "        self.value = value\n",
    "        self.left = left\n",
    "        self.right = right\n",
    "        \n",
    "    def serialize(self):\n",
    "        if self == _void:\n",
    "            return []\n",
    "        \n",
    "        if self.left != _void:\n",
    "            left_headers = self.left.serialize()\n",
    "        else:\n",
    "            left_headers = []\n",
    "        \n",
    "        if self.right != _void:\n",
    "            right_headers = self.right.serialize()\n",
    "        else:\n",
    "            right_headers = []\n",
    "            \n",
    "        left_size = len(left_headers)\n",
    "        right_size = len(right_headers)\n",
    "        \n",
    "        this_header = {'value': self.value, 'size': 1 + left_size + right_size, 'left_size': left_size, 'right_size': right_size}\n",
    "        \n",
    "        return [this_header] + left_headers + right_headers\n",
    "    \n",
    "        "
   ]
  },
  {
   "cell_type": "code",
   "execution_count": 24,
   "metadata": {
    "collapsed": true
   },
   "outputs": [],
   "source": [
    "mynode = Node(1, Node(2, _void, _void), Node(3, _void, _void))"
   ]
  },
  {
   "cell_type": "code",
   "execution_count": 25,
   "metadata": {},
   "outputs": [
    {
     "data": {
      "text/plain": [
       "[{'left_size': 1, 'right_size': 1, 'size': 3, 'value': 1},\n",
       " {'left_size': 0, 'right_size': 0, 'size': 1, 'value': 2},\n",
       " {'left_size': 0, 'right_size': 0, 'size': 1, 'value': 3}]"
      ]
     },
     "execution_count": 25,
     "metadata": {},
     "output_type": "execute_result"
    }
   ],
   "source": [
    "mynode.serialize()"
   ]
  },
  {
   "cell_type": "code",
   "execution_count": 35,
   "metadata": {
    "collapsed": true
   },
   "outputs": [],
   "source": [
    "def deserialize(headers):\n",
    "    root_node = Node()\n",
    "    if len(headers) == 0:\n",
    "        return _void\n",
    "    \n",
    "    header = headers[0]\n",
    "    \n",
    "    value = header['value']\n",
    "    left_size = header['left_size']\n",
    "    right_size = header['right_size']\n",
    "    \n",
    "    root_node.value = value\n",
    "    root_node.left = deserialize(headers[1:left_size+1])\n",
    "    root_node.right = deserialize(headers[left_size+1:left_size+right_size+1])\n",
    "    \n",
    "    return root_node\n",
    "    "
   ]
  },
  {
   "cell_type": "code",
   "execution_count": 36,
   "metadata": {
    "collapsed": true
   },
   "outputs": [],
   "source": [
    "my_deserialized_node = deserialize(mynode.serialize())"
   ]
  },
  {
   "cell_type": "code",
   "execution_count": 37,
   "metadata": {},
   "outputs": [
    {
     "data": {
      "text/plain": [
       "[{'left_size': 1, 'right_size': 1, 'size': 3, 'value': 1},\n",
       " {'left_size': 0, 'right_size': 0, 'size': 1, 'value': 2},\n",
       " {'left_size': 0, 'right_size': 0, 'size': 1, 'value': 3}]"
      ]
     },
     "execution_count": 37,
     "metadata": {},
     "output_type": "execute_result"
    }
   ],
   "source": [
    "my_deserialized_node.serialize()"
   ]
  },
  {
   "cell_type": "code",
   "execution_count": 62,
   "metadata": {
    "collapsed": true
   },
   "outputs": [],
   "source": [
    "def merge(A, B):\n",
    "    C = []\n",
    "    i = 0\n",
    "    j = 0\n",
    "    while i < len(A) and j < len(B):\n",
    "        if A[i] < B[j]:\n",
    "            C.append(A[i])\n",
    "            i = i + 1\n",
    "        else:\n",
    "            C.append(B[j])\n",
    "            j = j + 1\n",
    "    \n",
    "    if i == len(A):\n",
    "        C = C + B[j:]\n",
    "    if j == len(B):\n",
    "        C = C + A[i:]\n",
    "        \n",
    "    return C\n",
    "\n",
    "def merge_sort(A):\n",
    "    if len(A) < 2:\n",
    "        return A\n",
    "    mid = len(A)//2\n",
    "    \n",
    "    return merge(merge_sort(A[:mid]), merge_sort(A[mid:]))\n",
    "\n",
    "# too many mistakes on first attempt\n",
    "# forgot to initialize i and j\n",
    "# used A[j] instead of B[j]\n",
    "# used mid+1 instead of mid\n",
    "    "
   ]
  },
  {
   "cell_type": "code",
   "execution_count": 9,
   "metadata": {
    "collapsed": true
   },
   "outputs": [],
   "source": [
    "_undefined = None\n",
    "def partition(A):\n",
    "    \"\"\"\n",
    "        Args: A (list of int)\n",
    "        Returns: \n",
    "                A_left (list of int)\n",
    "                pivot (int)\n",
    "                A_right (list of int)\n",
    "        Raises: Exception(\"Invalid Input\")         \n",
    "                \n",
    "    \"\"\"\n",
    "    if not A:\n",
    "        A_left = []\n",
    "        pivot = _undefined\n",
    "        A_right = []\n",
    "        return A_left, pivot, A_right\n",
    "    \n",
    "    pivot = A[0]\n",
    "    \n",
    "    low = 0\n",
    "    high = len(A)-1\n",
    "    \n",
    "    while low < high:\n",
    "        if A[low] > pivot and A[high] <= pivot:\n",
    "            temp = A[low]\n",
    "            A[low] = A[high]\n",
    "            A[high] = temp\n",
    "            \n",
    "        if A[low] <= pivot:\n",
    "            low = low + 1\n",
    "            \n",
    "        if A[high] > pivot:\n",
    "            high = high - 1\n",
    "            \n",
    "    A_left = A[1:low]       \n",
    "    A_right = A[low:]\n",
    "    \n",
    "    return A_left, pivot, A_right"
   ]
  },
  {
   "cell_type": "code",
   "execution_count": 11,
   "metadata": {},
   "outputs": [
    {
     "data": {
      "text/plain": [
       "([5, 2, 3], 6, [7, 8, 9])"
      ]
     },
     "execution_count": 11,
     "metadata": {},
     "output_type": "execute_result"
    }
   ],
   "source": [
    "A = [6,8,2,7,3,5,9]\n",
    "partition(A)"
   ]
  },
  {
   "cell_type": "code",
   "execution_count": 66,
   "metadata": {},
   "outputs": [
    {
     "name": "stdout",
     "output_type": "stream",
     "text": [
      "[2, 3, 5, 7, 9]\n"
     ]
    },
    {
     "data": {
      "text/plain": [
       "[2, 3, 5, 7, 9]"
      ]
     },
     "execution_count": 66,
     "metadata": {},
     "output_type": "execute_result"
    }
   ],
   "source": [
    "A = [2,7,3,5,9]\n",
    "\n",
    "B = sorted(A)\n",
    "print B\n",
    "\n",
    "#merge([2], [3])\n",
    "merge_sort(A)"
   ]
  },
  {
   "cell_type": "code",
   "execution_count": 96,
   "metadata": {
    "collapsed": true
   },
   "outputs": [],
   "source": [
    "def partition(A):\n",
    "    pivot = A[0]\n",
    "    \n",
    "    low = 0\n",
    "    high = len(A)-1\n",
    "    \n",
    "    while low <= high:\n",
    "        \n",
    "        if A[low] > pivot and A[high] <= pivot:\n",
    "            temp = A[low]\n",
    "            A[low] = A[high]\n",
    "            A[high] = temp\n",
    "        \n",
    "        if A[low] <= pivot:\n",
    "            low = low + 1\n",
    "        \n",
    "        if A[high] > pivot:\n",
    "            high = high - 1\n",
    "            \n",
    "    temp = A[low-1]\n",
    "    A[low-1] = A[0]\n",
    "    A[0] = temp\n",
    "    \n",
    "    return A[:low-1], pivot, A[low:]\n",
    "    \n",
    "def quick_sort(A):\n",
    "    if len(A) < 2:\n",
    "        return A\n",
    "    left_part, pivot, right_part = partition(A)\n",
    "    return quick_sort(left_part) + [pivot] + quick_sort(right_part)"
   ]
  },
  {
   "cell_type": "code",
   "execution_count": 94,
   "metadata": {},
   "outputs": [
    {
     "data": {
      "text/plain": [
       "([5, 3], 7, [])"
      ]
     },
     "execution_count": 94,
     "metadata": {},
     "output_type": "execute_result"
    }
   ],
   "source": [
    "partition([7,3,5])"
   ]
  },
  {
   "cell_type": "code",
   "execution_count": 99,
   "metadata": {},
   "outputs": [
    {
     "data": {
      "text/plain": [
       "[2, 3, 5, 7, 9]"
      ]
     },
     "execution_count": 99,
     "metadata": {},
     "output_type": "execute_result"
    }
   ],
   "source": [
    "A = [2,7,3,5,9]\n",
    "\n",
    "quick_sort(A)"
   ]
  },
  {
   "cell_type": "code",
   "execution_count": 97,
   "metadata": {},
   "outputs": [
    {
     "data": {
      "text/plain": [
       "([], 2, [7, 3, 5, 9])"
      ]
     },
     "execution_count": 97,
     "metadata": {},
     "output_type": "execute_result"
    }
   ],
   "source": [
    "partition(A)"
   ]
  },
  {
   "cell_type": "code",
   "execution_count": 98,
   "metadata": {},
   "outputs": [
    {
     "data": {
      "text/plain": [
       "([5, 3], 7, [9])"
      ]
     },
     "execution_count": 98,
     "metadata": {},
     "output_type": "execute_result"
    }
   ],
   "source": [
    "partition([7, 3, 5, 9])"
   ]
  },
  {
   "cell_type": "code",
   "execution_count": 100,
   "metadata": {
    "collapsed": true
   },
   "outputs": [],
   "source": [
    "def binary_search(A, begin_index, end_index, key):\n",
    "    if begin_index > end_index:\n",
    "        return False\n",
    "    mid = (begin_index + end_index) // 2\n",
    "    \n",
    "    if A[mid] == key:\n",
    "        return True\n",
    "    if A[mid] > key:\n",
    "        return binary_search(A, begin_index, mid-1, key)\n",
    "    if A[mid] < key:\n",
    "        return binary_search(A, mid+1, end_index, key)"
   ]
  },
  {
   "cell_type": "code",
   "execution_count": 10,
   "metadata": {
    "collapsed": true
   },
   "outputs": [],
   "source": [
    "def binary_search_iterative(A, x):\n",
    "    begin_index = 0\n",
    "    end_index = len(A) - 1\n",
    "    \n",
    "    while begin_index <= end_index:\n",
    "        mid = (begin_index + end_index) // 2\n",
    "        if x == A[mid]:\n",
    "            return True\n",
    "        if x > A[mid]:\n",
    "            begin_index = mid + 1\n",
    "        if x < A[mid]:    \n",
    "            end_index = mid - 1\n",
    "    return False        "
   ]
  },
  {
   "cell_type": "code",
   "execution_count": 11,
   "metadata": {},
   "outputs": [
    {
     "name": "stdout",
     "output_type": "stream",
     "text": [
      "False\n",
      "True\n",
      "False\n"
     ]
    }
   ],
   "source": [
    "A = [1, 3, 5, 7, 9, 11]\n",
    "x = 5\n",
    "y = 6\n",
    "\n",
    "print binary_search_iterative([], 2)\n",
    "print binary_search_iterative(A, x)\n",
    "print binary_search_iterative(A, y)"
   ]
  },
  {
   "cell_type": "code",
   "execution_count": 101,
   "metadata": {},
   "outputs": [
    {
     "name": "stdout",
     "output_type": "stream",
     "text": [
      "[2, 3, 5, 7, 9]\n"
     ]
    }
   ],
   "source": [
    "B = quick_sort(A)\n",
    "print B"
   ]
  },
  {
   "cell_type": "code",
   "execution_count": 107,
   "metadata": {},
   "outputs": [
    {
     "data": {
      "text/plain": [
       "False"
      ]
     },
     "execution_count": 107,
     "metadata": {},
     "output_type": "execute_result"
    }
   ],
   "source": [
    "binary_search(B, 0, 4, 4)"
   ]
  },
  {
   "cell_type": "code",
   "execution_count": 111,
   "metadata": {
    "collapsed": true
   },
   "outputs": [],
   "source": [
    "def expo(x, y):\n",
    "    if y == 0:\n",
    "        return 1\n",
    "    if y % 2 == 1:\n",
    "        return x*(expo(x, y//2)**2)\n",
    "    else:\n",
    "        return expo(x, y//2)**2"
   ]
  },
  {
   "cell_type": "code",
   "execution_count": 117,
   "metadata": {},
   "outputs": [
    {
     "name": "stdout",
     "output_type": "stream",
     "text": [
      "8\n",
      "1\n"
     ]
    }
   ],
   "source": [
    "print expo(2,3)\n",
    "print expo(0,1)"
   ]
  },
  {
   "cell_type": "code",
   "execution_count": 118,
   "metadata": {
    "collapsed": true
   },
   "outputs": [],
   "source": [
    "def transpose(M):\n",
    "    for i in range(len(M)):\n",
    "        for j in range(i+1, len(M[i])):\n",
    "            temp = M[i][j]\n",
    "            M[i][j] = M[j][i]\n",
    "            M[j][i] = temp\n",
    "    return M        "
   ]
  },
  {
   "cell_type": "code",
   "execution_count": 128,
   "metadata": {},
   "outputs": [
    {
     "data": {
      "text/plain": [
       "[[1, 3], [2, 4]]"
      ]
     },
     "execution_count": 128,
     "metadata": {},
     "output_type": "execute_result"
    }
   ],
   "source": [
    "M = [[1,2], [3,4]]\n",
    "\n",
    "transpose(M)"
   ]
  },
  {
   "cell_type": "code",
   "execution_count": 133,
   "metadata": {
    "collapsed": true
   },
   "outputs": [],
   "source": [
    "def combine(T, B):\n",
    "    C = []\n",
    "    for i in range(len(T)):\n",
    "        C.append(B[i] + T[i])\n",
    "    return C    \n",
    "        \n",
    "def rotate(M):\n",
    "    if len(M) == 0:\n",
    "        return M\n",
    "    if len(M) == 1:\n",
    "        M_rot = []\n",
    "        for i in range(len(M[0])):\n",
    "            M_rot.append([M[0][i]])\n",
    "        return M_rot\n",
    "    \n",
    "    mid = len(M)//2\n",
    "    \n",
    "    M_rot_top = rotate(M[:mid])\n",
    "    M_rot_bottom = rotate(M[mid:])\n",
    "    \n",
    "    #print M_rot_top, M_rot_bottom\n",
    "    \n",
    "    return combine(M_rot_top, M_rot_bottom)"
   ]
  },
  {
   "cell_type": "code",
   "execution_count": 134,
   "metadata": {},
   "outputs": [
    {
     "data": {
      "text/plain": [
       "[[3, 1], [4, 2]]"
      ]
     },
     "execution_count": 134,
     "metadata": {},
     "output_type": "execute_result"
    }
   ],
   "source": [
    "M = [[1,2], [3, 4]]\n",
    "rotate(M)"
   ]
  },
  {
   "cell_type": "code",
   "execution_count": null,
   "metadata": {
    "collapsed": true
   },
   "outputs": [],
   "source": [
    "combine([3,4], [1,2])"
   ]
  },
  {
   "cell_type": "code",
   "execution_count": 2,
   "metadata": {},
   "outputs": [
    {
     "name": "stdout",
     "output_type": "stream",
     "text": [
      "[1, 2, 3, 4, 5, 10, 15, 20, 19, 18, 17, 16, 11, 6, 7, 8, 9, 14, 13, 12]\n"
     ]
    }
   ],
   "source": [
    "def spiral_copy(inputMatrix):\n",
    "    \"\"\"\n",
    "        Args: inputMatrix (list of list of int)\n",
    "        Returns: spiral (list of int)\n",
    "        Raises: Exception(\"invalid input\")\n",
    "    \"\"\"\n",
    "    if len(inputMatrix) == 0:\n",
    "        return []\n",
    "      \n",
    "    m = len(inputMatrix)\n",
    "    n = len(inputMatrix[0])\n",
    "    top =  0\n",
    "    left = 0\n",
    "    bottom = m-1 \n",
    "    right  = n-1\n",
    "    \n",
    "    spiral = []\n",
    "    \n",
    "    while bottom - top >= 0 and right - left >= 0:\n",
    "        top_row = inputMatrix[top]\n",
    "        for i in range(left, right+1):\n",
    "              spiral.append(top_row[i])\n",
    "        \n",
    "        for j in range(top+1, bottom):\n",
    "              spiral.append(inputMatrix[j][right])\n",
    "        if bottom != top:    \n",
    "            bottom_row = inputMatrix[bottom]\n",
    "            for i in range(right, left-1, -1):\n",
    "                spiral.append(bottom_row[i])\n",
    "        if right != left:\n",
    "            for j in range(bottom-1, top, -1):\n",
    "                spiral.append(inputMatrix[j][left])\n",
    "            \n",
    "        top = top + 1\n",
    "        bottom = bottom - 1\n",
    "        left = left + 1\n",
    "        right = right - 1\n",
    "        \n",
    "    return spiral   \n",
    "  \n",
    "inputMatrix = [[1,2,3,4,5],[6,7,8,9,10],[11,12,13,14,15],[16,17,18,19,20]]\n",
    "  \n",
    "print spiral_copy(inputMatrix)"
   ]
  },
  {
   "cell_type": "code",
   "execution_count": 137,
   "metadata": {
    "collapsed": true
   },
   "outputs": [],
   "source": [
    "words = ['apple', 'ants', 'babies', 'banana', 'cat', 'candle']\n",
    "\n",
    "_end_ = '_end_'\n",
    "def make_trie(words):\n",
    "    trie = {}\n",
    "    \n",
    "    for word in words:\n",
    "        current = trie\n",
    "        for letter in word:\n",
    "            if not letter in current:\n",
    "                current[letter] = {}\n",
    "            current = current[letter]   \n",
    "        current[_end_] = _end_\n",
    "        \n",
    "    return trie    "
   ]
  },
  {
   "cell_type": "code",
   "execution_count": 139,
   "metadata": {
    "collapsed": true
   },
   "outputs": [],
   "source": [
    "trie = make_trie(words)"
   ]
  },
  {
   "cell_type": "code",
   "execution_count": 142,
   "metadata": {},
   "outputs": [
    {
     "data": {
      "text/plain": [
       "{'a': {'n': {'a': {'_end_': '_end_'}}}}"
      ]
     },
     "execution_count": 142,
     "metadata": {},
     "output_type": "execute_result"
    }
   ],
   "source": [
    "trie['b']['a']['n']"
   ]
  },
  {
   "cell_type": "code",
   "execution_count": 148,
   "metadata": {
    "collapsed": true
   },
   "outputs": [],
   "source": [
    "def all_is_well_that_ends(with_this_ending, words):\n",
    "    words_reversed = [word[::-1] for word in words]\n",
    "    trie = make_trie(words_reversed)\n",
    "    \n",
    "    current = trie\n",
    "    for letter in with_this_ending[::-1]:\n",
    "        if not letter in current:\n",
    "            return False\n",
    "        else:\n",
    "            current = current[letter]\n",
    "    return True        \n",
    "    "
   ]
  },
  {
   "cell_type": "code",
   "execution_count": 151,
   "metadata": {},
   "outputs": [
    {
     "data": {
      "text/plain": [
       "False"
      ]
     },
     "execution_count": 151,
     "metadata": {},
     "output_type": "execute_result"
    }
   ],
   "source": [
    "all_is_well_that_ends('nan', words)"
   ]
  },
  {
   "cell_type": "code",
   "execution_count": 147,
   "metadata": {},
   "outputs": [
    {
     "data": {
      "text/plain": [
       "['elppa', 'stna', 'seibab', 'ananab', 'tac', 'eldnac']"
      ]
     },
     "execution_count": 147,
     "metadata": {},
     "output_type": "execute_result"
    }
   ],
   "source": [
    "[word[::-1] for word in words]\n"
   ]
  },
  {
   "cell_type": "code",
   "execution_count": 152,
   "metadata": {
    "collapsed": true
   },
   "outputs": [],
   "source": [
    "def lcs(A, B):\n",
    "    m = len(A)\n",
    "    n = len(B)\n",
    "    \n",
    "    if m == 0 or n == 0:\n",
    "        return 0\n",
    "    \n",
    "    if A[0] == B[0]:\n",
    "        initial_value = 1\n",
    "    else:\n",
    "        initial_value = 0\n",
    "        \n",
    "    lcs = {}\n",
    "    for i in range(m):\n",
    "        for j in range(n):\n",
    "            if A[i] == B[j]:\n",
    "                match = 1\n",
    "            else:\n",
    "                match = 0\n",
    "                \n",
    "            if i == 0 and j == 0:\n",
    "                lcs[(0,0)] = match\n",
    "            if i == 0 and j > 0:\n",
    "                lcs[(0,j)] = max(match, lcs[(0,j-1)])\n",
    "            if i > 0 and j == 0:\n",
    "                lcs[(i, 0)] = max(match, lcs[(i-1, 0)])\n",
    "            if i > 0 and j > 0:\n",
    "                lcs[(i,j)] = max(match + lcs[(i-1, j-1)], lcs[(i,j-1)], lcs[(i-1,j)])\n",
    "                \n",
    "    return lcs[(m-1,n-1)]            \n",
    "            \n",
    "    \n",
    "    "
   ]
  },
  {
   "cell_type": "code",
   "execution_count": 153,
   "metadata": {},
   "outputs": [
    {
     "data": {
      "text/plain": [
       "2"
      ]
     },
     "execution_count": 153,
     "metadata": {},
     "output_type": "execute_result"
    }
   ],
   "source": [
    "A = [1,2,3,5,6,7]\n",
    "B= [2,6,9]\n",
    "\n",
    "lcs(A,B)"
   ]
  },
  {
   "cell_type": "code",
   "execution_count": 157,
   "metadata": {
    "collapsed": true
   },
   "outputs": [],
   "source": [
    "class Node:\n",
    "    def __init__(self, value=_undefined, left=_void, right=_void):\n",
    "        self.value = value\n",
    "        self.left = left\n",
    "        self.right = right\n",
    "        \n",
    "    def preorder(self):\n",
    "        if self == _void or self.value == None:\n",
    "            return []\n",
    "        \n",
    "        \n",
    "        if self.left != _void:\n",
    "            preorder_left = self.left.preorder()\n",
    "        else:\n",
    "            preorder_left = []\n",
    "            \n",
    "        if self.right != _void:\n",
    "            preorder_right = self.right.preorder()\n",
    "        else:\n",
    "            preorder_right = []\n",
    "        \n",
    "        return [self.value] + preorder_left + preorder_right\n",
    "    \n",
    "    "
   ]
  },
  {
   "cell_type": "code",
   "execution_count": 161,
   "metadata": {
    "collapsed": true
   },
   "outputs": [],
   "source": [
    "mynode = Node(1, Node(2, _void), Node(3, _void))"
   ]
  },
  {
   "cell_type": "code",
   "execution_count": 162,
   "metadata": {},
   "outputs": [
    {
     "data": {
      "text/plain": [
       "[1, 2, 3]"
      ]
     },
     "execution_count": 162,
     "metadata": {},
     "output_type": "execute_result"
    }
   ],
   "source": [
    "mynode.preorder()"
   ]
  },
  {
   "cell_type": "markdown",
   "metadata": {},
   "source": [
    "https://www.codementor.io/sheena/how-to-write-python-custom-exceptions-du107ufv9"
   ]
  },
  {
   "cell_type": "code",
   "execution_count": 11,
   "metadata": {
    "collapsed": true
   },
   "outputs": [],
   "source": [
    "def bfs(G, root):\n",
    "    \"\"\" BFS traversal generator\n",
    "        Args: G (dictionary {node (int): adjacency_list(list of int)}), root (int)\n",
    "        Yields: next_node, level (next node, level of next node in bfs traversal)\n",
    "        Returns: None\n",
    "        Raises: exception \"invalid input\" if input is invalid\n",
    "    \"\"\"\n",
    "    queue = [root]\n",
    "    levels = {root: 0}\n",
    "    \n",
    "    \n",
    "    while queue:\n",
    "        next_node = queue.pop(0)\n",
    "        level = levels[next_node]\n",
    "        yield next_node, level\n",
    "        neighbors = G[next_node]\n",
    "        for neighbor in neighbors:\n",
    "            if not neighbor in levels:\n",
    "                levels[neighbor] = levels[next_node] + 1\n",
    "                queue.append(neighbor)         \n",
    "    return          \n",
    "        \n",
    "    "
   ]
  },
  {
   "cell_type": "code",
   "execution_count": 15,
   "metadata": {
    "collapsed": true
   },
   "outputs": [],
   "source": [
    "G = {1: [2,3], 2: [4,5], 3:[6,7], 4: [1], 5:[1], 6:[1], 7:[1]}"
   ]
  },
  {
   "cell_type": "code",
   "execution_count": 16,
   "metadata": {},
   "outputs": [
    {
     "name": "stdout",
     "output_type": "stream",
     "text": [
      "4 0\n",
      "1 1\n",
      "2 2\n",
      "3 2\n",
      "5 3\n",
      "6 3\n",
      "7 3\n"
     ]
    }
   ],
   "source": [
    "for node, level in bfs(G, 4):\n",
    "    print node, level"
   ]
  },
  {
   "cell_type": "code",
   "execution_count": 23,
   "metadata": {
    "collapsed": true
   },
   "outputs": [],
   "source": [
    "def get_next_unvisited_neighbor(neighbors, visited_nodes):\n",
    "    for neighbor in neighbors:\n",
    "        if not neighbor in visited_nodes:\n",
    "            return neighbor\n",
    "    return _undefined    \n",
    "\n",
    "_undefined = -1\n",
    "def dfs(G, root):\n",
    "    \"\"\" Function to generate dfs order of graph G starting at a specified node named root\n",
    "        Args: G (dictionary {node (int): adjacency_list (list of int)}), root (int)\n",
    "        Yields: next_node (next_node in dfs order)\n",
    "        Returns: None\n",
    "        Raises: Exception(\"invalid input\") if input is not valid\n",
    "    \"\"\"\n",
    "    stack = [root]\n",
    "    visited_nodes = {root: [0, _undefined]}\n",
    "    \n",
    "    time = 0\n",
    "    while stack:\n",
    "        time = time + 1\n",
    "        next_node = stack[-1]\n",
    "        yield next_node\n",
    "        next_unvisited_neighbor = get_next_unvisited_neighbor(G[next_node], visited_nodes)\n",
    "        if next_unvisited_neighbor == _undefined:\n",
    "            stack.pop()\n",
    "            end_time = time\n",
    "            visited_nodes[next_node][1] = end_time \n",
    "        else: \n",
    "            start_time = time\n",
    "            visited_nodes[next_unvisited_neighbor] = [start_time, _undefined]\n",
    "            stack.append(next_unvisited_neighbor)     \n",
    "    return"
   ]
  },
  {
   "cell_type": "code",
   "execution_count": 24,
   "metadata": {},
   "outputs": [
    {
     "name": "stdout",
     "output_type": "stream",
     "text": [
      "1\n",
      "2\n",
      "4\n",
      "2\n",
      "5\n",
      "2\n",
      "1\n",
      "3\n",
      "6\n",
      "3\n",
      "7\n",
      "3\n",
      "1\n"
     ]
    }
   ],
   "source": [
    "for node in dfs(G, 1):\n",
    "    print node"
   ]
  },
  {
   "cell_type": "code",
   "execution_count": null,
   "metadata": {
    "collapsed": true
   },
   "outputs": [],
   "source": [
    "_infinity = 99999999\n",
    "def dijkstra(G, W, s):\n",
    "    \"\"\" This function computes lengths of shortest paths \n",
    "        starting from node s in graph G with edge-weights W.\n",
    "        Args: G ({node (int): neighbors (list of int)}) \n",
    "              W ({(i,j): w_ij})\n",
    "              s (int)\n",
    "        Returns:\n",
    "              distances ({i: d_i})\n",
    "        Raises:\n",
    "              Exception(\"invalid input\") if input is invalid\n",
    "    \"\"\"\n",
    "    \n",
    "    distances = {}\n",
    "    interior_nodes = {}\n",
    "    for node in G:\n",
    "        distances[node] = _infinity\n",
    "    \n",
    "    distances[s] = 0\n",
    "    interior_nodes[]\n",
    "    \n",
    "    "
   ]
  },
  {
   "cell_type": "code",
   "execution_count": 25,
   "metadata": {},
   "outputs": [
    {
     "name": "stdout",
     "output_type": "stream",
     "text": [
      "1\n",
      "2\n"
     ]
    }
   ],
   "source": [
    "G = {1:2, 2:4}\n",
    "\n"
   ]
  },
  {
   "cell_type": "code",
   "execution_count": 19,
   "metadata": {
    "collapsed": true
   },
   "outputs": [],
   "source": [
    "def array_of_array_products(arr):\n",
    "    \"\"\"\n",
    "         Args: arr (list of int)\n",
    "         Returns: output (list of int)\n",
    "         Raises: Exception(\"Invalid Input\")\n",
    "    \"\"\"\n",
    "    \n",
    "    if len(arr) == 1:\n",
    "        return []\n",
    "    \n",
    "    prefix_products = {}\n",
    "    product = 1 \n",
    "    prefix_products[0] = 1\n",
    "    \n",
    "    for i in range(len(arr)):\n",
    "          product = product * arr[i]\n",
    "          prefix_products[i+1] = product\n",
    "          \n",
    "    suffix_products = {}\n",
    "    product = 1\n",
    "    suffix_products[len(arr)] = 1\n",
    "    \n",
    "    for i in range(len(arr)-1, -1, -1):\n",
    "          product = product * arr[i]\n",
    "          suffix_products[i] = product\n",
    "          \n",
    "    output = []      \n",
    "    for i in range(len(arr)):  \n",
    "          output.append(prefix_products[i]*suffix_products[i+1])\n",
    "        \n",
    "    return output    "
   ]
  },
  {
   "cell_type": "code",
   "execution_count": 8,
   "metadata": {},
   "outputs": [
    {
     "name": "stdout",
     "output_type": "stream",
     "text": [
      ".\n"
     ]
    },
    {
     "data": {
      "text/plain": [
       "True"
      ]
     },
     "execution_count": 8,
     "metadata": {},
     "output_type": "execute_result"
    }
   ],
   "source": [
    "\"\"\"\n",
    "0    1  2  3\n",
    "[-8, 0, 2, 5]\n",
    "\n",
    "begin_index = 0\n",
    "\n",
    "end_index = 3\n",
    "\n",
    "mid = (begin_index + end_index) // 2   3//2 = 1\n",
    "\n",
    "arr[1] = 0  (arr[1] < 1)\n",
    "\n",
    "lowest i such that arr[i] == i\n",
    "\n",
    " 0  1  2  3 4  5  6             \n",
    "[0, 1, 2, 3 14 15 20]\n",
    "\n",
    "mid\n",
    "\n",
    "A[mid] == mid\n",
    "     end_index = mid\n",
    "\n",
    "A[mid] < mid   \n",
    "\n",
    "     begin_index = mid + 1\n",
    "\n",
    "A[mid] > mid\n",
    "\n",
    "     end_index = mid - 1\n",
    "\"\"\"\n",
    "\n",
    "_undefined = -1\n",
    "def index_equals_value_search(arr):\n",
    "      \"\"\"\n",
    "          Args: arr (list of int)\n",
    "          Returns: fixed_point (int)\n",
    "          Raises: Exception (\"Invalid Input\")\n",
    "      \"\"\"\n",
    "      begin_index = 0\n",
    "      end_index = len(arr)-1\n",
    "    \n",
    "      while begin_index < end_index:\n",
    "          mid = (begin_index + end_index) // 2\n",
    "          \n",
    "          if arr[mid] < mid:\n",
    "              begin_index = mid + 1\n",
    "          if arr[mid] >= mid:\n",
    "              end_index = mid\n",
    "              \n",
    "      if begin_index == end_index and arr[begin_index] == begin_index:\n",
    "          fixed_point = begin_index\n",
    "      else:\n",
    "          fixed_point = _undefined\n",
    "          \n",
    "      return fixed_point\n",
    "    \n",
    "def test_fixed_point():\n",
    "      \"\"\"\n",
    "          Args: this function does not take any arguments\n",
    "          Returns: True (if all tests passed)\n",
    "          Raises: AssertionError() (if any of the test fails)\n",
    "      \"\"\"\n",
    "      arr = []\n",
    "      assert index_equals_value_search(arr) == -1\n",
    "      \n",
    "      arr = [-8, 0, 2, 5]\n",
    "      assert index_equals_value_search(arr) == 2\n",
    "      \n",
    "      arr = [-1,0,3,6]\n",
    "      assert index_equals_value_search(arr) == -1\n",
    "      \n",
    "      print(\".\")\n",
    "      return True\n",
    "    \n",
    "    \n",
    "test_fixed_point()    "
   ]
  },
  {
   "cell_type": "code",
   "execution_count": 46,
   "metadata": {
    "collapsed": true
   },
   "outputs": [],
   "source": [
    "\n",
    "def delete(this_node, graph):\n",
    "    del graph[this_node]\n",
    "    for node in graph:\n",
    "        if this_node in graph[node]:\n",
    "            graph[node].remove(this_node)\n",
    "            \n",
    "    return graph        \n",
    "        \n",
    "        \n",
    "\n",
    "_undefined = None\n",
    "def get_sink(graph):\n",
    "        \"\"\"\n",
    "            Args: graph (dictionary {node (int): neighbors (list of int)})\n",
    "            Returns: node (int)\n",
    "            Raises: Exception(\"Invalid Input: graph does not have sink!)\n",
    "            \n",
    "        \"\"\"\n",
    "        for node in graph:\n",
    "             if not graph[node]:\n",
    "                return node\n",
    "        return _undefined    \n",
    "        \n",
    "def topological_sort(graph):\n",
    "    \"\"\"\n",
    "        Args: graph (dictionary {node (int): neighbors (list of int)})\n",
    "        Returns: topological_order (list of int)\n",
    "        Raises: Exception(\"Invalid Input\")\n",
    "    \"\"\"\n",
    "    \n",
    "    while graph:\n",
    "        next_node = get_sink(graph)\n",
    "        yield next_node\n",
    "        #print next_node\n",
    "        graph = delete(next_node, graph)\n",
    "           \n",
    "        \n",
    "        "
   ]
  },
  {
   "cell_type": "code",
   "execution_count": 48,
   "metadata": {},
   "outputs": [
    {
     "data": {
      "text/plain": [
       "False"
      ]
     },
     "execution_count": 48,
     "metadata": {},
     "output_type": "execute_result"
    }
   ],
   "source": [
    "graph = {0:[1,2], 1:[3,4], 2:[], 3:[], 4:[]}\n",
    "not graph"
   ]
  },
  {
   "cell_type": "code",
   "execution_count": 49,
   "metadata": {},
   "outputs": [
    {
     "name": "stdout",
     "output_type": "stream",
     "text": [
      "2\n",
      "3\n",
      "4\n",
      "1\n",
      "0\n"
     ]
    }
   ],
   "source": [
    "for node in topological_sort(graph):\n",
    "    print node"
   ]
  },
  {
   "cell_type": "code",
   "execution_count": 16,
   "metadata": {},
   "outputs": [
    {
     "data": {
      "text/plain": [
       "{}"
      ]
     },
     "execution_count": 16,
     "metadata": {},
     "output_type": "execute_result"
    }
   ],
   "source": [
    "graph"
   ]
  },
  {
   "cell_type": "code",
   "execution_count": 26,
   "metadata": {},
   "outputs": [
    {
     "ename": "ValueError",
     "evalue": "list.remove(x): x not in list",
     "output_type": "error",
     "traceback": [
      "\u001b[0;31m---------------------------------------------------------------------------\u001b[0m",
      "\u001b[0;31mValueError\u001b[0m                                Traceback (most recent call last)",
      "\u001b[0;32m<ipython-input-26-48796770d893>\u001b[0m in \u001b[0;36m<module>\u001b[0;34m()\u001b[0m\n\u001b[1;32m      1\u001b[0m \u001b[0mneighbors\u001b[0m \u001b[0;34m=\u001b[0m \u001b[0;34m[\u001b[0m\u001b[0;36m1\u001b[0m\u001b[0;34m,\u001b[0m\u001b[0;36m2\u001b[0m\u001b[0;34m]\u001b[0m\u001b[0;34m\u001b[0m\u001b[0m\n\u001b[1;32m      2\u001b[0m \u001b[0;34m\u001b[0m\u001b[0m\n\u001b[0;32m----> 3\u001b[0;31m \u001b[0mneighbors\u001b[0m\u001b[0;34m.\u001b[0m\u001b[0mremove\u001b[0m\u001b[0;34m(\u001b[0m\u001b[0;36m3\u001b[0m\u001b[0;34m)\u001b[0m\u001b[0;34m\u001b[0m\u001b[0m\n\u001b[0m",
      "\u001b[0;31mValueError\u001b[0m: list.remove(x): x not in list"
     ]
    }
   ],
   "source": [
    "neighbors = [1,2]\n",
    "\n",
    "neighbors.remove(3)"
   ]
  },
  {
   "cell_type": "code",
   "execution_count": 22,
   "metadata": {},
   "outputs": [
    {
     "data": {
      "text/plain": [
       "[2]"
      ]
     },
     "execution_count": 22,
     "metadata": {},
     "output_type": "execute_result"
    }
   ],
   "source": [
    "neighbors"
   ]
  },
  {
   "cell_type": "code",
   "execution_count": 4,
   "metadata": {
    "collapsed": true
   },
   "outputs": [],
   "source": [
    "_undefined = -1\n",
    "def binary_search_last_index(A, x):\n",
    "    begin_index = 0\n",
    "    end_index = len(A)-1\n",
    "    \n",
    "    while begin_index < end_index:\n",
    "        mid = (begin_index + end_index)//2\n",
    "        \n",
    "        if x == A[end_index]:\n",
    "            return end_index\n",
    "        if x == A[mid]:\n",
    "            begin_index = mid\n",
    "        if x < A[mid]:\n",
    "            end_index = mid - 1\n",
    "        if x > A[mid]:\n",
    "            begin_index = mid + 1\n",
    "            \n",
    "    if begin_index == end_index and x == A[begin_index]:\n",
    "        return begin_index\n",
    "    else:\n",
    "        return _undefined"
   ]
  },
  {
   "cell_type": "code",
   "execution_count": 2,
   "metadata": {
    "collapsed": true
   },
   "outputs": [],
   "source": [
    "A = [1,1,1,1,2,2,2,2,2]"
   ]
  },
  {
   "cell_type": "code",
   "execution_count": 3,
   "metadata": {},
   "outputs": [
    {
     "name": "stdout",
     "output_type": "stream",
     "text": [
      "0 8 4\n",
      "0 3 1\n"
     ]
    },
    {
     "data": {
      "text/plain": [
       "3"
      ]
     },
     "execution_count": 3,
     "metadata": {},
     "output_type": "execute_result"
    }
   ],
   "source": [
    "binary_search_last_index(A, 1)"
   ]
  },
  {
   "cell_type": "code",
   "execution_count": null,
   "metadata": {
    "collapsed": true
   },
   "outputs": [],
   "source": [
    "def two_sum(A):\n",
    "    seen = {}\n",
    "    for i in range(len(A)):\n",
    "        if A[i] in seen:\n",
    "            return True\n",
    "        seen"
   ]
  }
 ],
 "metadata": {
  "kernelspec": {
   "display_name": "Python 2",
   "language": "python",
   "name": "python2"
  },
  "language_info": {
   "codemirror_mode": {
    "name": "ipython",
    "version": 2
   },
   "file_extension": ".py",
   "mimetype": "text/x-python",
   "name": "python",
   "nbconvert_exporter": "python",
   "pygments_lexer": "ipython2",
   "version": "2.7.13"
  }
 },
 "nbformat": 4,
 "nbformat_minor": 2
}
