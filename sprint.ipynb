{
 "cells": [
  {
   "cell_type": "markdown",
   "metadata": {},
   "source": [
    "- two-sum (two pointers)\n",
    "- max{j-i} such that A[i] > A[j] (sliding window)\n",
    "- reverse a linkedlist\n",
    "- serialize and deserialize a binary tree\n",
    "- merge sort (in place)\n",
    "- quicksort (tail recursive)\n",
    "- binary search (recursive and non-recursive)\n",
    "- repeated squaring (exponentiation, fibonacci)\n",
    "- transpose a matrix\n",
    "- rotate a matrix\n",
    "- print all words in a trie which end with \"ed\"\n",
    "- longest common subsequence\n",
    "- bfs\n",
    "- dfs\n",
    "- dijkstra\n",
    "- sudoku solver (brute force search/pruning/constraint propagation)"
   ]
  },
  {
   "cell_type": "code",
   "execution_count": 3,
   "metadata": {},
   "outputs": [
    {
     "name": "stdout",
     "output_type": "stream",
     "text": [
      "True\n",
      "False\n"
     ]
    }
   ],
   "source": [
    "def two_sum(A,t):\n",
    "    \"\"\" Function to find if t can be expressed as a sum of two distinct elements of A\n",
    "        Args:\n",
    "            A: list of int\n",
    "            t: target int\n",
    "        Returns:\n",
    "            True if there exist i,j (i != j) such that A[i] + A[j] = t\n",
    "            False otherwise\n",
    "    \"\"\"        \n",
    "    A = sorted(A)\n",
    "    low = 0\n",
    "    high = len(A)-1\n",
    "    \n",
    "    while low < high:\n",
    "        if A[low] + A[high] == t:\n",
    "            return True\n",
    "        if A[low] + A[high] < t:     \n",
    "            low = low + 1\n",
    "        if A[low] + A[high] > t:\n",
    "            high = high - 1\n",
    "    return False        \n",
    "    \n",
    "A = [2,7,3,5,9]\n",
    "print two_sum(A, 12)\n",
    "print two_sum(A, 13)\n",
    "\n",
    "# switched < and > case\n",
    "# think thoroughly while writing the code, think of reasons why you are writing that line"
   ]
  },
  {
   "cell_type": "code",
   "execution_count": 12,
   "metadata": {},
   "outputs": [
    {
     "data": {
      "text/plain": [
       "True"
      ]
     },
     "execution_count": 12,
     "metadata": {},
     "output_type": "execute_result"
    }
   ],
   "source": [
    "def two_diff(A, t):\n",
    "    seen = {}\n",
    "    for i in range(len(A)):\n",
    "        seen[A[i]] = i\n",
    "        \n",
    "    for i in range(len(A)):\n",
    "        if A[i] + t in seen:\n",
    "            return True\n",
    "    return False\n",
    "\n",
    "two_diff(A, 6)"
   ]
  },
  {
   "cell_type": "code",
   "execution_count": 23,
   "metadata": {},
   "outputs": [
    {
     "name": "stdout",
     "output_type": "stream",
     "text": [
      "True\n",
      "False\n"
     ]
    }
   ],
   "source": [
    "def two_diff_positive(A, t):\n",
    "    A = sorted(A)\n",
    "    low = 0\n",
    "    high = 0\n",
    "    \n",
    "    while low < len(A) and high < len(A):\n",
    "        if A[high] - A[low] == t:\n",
    "            return True\n",
    "        if A[high] - A[low] > t:\n",
    "            low = low + 1\n",
    "        if A[high] - A[low] < t:\n",
    "            high = high + 1\n",
    "    return False\n",
    "\n",
    "A = [2,7,3,5,9]\n",
    "print two_diff_positive(A, 7)\n",
    "print two_diff_positive(A, 8)"
   ]
  },
  {
   "cell_type": "code",
   "execution_count": 37,
   "metadata": {},
   "outputs": [
    {
     "data": {
      "text/plain": [
       "1"
      ]
     },
     "execution_count": 37,
     "metadata": {},
     "output_type": "execute_result"
    }
   ],
   "source": [
    "_infinity = 99999999\n",
    "def max_index_diff(A):\n",
    "    prefix_maxs = {}\n",
    "    \n",
    "    current_max = -1*_infinity\n",
    "    for i in range(len(A)):\n",
    "        if A[i] > current_max:\n",
    "            current_max = A[i]\n",
    "        prefix_maxs[i] = current_max\n",
    "    \n",
    "    suffix_mins = {}\n",
    "    current_min = _infinity\n",
    "    for i in range(len(A)-1, -1, -1):\n",
    "        if A[i] < current_min:\n",
    "            current_min = A[i]\n",
    "        suffix_mins[i] = current_min\n",
    "        \n",
    "    low = 0\n",
    "    high = 0\n",
    "    \n",
    "    max_diff = 0\n",
    "    while low < len(A) and high < len(A):\n",
    "        max_diff = max(max_diff, high-low)\n",
    "        if prefix_maxs[low] > suffix_mins[high]:\n",
    "            high = high + 1\n",
    "        else: # prefix_maxs[low] <= suffix_mins[high]:\n",
    "            low = low + 1\n",
    "            \n",
    "    return max_diff\n",
    "\n",
    "#A = [2,7,3,5,4,9]\n",
    "A = [5,4,3,2,1]\n",
    "A = [3,2]\n",
    "A = [1,2]\n",
    "A = [2,1]\n",
    "max_index_diff(A)"
   ]
  },
  {
   "cell_type": "code",
   "execution_count": 4,
   "metadata": {},
   "outputs": [],
   "source": [
    "_undefined = None\n",
    "_void = None\n",
    "\n",
    "class Node:\n",
    "    def __init__(self, value=_undefined, next_node = _void):\n",
    "        self.value = value\n",
    "        self.next_node = next_node\n",
    "        \n",
    "    def show(self):\n",
    "        values = []\n",
    "        current = self\n",
    "        while current.next_node != _void:\n",
    "            values.append(current.value)\n",
    "            current = current.next_node\n",
    "        values.append(current.value)    \n",
    "        return values    \n",
    "            \n",
    "        \n",
    "    def add(self, new_value):\n",
    "        current = self\n",
    "        while current.next_node != _void:\n",
    "            current = current.next_node\n",
    "            \n",
    "        new_node = Node(new_value)\n",
    "        \n",
    "        current.next_node = new_node\n",
    "        return self\n",
    "    \n",
    "    def reverse(self):\n",
    "        prev = _void\n",
    "        current = self\n",
    "        \n",
    "        while current.next_node != _void:\n",
    "            next_node = current.next_node\n",
    "            current.next_node = prev\n",
    "            prev = current\n",
    "            current = next_node\n",
    "            \n",
    "        current.next_node = prev\n",
    "        return current"
   ]
  },
  {
   "cell_type": "code",
   "execution_count": 9,
   "metadata": {},
   "outputs": [
    {
     "data": {
      "text/plain": [
       "[5, 4, 3, 2, 1]"
      ]
     },
     "execution_count": 9,
     "metadata": {},
     "output_type": "execute_result"
    }
   ],
   "source": [
    "mynode = Node(1)\n",
    "mynode.add(2).show()\n",
    "mynode.add(3)\n",
    "mynode.add(4)\n",
    "mynode.add(5).show()\n",
    "mynode.reverse().show()"
   ]
  },
  {
   "cell_type": "code",
   "execution_count": 23,
   "metadata": {},
   "outputs": [],
   "source": [
    "_undefined = None\n",
    "_void = None\n",
    "class Node:\n",
    "    def __init__(self, value=_undefined, left=_void, right=_void):\n",
    "        self.value = value\n",
    "        self.left = left\n",
    "        self.right = right\n",
    "        \n",
    "    def serialize(self):\n",
    "        if self == _void:\n",
    "            return []\n",
    "        \n",
    "        if self.left != _void:\n",
    "            left_headers = self.left.serialize()\n",
    "        else:\n",
    "            left_headers = []\n",
    "        \n",
    "        if self.right != _void:\n",
    "            right_headers = self.right.serialize()\n",
    "        else:\n",
    "            right_headers = []\n",
    "            \n",
    "        left_size = len(left_headers)\n",
    "        right_size = len(right_headers)\n",
    "        \n",
    "        this_header = {'value': self.value, 'size': 1 + left_size + right_size, 'left_size': left_size, 'right_size': right_size}\n",
    "        \n",
    "        return [this_header] + left_headers + right_headers\n",
    "    \n",
    "        "
   ]
  },
  {
   "cell_type": "code",
   "execution_count": 24,
   "metadata": {},
   "outputs": [],
   "source": [
    "mynode = Node(1, Node(2, _void, _void), Node(3, _void, _void))"
   ]
  },
  {
   "cell_type": "code",
   "execution_count": 25,
   "metadata": {},
   "outputs": [
    {
     "data": {
      "text/plain": [
       "[{'left_size': 1, 'right_size': 1, 'size': 3, 'value': 1},\n",
       " {'left_size': 0, 'right_size': 0, 'size': 1, 'value': 2},\n",
       " {'left_size': 0, 'right_size': 0, 'size': 1, 'value': 3}]"
      ]
     },
     "execution_count": 25,
     "metadata": {},
     "output_type": "execute_result"
    }
   ],
   "source": [
    "mynode.serialize()"
   ]
  },
  {
   "cell_type": "code",
   "execution_count": 35,
   "metadata": {
    "collapsed": true
   },
   "outputs": [],
   "source": [
    "def deserialize(headers):\n",
    "    root_node = Node()\n",
    "    if len(headers) == 0:\n",
    "        return _void\n",
    "    \n",
    "    header = headers[0]\n",
    "    \n",
    "    value = header['value']\n",
    "    left_size = header['left_size']\n",
    "    right_size = header['right_size']\n",
    "    \n",
    "    root_node.value = value\n",
    "    root_node.left = deserialize(headers[1:left_size+1])\n",
    "    root_node.right = deserialize(headers[left_size+1:left_size+right_size+1])\n",
    "    \n",
    "    return root_node\n",
    "    "
   ]
  },
  {
   "cell_type": "code",
   "execution_count": 36,
   "metadata": {},
   "outputs": [],
   "source": [
    "my_deserialized_node = deserialize(mynode.serialize())"
   ]
  },
  {
   "cell_type": "code",
   "execution_count": 37,
   "metadata": {},
   "outputs": [
    {
     "data": {
      "text/plain": [
       "[{'left_size': 1, 'right_size': 1, 'size': 3, 'value': 1},\n",
       " {'left_size': 0, 'right_size': 0, 'size': 1, 'value': 2},\n",
       " {'left_size': 0, 'right_size': 0, 'size': 1, 'value': 3}]"
      ]
     },
     "execution_count": 37,
     "metadata": {},
     "output_type": "execute_result"
    }
   ],
   "source": [
    "my_deserialized_node.serialize()"
   ]
  },
  {
   "cell_type": "code",
   "execution_count": 62,
   "metadata": {
    "collapsed": true
   },
   "outputs": [],
   "source": [
    "def merge(A, B):\n",
    "    C = []\n",
    "    i = 0\n",
    "    j = 0\n",
    "    while i < len(A) and j < len(B):\n",
    "        if A[i] < B[j]:\n",
    "            C.append(A[i])\n",
    "            i = i + 1\n",
    "        else:\n",
    "            C.append(B[j])\n",
    "            j = j + 1\n",
    "    \n",
    "    if i == len(A):\n",
    "        C = C + B[j:]\n",
    "    if j == len(B):\n",
    "        C = C + A[i:]\n",
    "        \n",
    "    return C\n",
    "\n",
    "def merge_sort(A):\n",
    "    if len(A) < 2:\n",
    "        return A\n",
    "    mid = len(A)//2\n",
    "    \n",
    "    return merge(merge_sort(A[:mid]), merge_sort(A[mid:]))\n",
    "    "
   ]
  },
  {
   "cell_type": "code",
   "execution_count": 64,
   "metadata": {},
   "outputs": [
    {
     "data": {
      "text/plain": [
       "[2, 3]"
      ]
     },
     "execution_count": 64,
     "metadata": {},
     "output_type": "execute_result"
    }
   ],
   "source": [
    "A = [2,7,3,5,9]\n",
    "\n",
    "B = sorted(A)\n",
    "#print B\n",
    "\n",
    "#merge([2], [3])\n",
    "merge_sort([A)"
   ]
  },
  {
   "cell_type": "code",
   "execution_count": null,
   "metadata": {
    "collapsed": true
   },
   "outputs": [],
   "source": []
  }
 ],
 "metadata": {
  "kernelspec": {
   "display_name": "Python 2",
   "language": "python",
   "name": "python2"
  }
 },
 "nbformat": 4,
 "nbformat_minor": 2
}
