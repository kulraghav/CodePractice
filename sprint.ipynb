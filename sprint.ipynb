{
 "cells": [
  {
   "cell_type": "markdown",
   "metadata": {},
   "source": [
    "- two-sum (two pointers)\n",
    "- max{j-i} such that A[i] > A[j] (sliding window)\n",
    "- reverse a linkedlist\n",
    "- serialize and deserialize a binary tree\n",
    "- merge sort (in place)\n",
    "- quicksort (tail recursive)\n",
    "- binary search (recursive and non-recursive)\n",
    "- repeated squaring (exponentiation, fibonacci)\n",
    "- transpose a matrix\n",
    "- rotate a matrix\n",
    "- print all words in a trie which end with \"ed\"\n",
    "- longest common subsequence\n",
    "- bfs\n",
    "- dfs\n",
    "- dijkstra\n",
    "- sudoku solver (brute force search/pruning/constraint propagation)"
   ]
  },
  {
   "cell_type": "code",
   "execution_count": 3,
   "metadata": {},
   "outputs": [
    {
     "name": "stdout",
     "output_type": "stream",
     "text": [
      "True\n",
      "False\n"
     ]
    }
   ],
   "source": [
    "def two_sum(A,t):\n",
    "    \"\"\" Function to find if t can be expressed as a sum of two distinct elements of A\n",
    "        Args:\n",
    "            A: list of int\n",
    "            t: target int\n",
    "        Returns:\n",
    "            True if there exist i,j (i != j) such that A[i] + A[j] = t\n",
    "            False otherwise\n",
    "    \"\"\"        \n",
    "    A = sorted(A)\n",
    "    low = 0\n",
    "    high = len(A)-1\n",
    "    \n",
    "    while low < high:\n",
    "        if A[low] + A[high] == t:\n",
    "            return True\n",
    "        if A[low] + A[high] < t:     \n",
    "            low = low + 1\n",
    "        if A[low] + A[high] > t:\n",
    "            high = high - 1\n",
    "    return False        \n",
    "    \n",
    "A = [2,7,3,5,9]\n",
    "print two_sum(A, 12)\n",
    "print two_sum(A, 13)\n",
    "\n",
    "# switched < and > case\n",
    "# think thoroughly while writing the code, think of reasons why you are writing that line"
   ]
  },
  {
   "cell_type": "code",
   "execution_count": 12,
   "metadata": {},
   "outputs": [
    {
     "data": {
      "text/plain": [
       "True"
      ]
     },
     "execution_count": 12,
     "metadata": {},
     "output_type": "execute_result"
    }
   ],
   "source": [
    "def two_diff(A, t):\n",
    "    seen = {}\n",
    "    for i in range(len(A)):\n",
    "        seen[A[i]] = i\n",
    "        \n",
    "    for i in range(len(A)):\n",
    "        if A[i] + t in seen:\n",
    "            return True\n",
    "    return False\n",
    "\n",
    "two_diff(A, 6)"
   ]
  },
  {
   "cell_type": "markdown",
   "metadata": {},
   "source": [
    "def two_diff_positive(A, t):\n",
    "    A = sorted(A)\n",
    "    low = 0\n",
    "    high = 0\n",
    "    \n",
    "    while low < len(A) and high < len(A):\n",
    "        if A[high] - A[low] == t:\n",
    "            return True\n",
    "        if A[high] - A[low] > t:\n",
    "            low = low + 1\n",
    "        if A[high] - A[low] < t:\n",
    "            high = high - 1\n",
    "    return False\n",
    "A = [2,7,3,5,9]\n",
    "print two_diff_positive(A, 7)\n",
    "print two_diff_positive(A, 8)"
   ]
  },
  {
   "cell_type": "code",
   "execution_count": null,
   "metadata": {
    "collapsed": true
   },
   "outputs": [],
   "source": []
  }
 ],
 "metadata": {
  "kernelspec": {
   "display_name": "Python 2",
   "language": "python",
   "name": "python2"
  },
  "language_info": {
   "codemirror_mode": {
    "name": "ipython",
    "version": 2
   },
   "file_extension": ".py",
   "mimetype": "text/x-python",
   "name": "python",
   "nbconvert_exporter": "python",
   "pygments_lexer": "ipython2",
   "version": "2.7.13"
  }
 },
 "nbformat": 4,
 "nbformat_minor": 2
}
